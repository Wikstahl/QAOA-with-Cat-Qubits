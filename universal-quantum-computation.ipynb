{
 "cells": [
  {
   "cell_type": "code",
   "execution_count": 2,
   "metadata": {},
   "outputs": [],
   "source": [
    "#%matplotlib\n",
    "import numpy as np\n",
    "pi = np.pi\n",
    "import scipy.io as spio\n",
    "import matplotlib as mpl\n",
    "import matplotlib.pyplot as plt\n",
    "from matplotlib import cm\n",
    "from qutip import *\n",
    "\n",
    "from matplotlib import animation, rc\n",
    "from IPython.display import HTML\n",
    "\n",
    "# Figures should have a width of a 8.6 cm or 3 3/8 in, the width of a single manuscript column.\n",
    "golden_mean = (np.sqrt(5)-1.0)/2.0 # Aesthetic ratio\n",
    "fig_width = 3+3/8 # width in inches\n",
    "fig_height = fig_width*golden_mean # height in inches (0.75 is the standard height to width ratio in Python)\n",
    "fig_size = [fig_width, fig_height]\n",
    "mpl.rcParams.update({\n",
    "    'axes.labelsize' : 12,\n",
    "    'font.size' : 12,\n",
    "    'legend.fontsize' : 8,\n",
    "    'xtick.labelsize' : 10,\n",
    "    'ytick.labelsize' : 10,\n",
    "    'ytick.minor.pad' : -0.5,\n",
    "    'ytick.minor.pad' : -0.5,\n",
    "    'ytick.major.size' : 1,\n",
    "    'ytick.minor.size' : 1,\n",
    "    'ytick.major.width' : .5,\n",
    "    'ytick.minor.width' : .5,\n",
    "    'xtick.major.size' : 1,\n",
    "    'xtick.minor.size' : 1,\n",
    "    'xtick.major.width' : .5,\n",
    "    'xtick.minor.width' : .5,\n",
    "    'xtick.major.pad' : 1.5,\n",
    "    'xtick.minor.pad' : 1.5,\n",
    "    'text.usetex' : True,\n",
    "    'figure.dpi' : 100,\n",
    "})"
   ]
  },
  {
   "cell_type": "markdown",
   "metadata": {},
   "source": [
    "#### This notebook is based on https://arxiv.org/abs/1605.03250v1\n",
    "\n",
    "## TOC:\n",
    "* [KNR](#intro)\n",
    "* [Deterministic preparation of a cat state](#first-bullet)\n",
    "* [$R_z(\\phi)$-gate](#second-bullet)\n",
    "* [$R_x(\\theta)$-gate](#third-bullet)\n",
    "* [$U(\\Theta)$-gate](#fourth-bullet)"
   ]
  },
  {
   "cell_type": "markdown",
   "metadata": {},
   "source": [
    "# Universal quantum computation with Kerr Nonlinear Oscillators (KNR) <a class=\"anchor\" id=\"intro\"></a>\n",
    "In the present model, we use a KNR for each qubit. \n",
    "\n",
    "In a frame rotating at half the pump frequency of the parametric drive and in the rotating-wave approximation, the Hamiltonian for a KNR is given by\n",
    "\n",
    "$$\n",
    "H_1/\\hbar = \\Delta a^\\dagger a + \\frac{K}{2}a^{\\dagger 2} a^2-\\frac{G}{2}(a^{\\dagger 2}+a^2).\n",
    "$$\n",
    "\n",
    "Here $\\Delta$ is the detuning of the eigenfrequency from half the pump frequency. We assume that $K$ is a positive constant and that $\\Delta$ is nonnegative.\n",
    "\n",
    "We will discuss how the following gates are implemented\n",
    "$$\n",
    "\\begin{align}\n",
    "    R_z(\\phi) &= e^{-i\\phi Z/2} = \n",
    "    \\begin{pmatrix}\n",
    "    e^{-i\\phi/2} & 0 \\\\\n",
    "    0 & e^{i\\phi/2}\n",
    "    \\end{pmatrix}\n",
    "    \\\\\n",
    "    R_x(\\theta) &= e^{-i\\theta X/2} = \n",
    "    \\begin{pmatrix}\n",
    "    \\cos\\frac{\\theta}{2} & -i\\sin\\frac{\\theta}{2} \\\\\n",
    "    -i\\sin\\frac{\\theta}{2} & \\cos\\frac{\\theta}{2}\n",
    "    \\end{pmatrix}\n",
    "    \\\\\n",
    "    R_y(\\theta) &= e^{-i\\theta Y/2} = \n",
    "    \\begin{pmatrix}\n",
    "    \\cos\\frac{\\theta}{2} & -\\sin\\frac{\\theta}{2} \\\\\n",
    "    \\sin\\frac{\\theta}{2} & \\cos\\frac{\\theta}{2}\n",
    "    \\end{pmatrix}\n",
    "    \\\\\n",
    "    U(\\Theta) &= e^{-i\\Theta Z_1Z_2/2} = \n",
    "    \\begin{pmatrix}\n",
    "    e^{-i\\Theta/2} & 0 & 0 & 0 \\\\\n",
    "    0 & e^{i\\Theta/2} & 0 & 0 \\\\\n",
    "    0 & 0 & e^{i\\Theta/2} & 0 \\\\\n",
    "    0 & 0 & 0 & e^{-i\\Theta/2} \\\\\n",
    "    \\end{pmatrix}\n",
    "\\end{align}\n",
    "$$"
   ]
  },
  {
   "cell_type": "markdown",
   "metadata": {},
   "source": [
    "## Deterministically preparation of a cat state <a class=\"anchor\" id=\"first-bullet\"></a>\n",
    "A cat state of the KNR is generated deterministically as follows. The KNR is initially prepared in the vacuum state $|0\\rangle$. Then, $G$ is increased sufficiently slowly from zero. Since $|0\\rangle$ is the ground state for the initial Hamiltonian, the KNR adiabatically follows the instantaneous ground state of the Hamiltonian. When $\\Delta = 0$, the ground state is doubly degenerate and the eigenspace is spanned by two coherent states $|\\pm \\alpha\\rangle$ where $\\alpha=\\sqrt{G/K}$. Since $H_1$ is symmetric under parity inversion $a \\rightarrow −a$, the final state should have the same parity as the initial state $|0\\rangle$. Thus, the final state is the even cat state defined as\n",
    "$$\n",
    "|C_+\\rangle = \\frac{|\\alpha\\rangle+|-\\alpha\\rangle}{\\sqrt{2(1+e^{-2\\alpha^2})}}\n",
    "$$\n",
    "When $G$ is so large compared to $K$ such that $e^{−2\\alpha^2}$ is negligible, the two coherent states $|\\pm\\alpha\\rangle$ are orthogonal to each other. Taking a value $\\alpha$ such that $e^{-2\\alpha^2}$ is negligible, we define the computational basis states, $|\\bar 0\\rangle$ and $|\\bar 1\\rangle$, of a qubit as two coherent states $|\\alpha\\rangle $ and $|-\\alpha\\rangle$, respectively, where we have used the bars to distinguish the computational basis states from the vacuum and single-photon states of the KNR."
   ]
  },
  {
   "cell_type": "code",
   "execution_count": 23,
   "metadata": {},
   "outputs": [
    {
     "name": "stdout",
     "output_type": "stream",
     "text": [
      "Fidelity = 99.98 %\n"
     ]
    },
    {
     "data": {
      "image/png": "[encoded data removed]",
      "text/plain": [
       "<Figure size 600x400 with 2 Axes>"
      ]
     },
     "metadata": {
      "needs_background": "light"
     },
     "output_type": "display_data"
    }
   ],
   "source": [
    "num_lvl = 20 # number of levels\n",
    "a = destroy(num_lvl) # annihilation operator\n",
    "K = 1 # kerr amplitude\n",
    "G = 4 # two-photon pump amplitude\n",
    "alpha = pow(G/K,1/2) # coherent state eigenvalue        self.set_up_ops()SE\n",
    "SE\n",
    "\n",
    "\n",
    "# computational basis\n",
    "up = coherent(num_lvl,alpha)\n",
    "down = coherent(num_lvl,-alpha)\n",
    "\n",
    "def H1_coeff(t,args):\n",
    "    tau = args['tau']\n",
    "    return t/tau\n",
    "\n",
    "H0 = K/2 * pow(a.dag(),2)*pow(a,2)\n",
    "H1 = - G/2 * (pow(a.dag(),2) + pow(a,2))\n",
    "H_tot = [H0,[H1,H1_coeff]]\n",
    "\n",
    "psi0 = basis(num_lvl,0) # vacuum\n",
    "tlist = np.linspace(0,150,500)\n",
    "rho = mesolve(H_tot, psi0, tlist, c_ops=[], e_ops=[], args = {'tau': tlist[-1]})\n",
    "rho_final = rho.states[-1]\n",
    "\n",
    "# Wigner function\n",
    "xvec = np.linspace(-4,4,400)\n",
    "yvec = np.linspace(-2,2,200)\n",
    "W = wigner(rho_final,xvec,yvec,'iterative',2)\n",
    "nrm = mpl.colors.Normalize(-W.max(), W.max()) # Normalize colors\n",
    "\n",
    "# Plot\n",
    "fig, ax = plt.subplots()\n",
    "cax = ax.contourf(xvec, yvec, W, 100, cmap = cm.RdBu_r, norm = nrm)\n",
    "cbar = fig.colorbar(cax, ax = ax, orientation='vertical')\n",
    "\n",
    "# contour plot\n",
    "plt.subplot(111,aspect='equal')\n",
    "im = plt.contourf(xvec, yvec, W, 100, cmap = cm.RdBu_r, norm = nrm) # density plot\n",
    "plt.xlabel(r'Re$(\\alpha)$', fontsize = 14)\n",
    "plt.ylabel(r'Im$(\\alpha)$', fontsize = 14)\n",
    "plt.xticks(np.arange(min(xvec),max(xvec)+1,2),fontsize = 12)\n",
    "plt.yticks(np.arange(min(yvec),max(yvec)+1,2),fontsize = 12)\n",
    "\n",
    "# colorbar\n",
    "cax = plt.axes([0.125, 0.8, 0.775, 0.05]) # left, bottom, width, height\n",
    "plt.colorbar(im, cax = cax, orientation = 'horizontal', ticklocation = 'top', ticks = np.arange(round(W.min())-1,round(W.max()+.1)+.1,0.1));\n",
    "\n",
    "# fidelity\n",
    "cat = (up + down).unit()\n",
    "f = fidelity(cat,rho_final)\n",
    "print('Fidelity = %s %%' %round(f*100,2))"
   ]
  },
  {
   "cell_type": "markdown",
   "metadata": {},
   "source": [
    "After this initialization, the pump amplitude $G$ is kept constant during the quantum computation."
   ]
  },
  {
   "cell_type": "markdown",
   "metadata": {},
   "source": [
    "## $R_z(\\phi)$ on a qubit <a class=\"anchor\" id=\"second-bullet\"></a>\n",
    "To perform $R_z(\\phi)$ on a qubit, we drive the KNR by a driving field with a pulse-shaped amplitude $E(t)$. Then, the additional Hamiltonian is given by\n",
    "$$\n",
    "    H_z(t)/\\hbar = E(t)(a+a^\\dagger)\n",
    "$$\n",
    "When $|E(t)|\\ll 4G$ and the variation of $E(t)$ is sufficiently slow, the KNR is approximately kept in the computational basis. The single photon drive results in energy shifts for $|\\bar 0\\rangle$ and $|\\bar 1\\rangle$, which are $2E(t)\\alpha$ and $-2E\\alpha$ respectively. These energy shifts induce dynamical phase factors, and conseequently $R_z(\\phi)$ is performed, where $\\phi$ is given by ($T_g$ is the gate time)\n",
    "$$\n",
    "    \\phi = 4 \\alpha \\int_0^{T_g} E(t)dt.\n",
    "$$\n",
    "In the simulations below we set $\\Delta = 0$ and $G=4K$ so that $\\alpha = 2$. We pereform $R_z(\\phi)$ on the initial state $(|\\bar 0 \\rangle + |\\bar 1\\rangle)/\\sqrt{2}$ and calculate the fidelity between the output state in the simulation with the ideal output state $(e^{-i\\phi/2}|\\bar 0 \\rangle + e^{i\\phi/2}|\\bar 1\\rangle)$. \n",
    "\n",
    "To perform $R_z(\\phi)$, $E(t)$ is set as\n",
    "$$\n",
    "    E(t) = \\frac{\\pi \\phi}{8T_g\\alpha}\\sin\\frac{\\pi t}{T_g}\n",
    "$$"
   ]
  },
  {
   "cell_type": "code",
   "execution_count": 2,
   "metadata": {},
   "outputs": [],
   "source": [
    "num_lvl = 20 # number of levels\n",
    "a = destroy(num_lvl) # annihilation operator\n",
    "K = 1 # kerr amplitude\n",
    "G = 4*K # two photon pump amplitude\n",
    "alpha = np.sqrt(G/K) # amplitude\n",
    "T_g = 2/K # gate time\n",
    "\n",
    "cat_plus = (coherent(num_lvl,alpha) + coherent(num_lvl,-alpha)).unit()\n",
    "cat_minus = (coherent(num_lvl,alpha) - coherent(num_lvl,-alpha)).unit()\n",
    "\n",
    "# computational basis\n",
    "up = (cat_plus + cat_minus)/np.sqrt(2)\n",
    "down = (cat_plus - cat_minus)/np.sqrt(2)\n",
    "\n",
    "# Identity\n",
    "I = up*up.dag() + down*down.dag()\n",
    "\n",
    "# sigma z\n",
    "sigma_z = up*up.dag() - down*down.dag()\n",
    "\n",
    "# initial state\n",
    "psi0 = (up+down).unit()\n",
    "\n",
    "# single photon pump amplitude\n",
    "def E(t,args):\n",
    "    phi = args['phi']\n",
    "    return np.pi*phi/(8*T_g*alpha)*np.sin(np.pi*t/T_g)\n",
    "\n",
    "def rz(phi):\n",
    "    return (-1j*phi/2*sigma_z).expm()\n",
    "\n",
    "# Hamiltonian\n",
    "H0 = - K * pow(a.dag(),2)*pow(a,2) + G * (pow(a.dag(),2) + pow(a,2))\n",
    "H1 = a.dag() + a\n",
    "H_tot = [H0,[H1,E]]\n",
    "\n",
    "# time array\n",
    "tlist = np.linspace(0,T_g,200)\n",
    "\n",
    "phi_list = np.linspace(-np.pi,np.pi,20)"
   ]
  },
  {
   "cell_type": "code",
   "execution_count": 25,
   "metadata": {},
   "outputs": [],
   "source": [
    "f = []\n",
    "for phi in phi_list:\n",
    "    # Master equation solver\n",
    "    rho = mesolve(H_tot, psi0, tlist, c_ops = [c_ops], e_ops = [], args = {'phi': phi})\n",
    "    rho_final = rho.states[-1]\n",
    "    target_state = rz(phi) * psi0\n",
    "    f.append(fidelity(target_state,rho_final))"
   ]
  },
  {
   "cell_type": "markdown",
   "metadata": {},
   "source": [
    "### Plot\n",
    "It is found that high fidelities are achieved for $\\phi$ in the range $-\\pi$ to $\\pi$. The fidelity becomes higher for longer gate time."
   ]
  },
  {
   "cell_type": "code",
   "execution_count": 17,
   "metadata": {},
   "outputs": [
    {
     "data": {
      "image/png": "[encoded data removed]",
      "text/plain": [
       "<Figure size 337.5x208.586 with 1 Axes>"
      ]
     },
     "metadata": {
      "needs_background": "light"
     },
     "output_type": "display_data"
    }
   ],
   "source": [
    "plt.figure(figsize=fig_size)\n",
    "plt.plot(phi_list,1-np.array(f),'sk-')\n",
    "plt.xlabel(r'$\\phi$');\n",
    "plt.ylabel(r'$1-F$');\n",
    "plt.grid(linestyle='--', linewidth=.5)\n",
    "plt.ticklabel_format(axis=\"y\", style=\"sci\", scilimits=(0,0), useMathText=False)\n",
    "#plt.savefig('figs/fig-rz-infidelity.pdf', dpi=300, transparent=False, bbox_inches='tight')"
   ]
  },
  {
   "cell_type": "markdown",
   "metadata": {},
   "source": [
    "### Average gate fidelity of $R_z(\\phi)$\n",
    "(Not sure if I calculate this correctly.)"
   ]
  },
  {
   "cell_type": "code",
   "execution_count": 3,
   "metadata": {},
   "outputs": [],
   "source": [
    "phi = np.pi\n",
    "cat_plus = (coherent(num_lvl,alpha) + coherent(num_lvl,-alpha)).unit()\n",
    "cat_minus = (coherent(num_lvl,alpha) - coherent(num_lvl,-alpha)).unit()\n",
    "# computational basis\n",
    "up = (cat_plus + cat_minus)/np.sqrt(2)\n",
    "down = (cat_plus - cat_minus)/np.sqrt(2)\n",
    "\n",
    "# Identity\n",
    "I = up*up.dag() + down*down.dag()\n",
    "# sigma z\n",
    "sigma_z = up*up.dag() - down*down.dag()\n",
    "# sigma x\n",
    "sigma_x = up*down.dag() + down*up.dag()\n",
    "# sigma y\n",
    "sigma_y = 1j*(-up*down.dag() + down*up.dag())\n",
    "\n",
    "gamma = 1/1500\n",
    "c_ops = np.sqrt(gamma)*a\n",
    "def avg_gate_fid(U,args):\n",
    "    sigma = [I, sigma_x, sigma_y, sigma_z]\n",
    "    d = 2\n",
    "    F = 0\n",
    "    for sigma_j in sigma:\n",
    "        epsilon = mesolve(H_tot, sigma_j, tlist, c_ops = [], e_ops = [], args = args)\n",
    "        F = F + abs((U*sigma_j*U.dag()*epsilon.states[-1]).tr())        \n",
    "    return (F + d**2) / (d**2*(d+1)) \n",
    "\n",
    "# Unitary matrix to into qubit frame\n",
    "U_rot = (1j*H0*T_g).expm()\n",
    "\n",
    "avg_fid = []\n",
    "for phi in phi_list:\n",
    "    avg_fid.append(avg_gate_fid(rz(phi),args = {'phi': phi}))"
   ]
  },
  {
   "cell_type": "code",
   "execution_count": 5,
   "metadata": {},
   "outputs": [
    {
     "data": {
      "image/png": "[encoded data removed]",
      "text/plain": [
       "<Figure size 337.5x208.586 with 1 Axes>"
      ]
     },
     "metadata": {
      "needs_background": "light"
     },
     "output_type": "display_data"
    }
   ],
   "source": [
    "plt.figure(figsize=fig_size)\n",
    "plt.plot(phi_list,np.array(avg_fid),'s-k')\n",
    "plt.xlabel(r'$\\phi$');\n",
    "plt.ylabel(r'Avg. gate fid.');\n",
    "plt.grid(linestyle='--', linewidth=.5)\n",
    "plt.ticklabel_format(axis=\"y\", style=\"sci\", useOffset=False, scilimits=(0,0), useMathText=False)\n",
    "plt.savefig('figs/fig-avg-gate-fid-rz.pdf', dpi=300, transparent=False, bbox_inches='tight')"
   ]
  },
  {
   "cell_type": "code",
   "execution_count": 5,
   "metadata": {},
   "outputs": [
    {
     "data": {
      "text/plain": [
       "1.149242418434015"
      ]
     },
     "execution_count": 5,
     "metadata": {},
     "output_type": "execute_result"
    }
   ],
   "source": [
    "gamma = 1/250\n",
    "phi = 0\n",
    "c_ops = np.sqrt(gamma)*a\n",
    "prop = propagator(H_tot, tlist, c_op_list = [c_ops], args = {'phi': phi})\n",
    "kraus_form = to_kraus(prop[-1])\n",
    "d = 2\n",
    "target = rz(phi)\n",
    "(d + np.sum([np.abs((A_k * target.dag()).tr())**2 for A_k in kraus_form])) / (d**2 + d)"
   ]
  },
  {
   "cell_type": "code",
   "execution_count": null,
   "metadata": {},
   "outputs": [],
   "source": [
    "gamma = 1/250\n",
    "phi = 0\n",
    "c_ops = np.sqrt(gamma)*a\n",
    "prop = propagator(H_tot, tlist, c_op_list = [c_ops], args = {'phi': phi})\n",
    "kraus_form = to_kraus(prop[-1])\n",
    "d = 2\n",
    "target = rz(phi)\n",
    "sigma = [I, sigma_x, sigma_y, sigma_z]\n",
    "d = 2\n",
    "F = 0\n",
    "for sigma_j in sigma:\n",
    "    F = F + abs((U*sigma_j*U.dag()*(A_k*sigma_j*A_k.dag())).tr())        \n",
    "return (F + d**2) / (d**2*(d+1)) \n",
    "\n",
    "(d + np.sum([np.abs((A_k * target.dag()).tr())**2 for A_k in kraus_form])) / (d**2 + d)"
   ]
  },
  {
   "cell_type": "code",
   "execution_count": null,
   "metadata": {},
   "outputs": [],
   "source": [
    "A = propagator(H_tot, tlist, c_op_list = [c_ops], args = {'phi': phi})"
   ]
  },
  {
   "cell_type": "markdown",
   "metadata": {},
   "source": [
    "## Dis da shit!"
   ]
  },
  {
   "cell_type": "code",
   "execution_count": 30,
   "metadata": {},
   "outputs": [],
   "source": [
    "opt = Options(nsteps=1e4)\n",
    "A = propagator(H_tot, T_g, c_op_list = [c_ops], args = {'phi': 0}, options = opt)"
   ]
  },
  {
   "cell_type": "code",
   "execution_count": 16,
   "metadata": {},
   "outputs": [
    {
     "name": "stdout",
     "output_type": "stream",
     "text": [
      "1\n",
      "2\n",
      "3\n",
      "4\n",
      "5\n",
      "6\n",
      "7\n",
      "8\n",
      "9\n",
      "10\n",
      "11\n",
      "12\n",
      "13\n",
      "14\n",
      "15\n",
      "16\n",
      "17\n",
      "18\n",
      "19\n",
      "20\n"
     ]
    }
   ],
   "source": [
    "  Subst# TRUE AVG GATE FID!\n",
    "cat_plus = (coherent(num_lvl,alpha) + coherent(num_lvl,-alpha)).unit()\n",
    "cat_minus = (coherent(num_lvl,alpha) - coherent(num_lvl,-alpha)).unit()\n",
    "# computational basis\n",
    "up = (cat_plus + cat_minus)/np.sqrt(2)\n",
    "down = (cat_plus - cat_minus)/np.sqrt(2)\n",
    "\n",
    "# Identity\n",
    "I = up*up.dag() + down*down.dag()\n",
    "# sigma z\n",
    "sigma_z = up*up.dag() - down*down.dag()\n",
    "# sigma x\n",
    "sigma_x = up*down.dag() + down*up.dag()\n",
    "# sigma y\n",
    "sigma_y = 1j*(-up*down.dag() + down*up.dag())\n",
    "\n",
    "def avg_gate_fid(oper,target):\n",
    "    sigma = [I, sigma_x, sigma_y, sigma_z]\n",
    "    d = 2\n",
    "    F = 0\n",
    "    kraus_form = to_kraus(oper)\n",
    "    for sigma_j in sigma:\n",
    "        epsilon = sum([A_k*sigma_j*A_k.dag() for A_k in kraus_form])\n",
    "        F = F + abs((target*sigma_j.dag()*target.dag()*epsilon).tr())        \n",
    "    return (F + d**2) / (d**2*(d+1)) \n",
    "\n",
    "phi = 0\n",
    "i = 0\n",
    "avg_fid = []\n",
    "for phi in phi_list:\n",
    "    i += 1\n",
    "    print(i)\n",
    "    target = rz(phi)\n",
    "    A = propagator(H_tot, tlist, c_op_list = [c_ops], args = {'phi': phi})\n",
    "    avg_fid.append(avg_gate_fid(A[-1],target))"
   ]
  },
  {
   "cell_type": "code",
   "execution_count": 11,
   "metadata": {},
   "outputs": [
    {
     "name": "stdout",
     "output_type": "stream",
     "text": [
      "a\n",
      "tjosan\n",
      "here\n"
     ]
    },
    {
     "ename": "TypeError",
     "evalue": "Incompatible Qobj shapes",
     "output_type": "error",
     "traceback": [
      "\u001b[1;31m---------------------------------------------------------------------------\u001b[0m",
      "\u001b[1;31mTypeError\u001b[0m                                 Traceback (most recent call last)",
      "\u001b[1;32m<ipython-input-11-971b1200f6df>\u001b[0m in \u001b[0;36m<module>\u001b[1;34m\u001b[0m\n\u001b[0;32m     28\u001b[0m \u001b[1;32mfor\u001b[0m \u001b[0mphi\u001b[0m \u001b[1;32min\u001b[0m \u001b[0mphi_list\u001b[0m\u001b[1;33m:\u001b[0m\u001b[1;33m\u001b[0m\u001b[1;33m\u001b[0m\u001b[0m\n\u001b[0;32m     29\u001b[0m     \u001b[0mprop\u001b[0m \u001b[1;33m=\u001b[0m \u001b[0mpropagator\u001b[0m\u001b[1;33m(\u001b[0m\u001b[0mH_tot\u001b[0m\u001b[1;33m,\u001b[0m \u001b[0mtlist\u001b[0m\u001b[1;33m,\u001b[0m \u001b[0mc_op_list\u001b[0m \u001b[1;33m=\u001b[0m \u001b[1;33m[\u001b[0m\u001b[0mc_ops\u001b[0m\u001b[1;33m]\u001b[0m\u001b[1;33m,\u001b[0m \u001b[0margs\u001b[0m \u001b[1;33m=\u001b[0m \u001b[1;33m{\u001b[0m\u001b[1;34m'phi'\u001b[0m\u001b[1;33m:\u001b[0m \u001b[0mphi\u001b[0m\u001b[1;33m}\u001b[0m\u001b[1;33m)\u001b[0m\u001b[1;33m\u001b[0m\u001b[1;33m\u001b[0m\u001b[0m\n\u001b[1;32m---> 30\u001b[1;33m     \u001b[0mavg_fid\u001b[0m\u001b[1;33m.\u001b[0m\u001b[0mappend\u001b[0m\u001b[1;33m(\u001b[0m\u001b[0mavg_gate_fid\u001b[0m\u001b[1;33m(\u001b[0m\u001b[0mrz\u001b[0m\u001b[1;33m(\u001b[0m\u001b[0mphi\u001b[0m\u001b[1;33m)\u001b[0m\u001b[1;33m,\u001b[0m \u001b[0mprop\u001b[0m\u001b[1;33m[\u001b[0m\u001b[1;33m-\u001b[0m\u001b[1;36m1\u001b[0m\u001b[1;33m]\u001b[0m\u001b[1;33m)\u001b[0m\u001b[1;33m)\u001b[0m\u001b[1;33m\u001b[0m\u001b[1;33m\u001b[0m\u001b[0m\n\u001b[0m",
      "\u001b[1;32m<ipython-input-11-971b1200f6df>\u001b[0m in \u001b[0;36mavg_gate_fid\u001b[1;34m(U, prop)\u001b[0m\n\u001b[0;32m     22\u001b[0m     \u001b[0mF\u001b[0m \u001b[1;33m=\u001b[0m \u001b[1;36m0\u001b[0m\u001b[1;33m\u001b[0m\u001b[1;33m\u001b[0m\u001b[0m\n\u001b[0;32m     23\u001b[0m     \u001b[1;32mfor\u001b[0m \u001b[0msigma_j\u001b[0m \u001b[1;32min\u001b[0m \u001b[0msigma\u001b[0m\u001b[1;33m:\u001b[0m\u001b[1;33m\u001b[0m\u001b[1;33m\u001b[0m\u001b[0m\n\u001b[1;32m---> 24\u001b[1;33m         \u001b[0mF\u001b[0m \u001b[1;33m=\u001b[0m \u001b[0mF\u001b[0m \u001b[1;33m+\u001b[0m \u001b[0mabs\u001b[0m\u001b[1;33m(\u001b[0m\u001b[1;33m(\u001b[0m\u001b[0mU\u001b[0m\u001b[1;33m*\u001b[0m\u001b[0msigma_j\u001b[0m\u001b[1;33m.\u001b[0m\u001b[0mdag\u001b[0m\u001b[1;33m(\u001b[0m\u001b[1;33m)\u001b[0m\u001b[1;33m*\u001b[0m\u001b[0mU\u001b[0m\u001b[1;33m.\u001b[0m\u001b[0mdag\u001b[0m\u001b[1;33m(\u001b[0m\u001b[1;33m)\u001b[0m\u001b[1;33m*\u001b[0m\u001b[1;33m(\u001b[0m\u001b[0mprop\u001b[0m\u001b[1;33m*\u001b[0m\u001b[0msigma_j\u001b[0m\u001b[1;33m*\u001b[0m\u001b[0mprop\u001b[0m\u001b[1;33m.\u001b[0m\u001b[0mdag\u001b[0m\u001b[1;33m(\u001b[0m\u001b[1;33m)\u001b[0m\u001b[1;33m)\u001b[0m\u001b[1;33m)\u001b[0m\u001b[1;33m.\u001b[0m\u001b[0mtr\u001b[0m\u001b[1;33m(\u001b[0m\u001b[1;33m)\u001b[0m\u001b[1;33m)\u001b[0m\u001b[1;33m\u001b[0m\u001b[1;33m\u001b[0m\u001b[0m\n\u001b[0m\u001b[0;32m     25\u001b[0m     \u001b[1;32mreturn\u001b[0m \u001b[1;33m(\u001b[0m\u001b[0mF\u001b[0m \u001b[1;33m+\u001b[0m \u001b[0md\u001b[0m\u001b[1;33m**\u001b[0m\u001b[1;36m2\u001b[0m\u001b[1;33m)\u001b[0m \u001b[1;33m/\u001b[0m \u001b[1;33m(\u001b[0m\u001b[0md\u001b[0m\u001b[1;33m**\u001b[0m\u001b[1;36m2\u001b[0m\u001b[1;33m*\u001b[0m\u001b[1;33m(\u001b[0m\u001b[0md\u001b[0m\u001b[1;33m+\u001b[0m\u001b[1;36m1\u001b[0m\u001b[1;33m)\u001b[0m\u001b[1;33m)\u001b[0m\u001b[1;33m\u001b[0m\u001b[1;33m\u001b[0m\u001b[0m\n\u001b[0;32m     26\u001b[0m \u001b[1;33m\u001b[0m\u001b[0m\n",
      "\u001b[1;32mc:\\users\\wikstahl\\google drive\\phd\\code\\github\\qutip\\qutip\\qobj.py\u001b[0m in \u001b[0;36m__mul__\u001b[1;34m(self, other)\u001b[0m\n\u001b[0;32m    553\u001b[0m \u001b[1;33m\u001b[0m\u001b[0m\n\u001b[0;32m    554\u001b[0m             \u001b[1;32melse\u001b[0m\u001b[1;33m:\u001b[0m\u001b[1;33m\u001b[0m\u001b[1;33m\u001b[0m\u001b[0m\n\u001b[1;32m--> 555\u001b[1;33m                 \u001b[1;32mraise\u001b[0m \u001b[0mTypeError\u001b[0m\u001b[1;33m(\u001b[0m\u001b[1;34m\"Incompatible Qobj shapes\"\u001b[0m\u001b[1;33m)\u001b[0m\u001b[1;33m\u001b[0m\u001b[1;33m\u001b[0m\u001b[0m\n\u001b[0m\u001b[0;32m    556\u001b[0m \u001b[1;33m\u001b[0m\u001b[0m\n\u001b[0;32m    557\u001b[0m         \u001b[1;32melif\u001b[0m \u001b[0misinstance\u001b[0m\u001b[1;33m(\u001b[0m\u001b[0mother\u001b[0m\u001b[1;33m,\u001b[0m \u001b[0mnp\u001b[0m\u001b[1;33m.\u001b[0m\u001b[0mndarray\u001b[0m\u001b[1;33m)\u001b[0m\u001b[1;33m:\u001b[0m\u001b[1;33m\u001b[0m\u001b[1;33m\u001b[0m\u001b[0m\n",
      "\u001b[1;31mTypeError\u001b[0m: Incompatible Qobj shapes"
     ]
    }
   ],
   "source": [
    "phi = np.pi\n",
    "cat_plus = (coherent(num_lvl,alpha) + coherent(num_lvl,-alpha)).unit()\n",
    "cat_minus = (coherent(num_lvl,alpha) - coherent(num_lvl,-alpha)).unit()\n",
    "# computational basis\n",
    "up = (cat_plus + cat_minus)/np.sqrt(2)\n",
    "down = (cat_plus - cat_minus)/np.sqrt(2)\n",
    "\n",
    "# Identity\n",
    "I = up*up.dag() + down*down.dag()\n",
    "# sigma z\n",
    "sigma_z = up*up.dag() - down*down.dag()\n",
    "# sigma x\n",
    "sigma_x = up*down.dag() + down*up.dag()\n",
    "# sigma y\n",
    "sigma_y = 1j*(-up*down.dag() + down*up.dag())\n",
    "\n",
    "gamma = 1/250\n",
    "c_ops = np.sqrt(gamma)*a\n",
    "def avg_gate_fid(U,prop):\n",
    "    sigma = [I, sigma_x, sigma_y, sigma_z]\n",
    "    d = 2\n",
    "    F = 0\n",
    "    for sigma_j in sigma:\n",
    "        F = F + abs((U*sigma_j.dag()*U.dag()*(prop*sigma_j*prop.dag())).tr())\n",
    "    return (F + d**2) / (d**2*(d+1)) \n",
    "\n",
    "avg_fid = []\n",
    "for phi in phi_list:\n",
    "    prop = propagator(H_tot, tlist, c_op_list = [c_ops], args = {'phi': phi})\n",
    "    avg_fid.append(avg_gate_fid(rz(phi), prop[-1]))"
   ]
  },
  {
   "cell_type": "markdown",
   "metadata": {},
   "source": [
    "## $R_x(\\theta)$ on a qubit <a class=\"anchor\" id=\"first-bullet\"></a>\n",
    "To perform $R_x(\\theta)$ on a qubit, we use the detuning $\\Delta$. When $\\Delta$ is slowly increased from zero to a value $\\Delta_0$ near to $G$ and then decreased to zero, the even and odd cat states, obtain dynamical phase factors depending on their energy shifts due to the nonzero detuning. Thus the qubits change as follow ($\\theta$ is the phase difference between the even and odd cat state)\n",
    "$$\n",
    "\\begin{align}\n",
    "\\alpha_0|\\bar 0\\rangle +  \\alpha_1|\\bar 1 \\rangle =& \\frac{\\alpha_0+\\alpha_1}{2}(|\\bar 0\\rangle + |\\bar 1 \\rangle)\n",
    "\\frac{\\alpha_0-\\alpha_1}{2}(|\\bar 0\\rangle - |\\bar 1 \\rangle) \\\\\n",
    "\\rightarrow & \\frac{\\alpha_0+\\alpha_1}{2}(|\\bar 0\\rangle + |\\bar 1 \\rangle)\n",
    "\\frac{\\alpha_0-\\alpha_1}{2}e^{i\\theta}(|\\bar 0\\rangle - |\\bar 1 \\rangle) \\\\\n",
    "=&  e^{-i\\theta/2}\\left[\\left(\\alpha_0\\cos\\frac{\\theta}{2}-i\\alpha_1\\sin\\frac{\\theta}{2}\\right)|\\bar 0 \\rangle \n",
    "+ \\left(\\alpha_1\\cos\\frac{\\theta}{2}-i\\alpha_0\\sin\\frac{\\theta}{2}\\right)|\\bar 1 \\rangle \\right] \\\\\n",
    "=& e^{-i\\theta/2}R_x(\\theta)(\\alpha_0|\\bar 0\\rangle +\\alpha_1|\\bar 1\\rangle)\n",
    "\\end{align} \n",
    "$$\n",
    "Thus $R_x(\\theta)$ is achieved by this detuning protocol.\n",
    "\n",
    "Below we present numerical simulations. In the simulations below we set $G = 4K$ and $T_g = 10/K$, the initial state $|\\psi_i\\rangle$ is set to $(|\\bar 0\\rangle +i|\\bar 1\\rangle)/\\sqrt{2}$ and the Hilbert space is truncated to a photon number of $16$. The detuning protocol is controlled as follows\n",
    "$$\n",
    "\\Delta(t) = \\Delta_0\\sin^2\\frac{\\pi t}{T_g}.\n",
    "$$"
   ]
  },
  {
   "cell_type": "code",
   "execution_count": 14,
   "metadata": {},
   "outputs": [],
   "source": [
    "num_lvl = 30 # number of levels\n",
    "K = 1\n",
    "a = destroy(num_lvl) # annihilation operator\n",
    "G = 4 # two photon pump amplitude\n",
    "alpha = np.sqrt(G) # amplitude\n",
    "T_g = 10/K # gate time\n",
    "\n",
    "cat_plus = (coherent(num_lvl,alpha) + coherent(num_lvl,-alpha)).unit()\n",
    "cat_minus = (coherent(num_lvl,alpha) - coherent(num_lvl,-alpha)).unit()\n",
    "\n",
    "# computational basis\n",
    "up = (cat_plus + cat_minus)/np.sqrt(2)\n",
    "down = (cat_plus - cat_minus)/np.sqrt(2)\n",
    "\n",
    "# initial state\n",
    "psi0 = up #(up+1j*down).unit()\n",
    "\n",
    "# Sigma-x in computational basis\n",
    "sigma_x = up*down.dag() + down*up.dag()\n",
    "\n",
    "# detuning\n",
    "def Delta(t,args):\n",
    "    Delta_0 = args['Delta_0']\n",
    "    return Delta_0 * pow(np.sin(np.pi*t/T_g),2)\n",
    "\n",
    "def rx(theta):\n",
    "    return (-1j*theta/2*sigma_x).expm()\n",
    "\n",
    "# Hamiltonian\n",
    "H0 = - K * pow(a.dag(),2)*pow(a,2) + G * (pow(a.dag(),2) + pow(a,2))\n",
    "H1 = - a.dag()*a\n",
    "H_tot = [H0,[H1,Delta]]"
   ]
  },
  {
   "cell_type": "markdown",
   "metadata": {},
   "source": [
    "### Find the best $\\theta$ with respect to average gate fidelity"
   ]
  },
  {
   "cell_type": "code",
   "execution_count": 38,
   "metadata": {},
   "outputs": [],
   "source": [
    "cat_plus = (coherent(num_lvl,alpha) + coherent(num_lvl,-alpha)).unit()\n",
    "cat_minus = (coherent(num_lvl,alpha) - coherent(num_lvl,-alpha)).unit()\n",
    "\n",
    "# computational basis\n",
    "up = (cat_plus + cat_minus)/np.sqrt(2)\n",
    "down = (cat_plus - cat_minus)/np.sqrt(2)\n",
    "\n",
    "# Identity\n",
    "I = up*up.dag() + down*down.dag()\n",
    "# sigma z\n",
    "sigma_z = up*up.dag() - down*down.dag()\n",
    "# sigma x\n",
    "sigma_x = up*down.dag() + down*up.dag()\n",
    "# sigma y\n",
    "sigma_y = 1j*(-up*down.dag() + down*up.dag())\n",
    "# list with pauli matrices\n",
    "sigma = [I, sigma_x, sigma_y, sigma_z]\n",
    "\n",
    "# collapse operators\n",
    "gamma = 1/250\n",
    "c_ops = np.sqrt(gamma)*a\n",
    "\n",
    "# time array\n",
    "tlist = np.linspace(0,T_g,200)\n",
    "\n",
    "# angle array\n",
    "theta_list = np.linspace(0,np.pi,180)\n",
    "\n",
    "# amplitude array\n",
    "Delta_0_list = np.linspace(0,3.95,20)\n",
    "\n",
    "max_f = [] # max fidelity\n",
    "max_theta = [] # max angle\n",
    "# For precise calculation\n",
    "opt = Options(nsteps=25000, atol=1e-10, rtol=1e-8)\n",
    "for Delta_0 in Delta_0_list:\n",
    "    d = 2\n",
    "    f = []\n",
    "    epsilon = []\n",
    "    for sigma_j in sigma:\n",
    "        e = mesolve(H_tot, sigma_j, tlist, c_ops = [], e_ops = [], options=opt, args = {'Delta_0' : Delta_0})\n",
    "        epsilon.append(e.states[-1])\n",
    "    # find the theta that maximize the avg gate fidelity    \n",
    "    for theta in theta_list:\n",
    "        U = rx(theta) # target state\n",
    "        F = 0\n",
    "        for idx, rho in enumerate(epsilon):\n",
    "            F = F + abs((U*sigma[idx]*U.dag()*rho).tr())\n",
    "        f.append((F + d**2) / (d**2*(d+1)))\n",
    "    max_theta.append(theta_list[np.argmax(f)])\n",
    "    max_f.append(np.max(f))"
   ]
  },
  {
   "cell_type": "markdown",
   "metadata": {},
   "source": [
    "### Find the best $\\theta$ with respectto fidelity of a specific input state"
   ]
  },
  {
   "cell_type": "code",
   "execution_count": 15,
   "metadata": {},
   "outputs": [],
   "source": [
    "# time array\n",
    "tlist = np.linspace(0,T_g,200)\n",
    "\n",
    "# angle array\n",
    "theta_list = np.linspace(0,np.pi,180)\n",
    "\n",
    "# amplitude array\n",
    "Delta_0_list = np.linspace(0,4,12)\n",
    "\n",
    "max_f = []\n",
    "max_theta = []\n",
    "gamma = 0\n",
    "for Delta_0 in Delta_0_list:\n",
    "    # Master equation solver\n",
    "    rho = mesolve(H_tot, psi0, tlist, c_ops = [], e_ops = [], args = {'Delta_0': Delta_0})\n",
    "    rho_final = rho.states[-1]\n",
    "    f = [] # fidelity\n",
    "    for theta in theta_list:\n",
    "        target_state = rx(theta) * psi0\n",
    "        f.append(fidelity(target_state, rho_final))\n",
    "    max_theta.append(theta_list[np.argmax(f)])\n",
    "    max_f.append(np.max(f))"
   ]
  },
  {
   "cell_type": "markdown",
   "metadata": {},
   "source": [
    "### Plot\n",
    "To estimate the rotation angle $\\theta$ corresponding to $\\Delta_0$, we calculated the fidelity between the output state in the simulation and $R_x(\\theta)|\\psi_i\\rangle$, and found $\\theta$ maximizing the fidelity. The results are shown below, where $F$ denotes the maximized fidelity."
   ]
  },
  {
   "cell_type": "code",
   "execution_count": 44,
   "metadata": {},
   "outputs": [
    {
     "data": {
      "image/png": "[encoded data removed]",
      "text/plain": [
       "<Figure size 337.5x208.586 with 1 Axes>"
      ]
     },
     "metadata": {
      "needs_background": "light"
     },
     "output_type": "display_data"
    }
   ],
   "source": [
    "plt.figure(figsize=fig_size);\n",
    "#plt.subplot(211)\n",
    "plt.plot(Delta_0_list, max_theta, 'kD-');\n",
    "plt.grid(linestyle='--', linewidth=.5);\n",
    "plt.xlabel(r'$\\Delta_0/K$');\n",
    "plt.ylabel(r'$\\theta$');\n",
    "plt.ticklabel_format(axis=\"y\", style=\"sci\", useOffset=False, scilimits=(0,0), useMathText=False);\n",
    "plt.savefig('figs/fig-arg-rx.pdf', dpi=300, transparent=False, bbox_inches='tight')"
   ]
  },
  {
   "cell_type": "code",
   "execution_count": null,
   "metadata": {},
   "outputs": [],
   "source": [
    "\"\"\"\n",
    "plt.subplot(212)\n",
    "plt.plot(max_theta,np.array(max_f), 'ks-')\n",
    "plt.xlabel(r'$\\theta$');\n",
    "plt.ylabel(r'Avg. gate fid.');\n",
    "#plt.ylabel(r'$1-F$');\n",
    "plt.grid(linestyle='--', linewidth=.5)\n",
    "plt.ticklabel_format(axis=\"y\", style=\"sci\", useOffset=False, scilimits=(0,0), useMathText=False)\n",
    "#plt.savefig('figs/fig-rx-infidelity.pdf', dpi=300, transparent=False, bbox_inches='tight')\n",
    "\"\"\""
   ]
  },
  {
   "cell_type": "markdown",
   "metadata": {},
   "source": [
    "We see that when $\\Delta_0$ changes from $0$ to $3.96 K$, the rotation angle $\\theta$ changes from $0$ to $\\pi$."
   ]
  },
  {
   "cell_type": "markdown",
   "metadata": {},
   "source": [
    "## Average gate fidelity of $R_x(\\theta)$"
   ]
  },
  {
   "cell_type": "code",
   "execution_count": 13,
   "metadata": {},
   "outputs": [],
   "source": [
    "cat_plus = (coherent(num_lvl,alpha) + coherent(num_lvl,-alpha)).unit()\n",
    "cat_minus = (coherent(num_lvl,alpha) - coherent(num_lvl,-alpha)).unit()\n",
    "# computational basis\n",
    "up = (cat_plus + cat_minus)/np.sqrt(2)\n",
    "down = (cat_plus - cat_minus)/np.sqrt(2)\n",
    "\n",
    "# Identity\n",
    "I = up*up.dag() + down*down.dag()\n",
    "# sigma z\n",
    "sigma_z = up*up.dag() - down*down.dag()\n",
    "# sigma x\n",
    "sigma_x = up*down.dag() + down*up.dag()\n",
    "# sigma y\n",
    "sigma_y = 1j*(-up*down.dag() + down*up.dag())\n",
    "\n",
    "gamma = 1/1500\n",
    "c_ops = np.sqrt(gamma)*a\n",
    "def avg_gate_fid(U,args):\n",
    "    d = 2\n",
    "    sigma = [I, sigma_x, sigma_y, sigma_z]\n",
    "    F = 0\n",
    "    for sigma_j in sigma:\n",
    "        epsilon = mesolve(H_tot, sigma_j, tlist, c_ops = [c_ops], e_ops = [], args = args)\n",
    "        F = F + abs((U*sigma_j*U.dag()*epsilon.states[-1]).tr())\n",
    "    return (F + d**2) / (d**2*(d+1)) \n",
    "\n",
    "avg_fid = []\n",
    "for i, Delta_0 in enumerate(Delta_0_list):\n",
    "    avg_fid.append(avg_gate_fid(rx(max_theta[i]),args = {'Delta_0': Delta_0}))"
   ]
  },
  {
   "cell_type": "code",
   "execution_count": 43,
   "metadata": {},
   "outputs": [
    {
     "data": {
      "image/png": "[encoded data removed]",
      "text/plain": [
       "<Figure size 337.5x208.586 with 1 Axes>"
      ]
     },
     "metadata": {
      "needs_background": "light"
     },
     "output_type": "display_data"
    }
   ],
   "source": [
    "plt.figure(figsize=fig_size)\n",
    "plt.plot(max_theta,np.array(avg_fid),'s-k')\n",
    "plt.xlabel(r'$\\theta$');\n",
    "plt.ylabel(r'Avg. gate fid.');\n",
    "plt.grid(linestyle='--', linewidth=.5)\n",
    "plt.ticklabel_format(axis=\"y\", style=\"sci\", useOffset=False, scilimits=(0,0), useMathText=False)\n",
    "plt.savefig('figs/fig-avg-gate-fid-rx.pdf', dpi=300, transparent=False, bbox_inches='tight')"
   ]
  },
  {
   "cell_type": "markdown",
   "metadata": {},
   "source": [
    "## $R_y(\\theta)$ on a qubit <a class=\"anchor\" name=\"ry\"></a>\n",
    "so perform $R_y(\\theta)$ on a qubit, we turn off the two-photon drive and let the state evolve freely under the Kerr Hamiltonian during a time $\\pi/2K$ before being turned on again but this time with negative amplitude. This corresponds changing to the Y-basis."
   ]
  },
  {
   "cell_type": "code",
   "execution_count": 10,
   "metadata": {},
   "outputs": [],
   "source": [
    "num_lvl = 24 # number of levels\n",
    "a = destroy(num_lvl) # annihilation operator\n",
    "K = 1 # Kerr nonlinearity\n",
    "G0 = 4\n",
    "alpha = np.sqrt(G0) # amplitude\n",
    "T_g = 2 # gate time of Rz\n",
    "L = np.pi/2 # gate time H\n",
    "t_total = 2*L+T_g\n",
    "\n",
    "cat_plus = (coherent(num_lvl,alpha) + coherent(num_lvl,-alpha)).unit()\n",
    "cat_minus = (coherent(num_lvl,alpha) - coherent(num_lvl,-alpha)).unit()\n",
    "\n",
    "# computational basis\n",
    "up = (cat_plus + cat_minus)/np.sqrt(2)\n",
    "down = (cat_plus - cat_minus)/np.sqrt(2)\n",
    "\n",
    "# Sigma-y in computational basis\n",
    "sigma_y = 1j*(-up*down.dag() + down*up.dag())\n",
    "\n",
    "def ry(theta):\n",
    "    return (-1j*theta/2*sigma_y).expm()\n",
    "\n",
    "# initial state\n",
    "psi = (up+down).unit()\n",
    "\n",
    "# Time independent Hamiltonian\n",
    "H0 = K * pow(a.dag(),2)*pow(a,2) - G0 * (a.dag()**2 + a**2)\n",
    "\n",
    "# Time depentent Hamiltonians\n",
    "H1 = G0 * (a.dag()**2 + a**2)\n",
    "H2 = 1j*(a - a.dag())\n",
    "\n",
    "# two photon pump amplitude\n",
    "def G(t,args):\n",
    "    # Square pulse of length L and amplitude a centered at (b+L/2)\n",
    "    A = (np.heaviside(L - t, 0) + 2*(np.heaviside(t - L, 0) - np.heaviside(t - (T_g+L), 0)) + np.heaviside(t - (T_g+L), 0))\n",
    "    return A\n",
    "\n",
    "# single photon pump amplitude\n",
    "def E(t,args):\n",
    "    phi = args['phi']\n",
    "    return np.pi*phi/(8*T_g*alpha)*np.sin(np.pi*(t-L)/T_g)*(np.heaviside(t-L,0)-np.heaviside(t-(T_g+L),0))\n",
    "\n",
    "# total Hamiltonian\n",
    "H_tot = [H0,[H1,G],[H2,E]]\n",
    "\n",
    "# time array\n",
    "tlist = np.linspace(0,t_total,1000)\n",
    "\n",
    "# Master equation solver\n",
    "phi_list = np.linspace(0,np.pi,20)"
   ]
  },
  {
   "cell_type": "code",
   "execution_count": 20,
   "metadata": {},
   "outputs": [],
   "source": [
    "f = []\n",
    "gamma = 0\n",
    "for phi in phi_list:\n",
    "    rho = mesolve(H_tot, psi, tlist, c_ops = [], e_ops = [], options = opt, args = {'phi': phi})\n",
    "    rho_final = rho.states[-1]\n",
    "    target_state = ry(phi) * psi\n",
    "    f.append(fidelity(target_state,rho_final))"
   ]
  },
  {
   "cell_type": "markdown",
   "metadata": {},
   "source": [
    "### Plot\n",
    "The simulation results are shown below."
   ]
  },
  {
   "cell_type": "code",
   "execution_count": 21,
   "metadata": {},
   "outputs": [
    {
     "data": {
      "image/png": "[encoded data removed]",
      "text/plain": [
       "<Figure size 337.5x208.586 with 1 Axes>"
      ]
     },
     "metadata": {
      "needs_background": "light"
     },
     "output_type": "display_data"
    }
   ],
   "source": [
    "plt.figure(figsize=fig_size)\n",
    "plt.plot(phi_list,1-np.array(f),'s-k')\n",
    "plt.xlabel(r'$\\varphi$');\n",
    "plt.ylabel(r'$1-F$');\n",
    "plt.grid(linestyle='--', linewidth=.5)\n",
    "plt.ticklabel_format(axis=\"y\", style=\"sci\", scilimits=(0,0), useMathText=False)\n",
    "#plt.savefig('fig-ry-infidelity.pdf', dpi=300, transparent=False, bbox_inches='tight')"
   ]
  },
  {
   "cell_type": "markdown",
   "metadata": {},
   "source": [
    "## Average gate fidelity $R_y(\\varphi)$"
   ]
  },
  {
   "cell_type": "code",
   "execution_count": 11,
   "metadata": {},
   "outputs": [],
   "source": [
    "cat_plus = (coherent(num_lvl,alpha) + coherent(num_lvl,-alpha)).unit()\n",
    "cat_minus = (coherent(num_lvl,alpha) - coherent(num_lvl,-alpha)).unit()\n",
    "# computational basis\n",
    "up = (cat_plus + cat_minus)/np.sqrt(2)\n",
    "down = (cat_plus - cat_minus)/np.sqrt(2)\n",
    "\n",
    "# Identity\n",
    "I = up*up.dag() + down*down.dag()\n",
    "# sigma z\n",
    "sigma_z = up*up.dag() - down*down.dag()\n",
    "# sigma x\n",
    "sigma_x = up*down.dag() + down*up.dag()\n",
    "# sigma y\n",
    "sigma_y = 1j*(-up*down.dag() + down*up.dag())\n",
    "\n",
    "gamma = 1/1500\n",
    "c_ops = np.sqrt(gamma)*a\n",
    "# For precise calculation\n",
    "opt = Options(nsteps=25000, atol=1e-10, rtol=1e-8)\n",
    "def avg_gate_fid(U,args):\n",
    "    d = 2\n",
    "    sigma = [I, sigma_x, sigma_y, sigma_z]\n",
    "    F = 0\n",
    "    for sigma_j in sigma:\n",
    "        epsilon = mesolve(H_tot, sigma_j, tlist, c_ops = [c_ops], e_ops = [], options=opt, args = args)\n",
    "        F = F + abs((U*sigma_j*U.dag()*epsilon.states[-1]).tr())\n",
    "    return (F + d**2) / (d**2*(d+1)) \n",
    "\n",
    "avg_fid = []\n",
    "for phi in phi_list:\n",
    "    avg_fid.append(avg_gate_fid(ry(phi),args = {'phi': phi}))"
   ]
  },
  {
   "cell_type": "code",
   "execution_count": 13,
   "metadata": {},
   "outputs": [
    {
     "data": {
      "image/png": "[encoded data removed]",
      "text/plain": [
       "<Figure size 337.5x208.586 with 1 Axes>"
      ]
     },
     "metadata": {
      "needs_background": "light"
     },
     "output_type": "display_data"
    }
   ],
   "source": [
    "plt.figure(figsize=fig_size)\n",
    "plt.plot(phi_list,np.array(avg_fid),'s-k')\n",
    "plt.xlabel(r'$\\varphi$');\n",
    "plt.ylabel(r'Avg. gate fid.');\n",
    "plt.grid(linestyle='--',linewidth=.5)\n",
    "plt.ticklabel_format(axis=\"y\", style=\"sci\", useOffset=False, scilimits=(0,0), useMathText=False)\n",
    "plt.savefig('figs/fig-avg-gate-fid-noisy-real-ry.pdf', dpi=300, transparent=False, bbox_inches='tight')"
   ]
  },
  {
   "cell_type": "markdown",
   "metadata": {},
   "source": [
    "# Two qubit gate $U(\\Theta)$ <a class=\"anchor\" id=\"fourth-bullet\"></a>\n",
    "To perform $U(\\Theta)$ on two qubits, we control the coupling coefficient $g(t)$ between the two KNRs. The additional Hamiltonian is given by\n",
    "$$\n",
    "H_U/\\hbar = g(t)(a_1 a_2^\\dagger + a_1^\\dagger a_2)\n",
    "$$\n",
    "This is the standard linear coupling which describes photon exchange between two KNRs. When $|g(t)|$ is sufficiently small and the variation of $g(t)$ is sufficiently slow, the KNRs are approximately kept in the subspace spanned by $|\\bar 0\\rangle |\\bar 0 \\rangle$, $|\\bar 0\\rangle |\\bar 1 \\rangle$, $|\\bar 1\\rangle |\\bar 0 \\rangle$ and $|\\bar 1\\rangle |\\bar 1 \\rangle$. Then the energy shifts for $|\\bar 0\\rangle |\\bar 1 \\rangle$ and $|\\bar 1\\rangle |\\bar 0 \\rangle$ is $-2g(t)\\alpha^2$. These energy shifts induce dynamical phase factors, and consequently $U(\\Theta)$ is performed, where $\\Theta$ is given by ($T_g$ is the gate time)\n",
    "$$\n",
    "\\Theta = 4\\alpha^2\\int_0^{T_g}g(t)dt.\n",
    "$$\n",
    "In the numerical simulations below we set the parameters $G=4K$, $\\Delta=0$, and $T_g=2/K$, the initial state is set to $|\\psi_i\\rangle = (|\\bar 0 \\rangle + |\\bar 1 \\rangle)(|\\bar 0 \\rangle + |\\bar 1 \\rangle)/2$, and the Hilbert space is truncated at a photon number of $16$ for each KNR. We perform $U(\\Theta)$ on $|\\psi_i\\rangle$ and calculate the fidelity between thee output state in the simulation and the ideal output state $U(\\Theta)|\\psi_i\\rangle$. To perform $U(\\Theta)$, we set $g(t)$ as\n",
    "$$\n",
    "g(t) = \\frac{\\pi\\Theta}{8T_g\\alpha^2}\\sin\\frac{\\pi t}{T_g}\n",
    "$$"
   ]
  },
  {
   "cell_type": "code",
   "execution_count": 3,
   "metadata": {},
   "outputs": [],
   "source": [
    "# In units of K\n",
    "num_lvl = 16 # number of levels\n",
    "a = destroy(num_lvl) # annihilation operator\n",
    "eye = qeye(num_lvl) # identity operator\n",
    "a1 = tensor([a,eye])\n",
    "a2 = tensor([eye,a])\n",
    "K = 1\n",
    "G = 4 # two photon pump amplitude\n",
    "alpha = np.sqrt(G) # coherent state amplitude\n",
    "T_g = 2 # gate time\n",
    "\n",
    "# computational basis\n",
    "up = coherent(num_lvl,alpha)\n",
    "down = coherent(num_lvl,-alpha)\n",
    "\n",
    "# sigma z\n",
    "sigma_z = ket2dm(up) - ket2dm(down)\n",
    "sigma_z1 = tensor([sigma_z,eye])\n",
    "sigma_z2 = tensor([eye,sigma_z])\n",
    "\n",
    "# sigma y\n",
    "sigma_y = down*up.dag() - 1j * up*down.dag()\n",
    "sigma_y1 = tensor([sigma_y,eye])\n",
    "sigma_y2 = tensor([eye,sigma_y])\n",
    "\n",
    "# initial state\n",
    "psi0 = tensor([up+down,up+down]).unit()\n",
    "\n",
    "# coupling\n",
    "def g(t,args):\n",
    "    Theta = args['Theta']\n",
    "    return np.pi*Theta/(8*T_g*pow(alpha,2))*np.sin(np.pi*t/T_g)\n",
    "\n",
    "# ideal gate\n",
    "def U(Theta):\n",
    "    return (-1j*Theta/2*sigma_z1*sigma_z2).expm()\n",
    "    \n",
    "# Hamiltonian\n",
    "H1 = K * pow(a1.dag(),2)*pow(a1,2) - G * (pow(a1.dag(),2) + pow(a1,2))\n",
    "H2 = K * pow(a2.dag(),2)*pow(a2,2) - G * (pow(a2.dag(),2) + pow(a2,2))\n",
    "H_coupling = a1.dag()*a2 + a2.dag()*a1\n",
    "H_tot = [(H1+H2),[H_coupling,g]]\n",
    "\n",
    "# time list\n",
    "tlist = np.linspace(0,T_g,200)\n",
    "\n",
    "Theta_list = np.linspace(0,2*np.pi,20) # angle array"
   ]
  },
  {
   "cell_type": "code",
   "execution_count": 9,
   "metadata": {},
   "outputs": [],
   "source": [
    "f = [] # fidelity\n",
    "\n",
    "for Theta in Theta_list:\n",
    "    # Master equation solver\n",
    "    rho = mesolve(H_tot, psi0, tlist, c_ops = [], e_ops = [], args = {'Theta': Theta})\n",
    "    rho_final = rho.states[-1]\n",
    "    target_state = U(Theta) * psi0\n",
    "    f.append(fidelity(target_state,rho_final))"
   ]
  },
  {
   "cell_type": "markdown",
   "metadata": {},
   "source": [
    "### Plot\n",
    "The simulation results are shown below."
   ]
  },
  {
   "cell_type": "code",
   "execution_count": 10,
   "metadata": {},
   "outputs": [
    {
     "data": {
      "image/png": "[encoded data removed]",
      "text/plain": [
       "<Figure size 337.5x208.586 with 1 Axes>"
      ]
     },
     "metadata": {
      "needs_background": "light"
     },
     "output_type": "display_data"
    }
   ],
   "source": [
    "plt.figure(figsize=fig_size)\n",
    "plt.plot(Theta_list, 1-np.array(f), 'ks-')\n",
    "plt.xlabel(r'$\\Theta$');\n",
    "plt.ylabel(r'$1-F$');\n",
    "plt.grid(linestyle='--', linewidth=.5)\n",
    "plt.ticklabel_format(axis=\"y\", style=\"sci\", scilimits=(0,0), useMathText=False)\n",
    "#plt.savefig('figs/fig-U-infidelity.pdf', dpi=300, transparent=False, bbox_inches='tight')"
   ]
  },
  {
   "cell_type": "code",
   "execution_count": 18,
   "metadata": {},
   "outputs": [
    {
     "data": {
      "image/png": "[encoded data removed]",
      "text/plain": [
       "<Figure size 337.5x208.586 with 1 Axes>"
      ]
     },
     "metadata": {
      "needs_background": "light"
     },
     "output_type": "display_data"
    }
   ],
   "source": [
    "plt.figure(figsize=fig_size)\n",
    "plt.plot(tlist, g(tlist,{'Theta': 2}), 'k-')\n",
    "plt.xlabel(r'$t$');\n",
    "plt.ylabel(r'$K$');\n",
    "plt.grid(linestyle='--', linewidth=.5)\n",
    "plt.ticklabel_format(axis=\"y\", style=\"sci\", scilimits=(0,0), useMathText=False)"
   ]
  },
  {
   "cell_type": "markdown",
   "metadata": {},
   "source": [
    "It is found that high fidelities are achieved for $\\Theta$ in the range $0$ to $\\pi$. The fidelities become higher for longer gate times."
   ]
  },
  {
   "cell_type": "markdown",
   "metadata": {},
   "source": [
    "## Average gate fidelity $U(\\Theta)$"
   ]
  },
  {
   "cell_type": "code",
   "execution_count": 6,
   "metadata": {},
   "outputs": [
    {
     "name": "stdout",
     "output_type": "stream",
     "text": [
      "a\n",
      "a\n",
      "a\n",
      "a\n",
      "a\n",
      "a\n",
      "a\n",
      "a\n",
      "a\n",
      "a\n",
      "a\n",
      "a\n",
      "a\n",
      "a\n",
      "a\n",
      "a\n"
     ]
    },
    {
     "data": {
      "text/plain": [
       "0.9999882519580371"
      ]
     },
     "execution_count": 6,
     "metadata": {},
     "output_type": "execute_result"
    }
   ],
   "source": [
    "Theta = pi/2\n",
    "avg_gate_fid(U(Theta),args = {'Theta': Theta})"
   ]
  },
  {
   "cell_type": "code",
   "execution_count": 5,
   "metadata": {},
   "outputs": [],
   "source": [
    "cat_plus = (coherent(num_lvl,alpha) + coherent(num_lvl,-alpha)).unit()\n",
    "cat_minus = (coherent(num_lvl,alpha) - coherent(num_lvl,-alpha)).unit()\n",
    "# computational basis\n",
    "up = (cat_plus + cat_minus)/np.sqrt(2)\n",
    "down = (cat_plus - cat_minus)/np.sqrt(2)\n",
    "\n",
    "# Identity\n",
    "I = up*up.dag() + down*down.dag()\n",
    "# sigma z\n",
    "sigma_z = up*up.dag() - down*down.dag()\n",
    "# sigma x\n",
    "sigma_x = up*down.dag() + down*up.dag()\n",
    "# sigma y\n",
    "sigma_y = 1j*(-up*down.dag() + down*up.dag())\n",
    "\n",
    "gamma = 1/1500\n",
    "c_ops = [np.sqrt(gamma) * a1, np.sqrt(gamma) * a2]\n",
    "\n",
    "def avg_gate_fid(U,args):\n",
    "    sigma = [I,sigma_x, sigma_y, sigma_z]\n",
    "    d = 4\n",
    "    F = 0\n",
    "    for sigma_i in sigma:\n",
    "        for sigma_j in sigma:\n",
    "            print('a')\n",
    "            sigma_ij = tensor(sigma_i,sigma_j)\n",
    "            epsilon = mesolve(H_tot, sigma_ij, tlist, c_ops = [], e_ops = [], args = args)\n",
    "            F = F + abs((U*sigma_ij.dag()*U.dag()*epsilon.states[-1]).tr())\n",
    "    return (F + d**2) / (d**2*(d+1))"
   ]
  },
  {
   "cell_type": "code",
   "execution_count": 47,
   "metadata": {},
   "outputs": [
    {
     "name": "stdout",
     "output_type": "stream",
     "text": [
      "1\n",
      "2\n",
      "3\n",
      "4\n",
      "5\n",
      "6\n",
      "7\n",
      "8\n",
      "9\n",
      "10\n",
      "11\n",
      "12\n",
      "13\n",
      "14\n",
      "15\n",
      "16\n",
      "17\n",
      "18\n",
      "19\n",
      "20\n"
     ]
    }
   ],
   "source": [
    "avg_fid = []\n",
    "i = 0\n",
    "for Theta in Theta_list:\n",
    "    i += 1\n",
    "    print(i)\n",
    "    avg_fid.append(avg_gate_fid(U(Theta),args = {'Theta': Theta}))\n",
    "np.save('data/avg-gate-fid-U',avg_fid)"
   ]
  },
  {
   "cell_type": "code",
   "execution_count": 55,
   "metadata": {},
   "outputs": [
    {
     "data": {
      "image/png": "[encoded data removed]",
      "text/plain": [
       "<Figure size 337.5x208.586 with 1 Axes>"
      ]
     },
     "metadata": {
      "needs_background": "light"
     },
     "output_type": "display_data"
    }
   ],
   "source": [
    "plt.figure(figsize=fig_size)\n",
    "plt.plot(Theta_list,np.array(avg_fid),'s-k')\n",
    "plt.xlabel(r'$\\Theta$');  \n",
    "plt.ylabel(r'Avg. gate fid.');\n",
    "#plt.title(r'Average gate fidelity');\n",
    "plt.grid(linestyle='--', linewidth=.5)\n",
    "plt.ticklabel_format(axis=\"y\", style=\"sci\", useOffset=False, scilimits=(-1,-1), useMathText=False)\n",
    "plt.savefig('figs/fig-avg-gate-fid-U.pdf', dpi=300, transparent=False, bbox_inches='tight')"
   ]
  },
  {
   "cell_type": "markdown",
   "metadata": {},
   "source": [
    "## Shruti Puri X-gate"
   ]
  },
  {
   "cell_type": "code",
   "execution_count": 3,
   "metadata": {},
   "outputs": [
    {
     "name": "stdout",
     "output_type": "stream",
     "text": [
      "T_g 1072.032169023246\n",
      "fidelity 0.9993848416979505\n"
     ]
    }
   ],
   "source": [
    "num_lvl = 20 # number of levels\n",
    "a = destroy(num_lvl) # annihilation operator\n",
    "K = 1 # Kerr nonlinearity\n",
    "G = 2*K # two photon pump amplitude\n",
    "alpha = np.sqrt(G) # amplitude\n",
    "Delta = K/50 # detuning\n",
    "T_g = np.pi/(4*Delta*abs(alpha)**2*np.exp(-2*abs(alpha)**2)) # gate time\n",
    "print('T_g',T_g)\n",
    "\n",
    "# computational basis\n",
    "up = coherent(num_lvl,alpha)\n",
    "down = coherent(num_lvl,-alpha)\n",
    "\n",
    "# initial state\n",
    "psi0 = up\n",
    "\n",
    "# Sigma-x in computational basis\n",
    "sigma_x = up*down.dag() + down*up.dag()\n",
    "\n",
    "def rx(theta):\n",
    "    return (-1j*theta/2*sigma_x).expm()\n",
    "\n",
    "# Hamiltonian\n",
    "H0 = Delta * a.dag()*a - K * pow(a.dag(),2)*pow(a,2) + G * (pow(a.dag(),2) + pow(a,2))\n",
    "\n",
    "# time array\n",
    "tlist = np.linspace(0,T_g,500)\n",
    "\n",
    "opt = Options(nsteps=1e4)\n",
    "\n",
    "# Master equation solver\n",
    "rho = mesolve(H0, psi0, tlist, c_ops = [], e_ops = [], options = opt)\n",
    "rho_final = rho.states[-1]\n",
    "target_state = rx(np.pi) * psi0\n",
    "\n",
    "f = fidelity(target_state,rho_final)\n",
    "print('fidelity',f)"
   ]
  },
  {
   "cell_type": "code",
   "execution_count": 98,
   "metadata": {},
   "outputs": [
    {
     "data": {
      "image/png": "[encoded data removed]",
      "text/plain": [
       "<Figure size 600x400 with 2 Axes>"
      ]
     },
     "metadata": {
      "needs_background": "light"
     },
     "output_type": "display_data"
    }
   ],
   "source": [
    "# Wigner function\n",
    "xvec = np.linspace(-4,4,400)\n",
    "yvec = np.linspace(-2,2,200)\n",
    "W = wigner(rho_final,xvec,yvec,'iterative',2)\n",
    "nrm = mpl.colors.Normalize(-W.max(), W.max()) # Normalize colors\n",
    "\n",
    "# Plot\n",
    "fig, ax = plt.subplots()\n",
    "cax = ax.contourf(xvec, yvec, W, 100, cmap = cm.RdBu_r, norm = nrm)\n",
    "cbar = fig.colorbar(cax, ax = ax, orientation='vertical')\n",
    "#cbar.ax.xaxis.set_ticks_position('top')\n",
    "\n",
    "# contour plot\n",
    "plt.subplot(111,aspect='equal')\n",
    "im = plt.contourf(xvec, yvec, W, 100, cmap = cm.RdBu_r, norm = nrm) # density plot\n",
    "plt.xlabel(r'Re$(\\alpha)$', fontsize = 14)\n",
    "plt.ylabel(r'Im$(\\alpha)$', fontsize = 14)\n",
    "plt.xticks(np.arange(min(xvec),max(xvec)+1,2),fontsize = 12)\n",
    "plt.yticks(np.arange(min(yvec),max(yvec)+1,2),fontsize = 12)\n",
    "\n",
    "# colorbar\n",
    "cax = plt.axes([0.125, 0.8, 0.775, 0.05]) # left, bottom, width, height\n",
    "plt.colorbar(im, cax = cax, orientation = 'horizontal', ticklocation = 'top', ticks = np.arange(round(W.min())-1,round(W.max()+.1)+.1,0.1));"
   ]
  },
  {
   "cell_type": "markdown",
   "metadata": {},
   "source": [
    "# Average gate fidelity"
   ]
  },
  {
   "cell_type": "code",
   "execution_count": 62,
   "metadata": {},
   "outputs": [],
   "source": [
    "num_lvl = 20 # number of levels\n",
    "a = destroy(num_lvl) # annihilation operator\n",
    "alpha = 2\n",
    "\n",
    "cat_plus = (coherent(num_lvl,alpha) + coherent(num_lvl,-alpha)).unit()\n",
    "cat_minus = (coherent(num_lvl,alpha) - coherent(num_lvl,-alpha)).unit()\n",
    "\n",
    "# computational basis\n",
    "up = (cat_plus + cat_minus)/np.sqrt(2)\n",
    "down = (cat_plus - cat_minus)/np.sqrt(2)\n",
    "\n",
    "# Identity\n",
    "I = up*up.dag() + down*down.dag()\n",
    "\n",
    "# sigma z\n",
    "sigma_z = up*up.dag() - down*down.dag()\n",
    "\n",
    "# sigma x\n",
    "sigma_x = up*down.dag() + down*up.dag()\n",
    "\n",
    "# sigma y\n",
    "sigma_y = 1j*(-up*down.dag() + down*up.dag())\n",
    "\n",
    "def avg_gate_fid(oper,target):\n",
    "    d = 2 # qubit\n",
    "    U = [sigma_x, sigma_y, sigma_z]\n",
    "    F = (sum([(target * U_j.dag() * target.dag() * (U_j*oper*U_j.dag())).tr() for U_j in U]) + d**2) / (d**2*(d+1))\n",
    "    return F"
   ]
  },
  {
   "cell_type": "code",
   "execution_count": 14,
   "metadata": {},
   "outputs": [],
   "source": [
    "num_lvl = 24 # number of levels\n",
    "a = destroy(num_lvl) # annihilation operator\n",
    "K = 1 # Kerr nonlinearity\n",
    "G0 = 4\n",
    "alpha = np.sqrt(G0) # amplitude\n",
    "t_total = 2\n",
    "\n",
    "cat_plus = (coherent(num_lvl,alpha) + coherent(num_lvl,-alpha)).unit()\n",
    "cat_minus = (coherent(num_lvl,alpha) - coherent(num_lvl,-alpha)).unit()\n",
    "\n",
    "# computational basis\n",
    "up = (cat_plus + cat_minus)/np.sqrt(2)\n",
    "down = (cat_plus - cat_minus)/np.sqrt(2)\n",
    "\n",
    "# Sigma-y in computational basis\n",
    "sigma_y = 1j*(-up*down.dag() + down*up.dag())\n",
    "\n",
    "def ry(theta):\n",
    "    return (-1j*theta/2*sigma_y).expm()\n",
    "\n",
    "# initial state\n",
    "psi = (up+down).unit()\n",
    "\n",
    "# Time independent Hamiltonian\n",
    "H0 = K * pow(a.dag(),2)*pow(a,2) + G0 * (a.dag()**2 + a**2)\n",
    "\n",
    "# total Hamiltonian\n",
    "H_tot = H0\n",
    "\n",
    "# time array\n",
    "tlist = np.linspace(0,t_total,1000)\n",
    "\n",
    "psi = up\n",
    "\n",
    "rho = mesolve(H_tot, psi, tlist)\n",
    "rho_final = rho.states[-1]"
   ]
  },
  {
   "cell_type": "code",
   "execution_count": 15,
   "metadata": {},
   "outputs": [
    {
     "data": {
      "image/png": "[encoded data removed]",
      "text/plain": [
       "<Figure size 600x400 with 2 Axes>"
      ]
     },
     "metadata": {
      "needs_background": "light"
     },
     "output_type": "display_data"
    }
   ],
   "source": [
    "# Wigner function\n",
    "xvec = np.linspace(-4,4,400)\n",
    "yvec = np.linspace(-2,2,200)\n",
    "W = wigner(rho_final,xvec,yvec,'iterative',2)\n",
    "nrm = mpl.colors.Normalize(-W.max(), W.max()) # Normalize colors\n",
    "\n",
    "# Plot\n",
    "fig, ax = plt.subplots()\n",
    "cax = ax.contourf(xvec, yvec, W, 100, cmap = cm.RdBu_r, norm = nrm)\n",
    "cbar = fig.colorbar(cax, ax = ax, orientation='vertical')\n",
    "#cbar.ax.xaxis.set_ticks_position('top')\n",
    "\n",
    "# contour plot\n",
    "plt.subplot(111,aspect='equal')\n",
    "im = plt.contourf(xvec, yvec, W, 100, cmap = cm.RdBu_r, norm = nrm) # density plot\n",
    "plt.xlabel(r'Re$(\\alpha)$', fontsize = 14)\n",
    "plt.ylabel(r'Im$(\\alpha)$', fontsize = 14)\n",
    "plt.xticks(np.arange(min(xvec),max(xvec)+1,2),fontsize = 12)\n",
    "plt.yticks(np.arange(min(yvec),max(yvec)+1,2),fontsize = 12)\n",
    "\n",
    "# colorbar\n",
    "cax = plt.axes([0.125, 0.8, 0.775, 0.05]) # left, bottom, width, height\n",
    "plt.colorbar(im, cax = cax, orientation = 'horizontal', ticklocation = 'top', ticks = np.arange(round(W.min())-1,round(W.max()+.1)+.1,0.1));"
   ]
  },
  {
   "cell_type": "markdown",
   "metadata": {},
   "source": [
    "## Constant amplitude"
   ]
  },
  {
   "cell_type": "code",
   "execution_count": 49,
   "metadata": {},
   "outputs": [],
   "source": [
    "# In units of K\n",
    "num_lvl = 30 # number of levels\n",
    "a = destroy(num_lvl) # annihilation operator\n",
    "eye = qeye(num_lvl) # identity operator\n",
    "a1 = tensor([a,eye])\n",
    "a2 = tensor([eye,a])\n",
    "K = 1\n",
    "G = 4 # two photon pump amplitude\n",
    "alpha = np.sqrt(G) # coherent state amplitude\n",
    "T_g = 2 # gate time\n",
    "\n",
    "# computational basis\n",
    "up = coherent(num_lvl,alpha)\n",
    "down = coherent(num_lvl,-alpha)\n",
    "\n",
    "# sigma z\n",
    "sigma_z = ket2dm(up) - ket2dm(down)\n",
    "sigma_z1 = tensor([sigma_z,eye])\n",
    "sigma_z2 = tensor([eye,sigma_z])\n",
    "\n",
    "# sigma y\n",
    "sigma_y = down*up.dag() - 1j * up*down.dag()\n",
    "sigma_y1 = tensor([sigma_y,eye])\n",
    "sigma_y2 = tensor([eye,sigma_y])\n",
    "\n",
    "# initial state\n",
    "psi0 = tensor([up+down,up+down]).unit()\n",
    "\n",
    "# coupling\n",
    "g = 0.05\n",
    "\n",
    "# gate time\n",
    "T_g = lambda Theta: Theta/(4*g*pow(alpha,2))\n",
    "\n",
    "# ideal gate\n",
    "def U(Theta):\n",
    "    return (-1j*Theta/2*sigma_z1*sigma_z2).expm()\n",
    "    \n",
    "# Hamiltonian\n",
    "H1 = K * pow(a1.dag(),2)*pow(a1,2) - G * (pow(a1.dag(),2) + pow(a1,2))\n",
    "H2 = K * pow(a2.dag(),2)*pow(a2,2) - G * (pow(a2.dag(),2) + pow(a2,2))\n",
    "H_coupling = g*(a1.dag()*a2 + a2.dag()*a1)\n",
    "H_tot = [(H1+H2)+H_coupling]"
   ]
  },
  {
   "cell_type": "code",
   "execution_count": 50,
   "metadata": {},
   "outputs": [],
   "source": [
    "f = [] # fidelity\n",
    "\n",
    "Theta_list = np.linspace(0,2*np.pi,20) # angle array\n",
    "opt = Options(nsteps=1e5)\n",
    "for Theta in Theta_list:\n",
    "    # Master equation solver\n",
    "    rho = mesolve(H_tot, psi0, [0,T_g(Theta)], c_ops = [], e_ops = [], options = opt)\n",
    "    rho_final = rho.states[-1]\n",
    "    target_state = U(Theta) * psi0\n",
    "    f.append(fidelity(target_state,rho_final))"
   ]
  },
  {
   "cell_type": "code",
   "execution_count": 51,
   "metadata": {},
   "outputs": [
    {
     "data": {
      "image/png": "[encoded data removed]",
      "text/plain": [
       "<Figure size 337.5x208.586 with 1 Axes>"
      ]
     },
     "metadata": {
      "needs_background": "light"
     },
     "output_type": "display_data"
    }
   ],
   "source": [
    "plt.figure(figsize=fig_size)\n",
    "plt.plot(Theta_list, 1-np.array(f), 'ks-')\n",
    "plt.xlabel(r'$\\Theta$');\n",
    "plt.ylabel(r'$1-F$');\n",
    "plt.grid(linestyle='--', linewidth=.5)\n",
    "plt.ticklabel_format(axis=\"y\", style=\"sci\", scilimits=(0,0), useMathText=False)\n",
    "#plt.savefig('figs/fig-U-infidelity.pdf', dpi=300, transparent=False, bbox_inches='tight')"
   ]
  }
 ],
 "metadata": {
  "kernelspec": {
   "display_name": "Python 3",
   "language": "python",
   "name": "python3"
  },
  "language_info": {
   "codemirror_mode": {
    "name": "ipython",
    "version": 3
   },
   "file_extension": ".py",
   "mimetype": "text/x-python",
   "name": "python",
   "nbconvert_exporter": "python",
   "pygments_lexer": "ipython3",
   "version": "3.8.5"
  }
 },
 "nbformat": 4,
 "nbformat_minor": 4
}
