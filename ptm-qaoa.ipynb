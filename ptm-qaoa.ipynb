{
 "cells": [
  {
   "cell_type": "markdown",
   "metadata": {},
   "source": [
    "#### Import packages"
   ]
  },
  {
   "cell_type": "code",
   "execution_count": 1,
   "metadata": {},
   "outputs": [],
   "source": [
    "import numpy as np; pi = np.pi\n",
    "import scipy.io as spio\n",
    "import networkx as nx\n",
    "import sys\n",
    "import bisect\n",
    "from qutip import *\n",
    "from qutip.qip.operations.gates import gate_expand_2toN, gate_expand_1toN\n",
    "import matplotlib as mpl\n",
    "import matplotlib.pyplot as plt\n",
    "from ptm.ptm import PTM\n",
    "from matplotlib import cm\n",
    "from ptm.ptm import *"
   ]
  },
  {
   "cell_type": "markdown",
   "metadata": {},
   "source": [
    "#### Import Max Cut problem"
   ]
  },
  {
   "cell_type": "code",
   "execution_count": 2,
   "metadata": {},
   "outputs": [
    {
     "name": "stdout",
     "output_type": "stream",
     "text": [
      "Number of qubits = 8\n"
     ]
    },
    {
     "data": {
      "image/png": "[encoded data removed]",
      "text/plain": [
       "<Figure size 432x288 with 1 Axes>"
      ]
     },
     "metadata": {},
     "output_type": "display_data"
    }
   ],
   "source": [
    "import scipy.io as spio\n",
    "filename = 'instance_8_1'\n",
    "mat = spio.loadmat(\"instances/\" + filename + \".mat\")\n",
    "instance = mat['instance']\n",
    "cost = instance['cost'][0,0]\n",
    "r = instance['approxr'][0,0] # approximation ratio\n",
    "graph = instance['graph'][0,0]\n",
    "J = graph.todense()/2\n",
    "G = nx.DiGraph(graph.todense()) # create graph\n",
    "N = int(np.log2(len(cost)))\n",
    "C = Qobj(np.diag(cost.flatten()), dims = [[2]*N, [2]*N]) # Quantum Hamiltonian\n",
    "print(\"Number of qubits =\",N)\n",
    "nx.draw(G)\n",
    "plt.show()"
   ]
  },
  {
   "cell_type": "markdown",
   "metadata": {},
   "source": [
    "#### Ideal PTM"
   ]
  },
  {
   "cell_type": "code",
   "execution_count": 13,
   "metadata": {},
   "outputs": [],
   "source": [
    "# Iteration level\n",
    "p = 1\n",
    "gamma = instance['gamma'][0,0][0][p-1].flatten()\n",
    "beta = instance['beta'][0,0][0][p-1].flatten()\n",
    "\n",
    "psi = (basis(2,0) + basis(2,1)).unit()\n",
    "rho = ket2dm(tensor([psi for i in range(N)]))\n",
    "rho_vec = rho_to_pauli_basis(rho)\n",
    "\n",
    "U = 1\n",
    "for i in range(p):\n",
    "    temp1 = carb_ptm(gamma[i])\n",
    "    temp2 = rx_ptm(2*beta[i])\n",
    "    for j in range(N-1):\n",
    "        for k in range(j+1,N):\n",
    "            if J[j,k] != 0.:\n",
    "                U = ptm_expand_2toN(temp1, N=N, targets=[j,k]) * U\n",
    "    for j in range(N):   \n",
    "        U = ptm_expand_1toN(temp2, N=N, target=j) * U\n",
    "rho_final = pauli_basis_to_rho(U*rho_vec)"
   ]
  },
  {
   "cell_type": "markdown",
   "metadata": {},
   "source": [
    "#### Calculate the success probability and the approximation ratio"
   ]
  },
  {
   "cell_type": "code",
   "execution_count": 15,
   "metadata": {},
   "outputs": [],
   "source": [
    "cost_min = min(cost)\n",
    "z = np.argwhere(cost == cost_min) "
   ]
  },
  {
   "cell_type": "code",
   "execution_count": 16,
   "metadata": {},
   "outputs": [
    {
     "name": "stdout",
     "output_type": "stream",
     "text": [
      "Success Probability = 32.17 %\n"
     ]
    }
   ],
   "source": [
    "success = np.real(sum(rho_final[int(z[i,0]),int(z[i,0])] for i in range(len(z))))*100\n",
    "print(\"Success Probability = %s %%\" %round(success,2))"
   ]
  },
  {
   "cell_type": "code",
   "execution_count": 17,
   "metadata": {},
   "outputs": [
    {
     "name": "stdout",
     "output_type": "stream",
     "text": [
      "Approximation Ratio = 0.831\n"
     ]
    }
   ],
   "source": [
    "# expectation value\n",
    "expval = (C*rho_final).tr()\n",
    "approxr = expval / cost_min[0]\n",
    "print(\"Approximation Ratio = %s\" %round(approxr,3))"
   ]
  },
  {
   "cell_type": "markdown",
   "metadata": {},
   "source": [
    "#### CV PTM"
   ]
  },
  {
   "cell_type": "code",
   "execution_count": 3,
   "metadata": {},
   "outputs": [],
   "source": [
    "# Iteration level\n",
    "p = 1\n",
    "gamma = instance['gamma'][0,0][0][p-1].flatten()\n",
    "beta = instance['beta'][0,0][0][p-1].flatten()\n",
    "cv_ptm = PTM()"
   ]
  },
  {
   "cell_type": "markdown",
   "metadata": {},
   "source": [
    "#### Optimization problem"
   ]
  },
  {
   "cell_type": "code",
   "execution_count": 4,
   "metadata": {},
   "outputs": [
    {
     "name": "stdout",
     "output_type": "stream",
     "text": [
      "50.0%. Run time:   0.73s. Est. time left: 00:00:00:00\n",
      "Total run time:   0.73s\n",
      "50.0%. Run time:   0.84s. Est. time left: 00:00:00:00\n",
      "Total run time:   0.84s\n",
      "50.0%. Run time:   0.84s. Est. time left: 00:00:00:00\n",
      "Total run time:   0.84s\n",
      "50.0%. Run time:   0.87s. Est. time left: 00:00:00:00\n",
      "Total run time:   0.87s\n"
     ]
    }
   ],
   "source": [
    "temp2 = cv_ptm.rx(2*beta)"
   ]
  },
  {
   "cell_type": "code",
   "execution_count": 5,
   "metadata": {},
   "outputs": [
    {
     "name": "stdout",
     "output_type": "stream",
     "text": [
      "Loaded Qobj object:\n",
      "Quantum object: dims = [[2, 2], [2, 2]], shape = (16, 16), type = oper, isHerm = False\n",
      "\n"
     ]
    }
   ],
   "source": [
    "temp1 = qload(\"results/\"+filename+\"_carb_p_1_1\")"
   ]
  },
  {
   "cell_type": "code",
   "execution_count": 6,
   "metadata": {},
   "outputs": [
    {
     "name": "stdout",
     "output_type": "stream",
     "text": [
      "65535\n"
     ]
    }
   ],
   "source": [
    "# Create the initial state\n",
    "psi = (basis(2,0) + basis(2,1)).unit()\n",
    "rho = ket2dm(tensor([psi for i in range(N)]))\n",
    "rho_vec = rho_to_pauli_basis(rho)"
   ]
  },
  {
   "cell_type": "code",
   "execution_count": 7,
   "metadata": {},
   "outputs": [],
   "source": [
    "qsave(rho_vec,'results/rho_vec')"
   ]
  },
  {
   "cell_type": "code",
   "execution_count": 8,
   "metadata": {},
   "outputs": [
    {
     "name": "stdout",
     "output_type": "stream",
     "text": [
      "1\n",
      "2\n",
      "3\n",
      "4\n",
      "5\n",
      "6\n",
      "7\n",
      "8\n",
      "9\n",
      "10\n",
      "11\n",
      "12\n"
     ]
    }
   ],
   "source": [
    "U = 1\n",
    "x = 0\n",
    "for i in range(p):\n",
    "    for j in range(N-1):\n",
    "        for k in range(j+1,N):\n",
    "            if J[j,k] != 0.:\n",
    "                x +=1 \n",
    "                print(x)\n",
    "                U = ptm_expand_2toN(temp1, N=N, targets=[j,k]) * U\n",
    "    for j in range(N):   \n",
    "        U = ptm_expand_1toN(temp2, N=N, target=j) * U\n",
    "rho_final = pauli_basis_to_rho(U*rho_vec)"
   ]
  },
  {
   "cell_type": "markdown",
   "metadata": {},
   "source": [
    "#### Calculate the success probability and the approximation ratio"
   ]
  },
  {
   "cell_type": "code",
   "execution_count": 13,
   "metadata": {},
   "outputs": [],
   "source": [
    "qsave(rho_final,\"results/\"+filename+\"_rho_final_p_1\")"
   ]
  },
  {
   "cell_type": "code",
   "execution_count": 18,
   "metadata": {},
   "outputs": [
    {
     "data": {
      "text/plain": [
       "0.9999999999999988"
      ]
     },
     "execution_count": 18,
     "metadata": {},
     "output_type": "execute_result"
    }
   ],
   "source": [
    "rho_final.tr()"
   ]
  },
  {
   "cell_type": "code",
   "execution_count": 19,
   "metadata": {},
   "outputs": [],
   "source": [
    "cost_min = min(cost)\n",
    "z = np.argwhere(cost == cost_min) "
   ]
  },
  {
   "cell_type": "code",
   "execution_count": 24,
   "metadata": {},
   "outputs": [
    {
     "name": "stdout",
     "output_type": "stream",
     "text": [
      "Success Probability = 29.04 %\n"
     ]
    }
   ],
   "source": [
    "success = np.real(sum(rho_final[int(z[i,0]),int(z[i,0])] for i in range(len(z))))*100\n",
    "print(\"Success Probability = %s %%\" %round(success,2))"
   ]
  },
  {
   "cell_type": "code",
   "execution_count": 25,
   "metadata": {},
   "outputs": [
    {
     "name": "stdout",
     "output_type": "stream",
     "text": [
      "Approximation Ratio = 0.817\n"
     ]
    }
   ],
   "source": [
    "# expectation value\n",
    "expval = (C*rho_final).tr()\n",
    "approxr = expval / cost_min[0]\n",
    "print(\"Approximation Ratio = %s\" %round(approxr,3))"
   ]
  }
 ],
 "metadata": {
  "kernelspec": {
   "display_name": "Python 3",
   "language": "python",
   "name": "python3"
  },
  "language_info": {
   "codemirror_mode": {
    "name": "ipython",
    "version": 3
   },
   "file_extension": ".py",
   "mimetype": "text/x-python",
   "name": "python",
   "nbconvert_exporter": "python",
   "pygments_lexer": "ipython3",
   "version": "3.8.2"
  }
 },
 "nbformat": 4,
 "nbformat_minor": 4
}
