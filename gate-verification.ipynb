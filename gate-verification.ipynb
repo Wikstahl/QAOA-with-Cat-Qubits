{
 "cells": [
  {
   "cell_type": "code",
   "execution_count": 1,
   "metadata": {},
   "outputs": [],
   "source": [
    "#%matplotlib\n",
    "import numpy as np\n",
    "pi = np.pi\n",
    "from qutip import *\n",
    "from qutip.qip.circuit import QubitCircuit, Gate\n",
    "from qutip.qip.operations import *\n",
    "from qip.kpoprocessor import KPOProcessor\n",
    "import scipy.io as spio\n",
    "\n",
    "import matplotlib as mpl\n",
    "import matplotlib.pyplot as plt\n",
    "from matplotlib import cm\n",
    "%load_ext autoreload\n",
    "%autoreload 2"
   ]
  },
  {
   "cell_type": "code",
   "execution_count": 2,
   "metadata": {},
   "outputs": [
    {
     "name": "stdout",
     "output_type": "stream",
     "text": [
      "1.0000000332243209\n"
     ]
    }
   ],
   "source": [
    "alpha = 2\n",
    "num_lvl = 20\n",
    "# computational basis\n",
    "cat_plus = (coherent(num_lvl, alpha) + coherent(num_lvl, -alpha)).unit()\n",
    "cat_minus = (coherent(num_lvl, alpha) - coherent(num_lvl, -alpha)).unit()\n",
    "up = (cat_plus + cat_minus)/np.sqrt(2) # logical zero\n",
    "down = (cat_plus - cat_minus)/np.sqrt(2) # logical one\n",
    "# Identity\n",
    "I = up*up.dag() + down*down.dag()\n",
    "# sigma z\n",
    "sigma_z = up*up.dag() - down*down.dag()\n",
    "# sigma x\n",
    "sigma_x = up*down.dag() + down*up.dag()\n",
    "# sigma y\n",
    "sigma_y = 1j*(-up*down.dag() + down*up.dag())\n",
    "\n",
    "def rz(phi):\n",
    "    return (-1j*phi/2*sigma_z).expm()\n",
    "\n",
    "def rx(theta):\n",
    "    return (-1j*theta/2*sigma_x).expm()\n",
    "\n",
    "def ry(varphi):\n",
    "    return (-1j*varphi/2*sigma_y).expm()\n",
    "\n",
    "theta = 1.5*pi\n",
    "if theta > pi:\n",
    "    test_state = rz(pi)*rx(2*pi-theta)*up\n",
    "else:\n",
    "    test_state = rz(pi)*rx(theta)*up\n",
    "target_state = rx(theta)*up\n",
    "f = fidelity(test_state,target_state)\n",
    "print(f)"
   ]
  },
  {
   "cell_type": "markdown",
   "metadata": {},
   "source": [
    "## $R_z(\\phi)$ "
   ]
  },
  {
   "cell_type": "code",
   "execution_count": 3,
   "metadata": {},
   "outputs": [
    {
     "name": "stdout",
     "output_type": "stream",
     "text": [
      "1.0000000178741304\n"
     ]
    }
   ],
   "source": [
    "N = 1\n",
    "phi = 2*pi\n",
    "# Representation of a quantum program/algorithm, maintaining a sequence of gates.\n",
    "qc = QubitCircuit(N = N)\n",
    "qc.add_gate(\"RZ\", 0, None, phi)\n",
    "kpo = KPOProcessor(N = N)\n",
    "tlist, coeffs = kpo.load_circuit(qc)\n",
    "# set up parameters\n",
    "alpha = kpo._paras['Coherent state']\n",
    "num_lvl = kpo._paras['Cut off']\n",
    "# computational basis\n",
    "cat_plus = (coherent(num_lvl, alpha) + coherent(num_lvl, -alpha)).unit()\n",
    "cat_minus = (coherent(num_lvl, alpha) - coherent(num_lvl, -alpha)).unit()\n",
    "up = (cat_plus + cat_minus)/np.sqrt(2) # logical zero\n",
    "down = (cat_plus - cat_minus)/np.sqrt(2) # logical one\n",
    "# initial state\n",
    "psi = (up+down).unit()\n",
    "# target state\n",
    "target_state = rz(phi)*psi\n",
    "# simulate\n",
    "kpo = KPOProcessor(N = N)\n",
    "tlist, coeffs = kpo.load_circuit(qc)\n",
    "result = kpo.run_state(init_state = psi, noisy = False)\n",
    "final_state = result.states[-1]\n",
    "f = fidelity(final_state,target_state)\n",
    "print(f)"
   ]
  },
  {
   "cell_type": "markdown",
   "metadata": {},
   "source": [
    "## $R_x(\\theta)$"
   ]
  },
  {
   "cell_type": "code",
   "execution_count": 4,
   "metadata": {},
   "outputs": [
    {
     "name": "stdout",
     "output_type": "stream",
     "text": [
      "0.9999948296218997\n"
     ]
    }
   ],
   "source": [
    "N = 1\n",
    "theta = 1.9*pi\n",
    "# Representation of a quantum program/algorithm, maintaining a sequence of gates.\n",
    "qc = QubitCircuit(N = N)\n",
    "if theta > pi:\n",
    "    qc.add_gate(\"RX\", 0, None, 2*pi-theta)\n",
    "    qc.add_gate(\"RZ\", 0, None, pi)\n",
    "kpo = KPOProcessor(N = N)\n",
    "tlist, coeffs = kpo.load_circuit(qc)\n",
    "# initial state\n",
    "psi = up\n",
    "# target state\n",
    "target_state = rx(theta)*psi\n",
    "# simulate\n",
    "kpo = KPOProcessor(N = N)\n",
    "tlist, coeffs = kpo.load_circuit(qc)\n",
    "result = kpo.run_state(init_state = psi, noisy = False)\n",
    "final_state = result.states[-1]\n",
    "f = fidelity(final_state,target_state)\n",
    "print(f)"
   ]
  },
  {
   "cell_type": "markdown",
   "metadata": {},
   "source": [
    "## $R_y(\\varphi)$"
   ]
  },
  {
   "cell_type": "code",
   "execution_count": 6,
   "metadata": {},
   "outputs": [
    {
     "name": "stdout",
     "output_type": "stream",
     "text": [
      "0.9999612441857488\n"
     ]
    }
   ],
   "source": [
    "N = 1\n",
    "phi = 1.9*pi\n",
    "# Representation of a quantum program/algorithm, maintaining a sequence of gates.\n",
    "qc = QubitCircuit(N = N)\n",
    "qc.add_gate(\"RY\", 0, None, phi)\n",
    "kpo = KPOProcessor(N = N)\n",
    "tlist, coeffs = kpo.load_circuit(qc)\n",
    "# set up parameters\n",
    "alpha = kpo._paras['Coherent state']\n",
    "num_lvl = kpo._paras['Cut off']\n",
    "# computational basis\n",
    "cat_plus = (coherent(num_lvl, alpha) + coherent(num_lvl, -alpha)).unit()\n",
    "cat_minus = (coherent(num_lvl, alpha) - coherent(num_lvl, -alpha)).unit()\n",
    "up = (cat_plus + cat_minus)/np.sqrt(2) # logical zero\n",
    "down = (cat_plus - cat_minus)/np.sqrt(2) # logical one\n",
    "# initial state\n",
    "psi = (up+down).unit()\n",
    "# target state\n",
    "target_state = ry(phi)*psi\n",
    "# simulate\n",
    "result = kpo.run_state(init_state = psi, noisy = False)\n",
    "final_state = result.states[-1]\n",
    "f = fidelity(final_state,target_state)\n",
    "print(f)"
   ]
  },
  {
   "cell_type": "markdown",
   "metadata": {},
   "source": [
    "## $U(\\Theta)$"
   ]
  },
  {
   "cell_type": "code",
   "execution_count": 13,
   "metadata": {},
   "outputs": [
    {
     "name": "stdout",
     "output_type": "stream",
     "text": [
      "1.0000044032861022\n"
     ]
    }
   ],
   "source": [
    "def carb(arg_value):\n",
    "    # control arbitrary phase gate\n",
    "    zz = tensor(sigmaz(),sigmaz())\n",
    "    return (-1j*arg_value/2*zz).expm()\n",
    "\n",
    "N = 2\n",
    "arg_value = pi\n",
    "qc = QubitCircuit(N = N)\n",
    "qc.user_gates = {\"CARB\": carb}\n",
    "qc.add_gate(\"CARB\", targets = [0,1], arg_value = arg_value)\n",
    "kpo = KPOProcessor(N = N)\n",
    "tlist, coeffs = kpo.load_circuit(qc)\n",
    "# set up parameters\n",
    "alpha = kpo._paras['Coherent state']\n",
    "num_lvl = kpo._paras['Cut off']\n",
    "eye = qeye(num_lvl) # identity operator\n",
    "# computational basis\n",
    "cat_plus = (coherent(num_lvl, alpha) + coherent(num_lvl, -alpha)).unit()\n",
    "cat_minus = (coherent(num_lvl, alpha) - coherent(num_lvl, -alpha)).unit()\n",
    "up = (cat_plus + cat_minus)/np.sqrt(2) # logical zero\n",
    "down = (cat_plus - cat_minus)/np.sqrt(2) # logical one\n",
    "\n",
    "# sigma z\n",
    "sigma_z = ket2dm(up) - ket2dm(down)\n",
    "sigma_z1 = tensor([sigma_z,eye])\n",
    "sigma_z2 = tensor([eye,sigma_z])\n",
    "\n",
    "# ideal gate\n",
    "def U(arg_value):\n",
    "    return (-1j*arg_value/2*sigma_z1*sigma_z2).expm()\n",
    "\n",
    "# initial state\n",
    "psi = tensor([up+down,up+down]).unit()\n",
    "# target state\n",
    "target = U(arg_value)*psi\n",
    "# simulate\n",
    "result = kpo.run_state(init_state = psi, noisy = False)\n",
    "final_state = result.states[-1]\n",
    "f = fidelity(final_state,target)\n",
    "print(f)"
   ]
  },
  {
   "cell_type": "markdown",
   "metadata": {},
   "source": [
    "## Wigner function"
   ]
  },
  {
   "cell_type": "code",
   "execution_count": 15,
   "metadata": {},
   "outputs": [
    {
     "data": {
      "image/png": "[encoded data removed]",
      "text/plain": [
       "<Figure size 432x288 with 2 Axes>"
      ]
     },
     "metadata": {
      "needs_background": "light"
     },
     "output_type": "display_data"
    }
   ],
   "source": [
    "# Wigner function\n",
    "xvec = np.linspace(-4,4,400)\n",
    "yvec = np.linspace(-2,2,200)\n",
    "W = wigner(final_state,xvec,yvec,'iterative',2)\n",
    "nrm = mpl.colors.Normalize(-W.max(), W.max()) # Normalize colors\n",
    "\n",
    "# Plot\n",
    "fig, ax = plt.subplots()\n",
    "cax = ax.contourf(xvec, yvec, W, 100, cmap = cm.RdBu_r, norm = nrm)\n",
    "cbar = fig.colorbar(cax, ax = ax, orientation='vertical')\n",
    "\n",
    "# contour plot\n",
    "plt.subplot(111,aspect='equal')\n",
    "im = plt.contourf(xvec, yvec, W, 100, cmap = cm.RdBu_r, norm = nrm) # density plot\n",
    "plt.xlabel(r'Re$(\\alpha)$', fontsize = 14)\n",
    "plt.ylabel(r'Im$(\\alpha)$', fontsize = 14)\n",
    "plt.xticks(np.arange(min(xvec),max(xvec)+1,2),fontsize = 12)\n",
    "plt.yticks(np.arange(min(yvec),max(yvec)+1,2),fontsize = 12)\n",
    "\n",
    "# colorbar\n",
    "cax = plt.axes([0.125, 0.8, 0.775, 0.05]) # left, bottom, width, height\n",
    "plt.colorbar(im, cax = cax, orientation = 'horizontal', ticklocation = 'top', ticks = np.arange(round(W.min())-1,round(W.max()+.1)+.1,0.1));"
   ]
  }
 ],
 "metadata": {
  "kernelspec": {
   "display_name": "Python 3",
   "language": "python",
   "name": "python3"
  },
  "language_info": {
   "codemirror_mode": {
    "name": "ipython",
    "version": 3
   },
   "file_extension": ".py",
   "mimetype": "text/x-python",
   "name": "python",
   "nbconvert_exporter": "python",
   "pygments_lexer": "ipython3",
   "version": "3.8.2"
  }
 },
 "nbformat": 4,
 "nbformat_minor": 4
}
