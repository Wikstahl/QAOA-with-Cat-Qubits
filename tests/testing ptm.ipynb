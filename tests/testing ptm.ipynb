{
 "cells": [
  {
   "cell_type": "code",
   "execution_count": 39,
   "id": "310adb50",
   "metadata": {},
   "outputs": [],
   "source": [
    "import numpy as np\n",
    "from itertools import product\n",
    "from qutip import Qobj, tensor, qeye, sigmax, sigmay, sigmaz, spre, choi_to_chi, choi_to_kraus"
   ]
  },
  {
   "cell_type": "code",
   "execution_count": 7,
   "id": "cf214ea5",
   "metadata": {},
   "outputs": [],
   "source": [
    "from forest.benchmarking.operator_tools import pauli_liouville2kraus"
   ]
  },
  {
   "cell_type": "code",
   "execution_count": 10,
   "id": "39235415",
   "metadata": {},
   "outputs": [],
   "source": [
    "# Dimension \n",
    "d = 2\n",
    "\n",
    "# Qubits\n",
    "num_q = int(np.log2(d))\n",
    "\n",
    "# Pauli matrices\n",
    "P = [qeye(2), sigmax(), sigmay(), sigmaz()]\n",
    "\n",
    "# Create all tensor products\n",
    "sigma = list(map(tensor, map(list, product(P, repeat=num_q))))"
   ]
  },
  {
   "cell_type": "code",
   "execution_count": 37,
   "id": "92871856",
   "metadata": {},
   "outputs": [
    {
     "data": {
      "text/plain": [
       "array([[1.        , 0.        , 0.        , 0.        ],\n",
       "       [0.        , 0.89442719, 0.        , 0.        ],\n",
       "       [0.        , 0.        , 0.89442719, 0.        ],\n",
       "       [0.2       , 0.        , 0.        , 0.8       ]])"
      ]
     },
     "execution_count": 37,
     "metadata": {},
     "output_type": "execute_result"
    }
   ],
   "source": [
    "# Create a amplitude damping channel\n",
    "p = 0.2\n",
    "ptm = np.array(\n",
    "        [[1,0,0,0],\n",
    "         [0,np.sqrt(1-p),0,0],\n",
    "         [0,0,np.sqrt(1-p),0],\n",
    "         [p,0,0,1-p]])\n",
    "ptm"
   ]
  },
  {
   "cell_type": "code",
   "execution_count": 53,
   "id": "4ee25c46",
   "metadata": {},
   "outputs": [],
   "source": [
    "# Convert PTM to Choi\n",
    "choi = 2 / d**2 * sum((ptm[i, j] * tensor(sigma[j].trans(), sigma[i])) \n",
    "                      for i in range(d**2) for j in range(d**2))\n",
    "choi.dims = [[[2]*num_q, [2]*num_q], [[2]*num_q, [2]*num_q]]"
   ]
  },
  {
   "cell_type": "code",
   "execution_count": 54,
   "id": "55b4a5d9",
   "metadata": {},
   "outputs": [],
   "source": [
    "# Convert Choi to Chi\n",
    "chi = choi_to_chi(choi)"
   ]
  },
  {
   "cell_type": "code",
   "execution_count": 89,
   "id": "2d86487b",
   "metadata": {},
   "outputs": [
    {
     "data": {
      "text/plain": [
       "array([[1.+0.j, 0.+0.j],\n",
       "       [0.+0.j, 1.+0.j]])"
      ]
     },
     "execution_count": 89,
     "metadata": {},
     "output_type": "execute_result"
    }
   ],
   "source": [
    "kraus = pauli_liouville2kraus(ptm)\n",
    "sum(np.conj(k.T)@k for k in kraus)"
   ]
  },
  {
   "cell_type": "code",
   "execution_count": 152,
   "id": "65c51e20",
   "metadata": {},
   "outputs": [],
   "source": [
    "# Convert Chi to PTM the fast way\n",
    "A = np.zeros((d**2,d**2,d**2,d**2),dtype='complex128')\n",
    "for i in range(d**2):\n",
    "    for j in range(d**2):\n",
    "        for k in range(d**2):\n",
    "            for l in range(d**2):\n",
    "                A[i,k,j,l] = (sigma[i]*sigma[k]*sigma[j]*sigma[l]).tr()"
   ]
  },
  {
   "cell_type": "code",
   "execution_count": 154,
   "id": "cc49dffd",
   "metadata": {},
   "outputs": [
    {
     "ename": "ValueError",
     "evalue": "operands could not be broadcast together with remapped shapes [original->remapped]: (4,4)->(4,4) (16,16,16,16)->(16,16,16,16) ",
     "output_type": "error",
     "traceback": [
      "\u001b[0;31m---------------------------------------------------------------------------\u001b[0m",
      "\u001b[0;31mValueError\u001b[0m                                Traceback (most recent call last)",
      "Input \u001b[0;32mIn [154]\u001b[0m, in \u001b[0;36m<module>\u001b[0;34m\u001b[0m\n\u001b[0;32m----> 1\u001b[0m \u001b[38;5;241m1\u001b[39m\u001b[38;5;241m/\u001b[39md\u001b[38;5;241m*\u001b[39m\u001b[38;5;241m*\u001b[39m\u001b[38;5;241m2\u001b[39m\u001b[38;5;241m*\u001b[39mQobj(\u001b[43mnp\u001b[49m\u001b[38;5;241;43m.\u001b[39;49m\u001b[43meinsum\u001b[49m\u001b[43m(\u001b[49m\u001b[38;5;124;43m'\u001b[39;49m\u001b[38;5;124;43mlk,ikjl\u001b[39;49m\u001b[38;5;124;43m'\u001b[39;49m\u001b[43m,\u001b[49m\u001b[43mchi\u001b[49m\u001b[38;5;241;43m.\u001b[39;49m\u001b[43mfull\u001b[49m\u001b[43m(\u001b[49m\u001b[43m)\u001b[49m\u001b[43m,\u001b[49m\u001b[43mA\u001b[49m\u001b[43m)\u001b[49m)\n",
      "File \u001b[0;32m<__array_function__ internals>:180\u001b[0m, in \u001b[0;36meinsum\u001b[0;34m(*args, **kwargs)\u001b[0m\n",
      "File \u001b[0;32m~/Documents/GitHub/cvqaoa/.env/lib/python3.9/site-packages/numpy/core/einsumfunc.py:1359\u001b[0m, in \u001b[0;36meinsum\u001b[0;34m(out, optimize, *operands, **kwargs)\u001b[0m\n\u001b[1;32m   1357\u001b[0m     \u001b[38;5;28;01mif\u001b[39;00m specified_out:\n\u001b[1;32m   1358\u001b[0m         kwargs[\u001b[38;5;124m'\u001b[39m\u001b[38;5;124mout\u001b[39m\u001b[38;5;124m'\u001b[39m] \u001b[38;5;241m=\u001b[39m out\n\u001b[0;32m-> 1359\u001b[0m     \u001b[38;5;28;01mreturn\u001b[39;00m \u001b[43mc_einsum\u001b[49m\u001b[43m(\u001b[49m\u001b[38;5;241;43m*\u001b[39;49m\u001b[43moperands\u001b[49m\u001b[43m,\u001b[49m\u001b[43m \u001b[49m\u001b[38;5;241;43m*\u001b[39;49m\u001b[38;5;241;43m*\u001b[39;49m\u001b[43mkwargs\u001b[49m\u001b[43m)\u001b[49m\n\u001b[1;32m   1361\u001b[0m \u001b[38;5;66;03m# Check the kwargs to avoid a more cryptic error later, without having to\u001b[39;00m\n\u001b[1;32m   1362\u001b[0m \u001b[38;5;66;03m# repeat default values here\u001b[39;00m\n\u001b[1;32m   1363\u001b[0m valid_einsum_kwargs \u001b[38;5;241m=\u001b[39m [\u001b[38;5;124m'\u001b[39m\u001b[38;5;124mdtype\u001b[39m\u001b[38;5;124m'\u001b[39m, \u001b[38;5;124m'\u001b[39m\u001b[38;5;124morder\u001b[39m\u001b[38;5;124m'\u001b[39m, \u001b[38;5;124m'\u001b[39m\u001b[38;5;124mcasting\u001b[39m\u001b[38;5;124m'\u001b[39m]\n",
      "\u001b[0;31mValueError\u001b[0m: operands could not be broadcast together with remapped shapes [original->remapped]: (4,4)->(4,4) (16,16,16,16)->(16,16,16,16) "
     ]
    }
   ],
   "source": [
    "1/d**2*Qobj(np.einsum('lk,ikjl',chi.full(),A))"
   ]
  },
  {
   "cell_type": "code",
   "execution_count": 134,
   "id": "43b0f798",
   "metadata": {},
   "outputs": [
    {
     "data": {
      "text/latex": [
       "Quantum object: dims = [[4], [4]], shape = (4, 4), type = oper, isherm = True\\begin{equation*}\\left(\\begin{array}{*{11}c}1.0 & 0.0 & 0.0 & -5.551\\times10^{-17}\\\\0.0 & 1.0 & 0.0 & 0.0\\\\0.0 & 0.0 & 1.0 & 0.0\\\\-5.551\\times10^{-17} & 0.0 & 0.0 & 1.0\\\\\\end{array}\\right)\\end{equation*}"
      ],
      "text/plain": [
       "Quantum object: dims = [[4], [4]], shape = (4, 4), type = oper, isherm = True\n",
       "Qobj data =\n",
       "[[ 1.00000000e+00+0.00000000e+00j  0.00000000e+00+0.00000000e+00j\n",
       "   0.00000000e+00+0.00000000e+00j -5.55111512e-17+0.00000000e+00j]\n",
       " [ 0.00000000e+00+0.00000000e+00j  1.00000000e+00+0.00000000e+00j\n",
       "   0.00000000e+00-5.55111512e-17j  0.00000000e+00+0.00000000e+00j]\n",
       " [ 0.00000000e+00+0.00000000e+00j  0.00000000e+00+5.55111512e-17j\n",
       "   1.00000000e+00+0.00000000e+00j  0.00000000e+00+0.00000000e+00j]\n",
       " [-5.55111512e-17+0.00000000e+00j  0.00000000e+00+0.00000000e+00j\n",
       "   0.00000000e+00+0.00000000e+00j  1.00000000e+00+0.00000000e+00j]]"
      ]
     },
     "execution_count": 134,
     "metadata": {},
     "output_type": "execute_result"
    }
   ],
   "source": [
    "A_mat = np.reshape(A, (d**4,d**4))\n",
    "chi_vec = np.reshape(chi, (d**4,1))\n",
    "Qobj(1/d**2*np.reshape(A_mat@chi_vec, (d**2,d**2)))"
   ]
  },
  {
   "cell_type": "code",
   "execution_count": 120,
   "id": "427fd7b9",
   "metadata": {},
   "outputs": [],
   "source": [
    "# Convert Chi to PTM\n",
    "R = np.zeros((d**2,d**2))\n",
    "for i in range(d**2):\n",
    "    for j in range(d**2):\n",
    "        R[j,i] = 1/d**2 * sum(chi[k,l]*(sigma[i]*sigma[k]*sigma[j]*sigma[l]).tr() for k in range(d**2) for l in range(d**2)).real"
   ]
  },
  {
   "cell_type": "code",
   "execution_count": 117,
   "id": "8f2c58b9",
   "metadata": {},
   "outputs": [
    {
     "data": {
      "text/plain": [
       "array([ 1.00000000e+00,  0.00000000e+00,  0.00000000e+00, -5.55111512e-17])"
      ]
     },
     "execution_count": 117,
     "metadata": {},
     "output_type": "execute_result"
    }
   ],
   "source": [
    "R[0,:]"
   ]
  },
  {
   "cell_type": "code",
   "execution_count": 115,
   "id": "716af820",
   "metadata": {},
   "outputs": [
    {
     "data": {
      "text/latex": [
       "Quantum object: dims = [[[2, 2], [2, 2]], [[2, 2], [2, 2]]], shape = (16, 16), type = super, isherm = True\\begin{equation*}\\left(\\begin{array}{*{11}c}0.0 & 0.0 & 0.0 & 1.0 & 0.0 & \\cdots & 0.0 & 0.0 & 0.0 & 0.0 & 0.0\\\\0.0 & 0.0 & 1.0 & 0.0 & 0.0 & \\cdots & 0.0 & 0.0 & 0.0 & 0.0 & 0.0\\\\0.0 & 1.0 & 0.0 & 0.0 & 0.0 & \\cdots & 0.0 & 0.0 & 0.0 & 0.0 & 0.0\\\\1.0 & 0.0 & 0.0 & 0.0 & 0.0 & \\cdots & 0.0 & 0.0 & 0.0 & 0.0 & 0.0\\\\0.0 & 0.0 & 0.0 & 0.0 & 0.0 & \\cdots & 0.0 & 0.0 & 0.0 & 0.0 & 0.0\\\\\\vdots & \\vdots & \\vdots & \\vdots & \\vdots & \\ddots & \\vdots & \\vdots & \\vdots & \\vdots & \\vdots\\\\0.0 & 0.0 & 0.0 & 0.0 & 0.0 & \\cdots & 0.0 & 0.0 & 0.0 & 0.0 & 0.0\\\\0.0 & 0.0 & 0.0 & 0.0 & 0.0 & \\cdots & 0.0 & 0.0 & 0.0 & 0.0 & 1.0\\\\0.0 & 0.0 & 0.0 & 0.0 & 0.0 & \\cdots & 0.0 & 0.0 & 0.0 & 1.0 & 0.0\\\\0.0 & 0.0 & 0.0 & 0.0 & 0.0 & \\cdots & 0.0 & 0.0 & 1.0 & 0.0 & 0.0\\\\0.0 & 0.0 & 0.0 & 0.0 & 0.0 & \\cdots & 0.0 & 1.0 & 0.0 & 0.0 & 0.0\\\\\\end{array}\\right)\\end{equation*}"
      ],
      "text/plain": [
       "Quantum object: dims = [[[2, 2], [2, 2]], [[2, 2], [2, 2]]], shape = (16, 16), type = super, isherm = True\n",
       "Qobj data =\n",
       "[[0. 0. 0. 1. 0. 0. 0. 0. 0. 0. 0. 0. 0. 0. 0. 0.]\n",
       " [0. 0. 1. 0. 0. 0. 0. 0. 0. 0. 0. 0. 0. 0. 0. 0.]\n",
       " [0. 1. 0. 0. 0. 0. 0. 0. 0. 0. 0. 0. 0. 0. 0. 0.]\n",
       " [1. 0. 0. 0. 0. 0. 0. 0. 0. 0. 0. 0. 0. 0. 0. 0.]\n",
       " [0. 0. 0. 0. 0. 0. 0. 1. 0. 0. 0. 0. 0. 0. 0. 0.]\n",
       " [0. 0. 0. 0. 0. 0. 1. 0. 0. 0. 0. 0. 0. 0. 0. 0.]\n",
       " [0. 0. 0. 0. 0. 1. 0. 0. 0. 0. 0. 0. 0. 0. 0. 0.]\n",
       " [0. 0. 0. 0. 1. 0. 0. 0. 0. 0. 0. 0. 0. 0. 0. 0.]\n",
       " [0. 0. 0. 0. 0. 0. 0. 0. 0. 0. 0. 1. 0. 0. 0. 0.]\n",
       " [0. 0. 0. 0. 0. 0. 0. 0. 0. 0. 1. 0. 0. 0. 0. 0.]\n",
       " [0. 0. 0. 0. 0. 0. 0. 0. 0. 1. 0. 0. 0. 0. 0. 0.]\n",
       " [0. 0. 0. 0. 0. 0. 0. 0. 1. 0. 0. 0. 0. 0. 0. 0.]\n",
       " [0. 0. 0. 0. 0. 0. 0. 0. 0. 0. 0. 0. 0. 0. 0. 1.]\n",
       " [0. 0. 0. 0. 0. 0. 0. 0. 0. 0. 0. 0. 0. 0. 1. 0.]\n",
       " [0. 0. 0. 0. 0. 0. 0. 0. 0. 0. 0. 0. 0. 1. 0. 0.]\n",
       " [0. 0. 0. 0. 0. 0. 0. 0. 0. 0. 0. 0. 1. 0. 0. 0.]]"
      ]
     },
     "execution_count": 115,
     "metadata": {},
     "output_type": "execute_result"
    }
   ],
   "source": [
    "spre(tensor(sigmax(),sigmax()))"
   ]
  }
 ],
 "metadata": {
  "kernelspec": {
   "display_name": "Python 3 (ipykernel)",
   "language": "python",
   "name": "python3"
  },
  "language_info": {
   "codemirror_mode": {
    "name": "ipython",
    "version": 3
   },
   "file_extension": ".py",
   "mimetype": "text/x-python",
   "name": "python",
   "nbconvert_exporter": "python",
   "pygments_lexer": "ipython3",
   "version": "3.9.9"
  }
 },
 "nbformat": 4,
 "nbformat_minor": 5
}
