{
 "cells": [
  {
   "cell_type": "code",
   "execution_count": 36,
   "id": "b9d2606d-c923-4d81-a71e-39b8198b4d8a",
   "metadata": {},
   "outputs": [
    {
     "data": {
      "text/plain": [
       "array([[[[16.+0.j,  0.+0.j,  0.+0.j,  0.+0.j],\n",
       "         [ 0.+0.j,  0.+0.j,  0.+0.j,  0.+0.j],\n",
       "         [ 0.+0.j,  0.+0.j,  0.+0.j,  0.+0.j],\n",
       "         [ 0.+0.j,  0.+0.j,  0.+0.j,  0.+0.j]],\n",
       "\n",
       "        [[ 0.+0.j,  0.+0.j,  0.+0.j,  0.+0.j],\n",
       "         [ 0.+0.j,  0.+0.j,  0.+0.j,  0.+0.j],\n",
       "         [ 0.+0.j,  0.+0.j,  0.+0.j,  0.+0.j],\n",
       "         [ 0.+0.j,  0.+0.j,  0.+0.j,  0.+0.j]],\n",
       "\n",
       "        [[ 0.+0.j,  0.+0.j,  0.+0.j,  0.+0.j],\n",
       "         [ 0.+0.j,  0.+0.j,  0.+0.j,  0.+0.j],\n",
       "         [ 0.+0.j,  0.+0.j,  0.+0.j,  0.+0.j],\n",
       "         [ 0.+0.j,  0.+0.j,  0.+0.j,  0.+0.j]],\n",
       "\n",
       "        [[ 0.+0.j,  0.+0.j,  0.+0.j,  0.+0.j],\n",
       "         [ 0.+0.j,  0.+0.j,  0.+0.j,  0.+0.j],\n",
       "         [ 0.+0.j,  0.+0.j,  0.+0.j,  0.+0.j],\n",
       "         [ 0.+0.j,  0.+0.j,  0.+0.j,  0.+0.j]]],\n",
       "\n",
       "\n",
       "       [[[ 0.+0.j,  0.+0.j,  0.+0.j,  0.+0.j],\n",
       "         [ 0.+0.j,  0.+0.j,  0.+0.j,  0.+0.j],\n",
       "         [ 0.+0.j,  0.+0.j,  0.+0.j,  0.+0.j],\n",
       "         [ 0.+0.j,  0.+0.j,  0.+0.j,  0.+0.j]],\n",
       "\n",
       "        [[ 0.+0.j,  0.+0.j,  0.+0.j,  0.+0.j],\n",
       "         [ 0.+0.j,  0.+0.j,  0.+0.j,  0.+0.j],\n",
       "         [ 0.+0.j,  0.+0.j,  0.+0.j,  0.+0.j],\n",
       "         [ 0.+0.j,  0.+0.j,  0.+0.j,  0.+0.j]],\n",
       "\n",
       "        [[ 0.+0.j,  0.+0.j,  0.+0.j,  0.+0.j],\n",
       "         [ 0.+0.j,  0.+0.j,  0.+0.j,  0.+0.j],\n",
       "         [ 0.+0.j,  0.+0.j,  0.+0.j,  0.+0.j],\n",
       "         [ 0.+0.j,  0.+0.j,  0.+0.j,  0.+0.j]],\n",
       "\n",
       "        [[ 0.+0.j,  0.+0.j,  0.+0.j,  0.+0.j],\n",
       "         [ 0.+0.j,  0.+0.j,  0.+0.j,  0.+0.j],\n",
       "         [ 0.+0.j,  0.+0.j,  0.+0.j,  0.+0.j],\n",
       "         [ 0.+0.j,  0.+0.j,  0.+0.j,  0.+0.j]]],\n",
       "\n",
       "\n",
       "       [[[ 0.+0.j,  0.+0.j,  0.+0.j,  0.+0.j],\n",
       "         [ 0.+0.j,  0.+0.j,  0.+0.j,  0.+0.j],\n",
       "         [ 0.+0.j,  0.+0.j,  0.+0.j,  0.+0.j],\n",
       "         [ 0.+0.j,  0.+0.j,  0.+0.j,  0.+0.j]],\n",
       "\n",
       "        [[ 0.+0.j,  0.+0.j,  0.+0.j,  0.+0.j],\n",
       "         [ 0.+0.j,  0.+0.j,  0.+0.j,  0.+0.j],\n",
       "         [ 0.+0.j,  0.+0.j,  0.+0.j,  0.+0.j],\n",
       "         [ 0.+0.j,  0.+0.j,  0.+0.j,  0.+0.j]],\n",
       "\n",
       "        [[ 0.+0.j,  0.+0.j,  0.+0.j,  0.+0.j],\n",
       "         [ 0.+0.j,  0.+0.j,  0.+0.j,  0.+0.j],\n",
       "         [ 0.+0.j,  0.+0.j,  0.+0.j,  0.+0.j],\n",
       "         [ 0.+0.j,  0.+0.j,  0.+0.j,  0.+0.j]],\n",
       "\n",
       "        [[ 0.+0.j,  0.+0.j,  0.+0.j,  0.+0.j],\n",
       "         [ 0.+0.j,  0.+0.j,  0.+0.j,  0.+0.j],\n",
       "         [ 0.+0.j,  0.+0.j,  0.+0.j,  0.+0.j],\n",
       "         [ 0.+0.j,  0.+0.j,  0.+0.j,  0.+0.j]]],\n",
       "\n",
       "\n",
       "       [[[ 0.+0.j,  0.+0.j,  0.+0.j,  0.+0.j],\n",
       "         [ 0.+0.j,  0.+0.j,  0.+0.j,  0.+0.j],\n",
       "         [ 0.+0.j,  0.+0.j,  0.+0.j,  0.+0.j],\n",
       "         [ 0.+0.j,  0.+0.j,  0.+0.j,  0.+0.j]],\n",
       "\n",
       "        [[ 0.+0.j,  0.+0.j,  0.+0.j,  0.+0.j],\n",
       "         [ 0.+0.j,  0.+0.j,  0.+0.j,  0.+0.j],\n",
       "         [ 0.+0.j,  0.+0.j,  0.+0.j,  0.+0.j],\n",
       "         [ 0.+0.j,  0.+0.j,  0.+0.j,  0.+0.j]],\n",
       "\n",
       "        [[ 0.+0.j,  0.+0.j,  0.+0.j,  0.+0.j],\n",
       "         [ 0.+0.j,  0.+0.j,  0.+0.j,  0.+0.j],\n",
       "         [ 0.+0.j,  0.+0.j,  0.+0.j,  0.+0.j],\n",
       "         [ 0.+0.j,  0.+0.j,  0.+0.j,  0.+0.j]],\n",
       "\n",
       "        [[ 0.+0.j,  0.+0.j,  0.+0.j,  0.+0.j],\n",
       "         [ 0.+0.j,  0.+0.j,  0.+0.j,  0.+0.j],\n",
       "         [ 0.+0.j,  0.+0.j,  0.+0.j,  0.+0.j],\n",
       "         [ 0.+0.j,  0.+0.j,  0.+0.j,  0.+0.j]]]])"
      ]
     },
     "execution_count": 36,
     "metadata": {},
     "output_type": "execute_result"
    }
   ],
   "source": [
    "import numpy as np\n",
    "from qutip import *\n",
    "from itertools import product\n",
    "\n",
    "# Dimension\n",
    "d = 2**1\n",
    "\n",
    "# Qubits\n",
    "num_q = int(np.log2(d))\n",
    "\n",
    "# Pauli matrices\n",
    "P = [qeye(2), sigmax(), sigmay(), sigmaz()]\n",
    "\n",
    "# Create all tensor products\n",
    "sigma = list(map(tensor, map(list, product(P, repeat=num_q))))\n",
    "\n",
    "# Precompute the traces of all sigma matrices\n",
    "sigma_traces = np.array([s.tr() for s in sigma])\n",
    "\n",
    "A = np.zeros((d**2,d**2,d**2,d**2), dtype='complex128')\n",
    "for i in range(d**2):\n",
    "    for j in range(d**2):\n",
    "        for k in range(d**2):\n",
    "            for l in range(d**2):\n",
    "                A[i, k, j, l] = sigma_traces[i]*sigma_traces[k]*sigma_traces[j]*sigma_traces[l]\n"
   ]
  },
  {
   "cell_type": "code",
   "execution_count": 37,
   "id": "ffe1521c-d8c0-46b2-be2a-1affc77fa1b4",
   "metadata": {},
   "outputs": [
    {
     "ename": "TypeError",
     "evalue": "expected dimension <= 2 array or matrix",
     "output_type": "error",
     "traceback": [
      "\u001b[0;31m---------------------------------------------------------------------------\u001b[0m",
      "\u001b[0;31mTypeError\u001b[0m                                 Traceback (most recent call last)",
      "Input \u001b[0;32mIn [37]\u001b[0m, in \u001b[0;36m<cell line: 1>\u001b[0;34m()\u001b[0m\n\u001b[0;32m----> 1\u001b[0m \u001b[43mQobj\u001b[49m\u001b[43m(\u001b[49m\u001b[43mA\u001b[49m\u001b[43m)\u001b[49m\n",
      "File \u001b[0;32m~/opt/anaconda3/lib/python3.9/site-packages/qutip/qobj.py:273\u001b[0m, in \u001b[0;36mQobj.__init__\u001b[0;34m(self, inpt, dims, shape, type, isherm, copy, fast, superrep, isunitary)\u001b[0m\n\u001b[1;32m    271\u001b[0m do_copy \u001b[38;5;241m=\u001b[39m copy\n\u001b[1;32m    272\u001b[0m \u001b[38;5;28;01mif\u001b[39;00m \u001b[38;5;129;01mnot\u001b[39;00m \u001b[38;5;28misinstance\u001b[39m(inpt, fast_csr_matrix):\n\u001b[0;32m--> 273\u001b[0m     _tmp \u001b[38;5;241m=\u001b[39m \u001b[43msp\u001b[49m\u001b[38;5;241;43m.\u001b[39;49m\u001b[43mcsr_matrix\u001b[49m\u001b[43m(\u001b[49m\u001b[43minpt\u001b[49m\u001b[43m,\u001b[49m\u001b[43m \u001b[49m\u001b[43mdtype\u001b[49m\u001b[38;5;241;43m=\u001b[39;49m\u001b[38;5;28;43mcomplex\u001b[39;49m\u001b[43m,\u001b[49m\u001b[43m \u001b[49m\u001b[43mcopy\u001b[49m\u001b[38;5;241;43m=\u001b[39;49m\u001b[43mdo_copy\u001b[49m\u001b[43m)\u001b[49m\n\u001b[1;32m    274\u001b[0m     _tmp\u001b[38;5;241m.\u001b[39msort_indices()  \u001b[38;5;66;03m# Make sure indices are sorted.\u001b[39;00m\n\u001b[1;32m    275\u001b[0m     do_copy \u001b[38;5;241m=\u001b[39m \u001b[38;5;241m0\u001b[39m\n",
      "File \u001b[0;32m~/opt/anaconda3/lib/python3.9/site-packages/scipy/sparse/compressed.py:86\u001b[0m, in \u001b[0;36m_cs_matrix.__init__\u001b[0;34m(self, arg1, shape, dtype, copy)\u001b[0m\n\u001b[1;32m     83\u001b[0m         \u001b[38;5;28;01mraise\u001b[39;00m \u001b[38;5;167;01mValueError\u001b[39;00m(\u001b[38;5;124m\"\u001b[39m\u001b[38;5;124munrecognized \u001b[39m\u001b[38;5;132;01m{}\u001b[39;00m\u001b[38;5;124m_matrix constructor usage\u001b[39m\u001b[38;5;124m\"\u001b[39m\n\u001b[1;32m     84\u001b[0m                          \u001b[38;5;124m\"\u001b[39m\u001b[38;5;124m\"\u001b[39m\u001b[38;5;241m.\u001b[39mformat(\u001b[38;5;28mself\u001b[39m\u001b[38;5;241m.\u001b[39mformat)) \u001b[38;5;28;01mfrom\u001b[39;00m \u001b[38;5;21;01me\u001b[39;00m\n\u001b[1;32m     85\u001b[0m     \u001b[38;5;28;01mfrom\u001b[39;00m \u001b[38;5;21;01m.\u001b[39;00m\u001b[38;5;21;01mcoo\u001b[39;00m \u001b[38;5;28;01mimport\u001b[39;00m coo_matrix\n\u001b[0;32m---> 86\u001b[0m     \u001b[38;5;28mself\u001b[39m\u001b[38;5;241m.\u001b[39m_set_self(\u001b[38;5;28mself\u001b[39m\u001b[38;5;241m.\u001b[39m\u001b[38;5;18m__class__\u001b[39m(\u001b[43mcoo_matrix\u001b[49m\u001b[43m(\u001b[49m\u001b[43marg1\u001b[49m\u001b[43m,\u001b[49m\u001b[43m \u001b[49m\u001b[43mdtype\u001b[49m\u001b[38;5;241;43m=\u001b[39;49m\u001b[43mdtype\u001b[49m\u001b[43m)\u001b[49m))\n\u001b[1;32m     88\u001b[0m \u001b[38;5;66;03m# Read matrix dimensions given, if any\u001b[39;00m\n\u001b[1;32m     89\u001b[0m \u001b[38;5;28;01mif\u001b[39;00m shape \u001b[38;5;129;01mis\u001b[39;00m \u001b[38;5;129;01mnot\u001b[39;00m \u001b[38;5;28;01mNone\u001b[39;00m:\n",
      "File \u001b[0;32m~/opt/anaconda3/lib/python3.9/site-packages/scipy/sparse/coo.py:181\u001b[0m, in \u001b[0;36mcoo_matrix.__init__\u001b[0;34m(self, arg1, shape, dtype, copy)\u001b[0m\n\u001b[1;32m    178\u001b[0m M \u001b[38;5;241m=\u001b[39m np\u001b[38;5;241m.\u001b[39matleast_2d(np\u001b[38;5;241m.\u001b[39masarray(arg1))\n\u001b[1;32m    180\u001b[0m \u001b[38;5;28;01mif\u001b[39;00m M\u001b[38;5;241m.\u001b[39mndim \u001b[38;5;241m!=\u001b[39m \u001b[38;5;241m2\u001b[39m:\n\u001b[0;32m--> 181\u001b[0m     \u001b[38;5;28;01mraise\u001b[39;00m \u001b[38;5;167;01mTypeError\u001b[39;00m(\u001b[38;5;124m'\u001b[39m\u001b[38;5;124mexpected dimension <= 2 array or matrix\u001b[39m\u001b[38;5;124m'\u001b[39m)\n\u001b[1;32m    183\u001b[0m \u001b[38;5;28mself\u001b[39m\u001b[38;5;241m.\u001b[39m_shape \u001b[38;5;241m=\u001b[39m check_shape(M\u001b[38;5;241m.\u001b[39mshape)\n\u001b[1;32m    184\u001b[0m \u001b[38;5;28;01mif\u001b[39;00m shape \u001b[38;5;129;01mis\u001b[39;00m \u001b[38;5;129;01mnot\u001b[39;00m \u001b[38;5;28;01mNone\u001b[39;00m:\n",
      "\u001b[0;31mTypeError\u001b[0m: expected dimension <= 2 array or matrix"
     ]
    }
   ],
   "source": [
    "Qobj(A)"
   ]
  },
  {
   "cell_type": "code",
   "execution_count": 21,
   "id": "a182c3f1-3442-40d9-b619-5c630b42de26",
   "metadata": {},
   "outputs": [],
   "source": [
    "import numpy as np\n",
    "from qutip import *\n",
    "\n",
    "# List of Pauli matrices\n",
    "P = [qeye(2), sigmax(), sigmay(), sigmaz()]\n",
    "\n",
    "# Precompute the product of two Pauli matrices\n",
    "precomputed_products = np.empty((4, 4), dtype=object)\n",
    "for i in range(4):\n",
    "    for j in range(4):\n",
    "        precomputed_products[i, j] = P[i] * P[j]\n",
    "\n",
    "# Compute A using the precomputed products\n",
    "B = np.zeros((4, 4, 4, 4), dtype='complex')\n",
    "for i in range(4):\n",
    "    for j in range(4):\n",
    "        for m in range(4):\n",
    "            for n in range(4):\n",
    "                B[i, j, m, n] = (precomputed_products[i, m] * precomputed_products[j, n]).tr()\n",
    "B = B.reshape((16,16))"
   ]
  },
  {
   "cell_type": "code",
   "execution_count": 20,
   "id": "5f241b2d-7459-42d4-abca-f461c44dbca1",
   "metadata": {},
   "outputs": [],
   "source": [
    "A = np.zeros((4,4,4,4),dtype='complex')\n",
    "P = [qeye(2),sigmax(),sigmay(),sigmaz()]\n",
    "for i in range(4):\n",
    "    for j in range(4):\n",
    "        for m in range(4):\n",
    "            for n in range(4):\n",
    "                A[i,j,m,n] = (P[i]*P[m]*P[j]*P[n]).tr()\n",
    "A = A.reshape((16,16))"
   ]
  },
  {
   "cell_type": "code",
   "execution_count": 11,
   "id": "3ce0d44f-7603-4743-bf76-d37b2c529342",
   "metadata": {},
   "outputs": [
    {
     "data": {
      "text/latex": [
       "Quantum object: dims = [[16, 16], [16, 16]], shape = (256, 256), type = oper, isherm = True\\begin{equation*}\\left(\\begin{array}{*{11}c}1.0 & 0.0 & 0.0 & 0.0 & 0.0 & \\cdots & 0.0 & 0.0 & 0.0 & 0.0 & 1.0\\\\0.0 & 1.0 & 0.0 & 0.0 & 1.0 & \\cdots & -1.0j & 0.0 & 0.0 & 1.0j & 0.0\\\\0.0 & 0.0 & 1.0 & 0.0 & 0.0 & \\cdots & 0.0 & 0.0 & -1.0j & 0.0 & 0.0\\\\0.0 & 0.0 & 0.0 & 1.0 & 0.0 & \\cdots & 0.0 & 1.0 & 0.0 & 0.0 & 0.0\\\\0.0 & 1.0 & 0.0 & 0.0 & 1.0 & \\cdots & 1.0j & 0.0 & 0.0 & -1.0j & 0.0\\\\\\vdots & \\vdots & \\vdots & \\vdots & \\vdots & \\ddots & \\vdots & \\vdots & \\vdots & \\vdots & \\vdots\\\\0.0 & 1.0j & 0.0 & 0.0 & -1.0j & \\cdots & 1.0 & 0.0 & 0.0 & 1.0 & 0.0\\\\0.0 & 0.0 & 0.0 & 1.0 & 0.0 & \\cdots & 0.0 & 1.0 & 0.0 & 0.0 & 0.0\\\\0.0 & 0.0 & 1.0j & 0.0 & 0.0 & \\cdots & 0.0 & 0.0 & 1.0 & 0.0 & 0.0\\\\0.0 & -1.0j & 0.0 & 0.0 & 1.0j & \\cdots & 1.0 & 0.0 & 0.0 & 1.0 & 0.0\\\\1.0 & 0.0 & 0.0 & 0.0 & 0.0 & \\cdots & 0.0 & 0.0 & 0.0 & 0.0 & 1.0\\\\\\end{array}\\right)\\end{equation*}"
      ],
      "text/plain": [
       "Quantum object: dims = [[16, 16], [16, 16]], shape = (256, 256), type = oper, isherm = True\n",
       "Qobj data =\n",
       "[[1.+0.j 0.+0.j 0.+0.j ... 0.+0.j 0.+0.j 1.+0.j]\n",
       " [0.+0.j 1.+0.j 0.+0.j ... 0.+0.j 0.+1.j 0.+0.j]\n",
       " [0.+0.j 0.+0.j 1.+0.j ... 0.-1.j 0.+0.j 0.+0.j]\n",
       " ...\n",
       " [0.+0.j 0.+0.j 0.+1.j ... 1.+0.j 0.+0.j 0.+0.j]\n",
       " [0.+0.j 0.-1.j 0.+0.j ... 0.+0.j 1.+0.j 0.+0.j]\n",
       " [1.+0.j 0.+0.j 0.+0.j ... 0.+0.j 0.+0.j 1.+0.j]]"
      ]
     },
     "execution_count": 11,
     "metadata": {},
     "output_type": "execute_result"
    }
   ],
   "source": [
    "tensor(Qobj(A),Qobj(A))/4"
   ]
  },
  {
   "cell_type": "code",
   "execution_count": 4,
   "id": "310adb50",
   "metadata": {},
   "outputs": [],
   "source": [
    "import numpy as np\n",
    "from itertools import product\n",
    "from qutip import Qobj, tensor, qeye, sigmax, sigmay, sigmaz, spre, choi_to_chi, choi_to_kraus"
   ]
  },
  {
   "cell_type": "code",
   "execution_count": 7,
   "id": "cf214ea5",
   "metadata": {},
   "outputs": [],
   "source": [
    "from forest.benchmarking.operator_tools import pauli_liouville2kraus"
   ]
  },
  {
   "cell_type": "code",
   "execution_count": 10,
   "id": "39235415",
   "metadata": {},
   "outputs": [],
   "source": [
    "# Dimension \n",
    "d = 2\n",
    "\n",
    "# Qubits\n",
    "num_q = int(np.log2(d))\n",
    "\n",
    "# Pauli matrices\n",
    "P = [qeye(2), sigmax(), sigmay(), sigmaz()]\n",
    "\n",
    "# Create all tensor products\n",
    "sigma = list(map(tensor, map(list, product(P, repeat=num_q))))"
   ]
  },
  {
   "cell_type": "code",
   "execution_count": 37,
   "id": "92871856",
   "metadata": {},
   "outputs": [
    {
     "data": {
      "text/plain": [
       "array([[1.        , 0.        , 0.        , 0.        ],\n",
       "       [0.        , 0.89442719, 0.        , 0.        ],\n",
       "       [0.        , 0.        , 0.89442719, 0.        ],\n",
       "       [0.2       , 0.        , 0.        , 0.8       ]])"
      ]
     },
     "execution_count": 37,
     "metadata": {},
     "output_type": "execute_result"
    }
   ],
   "source": [
    "# Create a amplitude damping channel\n",
    "p = 0.2\n",
    "ptm = np.array(\n",
    "        [[1,0,0,0],\n",
    "         [0,np.sqrt(1-p),0,0],\n",
    "         [0,0,np.sqrt(1-p),0],\n",
    "         [p,0,0,1-p]])\n",
    "ptm"
   ]
  },
  {
   "cell_type": "code",
   "execution_count": 53,
   "id": "4ee25c46",
   "metadata": {},
   "outputs": [],
   "source": [
    "# Convert PTM to Choi\n",
    "choi = 2 / d**2 * sum((ptm[i, j] * tensor(sigma[j].trans(), sigma[i])) \n",
    "                      for i in range(d**2) for j in range(d**2))\n",
    "choi.dims = [[[2]*num_q, [2]*num_q], [[2]*num_q, [2]*num_q]]"
   ]
  },
  {
   "cell_type": "code",
   "execution_count": 54,
   "id": "55b4a5d9",
   "metadata": {},
   "outputs": [],
   "source": [
    "# Convert Choi to Chi\n",
    "chi = choi_to_chi(choi)"
   ]
  },
  {
   "cell_type": "code",
   "execution_count": 89,
   "id": "2d86487b",
   "metadata": {},
   "outputs": [
    {
     "data": {
      "text/plain": [
       "array([[1.+0.j, 0.+0.j],\n",
       "       [0.+0.j, 1.+0.j]])"
      ]
     },
     "execution_count": 89,
     "metadata": {},
     "output_type": "execute_result"
    }
   ],
   "source": [
    "kraus = pauli_liouville2kraus(ptm)\n",
    "sum(np.conj(k.T)@k for k in kraus)"
   ]
  },
  {
   "cell_type": "code",
   "execution_count": null,
   "id": "9e4ffd48-0d7f-4ede-a8c8-282bf2610fd0",
   "metadata": {},
   "outputs": [],
   "source": [
    "2"
   ]
  },
  {
   "cell_type": "code",
   "execution_count": 152,
   "id": "65c51e20",
   "metadata": {},
   "outputs": [],
   "source": [
    "# Convert Chi to PTM the fast way\n",
    "A = np.zeros((d**2,d**2,d**2,d**2),dtype='complex128')\n",
    "for i in range(d**2):\n",
    "    for j in range(d**2):\n",
    "        for k in range(d**2):\n",
    "            for l in range(d**2):\n",
    "                A[i,k,j,l] = (sigma[i]*sigma[k]*sigma[j]*sigma[l]).tr()"
   ]
  },
  {
   "cell_type": "code",
   "execution_count": 154,
   "id": "cc49dffd",
   "metadata": {},
   "outputs": [
    {
     "ename": "ValueError",
     "evalue": "operands could not be broadcast together with remapped shapes [original->remapped]: (4,4)->(4,4) (16,16,16,16)->(16,16,16,16) ",
     "output_type": "error",
     "traceback": [
      "\u001b[0;31m---------------------------------------------------------------------------\u001b[0m",
      "\u001b[0;31mValueError\u001b[0m                                Traceback (most recent call last)",
      "Input \u001b[0;32mIn [154]\u001b[0m, in \u001b[0;36m<module>\u001b[0;34m\u001b[0m\n\u001b[0;32m----> 1\u001b[0m \u001b[38;5;241m1\u001b[39m\u001b[38;5;241m/\u001b[39md\u001b[38;5;241m*\u001b[39m\u001b[38;5;241m*\u001b[39m\u001b[38;5;241m2\u001b[39m\u001b[38;5;241m*\u001b[39mQobj(\u001b[43mnp\u001b[49m\u001b[38;5;241;43m.\u001b[39;49m\u001b[43meinsum\u001b[49m\u001b[43m(\u001b[49m\u001b[38;5;124;43m'\u001b[39;49m\u001b[38;5;124;43mlk,ikjl\u001b[39;49m\u001b[38;5;124;43m'\u001b[39;49m\u001b[43m,\u001b[49m\u001b[43mchi\u001b[49m\u001b[38;5;241;43m.\u001b[39;49m\u001b[43mfull\u001b[49m\u001b[43m(\u001b[49m\u001b[43m)\u001b[49m\u001b[43m,\u001b[49m\u001b[43mA\u001b[49m\u001b[43m)\u001b[49m)\n",
      "File \u001b[0;32m<__array_function__ internals>:180\u001b[0m, in \u001b[0;36meinsum\u001b[0;34m(*args, **kwargs)\u001b[0m\n",
      "File \u001b[0;32m~/Documents/GitHub/cvqaoa/.env/lib/python3.9/site-packages/numpy/core/einsumfunc.py:1359\u001b[0m, in \u001b[0;36meinsum\u001b[0;34m(out, optimize, *operands, **kwargs)\u001b[0m\n\u001b[1;32m   1357\u001b[0m     \u001b[38;5;28;01mif\u001b[39;00m specified_out:\n\u001b[1;32m   1358\u001b[0m         kwargs[\u001b[38;5;124m'\u001b[39m\u001b[38;5;124mout\u001b[39m\u001b[38;5;124m'\u001b[39m] \u001b[38;5;241m=\u001b[39m out\n\u001b[0;32m-> 1359\u001b[0m     \u001b[38;5;28;01mreturn\u001b[39;00m \u001b[43mc_einsum\u001b[49m\u001b[43m(\u001b[49m\u001b[38;5;241;43m*\u001b[39;49m\u001b[43moperands\u001b[49m\u001b[43m,\u001b[49m\u001b[43m \u001b[49m\u001b[38;5;241;43m*\u001b[39;49m\u001b[38;5;241;43m*\u001b[39;49m\u001b[43mkwargs\u001b[49m\u001b[43m)\u001b[49m\n\u001b[1;32m   1361\u001b[0m \u001b[38;5;66;03m# Check the kwargs to avoid a more cryptic error later, without having to\u001b[39;00m\n\u001b[1;32m   1362\u001b[0m \u001b[38;5;66;03m# repeat default values here\u001b[39;00m\n\u001b[1;32m   1363\u001b[0m valid_einsum_kwargs \u001b[38;5;241m=\u001b[39m [\u001b[38;5;124m'\u001b[39m\u001b[38;5;124mdtype\u001b[39m\u001b[38;5;124m'\u001b[39m, \u001b[38;5;124m'\u001b[39m\u001b[38;5;124morder\u001b[39m\u001b[38;5;124m'\u001b[39m, \u001b[38;5;124m'\u001b[39m\u001b[38;5;124mcasting\u001b[39m\u001b[38;5;124m'\u001b[39m]\n",
      "\u001b[0;31mValueError\u001b[0m: operands could not be broadcast together with remapped shapes [original->remapped]: (4,4)->(4,4) (16,16,16,16)->(16,16,16,16) "
     ]
    }
   ],
   "source": [
    "1/d**2*Qobj(np.einsum('lk,ikjl',chi.full(),A))"
   ]
  },
  {
   "cell_type": "code",
   "execution_count": 134,
   "id": "43b0f798",
   "metadata": {},
   "outputs": [
    {
     "data": {
      "text/latex": [
       "Quantum object: dims = [[4], [4]], shape = (4, 4), type = oper, isherm = True\\begin{equation*}\\left(\\begin{array}{*{11}c}1.0 & 0.0 & 0.0 & -5.551\\times10^{-17}\\\\0.0 & 1.0 & 0.0 & 0.0\\\\0.0 & 0.0 & 1.0 & 0.0\\\\-5.551\\times10^{-17} & 0.0 & 0.0 & 1.0\\\\\\end{array}\\right)\\end{equation*}"
      ],
      "text/plain": [
       "Quantum object: dims = [[4], [4]], shape = (4, 4), type = oper, isherm = True\n",
       "Qobj data =\n",
       "[[ 1.00000000e+00+0.00000000e+00j  0.00000000e+00+0.00000000e+00j\n",
       "   0.00000000e+00+0.00000000e+00j -5.55111512e-17+0.00000000e+00j]\n",
       " [ 0.00000000e+00+0.00000000e+00j  1.00000000e+00+0.00000000e+00j\n",
       "   0.00000000e+00-5.55111512e-17j  0.00000000e+00+0.00000000e+00j]\n",
       " [ 0.00000000e+00+0.00000000e+00j  0.00000000e+00+5.55111512e-17j\n",
       "   1.00000000e+00+0.00000000e+00j  0.00000000e+00+0.00000000e+00j]\n",
       " [-5.55111512e-17+0.00000000e+00j  0.00000000e+00+0.00000000e+00j\n",
       "   0.00000000e+00+0.00000000e+00j  1.00000000e+00+0.00000000e+00j]]"
      ]
     },
     "execution_count": 134,
     "metadata": {},
     "output_type": "execute_result"
    }
   ],
   "source": [
    "A_mat = np.reshape(A, (d**4,d**4))\n",
    "chi_vec = np.reshape(chi, (d**4,1))\n",
    "Qobj(1/d**2*np.reshape(A_mat@chi_vec, (d**2,d**2)))"
   ]
  },
  {
   "cell_type": "code",
   "execution_count": 120,
   "id": "427fd7b9",
   "metadata": {},
   "outputs": [],
   "source": [
    "# Convert Chi to PTM\n",
    "R = np.zeros((d**2,d**2))\n",
    "for i in range(d**2):\n",
    "    for j in range(d**2):\n",
    "        R[j,i] = 1/d**2 * sum(chi[k,l]*(sigma[i]*sigma[k]*sigma[j]*sigma[l]).tr() for k in range(d**2) for l in range(d**2)).real"
   ]
  },
  {
   "cell_type": "code",
   "execution_count": 117,
   "id": "8f2c58b9",
   "metadata": {},
   "outputs": [
    {
     "data": {
      "text/plain": [
       "array([ 1.00000000e+00,  0.00000000e+00,  0.00000000e+00, -5.55111512e-17])"
      ]
     },
     "execution_count": 117,
     "metadata": {},
     "output_type": "execute_result"
    }
   ],
   "source": [
    "R[0,:]"
   ]
  },
  {
   "cell_type": "code",
   "execution_count": 115,
   "id": "716af820",
   "metadata": {},
   "outputs": [
    {
     "data": {
      "text/latex": [
       "Quantum object: dims = [[[2, 2], [2, 2]], [[2, 2], [2, 2]]], shape = (16, 16), type = super, isherm = True\\begin{equation*}\\left(\\begin{array}{*{11}c}0.0 & 0.0 & 0.0 & 1.0 & 0.0 & \\cdots & 0.0 & 0.0 & 0.0 & 0.0 & 0.0\\\\0.0 & 0.0 & 1.0 & 0.0 & 0.0 & \\cdots & 0.0 & 0.0 & 0.0 & 0.0 & 0.0\\\\0.0 & 1.0 & 0.0 & 0.0 & 0.0 & \\cdots & 0.0 & 0.0 & 0.0 & 0.0 & 0.0\\\\1.0 & 0.0 & 0.0 & 0.0 & 0.0 & \\cdots & 0.0 & 0.0 & 0.0 & 0.0 & 0.0\\\\0.0 & 0.0 & 0.0 & 0.0 & 0.0 & \\cdots & 0.0 & 0.0 & 0.0 & 0.0 & 0.0\\\\\\vdots & \\vdots & \\vdots & \\vdots & \\vdots & \\ddots & \\vdots & \\vdots & \\vdots & \\vdots & \\vdots\\\\0.0 & 0.0 & 0.0 & 0.0 & 0.0 & \\cdots & 0.0 & 0.0 & 0.0 & 0.0 & 0.0\\\\0.0 & 0.0 & 0.0 & 0.0 & 0.0 & \\cdots & 0.0 & 0.0 & 0.0 & 0.0 & 1.0\\\\0.0 & 0.0 & 0.0 & 0.0 & 0.0 & \\cdots & 0.0 & 0.0 & 0.0 & 1.0 & 0.0\\\\0.0 & 0.0 & 0.0 & 0.0 & 0.0 & \\cdots & 0.0 & 0.0 & 1.0 & 0.0 & 0.0\\\\0.0 & 0.0 & 0.0 & 0.0 & 0.0 & \\cdots & 0.0 & 1.0 & 0.0 & 0.0 & 0.0\\\\\\end{array}\\right)\\end{equation*}"
      ],
      "text/plain": [
       "Quantum object: dims = [[[2, 2], [2, 2]], [[2, 2], [2, 2]]], shape = (16, 16), type = super, isherm = True\n",
       "Qobj data =\n",
       "[[0. 0. 0. 1. 0. 0. 0. 0. 0. 0. 0. 0. 0. 0. 0. 0.]\n",
       " [0. 0. 1. 0. 0. 0. 0. 0. 0. 0. 0. 0. 0. 0. 0. 0.]\n",
       " [0. 1. 0. 0. 0. 0. 0. 0. 0. 0. 0. 0. 0. 0. 0. 0.]\n",
       " [1. 0. 0. 0. 0. 0. 0. 0. 0. 0. 0. 0. 0. 0. 0. 0.]\n",
       " [0. 0. 0. 0. 0. 0. 0. 1. 0. 0. 0. 0. 0. 0. 0. 0.]\n",
       " [0. 0. 0. 0. 0. 0. 1. 0. 0. 0. 0. 0. 0. 0. 0. 0.]\n",
       " [0. 0. 0. 0. 0. 1. 0. 0. 0. 0. 0. 0. 0. 0. 0. 0.]\n",
       " [0. 0. 0. 0. 1. 0. 0. 0. 0. 0. 0. 0. 0. 0. 0. 0.]\n",
       " [0. 0. 0. 0. 0. 0. 0. 0. 0. 0. 0. 1. 0. 0. 0. 0.]\n",
       " [0. 0. 0. 0. 0. 0. 0. 0. 0. 0. 1. 0. 0. 0. 0. 0.]\n",
       " [0. 0. 0. 0. 0. 0. 0. 0. 0. 1. 0. 0. 0. 0. 0. 0.]\n",
       " [0. 0. 0. 0. 0. 0. 0. 0. 1. 0. 0. 0. 0. 0. 0. 0.]\n",
       " [0. 0. 0. 0. 0. 0. 0. 0. 0. 0. 0. 0. 0. 0. 0. 1.]\n",
       " [0. 0. 0. 0. 0. 0. 0. 0. 0. 0. 0. 0. 0. 0. 1. 0.]\n",
       " [0. 0. 0. 0. 0. 0. 0. 0. 0. 0. 0. 0. 0. 1. 0. 0.]\n",
       " [0. 0. 0. 0. 0. 0. 0. 0. 0. 0. 0. 0. 1. 0. 0. 0.]]"
      ]
     },
     "execution_count": 115,
     "metadata": {},
     "output_type": "execute_result"
    }
   ],
   "source": [
    "spre(tensor(sigmax(),sigmax()))"
   ]
  }
 ],
 "metadata": {
  "kernelspec": {
   "display_name": "Python 3 (ipykernel)",
   "language": "python",
   "name": "python3"
  },
  "language_info": {
   "codemirror_mode": {
    "name": "ipython",
    "version": 3
   },
   "file_extension": ".py",
   "mimetype": "text/x-python",
   "name": "python",
   "nbconvert_exporter": "python",
   "pygments_lexer": "ipython3",
   "version": "3.9.12"
  }
 },
 "nbformat": 4,
 "nbformat_minor": 5
}
