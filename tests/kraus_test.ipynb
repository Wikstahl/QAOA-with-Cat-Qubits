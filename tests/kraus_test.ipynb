{
 "cells": [
  {
   "cell_type": "code",
   "execution_count": 67,
   "id": "7a1f4eb7",
   "metadata": {},
   "outputs": [],
   "source": [
    "%reload_ext autoreload\n",
    "%autoreload 2\n",
    "import numpy as np\n",
    "from qutip import *\n",
    "from qutip.qip.device import *\n",
    "from qutip.qip.operations import *\n",
    "from qutip.qip.circuit import QubitCircuit\n",
    "from cvqaoa import *\n",
    "from cvqaoa.gates import carb"
   ]
  },
  {
   "cell_type": "code",
   "execution_count": 68,
   "id": "7c36b3e1",
   "metadata": {},
   "outputs": [],
   "source": [
    "def product(*args, repeat=1):\n",
    "    # product('ABCD', 'xy') --> Ax Ay Bx By Cx Cy Dx Dy\n",
    "    # product(range(2), repeat=3) --> 000 001 010 011 100 101 110 111\n",
    "    pools = [tuple(pool) for pool in args] * repeat\n",
    "    result = [[]]\n",
    "    for pool in pools:\n",
    "        result = [x + [y] for x in result for y in pool]\n",
    "    for prod in result:\n",
    "        yield list(prod)"
   ]
  },
  {
   "cell_type": "code",
   "execution_count": 70,
   "id": "b72e4f7f",
   "metadata": {},
   "outputs": [],
   "source": [
    "file = np.load('../data/kraus/cv_kraus_rx.npz', allow_pickle=True, fix_imports=True)"
   ]
  },
  {
   "cell_type": "code",
   "execution_count": 74,
   "id": "fe25d912",
   "metadata": {},
   "outputs": [
    {
     "data": {
      "text/plain": [
       "array([[9.99998098e-01+0.00000000e+00j, 5.06321452e-07-3.62225699e-19j],\n",
       "       [5.06321452e-07+3.62225699e-19j, 9.99998098e-01+0.00000000e+00j]])"
      ]
     },
     "execution_count": 74,
     "metadata": {},
     "output_type": "execute_result"
    }
   ],
   "source": [
    "kraus = file['kraus']\n",
    "sum(k@np.conj(k.T) for k in kraus[1])"
   ]
  },
  {
   "cell_type": "code",
   "execution_count": 3,
   "id": "6c46dcb2",
   "metadata": {},
   "outputs": [],
   "source": [
    "N = 2  # qubits\n",
    "d = 4  # dimension\n",
    "tau = 2  # gate time\n",
    "# Load the average gate fidelity\n",
    "file = np.load('../data/average_gate_fidelity/cv_avg_fid_zz.npz')\n",
    "f_bar = np.mean(file['avg'])\n",
    "# Find the corresponding T1\n",
    "gamma = 2 * (d + 1) / (d * tau) * (1 - f_bar)\n",
    "T1 = 1 / (gamma)\n",
    "\n",
    "# Pauli matrices\n",
    "P = [qeye(2), sigmax(), sigmay(), sigmaz()]\n",
    "\n",
    "# Create all tensorproducts\n",
    "sigma = list(map(tensor, product(P, repeat=2)))\n",
    "\n",
    "# Initialize qubit processor\n",
    "qp = QubitProcessor(N=N, T1=T1)\n",
    "\n",
    "# Quantum circuit\n",
    "qc = QubitCircuit(N)\n",
    "qc.user_gates = {\"CARB\": carb}\n",
    "qc.add_gate(\"CARB\", targets=[0, 1], arg_value=0)"
   ]
  },
  {
   "cell_type": "code",
   "execution_count": 4,
   "id": "dc6c4d42",
   "metadata": {},
   "outputs": [],
   "source": [
    "# Initialize PTM\n",
    "R = np.zeros((d**2, d**2))\n",
    "\n",
    "for j in range(d**2):\n",
    "    result = qp.run_state(init_state=sigma[j], qc=qc)\n",
    "    # Channel\n",
    "    Lambda = result.states[-1]\n",
    "    for i in range(d**2):\n",
    "        R[i, j] = 1 / d * (sigma[i] * Lambda).tr().real"
   ]
  },
  {
   "cell_type": "code",
   "execution_count": 5,
   "id": "f26eb731",
   "metadata": {},
   "outputs": [],
   "source": [
    "# Convert PTM to Choi-matrix\n",
    "choi = 1 / d**2 * sum(R[i, j] * tensor(sigma[j].trans(), sigma[i]) for i in range(d**2) for j in range(d**2))\n",
    "choi.dims = [[[2, 2], [2, 2]],[[2, 2], [2, 2]]]\n",
    "choi.superrep = 'choi'"
   ]
  },
  {
   "cell_type": "code",
   "execution_count": 7,
   "id": "0389584c",
   "metadata": {},
   "outputs": [
    {
     "data": {
      "text/plain": [
       "True"
      ]
     },
     "execution_count": 7,
     "metadata": {},
     "output_type": "execute_result"
    }
   ],
   "source": [
    "# Find eigenvectors and eigenvalues to choi\n",
    "eValues, eVectors = np.linalg.eigh(choi.full())\n",
    "# Because of machine impressision we drop terms smaller than rtol\n",
    "rtol = 1e-7\n",
    "idx, = np.where(eValues<rtol)\n",
    "eVectors = np.delete(eVectors, idx, axis=1) # drop columns\n",
    "eValues = np.delete(eValues, idx)\n",
    "num = len(eValues)\n",
    "# Get the Kraus operators\n",
    "kraus = [np.sqrt(d*eValues[i])*eVectors[:,i].reshape((d,d)) for i in range(num)]\n",
    "# Check that they sum to 1\n",
    "np.isclose(Qobj(sum(k@np.conj(k.T) for k in kraus)),qeye(4)).all()"
   ]
  },
  {
   "cell_type": "code",
   "execution_count": 142,
   "id": "21a1efd6",
   "metadata": {},
   "outputs": [],
   "source": [
    "# Convert Choi to chi\n",
    "chi = choi_to_chi(choi)"
   ]
  },
  {
   "cell_type": "code",
   "execution_count": null,
   "id": "b8d9ba3a",
   "metadata": {},
   "outputs": [],
   "source": [
    "A[i,j,m,n] = (sigma[i]*sigma[m]*sigma[j]*sigma[n]).tr()"
   ]
  },
  {
   "cell_type": "code",
   "execution_count": 157,
   "id": "37c5741a",
   "metadata": {},
   "outputs": [],
   "source": [
    "A = np.zeros((16,16,16,16),dtype='complex')\n",
    "for i in range(16):\n",
    "    for j in range(16):\n",
    "        for m in range(16):\n",
    "            for n in range(16):\n",
    "                A[i,j,m,n] = (sigma[i]*sigma[m]*sigma[j]*sigma[n]).tr()"
   ]
  },
  {
   "cell_type": "code",
   "execution_count": 158,
   "id": "e45c8227",
   "metadata": {},
   "outputs": [],
   "source": [
    "A = A.reshape((16**2,16**2))\n",
    "A_inv = np.linalg.inv(A)"
   ]
  },
  {
   "cell_type": "code",
   "execution_count": 171,
   "id": "3a2e8551",
   "metadata": {},
   "outputs": [],
   "source": [
    "R_vec = R.reshape((16**2,1))\n",
    "chi_vec = d*A_inv@R_vec"
   ]
  },
  {
   "cell_type": "code",
   "execution_count": 187,
   "id": "2b8cdd85",
   "metadata": {
    "scrolled": true
   },
   "outputs": [
    {
     "data": {
      "text/plain": [
       "True"
      ]
     },
     "execution_count": 187,
     "metadata": {},
     "output_type": "execute_result"
    }
   ],
   "source": [
    "np.isclose(Qobj(chi_vec.reshape(16,16)).trans(), chi/4).all()"
   ]
  },
  {
   "cell_type": "code",
   "execution_count": 242,
   "id": "6e28a3a0",
   "metadata": {},
   "outputs": [],
   "source": [
    "w, v = np.linalg.eigh(chi.full())"
   ]
  },
  {
   "cell_type": "code",
   "execution_count": 145,
   "id": "b0b98a95",
   "metadata": {},
   "outputs": [],
   "source": [
    "# Qobj(v@np.diag(w)@np.conj(v.T)).tidyup()"
   ]
  },
  {
   "cell_type": "code",
   "execution_count": 202,
   "id": "9cab5196",
   "metadata": {},
   "outputs": [],
   "source": [
    "e = w[w > 0]"
   ]
  },
  {
   "cell_type": "code",
   "execution_count": 215,
   "id": "0f62402c",
   "metadata": {},
   "outputs": [
    {
     "name": "stderr",
     "output_type": "stream",
     "text": [
      "/var/folders/b0/ymj78yz13kz0l30_vjntj2cc0000gn/T/ipykernel_4521/4182599287.py:1: RuntimeWarning: invalid value encountered in sqrt\n",
      "  kraus = [np.sqrt(w[i])*sum(v[j,i]*sigma[j].full() for j in range(d**2)) for i in range(len(e))]\n"
     ]
    }
   ],
   "source": [
    "kraus = [np.sqrt(w[i])*sum(v[j,i]*sigma[j].full() for j in range(d**2)) for i in range(len(e))]"
   ]
  },
  {
   "cell_type": "code",
   "execution_count": 225,
   "id": "d06ffd4b",
   "metadata": {},
   "outputs": [],
   "source": [
    "kraus = [np.sqrt(np.round(w[i],6))*sum(v[j,i]*sigma[j].full() for j in range(d**2)) for i in range(len(w))]"
   ]
  },
  {
   "cell_type": "code",
   "execution_count": 232,
   "id": "cf832db6",
   "metadata": {},
   "outputs": [
    {
     "data": {
      "text/latex": [
       "Quantum object: dims = [[4], [4]], shape = (4, 4), type = oper, isherm = True\\begin{equation*}\\left(\\begin{array}{*{11}c}1.000 & 0.0 & 0.0 & 0.0\\\\0.0 & 1.000 & 0.0 & 0.0\\\\0.0 & 0.0 & 1.000 & 0.0\\\\0.0 & 0.0 & 0.0 & 1.0\\\\\\end{array}\\right)\\end{equation*}"
      ],
      "text/plain": [
       "Quantum object: dims = [[4], [4]], shape = (4, 4), type = oper, isherm = True\n",
       "Qobj data =\n",
       "[[0.99999993 0.         0.         0.        ]\n",
       " [0.         0.99999998 0.         0.        ]\n",
       " [0.         0.         0.99999998 0.        ]\n",
       " [0.         0.         0.         1.0000001 ]]"
      ]
     },
     "execution_count": 232,
     "metadata": {},
     "output_type": "execute_result"
    }
   ],
   "source": [
    "i = sum(k@np.conj(k.T) for k in kraus) / d\n",
    "Qobj(i).tidyup()"
   ]
  },
  {
   "cell_type": "code",
   "execution_count": 188,
   "id": "f52125ff",
   "metadata": {},
   "outputs": [],
   "source": [
    "kraus = choi_to_kraus(choi)\n",
    "i = sum(k*k.dag() for k in kraus)*4"
   ]
  },
  {
   "cell_type": "code",
   "execution_count": null,
   "id": "b5cf08b2",
   "metadata": {},
   "outputs": [],
   "source": []
  }
 ],
 "metadata": {
  "kernelspec": {
   "display_name": "Python 3 (ipykernel)",
   "language": "python",
   "name": "python3"
  },
  "language_info": {
   "codemirror_mode": {
    "name": "ipython",
    "version": 3
   },
   "file_extension": ".py",
   "mimetype": "text/x-python",
   "name": "python",
   "nbconvert_exporter": "python",
   "pygments_lexer": "ipython3",
   "version": "3.9.9"
  }
 },
 "nbformat": 4,
 "nbformat_minor": 5
}
