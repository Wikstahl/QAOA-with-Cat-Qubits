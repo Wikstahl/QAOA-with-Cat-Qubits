{
 "cells": [
  {
   "cell_type": "code",
   "execution_count": 24,
   "id": "aa2c53da",
   "metadata": {},
   "outputs": [
    {
     "name": "stdout",
     "output_type": "stream",
     "text": [
      "The autoreload extension is already loaded. To reload it, use:\n",
      "  %reload_ext autoreload\n"
     ]
    }
   ],
   "source": [
    "%load_ext autoreload\n",
    "%autoreload 2\n",
    "import numpy as np\n",
    "import matplotlib.pyplot as plt\n",
    "import scipy\n",
    "import cirq\n",
    "from qutip import *\n",
    "from itertools import product\n",
    "from cvqaoa.circ import *"
   ]
  },
  {
   "cell_type": "code",
   "execution_count": 26,
   "id": "610b21e9",
   "metadata": {},
   "outputs": [],
   "source": [
    "# Pauli matrices\n",
    "P = [qeye(2), sigmax(), sigmay(), sigmaz()]\n",
    "\n",
    "# Create all tensor products\n",
    "sigma = map(tensor, product(tensP,repeat=2))"
   ]
  },
  {
   "cell_type": "code",
   "execution_count": 44,
   "id": "aa22a679",
   "metadata": {},
   "outputs": [],
   "source": [
    "def product(*args, repeat=1):\n",
    "    # product('ABCD', 'xy') --> Ax Ay Bx By Cx Cy Dx Dy\n",
    "    # product(range(2), repeat=3) --> 000 001 010 011 100 101 110 111\n",
    "    pools = [tuple(pool) for pool in args] * repeat\n",
    "    result = [[]]\n",
    "    for pool in pools:\n",
    "        result = [x+[y] for x in result for y in pool]\n",
    "    for prod in result:\n",
    "        yield list(prod)\n",
    "        \n",
    "# Create all tensor products\n",
    "sigma = map(tensor, product(P,repeat=2))"
   ]
  },
  {
   "cell_type": "markdown",
   "id": "42f4f70b",
   "metadata": {},
   "source": [
    "load kraus operators and create channel"
   ]
  },
  {
   "cell_type": "code",
   "execution_count": 9,
   "id": "3363f39f",
   "metadata": {},
   "outputs": [],
   "source": [
    "file = '../data/average_gate_fidelity/cv_avg_fid_zz.npz'\n",
    "data = np.load(file, allow_pickle=True, fix_imports=True)"
   ]
  },
  {
   "cell_type": "code",
   "execution_count": 21,
   "id": "481dfae4",
   "metadata": {},
   "outputs": [
    {
     "name": "stdout",
     "output_type": "stream",
     "text": [
      "0.9915549579233776\n"
     ]
    },
    {
     "data": {
      "image/png": "[encoded data removed]",
      "text/plain": [
       "<Figure size 432x288 with 1 Axes>"
      ]
     },
     "metadata": {
      "needs_background": "light"
     },
     "output_type": "display_data"
    }
   ],
   "source": [
    "x = data['args']\n",
    "y = data['avg']\n",
    "plt.plot(x,y)\n",
    "print(np.mean(y))"
   ]
  },
  {
   "cell_type": "code",
   "execution_count": 8,
   "id": "ba794d18",
   "metadata": {},
   "outputs": [],
   "source": [
    "file = '../data/kraus/dv_kraus_rx.npz'\n",
    "data = np.load(file, allow_pickle=True, fix_imports=True)\n",
    "kraus_list = data['kraus']"
   ]
  },
  {
   "cell_type": "code",
   "execution_count": 77,
   "id": "64ba56ab",
   "metadata": {},
   "outputs": [
    {
     "data": {
      "text/plain": [
       "array([[ 1.00000000e+00+0.00000000e+00j, -7.76267597e-17-2.59124319e-17j],\n",
       "       [-7.76267597e-17+2.59124319e-17j,  1.00000000e+00+0.00000000e+00j]])"
      ]
     },
     "execution_count": 77,
     "metadata": {},
     "output_type": "execute_result"
    }
   ],
   "source": [
    "sum(k@np.conj(k.T) for k in kraus_list[2])"
   ]
  },
  {
   "cell_type": "code",
   "execution_count": 250,
   "id": "1143ae81",
   "metadata": {},
   "outputs": [],
   "source": [
    "file = '../data/kraus/cv_kraus_rx.npy'\n",
    "kraus = np.load(file, allow_pickle=True, fix_imports=True)"
   ]
  },
  {
   "cell_type": "markdown",
   "id": "8899dcdc",
   "metadata": {},
   "source": [
    "given these kraus operators calculate the average gate fidelity"
   ]
  },
  {
   "cell_type": "code",
   "execution_count": 6,
   "id": "c1739638",
   "metadata": {},
   "outputs": [],
   "source": [
    "sigma_x = np.array([[0,1],[1,0]], dtype=np.complex64)\n",
    "sigma_y = np.array([[0,-1j],[1j,0]], dtype=np.complex64)\n",
    "sigma_z = np.array([[1,0],[0,-1]], dtype=np.complex64)\n",
    "sigma = [sigma_x, sigma_y, sigma_z]"
   ]
  },
  {
   "cell_type": "code",
   "execution_count": 9,
   "id": "fda5d12c",
   "metadata": {},
   "outputs": [
    {
     "data": {
      "text/html": [
       "<pre style=\"overflow: auto; white-space: pre;\">0: ───X^0.5───DX^1.5707963267948966───</pre>"
      ],
      "text/plain": [
       "0: ───X^0.5───DX^1.5707963267948966───"
      ]
     },
     "execution_count": 9,
     "metadata": {},
     "output_type": "execute_result"
    }
   ],
   "source": [
    "arg = np.pi / 2\n",
    "## Ideal gate\n",
    "U = cirq.unitary(cirq.rx(arg))\n",
    "\n",
    "## Create quantum circuit\n",
    "qubits = cirq.LineQubit.range(1)\n",
    "circuit = cirq.Circuit() # Initialize circuit\n",
    "circuit.append(cirq.X(qubits[0]) ** (arg/np.pi))\n",
    "circuit.append(CVRXChannel(arg)(qubits[0]))\n",
    "sim = cirq.DensityMatrixSimulator(\n",
    "    split_untangled_states = True,\n",
    ")\n",
    "circuit"
   ]
  },
  {
   "cell_type": "code",
   "execution_count": 13,
   "id": "2ae387cd",
   "metadata": {},
   "outputs": [
    {
     "name": "stdout",
     "output_type": "stream",
     "text": [
      "0.9861666560173035\n"
     ]
    }
   ],
   "source": [
    "## Average Gate Fidelity\n",
    "F = 0\n",
    "for sigma_k in sigma:\n",
    "    ## Get eigenvalues and eigenvectors\n",
    "    eVal, eVec = np.linalg.eig(sigma_k)\n",
    "    \n",
    "    final_state = 0\n",
    "    for i in range(2):\n",
    "        v = np.reshape(eVec[i],(2,1)) # reshape to a column vector\n",
    "        input_state = v@np.conj(v.T) # input density matrix\n",
    "        ## Simulate circuit\n",
    "        result = sim.simulate(\n",
    "            circuit,\n",
    "            initial_state=input_state,\n",
    "            qubit_order=qubits\n",
    "        )\n",
    "        final_state += eVal[i]*result.final_density_matrix\n",
    "    ## Target state\n",
    "    target_state = U@sigma_k@np.conj(U.T)\n",
    "    F += np.trace(target_state@final_state).real\n",
    "avg_fid = (1/2 + 1/12 * F)\n",
    "print(avg_fid)"
   ]
  },
  {
   "cell_type": "markdown",
   "id": "225b1e8d",
   "metadata": {},
   "source": [
    "The true one is 0.9964767783534642. So I'd say this is close enough!"
   ]
  }
 ],
 "metadata": {
  "kernelspec": {
   "display_name": "Python 3 (ipykernel)",
   "language": "python",
   "name": "python3"
  },
  "language_info": {
   "codemirror_mode": {
    "name": "ipython",
    "version": 3
   },
   "file_extension": ".py",
   "mimetype": "text/x-python",
   "name": "python",
   "nbconvert_exporter": "python",
   "pygments_lexer": "ipython3",
   "version": "3.9.9"
  }
 },
 "nbformat": 4,
 "nbformat_minor": 5
}
