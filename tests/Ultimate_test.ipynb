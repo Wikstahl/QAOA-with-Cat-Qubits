{
 "cells": [
  {
   "cell_type": "code",
   "execution_count": 1,
   "id": "4b97f91c",
   "metadata": {},
   "outputs": [],
   "source": [
    "# Good Sourde https://forest-benchmarking.readthedocs.io/en/latest/superoperator_representations.html\n",
    "import numpy as np\n",
    "import scipy as sp\n",
    "from qutip import *\n",
    "from qutip.qip.device import *\n",
    "from qutip.qip.operations import *\n",
    "from qutip.qip.circuit import QubitCircuit\n",
    "from cvqaoa import *\n",
    "from cvqaoa.gates import carb\n",
    "from forest.benchmarking.operator_tools import *\n",
    "from forest.benchmarking.operator_tools import *\n",
    "from forest.benchmarking.operator_tools.project_superoperators import *"
   ]
  },
  {
   "cell_type": "code",
   "execution_count": 22,
   "id": "f1786709",
   "metadata": {},
   "outputs": [
    {
     "name": "stdout",
     "output_type": "stream",
     "text": [
      "[[ 1.00011981e+00+0.00000000e+00j -1.44812818e-17+1.06144740e-16j\n",
      "   3.69314315e-21-5.12308583e-21j -2.96008665e-20+4.70783819e-19j]\n",
      " [-1.44812818e-17-1.06144740e-16j  1.00004035e+00+0.00000000e+00j\n",
      "  -1.72402280e-23+1.40539088e-23j -2.30979491e-18-4.88146020e-19j]\n",
      " [ 3.69314315e-21+5.12308583e-21j -1.72402280e-23-1.40539088e-23j\n",
      "   1.00004035e+00+0.00000000e+00j -1.58076847e-18+2.24999727e-18j]\n",
      " [-2.96008665e-20-4.70783819e-19j -2.30979491e-18+4.88146020e-19j\n",
      "  -1.58076847e-18-2.24999727e-18j  1.00012207e+00+0.00000000e+00j]]\n",
      "theta 0.2429961168522492\n",
      "Finished\n"
     ]
    }
   ],
   "source": [
    "def product(*args, repeat=1):\n",
    "    # product('ABCD', 'xy') --> Ax Ay Bx By Cx Cy Dx Dy\n",
    "    # product(range(2), repeat=3) --> 000 001 010 011 100 101 110 111\n",
    "    pools = [tuple(pool) for pool in args] * repeat\n",
    "    result = [[]]\n",
    "    for pool in pools:\n",
    "        result = [x + [y] for x in result for y in pool]\n",
    "    for prod in result:\n",
    "        yield list(prod)\n",
    "\n",
    "\n",
    "N = 2  # qubits\n",
    "d = 4  # dimension\n",
    "tau = 2  # gate time\n",
    "# Load the average gate fidelity\n",
    "file = np.load('data/average_gate_fidelity/cv_avg_fid_zz.npz')\n",
    "f_bar = np.mean(file['avg'])\n",
    "# Find the corresponding T1\n",
    "gamma = (d + 1) / (d * tau) * (1 - f_bar)\n",
    "T1 = 1 / (gamma)\n",
    "# Qubit Processor\n",
    "qp = QubitProcessor(N=N, T1=T1)\n",
    "qp_inv = QubitProcessor(N=N, T1=None)\n",
    "\n",
    "# Pauli matrices\n",
    "P = [qeye(2), sigmax(), sigmay(), sigmaz()]\n",
    "\n",
    "# Create all tensor products\n",
    "sigma = list(map(tensor, product(P, repeat=2)))\n",
    "\n",
    "# List with angles of rotation\n",
    "arg_list = np.linspace(0, np.pi, num=181, endpoint=False)\n",
    "\n",
    "# Initialize kraus list\n",
    "kraus_list = []\n",
    "\n",
    "arg = 0.2429961168522492\n",
    "# Pauli transfer matrix\n",
    "R = np.zeros((d**2, d**2))\n",
    "\n",
    "# Quantum circuit\n",
    "qc = QubitCircuit(N)\n",
    "qc.user_gates = {\"CARB\": carb}\n",
    "qc.add_gate(\"CARB\", targets=[0, 1], arg_value=arg)\n",
    "\n",
    "# Get propagator\n",
    "U = (-1j*tensor(sigmaz(),sigmaz())*arg/2).expm()\n",
    "\n",
    "# Create PTM\n",
    "opt = Options(nsteps=1e8)\n",
    "for j in range(d**2):\n",
    "    eVals, eVecs = sp.linalg.eigh(sigma[j])\n",
    "    Lambda_tot = 0\n",
    "    for idx, eVal in enumerate(eVals):\n",
    "        init_state = ket2dm(Qobj(eVecs[:,idx],dims=[[2,2],[1,1]]))\n",
    "        result = qp.run_state(init_state=init_state, qc=qc, options=opt)\n",
    "        final_dm = result.states[-1]\n",
    "        if abs(final_dm.tr()-1) > 0.00001 or final_dm.isherm == False:\n",
    "            print(1/0)\n",
    "        Lambda_tot += eVal * final_dm \n",
    "    for i in range(d**2):\n",
    "        R[i, j] = 1 / d * ((sigma[i] * Lambda_tot).tr()).real\n",
    "\n",
    "# Convert PTM to choi\n",
    "choi = 1 / d**2 * sum((R[i, j] * tensor(sigma[j].trans(), sigma[i]))\n",
    "                      for i in range(d**2) for j in range(d**2))\n",
    "choi.dims = [[[2, 2], [2, 2]], [[2, 2], [2, 2]]]\n",
    "choi.superrep = 'choi'\n",
    "choi = choi.full()\n",
    "\n",
    "# Convert Choi to Kraus\n",
    "kraus = choi2kraus(choi)\n",
    "\n",
    "# Get the kraus errorrs\n",
    "kraus_err = [np.sqrt(d)*k@(U.dag()).full() for k in kraus]\n",
    "\n",
    "# Check that the kraus sum to identity\n",
    "iden = sum(np.conj(k.T)@k for k in kraus_err)\n",
    "if np.isclose(iden, np.eye(4), rtol=1e-10, atol=1e-4).all() != True:\n",
    "    print(iden)\n",
    "    print('theta', arg)\n",
    "print('Finished')"
   ]
  },
  {
   "cell_type": "code",
   "execution_count": 3,
   "id": "0ce40b38",
   "metadata": {},
   "outputs": [],
   "source": [
    "chi = choi2chi(choi)"
   ]
  },
  {
   "cell_type": "code",
   "execution_count": 14,
   "id": "255c0d08",
   "metadata": {},
   "outputs": [],
   "source": [
    "# Get chi error\n",
    "V = np.zeros((d**2, d**2),dtype=\"complex128\")\n",
    "for m in range(d**2):\n",
    "    for n in range(d**2):\n",
    "        V[m,n] = (sigma[m].dag()*sigma[n]*U.dag()).tr() / d\n",
    "chi_err = V@chi@np.conj(V.T)"
   ]
  },
  {
   "cell_type": "code",
   "execution_count": 21,
   "id": "6fbd7099",
   "metadata": {},
   "outputs": [
    {
     "data": {
      "text/plain": [
       "array([[ 1.00011981e+00+0.00000000e+00j, -1.87073647e-16+1.06158556e-16j,\n",
       "         3.70936042e-21-1.54178977e-20j,  2.10120608e-19+3.84272826e-20j],\n",
       "       [-1.87073647e-16-1.06158556e-16j,  1.00004035e+00+0.00000000e+00j,\n",
       "         1.42115920e-35-2.60208521e-18j, -2.55133831e-18+1.16729323e-19j],\n",
       "       [ 3.70936042e-21+1.54178977e-20j,  1.42115920e-35+2.60208521e-18j,\n",
       "         1.00004035e+00+0.00000000e+00j, -1.33193556e-18+2.16471607e-18j],\n",
       "       [ 2.10120608e-19-3.84272826e-20j, -2.55133831e-18-1.16729323e-19j,\n",
       "        -1.33193556e-18-2.16471607e-18j,  1.00012207e+00+0.00000000e+00j]])"
      ]
     },
     "execution_count": 21,
     "metadata": {},
     "output_type": "execute_result"
    }
   ],
   "source": [
    "kraus_err = chi2kraus(chi_err)\n",
    "iden = sum(np.conj(k.T)@k for k in kraus_err)\n",
    "4*iden"
   ]
  },
  {
   "cell_type": "code",
   "execution_count": null,
   "id": "5b2a303c",
   "metadata": {},
   "outputs": [],
   "source": [
    "eValues, eVectors = sp.linalg.eigh(choi)\n",
    "print('CP',eValues>0)\n",
    "#eValues = np.where(eValues < 1e-8, 0, eValues)\n",
    "rtol = 1e-8\n",
    "idx, = np.where(eValues < rtol)\n",
    "eVectors = np.delete(eVectors, idx, axis=1)  # drop columns\n",
    "eValues = np.delete(eValues, idx)\n",
    "num = len(eValues)\n",
    "\n",
    "# Get the Kraus operators\n",
    "kraus = [np.sqrt(d * eValues[i]) * eVectors[:, i].reshape((d, d))\n",
    "         for i in range(num)"
   ]
  }
 ],
 "metadata": {
  "kernelspec": {
   "display_name": "Python 3 (ipykernel)",
   "language": "python",
   "name": "python3"
  },
  "language_info": {
   "codemirror_mode": {
    "name": "ipython",
    "version": 3
   },
   "file_extension": ".py",
   "mimetype": "text/x-python",
   "name": "python",
   "nbconvert_exporter": "python",
   "pygments_lexer": "ipython3",
   "version": "3.9.14"
  }
 },
 "nbformat": 4,
 "nbformat_minor": 5
}
