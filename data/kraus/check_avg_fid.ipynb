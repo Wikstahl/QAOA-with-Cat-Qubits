{
 "cells": [
  {
   "cell_type": "code",
   "execution_count": 34,
   "id": "45aed723",
   "metadata": {},
   "outputs": [],
   "source": [
    "import os\n",
    "import cirq\n",
    "import pickle\n",
    "import numpy as np\n",
    "from cvqaoa.gates import carb\n",
    "from cvqaoa.circ import *\n",
    "from qutip import Qobj"
   ]
  },
  {
   "cell_type": "code",
   "execution_count": 35,
   "id": "fb88024f",
   "metadata": {},
   "outputs": [
    {
     "data": {
      "text/plain": [
       "0.9915549579233776"
      ]
     },
     "execution_count": 35,
     "metadata": {},
     "output_type": "execute_result"
    }
   ],
   "source": [
    "os.chdir('/Users/turbotanten/Documents/GitHub/cvqaoa/data/kraus')\n",
    "file = np.load('../average_gate_fidelity/cv_avg_fid_zz.npz')\n",
    "f_bar = np.mean(file['avg'])\n",
    "args = file['args']\n",
    "f_bar"
   ]
  },
  {
   "cell_type": "code",
   "execution_count": 36,
   "id": "f3e58f67",
   "metadata": {},
   "outputs": [
    {
     "data": {
      "text/plain": [
       "0.9859761249934532"
      ]
     },
     "execution_count": 36,
     "metadata": {},
     "output_type": "execute_result"
    }
   ],
   "source": [
    "os.chdir('/Users/turbotanten/Documents/GitHub/cvqaoa/data/kraus')\n",
    "file = np.load('../average_gate_fidelity/cv_avg_fid_rx.npz')\n",
    "f_bar = np.mean(file['avg'])\n",
    "args = file['args']\n",
    "f_bar"
   ]
  },
  {
   "cell_type": "markdown",
   "id": "4d6bb222",
   "metadata": {},
   "source": [
    "Load kraus"
   ]
  },
  {
   "cell_type": "code",
   "execution_count": 37,
   "id": "223099e2",
   "metadata": {},
   "outputs": [],
   "source": [
    "os.chdir('/Users/turbotanten/Documents/GitHub/cvqaoa/data/kraus')\n",
    "dv_data_zz = np.load(\"dv_kraus_zz.npz\", allow_pickle=True)\n",
    "dv_args_zz = dv_data_zz[\"args\"] # theta's\n",
    "dv_kraus_zz = dv_data_zz[\"kraus\"] # kraus"
   ]
  },
  {
   "cell_type": "code",
   "execution_count": 38,
   "id": "a5c6561e",
   "metadata": {},
   "outputs": [],
   "source": [
    "os.chdir('/Users/turbotanten/Documents/GitHub/cvqaoa/data/kraus')\n",
    "dv_data_rx = np.load(\"dv_kraus_rx.npz\", allow_pickle=True)\n",
    "dv_args_rx = dv_data_rx[\"args\"] # theta's\n",
    "dv_kraus_rx = dv_data_rx[\"kraus\"] # kraus"
   ]
  },
  {
   "cell_type": "markdown",
   "id": "2fc23507",
   "metadata": {},
   "source": [
    "# RX"
   ]
  },
  {
   "cell_type": "code",
   "execution_count": 39,
   "id": "a830a449",
   "metadata": {},
   "outputs": [
    {
     "name": "stdout",
     "output_type": "stream",
     "text": [
      "Target:\n",
      "0.9859742219147505\n"
     ]
    }
   ],
   "source": [
    "avg_fid = []\n",
    "for arg in args:\n",
    "    # Ideal gate\n",
    "    U = cirq.unitary(cirq.rx(arg))\n",
    "    # Create qubits\n",
    "    qubits = cirq.LineQubit.range(1)\n",
    "    # Initialize circuit\n",
    "    circuit = cirq.Circuit()\n",
    "    # Add gates\n",
    "    circuit.append(cirq.ops.XPowGate(exponent=(arg/np.pi),global_shift=-.5)(q) for q in qubits)\n",
    "    circuit.append(CVRXChannel(arg)(qubits[0]))\n",
    "    #circuit.append(DVRXChannel(arg)(qubits[0]))\n",
    "    avg_fid.append(average_gate_fidelity(circuit,U))\n",
    "print('Target:')\n",
    "print(np.mean(avg_fid))"
   ]
  },
  {
   "cell_type": "markdown",
   "id": "ef33b6db",
   "metadata": {},
   "source": [
    "# ZZ"
   ]
  },
  {
   "cell_type": "code",
   "execution_count": 47,
   "id": "914d3ea4",
   "metadata": {},
   "outputs": [
    {
     "name": "stdout",
     "output_type": "stream",
     "text": [
      "Target:\n"
     ]
    },
    {
     "data": {
      "text/plain": [
       "0.9916104943945099"
      ]
     },
     "execution_count": 47,
     "metadata": {},
     "output_type": "execute_result"
    }
   ],
   "source": [
    "avg_fid = []\n",
    "for arg in args:\n",
    "    # Create qubits\n",
    "    qubits = cirq.LineQubit.range(2)\n",
    "    # Ideal gate\n",
    "    U = cirq.unitary(cirq.ops.ZZPowGate(exponent=(arg/np.pi),global_shift=-.5))\n",
    "    # Initialize circuit\n",
    "    circuit = cirq.Circuit()\n",
    "    # Add gates\n",
    "    circuit.append(\n",
    "        cirq.ops.ZZPowGate(\n",
    "            exponent=(arg / np.pi),\n",
    "            global_shift=-.5\n",
    "        )(qubits[0], qubits[1])\n",
    "    )\n",
    "    circuit.append(DVZZChannel(arg)(qubits[0],qubits[1]))\n",
    "    #circuit.append(CVZZChannel()(qubits[0],qubits[1]))\n",
    "    avg_fid.append(average_gate_fidelity(circuit,U))\n",
    "print('Target:')\n",
    "np.mean(avg_fid)"
   ]
  }
 ],
 "metadata": {
  "kernelspec": {
   "display_name": "Python 3 (ipykernel)",
   "language": "python",
   "name": "python3"
  },
  "language_info": {
   "codemirror_mode": {
    "name": "ipython",
    "version": 3
   },
   "file_extension": ".py",
   "mimetype": "text/x-python",
   "name": "python",
   "nbconvert_exporter": "python",
   "pygments_lexer": "ipython3",
   "version": "3.9.9"
  }
 },
 "nbformat": 4,
 "nbformat_minor": 5
}
