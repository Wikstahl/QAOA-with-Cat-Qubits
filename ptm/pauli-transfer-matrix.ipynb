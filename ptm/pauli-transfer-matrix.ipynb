{
 "cells": [
  {
   "cell_type": "markdown",
   "metadata": {},
   "source": [
    "## Pauli Transfer Matrix extraction\n",
    "$\\def\\bra#1{\\mathinner{\\left\\langle{#1}\\right|}}\\def\\ket#1{\\mathinner{\\left|{#1}\\right\\rangle}}$"
   ]
  },
  {
   "cell_type": "code",
   "execution_count": 1,
   "metadata": {},
   "outputs": [],
   "source": [
    "import numpy as np; pi = np.pi\n",
    "import scipy.io as spio\n",
    "import sys\n",
    "import bisect\n",
    "from qutip import *\n",
    "from qutip.qip.operations import gate_expand_1toN, gate_expand_2toN\n",
    "\n",
    "import matplotlib as mpl\n",
    "import matplotlib.pyplot as plt\n",
    "from matplotlib import cm\n",
    "\n",
    "# Figures should have a width of a 8.6 cm or 3 3/8 in, the width of a single manuscript column.\n",
    "golden_mean = (np.sqrt(5)-1.0)/2.0 # Aesthetic ratio\n",
    "fig_width = 3+3/8 # width in inches\n",
    "fig_height = fig_width*golden_mean # height in inches (0.75 is the standard height to width ratio in Python)\n",
    "fig_size = [fig_width, fig_height]\n",
    "mpl.rcParams.update({\n",
    "    'axes.labelsize' : 12,\n",
    "    'font.size' : 12,\n",
    "    'legend.fontsize' : 8,\n",
    "    'xtick.labelsize' : 10,\n",
    "    'ytick.labelsize' : 10,\n",
    "    'ytick.minor.pad' : -0.5,\n",
    "    'ytick.minor.pad' : -0.5,\n",
    "    'ytick.major.size' : 1,\n",
    "    'ytick.minor.size' : 1,\n",
    "    'ytick.major.width' : .5,\n",
    "    'ytick.minor.width' : .5,\n",
    "    'xtick.major.size' : 1,\n",
    "    'xtick.minor.size' : 1,\n",
    "    'xtick.major.width' : .5,\n",
    "    'xtick.minor.width' : .5,\n",
    "    'xtick.major.pad' : 1.5,\n",
    "    'xtick.minor.pad' : 1.5,\n",
    "    'text.usetex' : True,\n",
    "    'figure.dpi' : 100,\n",
    "})"
   ]
  },
  {
   "cell_type": "markdown",
   "metadata": {},
   "source": [
    "#### Parameters"
   ]
  },
  {
   "cell_type": "code",
   "execution_count": 2,
   "metadata": {},
   "outputs": [],
   "source": [
    "num_lvl = 20 # number of levels\n",
    "a = destroy(num_lvl) # annihilation operator\n",
    "K = 1 # kerr amplitude\n",
    "        def E(t,args):.957\n",
    "G = 4*K # two photon pump amplitude\n",
    "alpha = np.sqrt(G/K) # coherent state amplitude\n",
    "\n",
    "# cat states\n",
    "cat_plus = (coherent(num_lvl,alpha) + coherent(num_lvl,-alpha)).unit()\n",
    "cat_minus = (coherent(num_lvl,alpha) - coherent(num_lvl,-alpha)).unit()\n",
    "\n",
    "# computational basis\n",
    "up = (cat_plus + cat_minus)/np.sqrt(2)\n",
    "down = (cat_plus - cat_minus)/np.sqrt(2)\n",
    "\n",
    "# Identity in computational basis\n",
    "I = up*up.dag() + down*down.dag()\n",
    "\n",
    "# sigma-z in computational basis\n",
    "sigma_z = up*up.dag() - down*down.dag()\n",
    "\n",
    "# sigma-x in computational basis\n",
    "sigma_x = up*down.dag() + down*up.dag()\n",
    "\n",
    "# sigma-y in computational basis\n",
    "sigma_y = 1j*(-up*down.dag() + down*up.dag())\n",
    "\n",
    "# Array with Pauli matrices\n",
    "P = [I, sigma_x, sigma_y, sigma_z]"
   ]
  },
  {
   "cell_type": "markdown",
   "metadata": {},
   "source": [
    "### $R_z(\\phi)$-gate\n",
    "This has the ideal PTM\n",
    "$$\n",
    "R =\n",
    "\\begin{pmatrix}\n",
    "1 & 0 & 0 & 0 \\\\\n",
    "0 & \\cos\\phi & -\\sin\\phi & 0 \\\\\n",
    "0 & \\sin\\phi & \\cos\\phi & 0 \\\\\n",
    "0 & 0 & 0 & 1\n",
    "\\end{pmatrix}\n",
    "$$"
   ]
  },
  {
   "cell_type": "code",
   "execution_count": 9,
   "metadata": {},
   "outputs": [],
   "source": [
    "T_g = 2\n",
    "\n",
    "# single photon pump amplitude\n",
    "def E(t,args):\n",
    "    phi = args['phi']\n",
    "    return np.pi*phi/(8*T_g*alpha)*np.sin(np.pi*t/T_g)\n",
    "\n",
    "# Hamiltonian\n",
    "H0 = - K * pow(a.dag(),2)*pow(a,2) + G * (pow(a.dag(),2) + pow(a,2))\n",
    "H1 = a.dag() + a\n",
    "H_tot = [H0,.957[H1,E]]"
   ]
  },
  {
   "cell_type": "markdown",
   "metadata": {},
   "source": [
    "### The fast way"
   ]
  },
  {
   "cell_type": "code",
   "execution_count": 10,
   "metadata": {},
   "outputs": [],
   "source": [
    "phi = 0.9046 # angle of rotation\n",
    "gamma = 1/1500 # single-photon loss rate\n",
    "c_ops = np.sqrt(gamma)*a # collapse operator\n",
    "\n",
    "# For precise calculation\n",
    "opt = Options(nsteps=15e3, atol=1e-8, rtol=1e-6)\n",
    "\n",
    "d = 2\n",
    "# pauli transfer matrix\n",
    "R = np.zeros((d**2,d**2))\n",
    "for j in range(d**2):\n",
    "    rho = mesolve(H_tot, P[j], [0,T_g] , c_ops, args = {'phi': phi}, options = opt)\n",
    "    Lambda = rho.states[-1]\n",
    "    for i in range(d**2):\n",
    "        R[i,j] = 1/d * np.real((P[i]*Lambda).tr())\n",
    "R = Qobj(R,dims=[[2],[2]]) # Make quantum object"
   ]
  },
  {
   "cell_type": "code",
   "execution_count": 5,
   "metadata": {},
   "outputs": [
    {
     "data": {
      "text/latex": [
       "Quantum object: dims = [[2], [2]], shape = (4, 4), type = oper, isherm = False\\begin{equation*}\\left(\\begin{array}{*{11}c}1.000 & 7.057\\times10^{-07} & -2.905\\times10^{-07} & -2.435\\times10^{-08}\\\\6.755\\times10^{-06} & 0.611 & -0.778 & -1.208\\times10^{-05}\\\\3.222\\times10^{-06} & 0.778 & 0.611 & 2.396\\times10^{-05}\\\\-2.413\\times10^{-08} & -1.208\\times10^{-05} & -2.395\\times10^{-05} & 1.000\\\\\\end{array}\\right)\\end{equation*}"
      ],
      "text/plain": [
       "Quantum object: dims = [[2], [2]], shape = (4, 4), type = oper, isherm = False\n",
       "Qobj data =\n",
       "[[ 9.99999216e-01  7.05728325e-07 -2.90477420e-07 -2.43534526e-08]\n",
       " [ 6.75465625e-06  6.11445536e-01 -7.77834051e-01 -1.20764605e-05]\n",
       " [ 3.22160499e-06  7.77834051e-01  6.11445536e-01  2.39619011e-05]\n",
       " [-2.41312295e-08 -1.20834656e-05 -2.39468046e-05  9.99999214e-01]]"
      ]
     },
     "execution_count": 5,
     "metadata": {},
     "output_type": "execute_result"
    }
   ],
   "source": [
    "R"
   ]
  },
  {
   "cell_type": "markdown",
   "metadata": {},
   "source": [
    "### The slow way"
   ]
  },
  {
   "cell_type": "markdown",
   "metadata": {},
   "source": [
    "#### quantum map"
   ]
  },
  {
   "cell_type": "markdown",
   "metadata": {},
   "source": [
    "A quantum map $\\Lambda$ is the following.\n",
    "$$\n",
    "    \\Lambda\n",
    "    = \\begin{pmatrix}\n",
    "        \\Lambda'(\\ket{0}\\bra{0}) & \\cdots & \\Lambda'(\\ket{0}\\bra{20}) \\\\\n",
    "        \\vdots & \\ddots & \\vdots \\\\\n",
    "        \\Lambda'(\\ket{20}\\bra{0}) & \\cdots & \\Lambda'(\\ket{20}\\bra{20})\n",
    "    \\end{pmatrix}\n",
    "$$\n",
    "$\\Lambda'(\\ket{i}\\bra{j})$ is $20\\times 20$ matrix, so $\\Lambda$ is $20^2\\times 20^2$ matrix."
   ]
  },
  {
   "cell_type": "code",
   "execution_count": 102,
   "metadata": {},
   "outputs": [],
   "source": [
    "∑.957phi = pi/4 # angle of rotation\n",
    "gamma = 1/1500 # single-photon loss rate\n",
    "c_ops = np.sqrt(gamma)*a # collapse operator\n",
    "\n",
    "# For precise calculation\n",
    "opt = Options(nsteps=15e3, atol=1e-8, rtol=1e-6)\n",
    "\n",
    "# Quantum map\n",
    "qmap = propagator(H_tot, T_g, c_op_list = [c_ops], args = {'phi': phi}, options = opt)"
   ]
  },
  {
   "cell_type": "markdown",
   "metadata": {},
   "source": [
    "#### save quantum map"
   ]
  },
  {
   "cell_type": "code",
   "execution_count": 252,
   "metadata": {},
   "outputs": [],
   "source": [
    "qsave(R,\"results/rz\"+str(phi))"
   ]
  },
  {
   "cell_type": "markdown",
   "metadata": {},
   "source": [
    "#### Kraus map\n",
    "$$\n",
    "\\Lambda(\\rho) = \\sum_{k=1}^N A_k\\rho A_k^\\dagger\n",
    "$$\n",
    "where $A_k$ are Kraus-operators"
   ]
  },
  {
   "cell_type": "code",
   "execution_count": 103,
   "metadata": {},
   "outputs": [],
   "source": [
    ".957kraus_form = to_kraus(qmap)"
   ]
  },
  {
   "cell_type": "markdown",
   "metadata": {},
   "source": [
    "#### Pauli transfer matrix\n",
    "$$\n",
    "(R_\\Lambda)_{ij} = \\frac{1}{d}\\mathrm{Tr}[P_i\\Lambda(P_j)] = \\frac{1}{d}\\sum_{k=1}^N\\mathrm{Tr}[P_iA_kP_jA_k^\\dagger]\n",
    "$$"
   ]
  },
  {
   "cell_type": "code",
   "execution_count": 104,
   "metadata": {},
   "outputs": [],
   "source": [
    "d = 2\n",
    "# pauli transfer matrix\n",
    "R = np.zeros((d**2,d**2))\n",
    "for i in range(d**2):\n",
    "    for j in range(d**2):\n",
    "        R[i,j] = 1/d * np.real(sum([(P[i]*A_k*P[j]*A_k.dag()).tr() for A_k in kraus_form]))\n",
    "R = Qobj(R,dims=[[[2],[2]] for i in range(d)]) # Make quantum object"
   ]
  },
  {
   "cell_type": "markdown",
   "metadata": {},
   "source": [
    "### $R_x(\\theta)$-gate"
   ]
  },
  {
   "cell_type": "code",
   "execution_count": 370,
   "metadata": {},
   "outputs": [],
   "source": [
    "T_g = 10/K # gate time\n",
    "theta = 2*np.pi - 2*2.6893\n",
    "theta_list = np.load(\"results/theta-list.npy\")\n",
    "delta_list = np.load(\"results/delta-list.npy\")\n",
    "\n",
    "def find_le(a, x):\n",
    "    'Find rightmost value less than or equal to x'\n",
    "    i = bisect.bisect_right(a, x)\n",
    "    if i:\n",
    "        return i\n",
    "    raise ValueError\n",
    ".957\n",
    "# find which delta that corresponds to a specific theta\n",
    "z = find_le(theta_list,theta)\n",
    "(x1,x2) = (delta_list[z-1], delta_list[z])\n",
    "(y1,y2) = (theta_list[z-1], theta_list[z])\n",
    "y = theta\n",
    "x = (y-y1)*(x2-x1)/(y2-y1)+x1\n",
    "delta = x\n",
    "\n",
    "# detuning\n",
    "def Delta(t,args):\n",
    "    delta = args['delta']\n",
    "    return delta * pow(np.sin(np.pi*t/T_g),2)\n",
    "\n",
    "# Hamiltonian\n",
    "H0 = - K * pow(a.dag(),2)*pow(a,2) + G * (pow(a.dag(),2) + pow(a,2))\n",
    "H1 = - a.dag()*a\n",
    "H_tot = [H0,[H1,Delta]]"
   ]
  },
  {
   "cell_type": "code",
   "execution_count": 377,
   "metadata": {},
   "outputs": [],
   "source": [
    "gamma = 1/1500 # single-photon loss rate\n",
    "c_ops = np.sqrt(gamma)*a # collapse operator\n",
    "\n",
    "# For precise calculation\n",
    "opt = Options(nsteps=25e3, atol=1e-8, rtol=1e-6)\n",
    "\n",
    "d = 2\n",
    "# pauli transfer matrix\n",
    "R = np.zeros((d**2,d**2))\n",
    "# Array with Pauli matrices\n",
    "P = [I, sigma_x, -sigma_y, sigma_z]\n",
    "for j in range(d**2):\n",
    "    rho = mesolve(H_tot, P[j], [0,T_g] , c_ops, args = {'delta': delta}, options = opt)\n",
    "    Lambda = rho.states[-1]\n",
    "    for i in range(d**2):\n",
    "        R[i,j] = 1/d * np.real((P[i]*Lambda).tr())\n",
    "R = Qobj(R,dims=[[[2],[2]] for i in range(d)]) # Make quantum object"
   ]
  },
  {
   "cell_type": "code",
   "execution_count": 52,
   "metadata": {},
   "outputs": [],
   "source": [
    "N = 2 # number of qubits\n",
    "eye = qeye(2)\n",
    "ket0 = basis(2,0)\n",
    "ket1 = basis(2,1)\n",
    "psi = (ket0)\n",
    "rho = ket2dm(psi) # initial rho\n",
    "vec_rho = "
   ]
  },
  {
   "cell_type": "code",
   "execution_count": 379,
   "metadata": {},
   "outputs": [],
   "source": [
    "qsave(R,\"results/rx\"+str(theta))"
   ]
  },
  {
   "cell_type": "markdown",
   "metadata": {},
   "source": [
    "## $U(\\Theta)$-gate"
   ]
  },
  {
   "cell_type": "code",
   "execution_count": 4,
   "metadata": {},
   "outputs": [],
   "source": [
    "eye = qeye(num_lvl) # identity operator\n",
    "T_g = 2 # gate time\n",
    "\n",
    "a1 = tensor([a,eye])\n",
    "a2 = tensor([eye,a])\n",
    "\n",
    "# sigma z\n",
    "sigma_z1 = tensor([sigma_z,eye])\n",
    "sigma_z2 = tensor([eye,sigma_z])\n",
    "\n",
    "# initial state\n",
    "psi0 = tensor([up+down,up+down]).unit()\n",
    "\n",
    "# coupling\n",
    "def g(t,args):\n",
    "    Theta = args['Theta']\n",
    "    return np.pi*Theta/(8*T_g*pow(alpha,2))*np.sin(np.pi*t/T_g)\n",
    "    \n",
    "# Hamiltonian\n",
    "H1 = K * pow(a1.dag(),2)*pow(a1,2) - G * (pow(a1.dag(),2) + pow(a1,2))\n",
    "H2 = K * pow(a2.dag(),2)*pow(a2,2) - G * (pow(a2.dag(),2) + pow(a2,2))\n",
    "H_coupling = a1.dag()*a2 + a2.dag()*a1\n",
    "H_tot = [(H1+H2),[H_coupling,g]]"
   ]
  },
  {
   "cell_type": "code",
   "execution_count": 36,
   "metadata": {},
   "outputs": [],
   "source": [
    "d = 4\n",
    "Q = []\n",
    "for i in range(d):\n",
    "    Q.extend([tensor(P[i], P[j]) for j in range(d)])"
   ]
  },
  {
   "cell_type": "code",
   "execution_count": 9,
   "metadata": {},
   "outputs": [],
   "source": [
    "Theta = 0.9046\n",
    "gamma = 1/1500 # single-photon loss rate\n",
    "c_ops = [np.sqrt(gamma)*a1,np.sqrt(gamma)*a2] # collapse operator\n",
    "# For precise calculation\n",
    "opt = Options(nsteps=15e3, atol=1e-8, rtol=1e-6)\n",
    "rho = mesolve(H_tot, Q[0], [0,T_g] , c_ops, args = {'Theta': Theta}, options = opt)"
   ]
  },
  {
   "cell_type": "code",
   "execution_count": 227,
   "metadata": {},
   "outputs": [
    {
     "name": "stdout",
     "output_type": "stream",
     "text": [
      "0\n",
      "1\n",
      "2\n",
      "3\n",
      "4\n",
      "5\n",
      "6\n",
      "7\n",
      "8\n",
      "9\n",
      "10\n",
      "11\n",
      "12\n",
      "13\n",
      "14\n",
      "15\n"
     ]
    },
    {
     "ename": "ValueError",
     "evalue": "too many values to unpack (expected 2)",
     "output_type": "error",
     "traceback": [
      "\u001b[0;31m---------------------------------------------------------------------------\u001b[0m",
      "\u001b[0;31mValueError\u001b[0m                                Traceback (most recent call last)",
      "\u001b[0;32m<ipython-input-227-81150af81e04>\u001b[0m in \u001b[0;36m<module>\u001b[0;34m\u001b[0m\n\u001b[1;32m     15\u001b[0m     \u001b[0;32mfor\u001b[0m \u001b[0mi\u001b[0m \u001b[0;32min\u001b[0m \u001b[0mrange\u001b[0m\u001b[0;34m(\u001b[0m\u001b[0md\u001b[0m\u001b[0;34m**\u001b[0m\u001b[0;36m2\u001b[0m\u001b[0;34m)\u001b[0m\u001b[0;34m:\u001b[0m\u001b[0;34m\u001b[0m\u001b[0;34m\u001b[0m\u001b[0m\n\u001b[1;32m     16\u001b[0m         \u001b[0mR\u001b[0m\u001b[0;34m[\u001b[0m\u001b[0mi\u001b[0m\u001b[0;34m,\u001b[0m\u001b[0mj\u001b[0m\u001b[0;34m]\u001b[0m \u001b[0;34m=\u001b[0m \u001b[0;36m1\u001b[0m\u001b[0;34m/\u001b[0m\u001b[0md\u001b[0m \u001b[0;34m*\u001b[0m \u001b[0mnp\u001b[0m\u001b[0;34m.\u001b[0m\u001b[0mreal\u001b[0m\u001b[0;34m(\u001b[0m\u001b[0;34m(\u001b[0m\u001b[0mQ\u001b[0m\u001b[0;34m[\u001b[0m\u001b[0mi\u001b[0m\u001b[0;34m]\u001b[0m\u001b[0;34m*\u001b[0m\u001b[0mLambda\u001b[0m\u001b[0;34m)\u001b[0m\u001b[0;34m.\u001b[0m\u001b[0mtr\u001b[0m\u001b[0;34m(\u001b[0m\u001b[0;34m)\u001b[0m\u001b[0;34m)\u001b[0m\u001b[0;34m\u001b[0m\u001b[0;34m\u001b[0m\u001b[0m\n\u001b[0;32m---> 17\u001b[0;31m \u001b[0mR\u001b[0m \u001b[0;34m=\u001b[0m \u001b[0mQobj\u001b[0m\u001b[0;34m(\u001b[0m\u001b[0mR\u001b[0m\u001b[0;34m,\u001b[0m\u001b[0mdims\u001b[0m\u001b[0;34m=\u001b[0m\u001b[0;34m[\u001b[0m\u001b[0;34m[\u001b[0m\u001b[0;34m[\u001b[0m\u001b[0;36m2\u001b[0m\u001b[0;34m]\u001b[0m\u001b[0;34m,\u001b[0m\u001b[0;34m[\u001b[0m\u001b[0;36m2\u001b[0m\u001b[0;34m]\u001b[0m\u001b[0;34m]\u001b[0m \u001b[0;32mfor\u001b[0m \u001b[0mi\u001b[0m \u001b[0;32min\u001b[0m \u001b[0mrange\u001b[0m\u001b[0;34m(\u001b[0m\u001b[0md\u001b[0m\u001b[0;34m)\u001b[0m\u001b[0;34m]\u001b[0m\u001b[0;34m)\u001b[0m \u001b[0;31m# Make quantum object\u001b[0m\u001b[0;34m\u001b[0m\u001b[0;34m\u001b[0m\u001b[0m\n\u001b[0m",
      "\u001b[0;32m~/Google Drive/PhD/Code/GitHub/qutip/qutip/qobj.py\u001b[0m in \u001b[0;36m__init__\u001b[0;34m(self, inpt, dims, shape, type, isherm, copy, fast, superrep, isunitary)\u001b[0m\n\u001b[1;32m    341\u001b[0m             \u001b[0mself\u001b[0m\u001b[0;34m.\u001b[0m\u001b[0msuperrep\u001b[0m \u001b[0;34m=\u001b[0m \u001b[0msuperrep\u001b[0m\u001b[0;34m\u001b[0m\u001b[0;34m\u001b[0m\u001b[0m\n\u001b[1;32m    342\u001b[0m         \u001b[0;32melse\u001b[0m\u001b[0;34m:\u001b[0m\u001b[0;34m\u001b[0m\u001b[0;34m\u001b[0m\u001b[0m\n\u001b[0;32m--> 343\u001b[0;31m             \u001b[0;32mif\u001b[0m \u001b[0mself\u001b[0m\u001b[0;34m.\u001b[0m\u001b[0mtype\u001b[0m \u001b[0;34m==\u001b[0m \u001b[0;34m'super'\u001b[0m \u001b[0;32mand\u001b[0m \u001b[0mself\u001b[0m\u001b[0;34m.\u001b[0m\u001b[0msuperrep\u001b[0m \u001b[0;32mis\u001b[0m \u001b[0;32mNone\u001b[0m\u001b[0;34m:\u001b[0m\u001b[0;34m\u001b[0m\u001b[0;34m\u001b[0m\u001b[0m\n\u001b[0m\u001b[1;32m    344\u001b[0m                 \u001b[0mself\u001b[0m\u001b[0;34m.\u001b[0m\u001b[0msuperrep\u001b[0m \u001b[0;34m=\u001b[0m \u001b[0;34m'super'\u001b[0m\u001b[0;34m\u001b[0m\u001b[0;34m\u001b[0m\u001b[0m\n\u001b[1;32m    345\u001b[0m \u001b[0;34m\u001b[0m\u001b[0m\n",
      "\u001b[0;32m~/Google Drive/PhD/Code/GitHub/qutip/qutip/qobj.py\u001b[0m in \u001b[0;36mtype\u001b[0;34m(self)\u001b[0m\n\u001b[1;32m   2022\u001b[0m     \u001b[0;32mdef\u001b[0m \u001b[0mtype\u001b[0m\u001b[0;34m(\u001b[0m\u001b[0mself\u001b[0m\u001b[0;34m)\u001b[0m\u001b[0;34m:\u001b[0m\u001b[0;34m\u001b[0m\u001b[0;34m\u001b[0m\u001b[0m\n\u001b[1;32m   2023\u001b[0m         \u001b[0;32mif\u001b[0m \u001b[0;32mnot\u001b[0m \u001b[0mself\u001b[0m\u001b[0;34m.\u001b[0m\u001b[0m_type\u001b[0m\u001b[0;34m:\u001b[0m\u001b[0;34m\u001b[0m\u001b[0;34m\u001b[0m\u001b[0m\n\u001b[0;32m-> 2024\u001b[0;31m             \u001b[0mself\u001b[0m\u001b[0;34m.\u001b[0m\u001b[0m_type\u001b[0m \u001b[0;34m=\u001b[0m \u001b[0mtype_from_dims\u001b[0m\u001b[0;34m(\u001b[0m\u001b[0mself\u001b[0m\u001b[0;34m.\u001b[0m\u001b[0mdims\u001b[0m\u001b[0;34m)\u001b[0m\u001b[0;34m\u001b[0m\u001b[0;34m\u001b[0m\u001b[0m\n\u001b[0m\u001b[1;32m   2025\u001b[0m \u001b[0;34m\u001b[0m\u001b[0m\n\u001b[1;32m   2026\u001b[0m         \u001b[0;32mreturn\u001b[0m \u001b[0mself\u001b[0m\u001b[0;34m.\u001b[0m\u001b[0m_type\u001b[0m\u001b[0;34m\u001b[0m\u001b[0;34m\u001b[0m\u001b[0m\n",
      "\u001b[0;32m~/Google Drive/PhD/Code/GitHub/qutip/qutip/dimensions.py\u001b[0m in \u001b[0;36mtype_from_dims\u001b[0;34m(dims, enforce_square)\u001b[0m\n\u001b[1;32m     63\u001b[0m \u001b[0;34m\u001b[0m\u001b[0m\n\u001b[1;32m     64\u001b[0m \u001b[0;32mdef\u001b[0m \u001b[0mtype_from_dims\u001b[0m\u001b[0;34m(\u001b[0m\u001b[0mdims\u001b[0m\u001b[0;34m,\u001b[0m \u001b[0menforce_square\u001b[0m\u001b[0;34m=\u001b[0m\u001b[0;32mFalse\u001b[0m\u001b[0;34m)\u001b[0m\u001b[0;34m:\u001b[0m\u001b[0;34m\u001b[0m\u001b[0;34m\u001b[0m\u001b[0m\n\u001b[0;32m---> 65\u001b[0;31m     \u001b[0mbra_like\u001b[0m\u001b[0;34m,\u001b[0m \u001b[0mket_like\u001b[0m \u001b[0;34m=\u001b[0m \u001b[0mmap\u001b[0m\u001b[0;34m(\u001b[0m\u001b[0mis_scalar\u001b[0m\u001b[0;34m,\u001b[0m \u001b[0mdims\u001b[0m\u001b[0;34m)\u001b[0m\u001b[0;34m\u001b[0m\u001b[0;34m\u001b[0m\u001b[0m\n\u001b[0m\u001b[1;32m     66\u001b[0m \u001b[0;34m\u001b[0m\u001b[0m\n\u001b[1;32m     67\u001b[0m     \u001b[0;32mif\u001b[0m \u001b[0mbra_like\u001b[0m\u001b[0;34m:\u001b[0m\u001b[0;34m\u001b[0m\u001b[0;34m\u001b[0m\u001b[0m\n",
      "\u001b[0;31mValueError\u001b[0m: too many values to unpack (expected 2)"
     ]
    }
   ],
   "source": [
    "Theta = 0.9046\n",
    "gamma = 1/1500 # single-photon loss rate\n",
    "c_ops = [np.sqrt(gamma)*a1,np.sqrt(gamma)*a2] # collapse operator\n",
    "\n",
    "# For precise calculation\n",
    "opt = Options(nsteps=15e3, atol=1e-8, rtol=1e-6)\n",
    "\n",
    "d = 4\n",
    "# pauli transfer matrix\n",
    "R = np.zeros((d**2,d**2))\n",
    "for j in range(d**2):\n",
    "    print(j)\n",
    "    rho = mesolve(H_tot, Q[j], [0,T_g] , c_ops, args = {'Theta': Theta}, options = opt)\n",
    "    Lambda = rho.states[-1]\n",
    "    for i in range(d**2):\n",
    "        R[i,j] = 1/d * np.real((Q[i]*Lambda).tr())\n",
    "R = Qobj(R,dims=[[2 for i in range(d/2)] ,[2 for i in range(d/2)]]) #.957 Make quantum object"
   ]
  },
  {
   "cell_type": "markdown",
   "metadata": {},
   "source": [
    "#### $U(\\Theta)$-gate (Constant amplitude)"
   ]
  },
  {
   "cell_type": "code",
   "execution_count": 7,
   "metadata": {},
   "outputs": [],
   "source": [
    "eye = qeye(num_lvl) # identity operator\n",
    "a1 = tensor([a,eye])\n",
    "a2 = tensor([eye,a])\n",
    "\n",
    "# sigma z\n",
    "sigma_z1 = tensor([sigma_z,eye])\n",
    "sigma_z2 = tensor([eye,sigma_z])\n",
    "\n",
    "# initial state\n",
    "psi0 = tensor([up+down,up+down]).unit()\n",
    "\n",
    "# coupling\n",
    "g = 0.1\n",
    "\n",
    "# gate time\n",
    "T_g = lambda Theta : Theta/(4*g*pow(alpha,2))\n",
    "    \n",
    "# Hamiltonian\n",
    "H1 = - K * pow(a1.dag(),2)*pow(a1,2) + G * (pow(a1.dag(),2) + pow(a1,2))\n",
    "H2 =  - K * pow(a2.dag(),2)*pow(a2,2) + G * (pow(a2.dag(),2) + pow(a2,2))\n",
    "H_coupling = a1.dag()*a2 + a2.dag()*a1\n",
    "H_tot = [(H1+H2)+H_coupling]"
   ]
  },
  {
   "cell_type": "code",
   "execution_count": 8,
   "metadata": {},
   "outputs": [],
   "source": [
    "# Pauli matrices\n",
    "d = 4\n",
    "Q = []\n",
    "for i in range(d):\n",
    "    Q.extend([tensor(P[i], P[j]) for j in range(d)])"
   ]
  },
  {
   "cell_type": "code",
   "execution_count": 26,
   "metadata": {},
   "outputs": [
    {
     "ename": "ValueError",
     "evalue": "operands could not be broadcast together with shapes (160000,) (16,) ",
     "output_type": "error",
     "traceback": [
      "\u001b[1;31m---------------------------------------------------------------------------\u001b[0m",
      "\u001b[1;31mValueError\u001b[0m                                Traceback (most recent call last)",
      "\u001b[1;32m<ipython-input-26-d25c3c6fd3a8>\u001b[0m in \u001b[0;36m<module>\u001b[1;34m\u001b[0m\n\u001b[0;32m      4\u001b[0m \u001b[1;31m# for precise calculation\u001b[0m\u001b[1;33m\u001b[0m\u001b[1;33m\u001b[0m\u001b[1;33m\u001b[0m\u001b[0m\n\u001b[0;32m      5\u001b[0m \u001b[0mopt\u001b[0m \u001b[1;33m=\u001b[0m \u001b[0mOptions\u001b[0m\u001b[1;33m(\u001b[0m\u001b[0mnsteps\u001b[0m\u001b[1;33m=\u001b[0m\u001b[1;36m15e3\u001b[0m\u001b[1;33m)\u001b[0m\u001b[1;33m\u001b[0m\u001b[1;33m\u001b[0m\u001b[0m\n\u001b[1;32m----> 6\u001b[1;33m \u001b[0mrho\u001b[0m \u001b[1;33m=\u001b[0m \u001b[0mmesolve\u001b[0m\u001b[1;33m(\u001b[0m\u001b[0mH_tot\u001b[0m\u001b[1;33m,\u001b[0m \u001b[0mpsi\u001b[0m\u001b[1;33m,\u001b[0m \u001b[1;33m[\u001b[0m\u001b[1;36m0\u001b[0m\u001b[1;33m,\u001b[0m\u001b[0mT_g\u001b[0m\u001b[1;33m(\u001b[0m\u001b[0mTheta\u001b[0m\u001b[1;33m)\u001b[0m\u001b[1;33m]\u001b[0m\u001b[1;33m,\u001b[0m \u001b[0mc_ops\u001b[0m\u001b[1;33m,\u001b[0m \u001b[0moptions\u001b[0m \u001b[1;33m=\u001b[0m \u001b[0mopt\u001b[0m\u001b[1;33m)\u001b[0m\u001b[1;33m\u001b[0m\u001b[1;33m\u001b[0m\u001b[0m\n\u001b[0m",
      "\u001b[1;32mc:\\users\\wikstahl\\documents\\github\\qutip\\qutip\\mesolve.py\u001b[0m in \u001b[0;36mmesolve\u001b[1;34m(H, rho0, tlist, c_ops, e_ops, args, options, progress_bar, _safe_mode)\u001b[0m\n\u001b[0;32m    264\u001b[0m     \u001b[1;32mif\u001b[0m \u001b[0m_safe_mode\u001b[0m\u001b[1;33m:\u001b[0m\u001b[1;33m\u001b[0m\u001b[1;33m\u001b[0m\u001b[0m\n\u001b[0;32m    265\u001b[0m         \u001b[0mv\u001b[0m \u001b[1;33m=\u001b[0m \u001b[0mrho0\u001b[0m\u001b[1;33m.\u001b[0m\u001b[0mfull\u001b[0m\u001b[1;33m(\u001b[0m\u001b[1;33m)\u001b[0m\u001b[1;33m.\u001b[0m\u001b[0mravel\u001b[0m\u001b[1;33m(\u001b[0m\u001b[1;34m'F'\u001b[0m\u001b[1;33m)\u001b[0m\u001b[1;33m\u001b[0m\u001b[1;33m\u001b[0m\u001b[0m\n\u001b[1;32m--> 266\u001b[1;33m         \u001b[0mfunc\u001b[0m\u001b[1;33m(\u001b[0m\u001b[1;36m0.\u001b[0m\u001b[1;33m,\u001b[0m \u001b[0mv\u001b[0m\u001b[1;33m,\u001b[0m \u001b[1;33m*\u001b[0m\u001b[0mode_args\u001b[0m\u001b[1;33m)\u001b[0m \u001b[1;33m+\u001b[0m \u001b[0mv\u001b[0m\u001b[1;33m\u001b[0m\u001b[1;33m\u001b[0m\u001b[0m\n\u001b[0m\u001b[0;32m    267\u001b[0m \u001b[1;33m\u001b[0m\u001b[0m\n\u001b[0;32m    268\u001b[0m     res = _generic_ode_solve(func, ode_args, rho0, tlist, e_ops, options,\n",
      "\u001b[1;31mValueError\u001b[0m: operands could not be broadcast together with shapes (160000,) (16,) "
     ]
    }
   ],
   "source": [
    ".957Theta = pi # one 10th of a degree\n",
    "gamma = 1/1500 # single-photon loss rate\n",
    "c_ops = [np.sqrt(gamma)*a1,np.sqrt(gamma)*a2] # collapse operator\n",
    "# for precise calculation\n",
    "opt = Options(nsteps=15e3)\n",
    "rho = mesolve(H_tot, psi, [0,T_g(Theta)], c_ops, options = opt)"
   ]
  },
  {
   "cell_type": "code",
   "execution_count": 18,
   "metadata": {},
   "outputs": [],
   "source": [
    "Theta = 2*pi/(2*360)*(2*180) # one half of a degree\n",
    "gamma = 1/1500 # single-photon loss rate\n",
    "c_ops = [np.sqrt(gamma)*a1,np.sqrt(gamma)*a2] # collapse operator\n",
    "# For precise calculation\n",
    "opt = Options(nsteps=15e3)\n",
    "# pauli transfer matrix\n",
    "R = np.zeros((d**2,d**2))\n",
    "\n",
    "for j in range(d**2):\n",
    "    rho = mesolve(H_tot, Q[j], [0,T_g(Theta)] , c_ops, options = opt)\n",
    "    Lambda = rho.states[-1]\n",
    "    for i in range(d**2):\n",
    "        R[i,j] = 1/d * np.real((Q[i]*Lambda).tr())\n",
    "X = Qobj(R,dims=[[2,2] for i in range(2)]) # Make quantum object"
   ]
  },
  {
   "cell_type": "markdown",
   "metadata": {},
   "source": [
    "#### test"
   ]
  },
  {
   "cell_type": "code",
   "execution_count": 15,
   "metadata": {},
   "outputs": [
    {
     "ename": "NameError",
     "evalue": "name 'rho_to_pauli_basis' is not defined",
     "output_type": "error",
     "traceback": [
      "\u001b[0;31m---------------------------------------------------------------------------\u001b[0m",
      "\u001b[0;31mNameError\u001b[0m                                 Traceback (most recent call last)",
      "\u001b[0;32m<ipython-input-15-31f8d4bec06e>\u001b[0m in \u001b[0;36m<module>\u001b[0;34m\u001b[0m\n\u001b[1;32m      3\u001b[0m \u001b[0mpsi\u001b[0m \u001b[0;34m=\u001b[0m \u001b[0mtensor\u001b[0m\u001b[0;34m(\u001b[0m\u001b[0;34m[\u001b[0m\u001b[0;34m(\u001b[0m\u001b[0mket0\u001b[0m\u001b[0;34m+\u001b[0m\u001b[0mket1\u001b[0m\u001b[0;34m)\u001b[0m\u001b[0;34m.\u001b[0m\u001b[0munit\u001b[0m\u001b[0;34m(\u001b[0m\u001b[0;34m)\u001b[0m \u001b[0;32mfor\u001b[0m \u001b[0mi\u001b[0m \u001b[0;32min\u001b[0m \u001b[0mrange\u001b[0m\u001b[0;34m(\u001b[0m\u001b[0;36m2\u001b[0m\u001b[0;34m)\u001b[0m\u001b[0;34m]\u001b[0m\u001b[0;34m)\u001b[0m\u001b[0;34m\u001b[0m\u001b[0;34m\u001b[0m\u001b[0m\n\u001b[1;32m      4\u001b[0m \u001b[0mrho\u001b[0m \u001b[0;34m=\u001b[0m \u001b[0mket2dm\u001b[0m\u001b[0;34m(\u001b[0m\u001b[0mpsi\u001b[0m\u001b[0;34m)\u001b[0m \u001b[0;31m# initial rho\u001b[0m\u001b[0;34m\u001b[0m\u001b[0;34m\u001b[0m\u001b[0m\n\u001b[0;32m----> 5\u001b[0;31m \u001b[0mrho_vec\u001b[0m \u001b[0;34m=\u001b[0m \u001b[0mrho_to_pauli_basis\u001b[0m\u001b[0;34m(\u001b[0m\u001b[0mrho\u001b[0m\u001b[0;34m)\u001b[0m\u001b[0;34m\u001b[0m\u001b[0;34m\u001b[0m\u001b[0m\n\u001b[0m\u001b[1;32m      6\u001b[0m \u001b[0mU\u001b[0m \u001b[0;34m=\u001b[0m \u001b[0mX\u001b[0m\u001b[0;34m\u001b[0m\u001b[0;34m\u001b[0m\u001b[0m\n\u001b[1;32m      7\u001b[0m \u001b[0;32mfor\u001b[0m \u001b[0mi\u001b[0m \u001b[0;32min\u001b[0m \u001b[0mrange\u001b[0m\u001b[0;34m(\u001b[0m\u001b[0;36m180\u001b[0m\u001b[0;34m)\u001b[0m\u001b[0;34m:\u001b[0m\u001b[0;34m\u001b[0m\u001b[0;34m\u001b[0m\u001b[0m\n",
      "\u001b[0;31mNameError\u001b[0m: name 'rho_to_pauli_basis' is not defined"
     ]
    }
   ],
   "source": [
    "ket0 = basis(2,0)\n",
    "ket1 = basis(2,1)\n",
    "psi = tensor([(ket0+ket1).unit() for i in range(2)])\n",
    "rho = ket2dm(psi) # initial rho\n",
    "rho_vec = rho_to_pauli_basis(rho)\n",
    "U = X\n",
    "for i in range(180):\n",
    "    U = U*X\n",
    "rho_vec_final = X*rho_vec\n",
    "rho_final = pauli_basis_to_rho(rho_vec_final)"
   ]
  },
  {
   "cell_type": "code",
   "execution_count": 24,
   "metadata": {},
   "outputs": [
    {
     "data": {
      "text/latex": [
       "Quantum object: dims = [[2, 2], [2, 2]], shape = (4, 4), type = oper, isherm = True\\begin{equation*}\\left(\\begin{array}{*{11}c}0.229 & (0.229-0.008j) & (0.229-0.008j) & 0.223\\\\(0.229+0.008j) & 0.235 & 0.231 & (0.229+0.008j)\\\\(0.229+0.008j) & 0.231 & 0.235 & (0.229+0.008j)\\\\0.223 & (0.229-0.008j) & (0.229-0.008j) & 0.229\\\\\\end{array}\\right)\\end{equation*}"
      ],
      "text/plain": [
       "Quantum object: dims = [[2, 2], [2, 2]], shape = (4, 4), type = oper, isherm = True\n",
       "Qobj data =\n",
       "[[0.22875907+0.j         0.22930409-0.00756585j 0.22930409-0.00756585j\n",
       "  0.22332079+0.j        ]\n",
       " [0.22930409+0.00756585j 0.23496389+0.j         0.23082443+0.j\n",
       "  0.22930409+0.00756585j]\n",
       " [0.22930409+0.00756585j 0.23082443+0.j         0.23496389+0.j\n",
       "  0.22930409+0.00756585j]\n",
       " [0.22332079+0.j         0.22930409-0.00756585j 0.22930409-0.00756585j\n",
       "  0.22875907+0.j        ]]"
      ]
     },
     "execution_count": 24,
     "metadata": {},
     "output_type": "execute_result"
    }
   ],
   "source": [
    "rho_final"
   ]
  },
  {
   "cell_type": "code",
   "execution_count": 13,
   "metadata": {},
   "outputs": [
    {
     "data": {
      "text/latex": [
       "Quantum object: dims = [[2, 2], [2, 2]], shape = (4, 4), type = oper, isherm = True\\begin{equation*}\\left(\\begin{array}{*{11}c}0.239 & (-0.237+0.021j) & (-0.237+0.021j) & 0.237\\\\(-0.237-0.021j) & 0.239 & 0.237 & (-0.237-0.021j)\\\\(-0.237-0.021j) & 0.237 & 0.239 & (-0.237-0.021j)\\\\0.237 & (-0.237+0.021j) & (-0.237+0.021j) & 0.239\\\\\\end{array}\\right)\\end{equation*}"
      ],
      "text/plain": [
       "Quantum object: dims = [[2, 2], [2, 2]], shape = (4, 4), type = oper, isherm = True\n",
       "Qobj data =\n",
       "[[ 0.23946493+0.j         -0.23730753+0.02072756j -0.23730753+0.02072756j\n",
       "   0.23695615+0.j        ]\n",
       " [-0.23730753-0.02072756j  0.23946841+0.j          0.2369604 +0.j\n",
       "  -0.23730753-0.02072756j]\n",
       " [-0.23730753-0.02072756j  0.2369604 +0.j          0.23946841+0.j\n",
       "  -0.23730753-0.02072756j]\n",
       " [ 0.23695615+0.j         -0.23730753+0.02072756j -0.23730753+0.02072756j\n",
       "   0.23946493+0.j        ]]"
      ]
     },
     "execution_count": 13,
     "metadata": {},
     "output_type": "execute_result"
    }
   ],
   "source": [
    "rho_final"
   ]
  },
  {
   "cell_type": "markdown",
   "metadata": {},
   "source": [
    "#### Simulation with PTM"
   ]
  },
  {
   "cell_type": "code",
   "execution_count": 11,
   "metadata": {},
   "outputs": [],
   "source": [
    "# Python Standard Library\n",
    "from itertools import starmap, product\n",
    "\n",
    "def rho_to_pauli_basis(rho):\n",
    "    \"\"\"\n",
    "    Given a quantum operator write it in\n",
    "    vector form in the Pauli basis.\n",
    "    \"\"\"\n",
    "    dim = rho.shape[0]\n",
    "    nq = int(np.log2(dim))\n",
    "    dims = [[2]*nq, [1]*nq]\n",
    "    data = np.zeros((dim**2,1),dtype=np.complex64)\n",
    "    pauli_basis = (qeye(2), sigmax(), sigmay(), sigmaz())\n",
    "    for idx, op in enumerate(starmap(tensor,product(pauli_basis, repeat=nq))):\n",
    "        data[idx] = (op*rho).tr() / np.sqrt(dim)\n",
    "    return Qobj(data, dims=dims)\n",
    "\n",
    "def pauli_basis_to_rho(rho):\n",
    "    \"\"\"\n",
    "    Given a quantum operator in vector written in the Pauli basis\n",
    "    write it in the computational basis.\n",
    "    \"\"\"\n",
    "    dim = rho.shape[0]\n",
    "    nq = int(np.log2(np.sqrt(dim)))\n",
    "    dims = [[2]*nq, [2]*nq]\n",
    "    data = rho.data.toarray()\n",
    "    rho = 0\n",
    "    pauli_basis = (qeye(2), sigmax(), sigmay(), sigmaz())\n",
    "    for idx, op in enumerate(starmap(tensor,product(pauli_basis, repeat=nq))):\n",
    "        rho += (op*complex(data[idx]))*1/np.sqrt(2*nq)\n",
    "    return Qobj(rho, dims=dims)"
   ]
  },
  {
   "cell_type": "markdown",
   "metadata": {},
   "source": [
    "#### Pauli transfer matrix of identity"
   ]
  },
  {
   "cell_type": "code",
   "execution_count": 49,
   "metadata": {
    "scrolled": true
   },
   "outputs": [
    {
     "name": "stderr",
     "output_type": "stream",
     "text": [
      "<ipython-input-49-327fc0b7dad9>:6: DeprecationWarning: Importing functions/classes of the qip submodule directly from the namespace qutip is deprecated. Please import them from the submodule instead, e.g.\n",
      "from qutip.qip.operations import cnot\n",
      "from qutip.qip.circuit import QubitCircuit\n",
      "\n",
      "  Lambda = rx(0.9045853071795866) * pauli_basis[j] * rx(0.9045853071795866).dag()\n"
     ]
    }
   ],
   "source": [
    "d = 2\n",
    "# pauli transfer matrix\n",
    "R = np.zeros((d**2,d**2))\n",
    "for j in range(d**2):\n",
    "    pauli_basis = (qeye(2), sigmax(), sigmay(), sigmaz())\n",
    "    Lambda = rx(0.9045853071795866) * pauli_basis[j] * rx(0.9045853071795866).dag()\n",
    "    for i in range(d**2):\n",
    "        R[i,j] = 1/d * np.real((pauli_basis[i]*Lambda).tr())\n",
    "R = Qobj(R,dims=[[2,2] for i in range(d)]) # Make quantum object"
   ]
  },
  {
   "cell_type": "markdown",
   "metadata": {},
   "source": [
    "#### Gates"
   ]
  },
  {
   "cell_type": "code",
   "execution_count": 347,
   "metadata": {},
   "outputs": [],
   "source": [
    "def rz(phi):\n",
    "    return (-1j*phi/2*sigmaz()).expm()\n",
    "\n",
    "def rx(phi):\n",
    "    return (1j*phi/2*sigmax()).expm()\n",
    "\n",
    "def U(phi):\n",
    "    sigmaz_1 = tensor(sigmaz(),qeye(2))\n",
    "    sigmaz_2 = tensor(qeye(2),sigmaz())\n",
    "    return (-1j*phi/2*sigmaz_1*sigmaz_2).expm()\n",
    "\n",
    "ket0 = basis(2,0)\n",
    "ket1 = basis(2,1)\n",
    "psi = tensor([(ket0+ket1).unit() for i in range(2)])\n",
    "rho = ket2dm(psi) # initial rho"
   ]
  },
  {
   "cell_type": "code",
   "execution_count": 350,
   "metadata": {},
   "outputs": [],
   "source": [
    "psi_final = tensor(rx(0.9045853071795866),rx(0.9045853071795866))*tensor(rz(0.9046),qeye(2))*U(0.9046)*psi"
   ]
  },
  {
   "cell_type": "code",
   "execution_count": 351,
   "metadata": {},
   "outputs": [
    {
     "data": {
      "text/latex": [
       "Quantum object: dims = [[2, 2], [2, 2]], shape = (4, 4), type = oper, isherm = True\\begin{equation*}\\left(\\begin{array}{*{11}c}1.023\\times10^{-09} & (-1.716\\times10^{-05}+4.664\\times10^{-06}j) & (-1.349\\times10^{-05}+1.815\\times10^{-05}j) & (-8.338\\times10^{-06}+1.122\\times10^{-05}j)\\\\(-1.716\\times10^{-05}-4.664\\times10^{-06}j) & 0.309 & (0.309-0.243j) & (0.191-0.150j)\\\\(-1.349\\times10^{-05}-1.815\\times10^{-05}j) & (0.309+0.243j) & 0.500 & (0.309-4.664\\times10^{-06}j)\\\\(-8.338\\times10^{-06}-1.122\\times10^{-05}j) & (0.191+0.150j) & (0.309+4.664\\times10^{-06}j) & 0.191\\\\\\end{array}\\right)\\end{equation*}"
      ],
      "text/plain": [
       "Quantum object: dims = [[2, 2], [2, 2]], shape = (4, 4), type = oper, isherm = True\n",
       "Qobj data =\n",
       "[[ 1.02319654e-09+0.00000000e+00j -1.71591071e-05+4.66367786e-06j\n",
       "  -1.34921230e-05+1.81538118e-05j -8.33842708e-06+1.12198064e-05j]\n",
       " [-1.71591071e-05-4.66367786e-06j  3.09016728e-01+0.00000000e+00j\n",
       "   3.09008389e-01-2.42944807e-01j  1.90975554e-01-1.50151135e-01j]\n",
       " [-1.34921230e-05-1.81538118e-05j  3.09008389e-01+2.42944807e-01j\n",
       "   4.99999999e-01+0.00000000e+00j  3.09017209e-01-4.66367786e-06j]\n",
       " [-8.33842708e-06-1.12198064e-05j  1.90975554e-01+1.50151135e-01j\n",
       "   3.09017209e-01+4.66367786e-06j  1.90983272e-01+0.00000000e+00j]]"
      ]
     },
     "execution_count": 351,
     "metadata": {},
     "output_type": "execute_result"
    }
   ],
   "source": [
    "ket2dm(psi_final)"
   ]
  },
  {
   "cell_type": "markdown",
   "metadata": {},
   "source": [
    "#### Testing"
   ]
  },
  {
   "cell_type": "code",
   "execution_count": 50,
   "metadata": {},
   "outputs": [],
   "source": [
    "N = 2 # number of qubits\n",
    "eye = qeye(2)\n",
    "ket0 = basis(2,0)\n",
    "ket1 = basis(2,1)\n",
    "psi = tensor([(ket0+ket1)/np.sqrt(2) for i in range(N)]) # initial state\n",
    "rho = ket2dm(psi) # initial rho\n",
    "vec_rho = rho_to_pauli_basis(rho)"
   ]
  },
  {
   "cell_type": "code",
   "execution_count": 51,
   "metadata": {},
   "outputs": [
    {
     "name": "stdout",
     "output_type": "stream",
     "text": [
      "Loaded Qobj object:\n",
      "Quantum object: dims = [[[2], [2]], [[2], [2]]], shape = (4, 4), type = super, isHerm = False\n",
      "\n",
      "Loaded Qobj object:\n",
      "Quantum object: dims = [[[2], [2]], [[2], [2]]], shape = (4, 4), type = super, isHerm = False\n",
      "\n",
      "Loaded Qobj object:\n",
      "Quantum object: dims = [[[2], [2]], [[2], [2]]], shape = (16, 16), type = super, isHerm = False\n",
      "\n"
     ]
    }
   ],
   "source": [
    "RZ = qload(\"results/rz0.9046\")\n",
    "RX = qload(\"results/rx0.9045853071795866\")\n",
    "U = qload(\"results/U0.9046\")"
   ]
  },
  {
   "cell_type": "code",
   "execution_count": 52,
   "metadata": {},
   "outputs": [],
   "source": [
    "RZ = Qobj(RZ,dims=[[2],[2]],type='oper')\n",
    "RX = Qobj(RX,dims=[[2],[2]],type='oper')\n",
    "I = qeye(4)\n",
    "I = Qobj(I, dims = [[2],[2]], type='oper')\n",
    "U = Qobj(U,dims=[[2,2],[2,2]], type='oper')"
   ]
  },
  {
   "cell_type": "code",
   "execution_count": 53,
   "metadata": {},
   "outputs": [
    {
     "data": {
      "text/latex": [
       "Quantum object: dims = [[2, 2], [2, 2]], shape = (4, 4), type = oper, isherm = True\\begin{equation*}\\left(\\begin{array}{*{11}c}0.009 & (0.007-0.002j) & (-7.307\\times10^{-04}-6.549\\times10^{-04}j) & (-0.005+0.003j)\\\\(0.007+0.002j) & 0.309 & (0.280-0.219j) & (0.180-0.141j)\\\\(-7.307\\times10^{-04}+6.549\\times10^{-04}j) & (0.280+0.219j) & 0.491 & (0.286+0.002j)\\\\(-0.005-0.003j) & (0.180+0.141j) & (0.286-0.002j) & 0.191\\\\\\end{array}\\right)\\end{equation*}"
      ],
      "text/plain": [
       "Quantum object: dims = [[2, 2], [2, 2]], shape = (4, 4), type = oper, isherm = True\n",
       "Qobj data =\n",
       "[[ 0.00911934+0.j          0.00688521-0.00235887j -0.00073071-0.00065487j\n",
       "  -0.00523442+0.00258717j]\n",
       " [ 0.00688521+0.00235887j  0.30857269+0.j          0.2798707 -0.21895781j\n",
       "   0.1801457 -0.14050671j]\n",
       " [-0.00073071+0.00065487j  0.2798707 +0.21895781j  0.4908149 +0.j\n",
       "   0.28623766+0.00236963j]\n",
       " [-0.00523442-0.00258717j  0.1801457 +0.14050671j  0.28623766-0.00236963j\n",
       "   0.19137943+0.j        ]]"
      ]
     },
     "execution_count": 53,
     "metadata": {},
     "output_type": "execute_result"
    }
   ],
   "source": [
    "vec_rho_final = tensor(RX,RX)*tensor(RZ,I)*U*vec_rho\n",
    "rho_final = pauli_basis_to_rho(vec_rho_final)\n",
    "rho_final"
   ]
  },
  {
   "cell_type": "code",
   "execution_count": 56,
   "metadata": {},
   "outputs": [
    {
     "data": {
      "text/latex": [
       "Quantum object: dims = [[2, 2], [2, 2]], shape = (16, 16), type = oper, isherm = False\\begin{equation*}\\left(\\begin{array}{*{11}c}1.000 & 1.070\\times10^{-05} & 0.0 & 0.0 & 1.070\\times10^{-05} & \\cdots & -5.398\\times10^{-06} & 0.0 & 0.0 & -5.398\\times10^{-06} & -9.421\\times10^{-07}\\\\1.799\\times10^{-05} & 0.612 & 0.0 & 0.0 & 2.000\\times10^{-07} & \\cdots & 5.328\\times10^{-07} & 0.0 & 0.0 & -0.778 & 5.123\\times10^{-04}\\\\0.0 & 0.0 & 0.612 & -0.001 & 0.0 & \\cdots & 0.0 & 8.928\\times10^{-06} & 0.778 & 0.0 & 0.0\\\\0.0 & 0.0 & 0.001 & 1.000 & 0.0 & \\cdots & 0.0 & -9.411\\times10^{-07} & 5.123\\times10^{-04} & 0.0 & 0.0\\\\1.799\\times10^{-05} & 2.000\\times10^{-07} & 0.0 & 0.0 & 0.612 & \\cdots & -0.778 & 0.0 & 0.0 & 5.328\\times10^{-07} & 5.123\\times10^{-04}\\\\\\vdots & \\vdots & \\vdots & \\vdots & \\vdots & \\ddots & \\vdots & \\vdots & \\vdots & \\vdots & \\vdots\\\\8.928\\times10^{-06} & -5.328\\times10^{-07} & 0.0 & 0.0 & 0.778 & \\cdots & 0.612 & 0.0 & 0.0 & -1.175\\times10^{-06} & -0.001\\\\0.0 & 0.0 & -5.398\\times10^{-06} & -9.411\\times10^{-07} & 0.0 & \\cdots & 0.0 & 1.000 & 1.070\\times10^{-05} & 0.0 & 0.0\\\\0.0 & 0.0 & -0.778 & 5.123\\times10^{-04} & 0.0 & \\cdots & 0.0 & 1.799\\times10^{-05} & 0.612 & 0.0 & 0.0\\\\8.928\\times10^{-06} & 0.778 & 0.0 & 0.0 & -5.328\\times10^{-07} & \\cdots & -1.175\\times10^{-06} & 0.0 & 0.0 & 0.612 & -0.001\\\\-9.401\\times10^{-07} & 5.123\\times10^{-04} & 0.0 & 0.0 & 5.123\\times10^{-04} & \\cdots & 0.001 & 0.0 & 0.0 & 0.001 & 1.000\\\\\\end{array}\\right)\\end{equation*}"
      ],
      "text/plain": [
       "Quantum object: dims = [[2, 2], [2, 2]], shape = (16, 16), type = oper, isherm = False\n",
       "Qobj data =\n",
       "[[ 9.99942955e-01  1.06995147e-05  0.00000000e+00  0.00000000e+00\n",
       "   1.06995147e-05 -3.09173927e-08  0.00000000e+00  0.00000000e+00\n",
       "   0.00000000e+00  0.00000000e+00 -4.59978800e-08 -5.39798213e-06\n",
       "   0.00000000e+00  0.00000000e+00 -5.39798213e-06 -9.42052491e-07]\n",
       " [ 1.79904515e-05  6.11596449e-01  0.00000000e+00  0.00000000e+00\n",
       "   2.00014182e-07  1.07677803e-05  0.00000000e+00  0.00000000e+00\n",
       "   0.00000000e+00  0.00000000e+00 -5.06847199e-04  5.32825871e-07\n",
       "   0.00000000e+00  0.00000000e+00 -7.77647688e-01  5.12291784e-04]\n",
       " [ 0.00000000e+00  0.00000000e+00  6.11595759e-01 -1.05470962e-03\n",
       "   0.00000000e+00  0.00000000e+00  1.07678562e-05  1.58481345e-08\n",
       "  -9.63280268e-08  5.06847523e-04  0.00000000e+00  0.00000000e+00\n",
       "   8.92800855e-06  7.77647688e-01  0.00000000e+00  0.00000000e+00]\n",
       " [ 0.00000000e+00  0.00000000e+00  1.05458954e-03  9.99942259e-01\n",
       "   0.00000000e+00  0.00000000e+00 -9.09942523e-08  1.06995969e-05\n",
       "  -5.39808855e-06  5.18177907e-08  0.00000000e+00  0.00000000e+00\n",
       "  -9.41072552e-07  5.12292043e-04  0.00000000e+00  0.00000000e+00]\n",
       " [ 1.79904515e-05  2.00014182e-07  0.00000000e+00  0.00000000e+00\n",
       "   6.11596449e-01  1.07677803e-05  0.00000000e+00  0.00000000e+00\n",
       "   0.00000000e+00  0.00000000e+00 -5.06847199e-04 -7.77647688e-01\n",
       "   0.00000000e+00  0.00000000e+00  5.32825871e-07  5.12291784e-04]\n",
       " [-3.43266634e-08  1.79726951e-05  0.00000000e+00  0.00000000e+00\n",
       "   1.79726951e-05  9.78842523e-01  0.00000000e+00  0.00000000e+00\n",
       "   0.00000000e+00  0.00000000e+00 -1.62800598e-04 -8.44254713e-06\n",
       "   0.00000000e+00  0.00000000e+00 -8.44254713e-06  5.58075898e-08]\n",
       " [ 0.00000000e+00  0.00000000e+00  1.79727557e-05  7.45122849e-08\n",
       "   0.00000000e+00  0.00000000e+00  9.78841843e-01 -1.04349553e-03\n",
       "   5.06846892e-04  1.62799571e-04  0.00000000e+00  0.00000000e+00\n",
       "  -5.57512548e-08  8.44264412e-06  0.00000000e+00  0.00000000e+00]\n",
       " [ 0.00000000e+00  0.00000000e+00 -6.32654245e-09  1.79905185e-05\n",
       "   0.00000000e+00  0.00000000e+00  1.04337574e-03  6.11595765e-01\n",
       "  -7.77647687e-01 -4.93204022e-06  0.00000000e+00  0.00000000e+00\n",
       "   5.12292112e-04 -9.67538879e-08  0.00000000e+00  0.00000000e+00]\n",
       " [ 0.00000000e+00  0.00000000e+00 -9.63280268e-08  8.92800855e-06\n",
       "   0.00000000e+00  0.00000000e+00  5.06847523e-04  7.77647688e-01\n",
       "   6.11595759e-01  1.07678562e-05  0.00000000e+00  0.00000000e+00\n",
       "  -1.05470962e-03  1.58481345e-08  0.00000000e+00  0.00000000e+00]\n",
       " [ 0.00000000e+00  0.00000000e+00  5.06846892e-04 -5.57512548e-08\n",
       "   0.00000000e+00  0.00000000e+00  1.62799571e-04  8.44264412e-06\n",
       "   1.79727557e-05  9.78841843e-01  0.00000000e+00  0.00000000e+00\n",
       "   7.45122849e-08 -1.04349553e-03  0.00000000e+00  0.00000000e+00]\n",
       " [-5.62750066e-08 -5.06846592e-04  0.00000000e+00  0.00000000e+00\n",
       "  -5.06846592e-04 -1.62798546e-04  0.00000000e+00  0.00000000e+00\n",
       "   0.00000000e+00  0.00000000e+00  9.78841164e-01 -1.04349471e-03\n",
       "   0.00000000e+00  0.00000000e+00 -1.04349471e-03  1.40964209e-06]\n",
       " [ 8.92791437e-06 -5.32826769e-07  0.00000000e+00  0.00000000e+00\n",
       "   7.77647688e-01  4.93193404e-06  0.00000000e+00  0.00000000e+00\n",
       "   0.00000000e+00  0.00000000e+00  1.04337493e-03  6.11595074e-01\n",
       "   0.00000000e+00  0.00000000e+00 -1.17499681e-06 -1.05470880e-03]\n",
       " [ 0.00000000e+00  0.00000000e+00 -5.39808855e-06 -9.41072552e-07\n",
       "   0.00000000e+00  0.00000000e+00  5.18177907e-08  5.12292043e-04\n",
       "   1.05458954e-03 -9.09942523e-08  0.00000000e+00  0.00000000e+00\n",
       "   9.99942259e-01  1.06995969e-05  0.00000000e+00  0.00000000e+00]\n",
       " [ 0.00000000e+00  0.00000000e+00 -7.77647687e-01  5.12292112e-04\n",
       "   0.00000000e+00  0.00000000e+00 -4.93204022e-06 -9.67538879e-08\n",
       "  -6.32654247e-09  1.04337574e-03  0.00000000e+00  0.00000000e+00\n",
       "   1.79905185e-05  6.11595765e-01  0.00000000e+00  0.00000000e+00]\n",
       " [ 8.92791437e-06  7.77647688e-01  0.00000000e+00  0.00000000e+00\n",
       "  -5.32826769e-07  4.93193404e-06  0.00000000e+00  0.00000000e+00\n",
       "   0.00000000e+00  0.00000000e+00  1.04337493e-03 -1.17499681e-06\n",
       "   0.00000000e+00  0.00000000e+00  6.11595074e-01 -1.05470880e-03]\n",
       " [-9.40091871e-07  5.12291742e-04  0.00000000e+00  0.00000000e+00\n",
       "   5.12291742e-04  4.55064761e-08  0.00000000e+00  0.00000000e+00\n",
       "   0.00000000e+00  0.00000000e+00  1.40568913e-06  1.05458873e-03\n",
       "   0.00000000e+00  0.00000000e+00  1.05458873e-03  9.99941564e-01]]"
      ]
     },
     "execution_count": 56,
     "metadata": {},
     "output_type": "execute_result"
    }
   ],
   "source": [
    "U"
   ]
  },
  {
   "cell_type": "code",
   "execution_count": 54,
   "metadata": {},
   "outputs": [
    {
     "data": {
      "text/latex": [
       "Quantum object: dims = [[1], [1]], shape = (1, 1), type = bra\\begin{equation*}\\left(\\begin{array}{*{11}c}0.191\\\\\\end{array}\\right)\\end{equation*}"
      ],
      "text/plain": [
       "Quantum object: dims = [[1], [1]], shape = (1, 1), type = bra\n",
       "Qobj data =\n",
       "[[0.19137943]]"
      ]
     },
     "execution_count": 54,
     "metadata": {},
     "output_type": "execute_result"
    }
   ],
   "source": [
    "ans = tensor(ket1,ket1)\n",
    "ans.dag()*rho_final*ans"
   ]
  }
 ],
 "metadata": {
  "kernelspec": {
   "display_name": "Python 3",
   "language": "python",
   "name": "python3"
  },
  "language_info": {
   "codemirror_mode": {
    "name": "ipython",
    "version": 3
   },
   "file_extension": ".py",
   "mimetype": "text/x-python",
   "name": "python",
   "nbconvert_exporter": "python",
   "pygments_lexer": "ipython3",
   "version": "3.8.5"
  }
 },
 "nbformat": 4,
 "nbformat_minor": 4
}
