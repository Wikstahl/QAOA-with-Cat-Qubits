{
 "cells": [
  {
   "cell_type": "markdown",
   "id": "bf56a2d3",
   "metadata": {},
   "source": [
    "# Pauli Transfer Matrix for the Qubit Device"
   ]
  },
  {
   "cell_type": "markdown",
   "id": "49bfc57e",
   "metadata": {},
   "source": [
    "## Import packages"
   ]
  },
  {
   "cell_type": "code",
   "execution_count": 1,
   "id": "4754b369-24d3-497e-abe4-cc2969cbaba6",
   "metadata": {},
   "outputs": [],
   "source": [
    "%matplotlib inline\n",
    "%reload_ext autoreload\n",
    "%autoreload 2"
   ]
  },
  {
   "cell_type": "code",
   "execution_count": 12,
   "id": "d9ee7499-ef1c-4536-9161-785c95d638bf",
   "metadata": {},
   "outputs": [],
   "source": [
    "import numpy as np\n",
    "from qutip import *\n",
    "from qutip.qip.device import *\n",
    "from qutip.qip.operations import *\n",
    "from qutip.qip.circuit import QubitCircuit\n",
    "from qaoa_with_cat_qubits import *"
   ]
  },
  {
   "cell_type": "markdown",
   "id": "9f338fa7",
   "metadata": {},
   "source": [
    "Create a function that return the PTM"
   ]
  },
  {
   "cell_type": "code",
   "execution_count": 23,
   "id": "f220687c",
   "metadata": {},
   "outputs": [],
   "source": [
    "def ideal_ptm(U):\n",
    "    \"\"\" Returns the Pauli Transfer Matrix of a unitary operator U \"\"\"\n",
    "    paulis = [identity(2), sigmax(), sigmay(), sigmaz()]\n",
    "    M = np.zeros((d**2, d**2), dtype=complex)\n",
    "    \n",
    "    for j in range(d**2):\n",
    "        Lambda = U * paulis[j] * U.dag()\n",
    "        for i in range(d**2):\n",
    "            M[i,j] = 1/d * ((paulis[i]*Lambda).tr()).real\n",
    "    return M"
   ]
  },
  {
   "cell_type": "markdown",
   "id": "0754692d-40f4-430f-afa4-a646de503495",
   "metadata": {},
   "source": [
    "## RX-gate"
   ]
  },
  {
   "cell_type": "code",
   "execution_count": 24,
   "id": "ab460cef-5519-42f2-8368-876440968424",
   "metadata": {},
   "outputs": [],
   "source": [
    "d = 2  # dimension\n",
    "tau = 10  # gate time\n",
    "# Load the average gate fidelity for CV device\n",
    "file = np.load('../../data/average_gate_fidelity/cv_avg_fid_rx.npz')\n",
    "f_bar = np.mean(file['avg'])\n",
    "# Find the corresponding T1\n",
    "gamma = 2 * (d + 1) / (d * tau) * (1 - f_bar)\n",
    "T1 = 1 / (gamma)\n",
    "\n",
    "# Qubit Processor\n",
    "qp = QubitProcessor(N=1, T1=T1)\n",
    "qp_inv = QubitProcessor(N=1, T1=None)\n",
    "\n",
    "# Pauli matrices\n",
    "sigma = [qeye(2), sigmax(), sigmay(), sigmaz()]\n",
    "\n",
    "arg = np.pi/2\n",
    "\n",
    "# Pauli transfer matrix\n",
    "R = np.zeros((d**2, d**2))\n",
    "R_inv = np.zeros((d**2, d**2))\n",
    "\n",
    "# Quantum circuit\n",
    "qc = QubitCircuit(1)\n",
    "qc.add_gate(\"RX\", 0, None, arg)\n",
    "\n",
    "# Target\n",
    "U = (-1j*sigmax()*arg/2).expm()\n",
    "\n",
    "# Create PTM\n",
    "for j in range(d**2):\n",
    "    result = qp.run_state(init_state=sigma[j], qc=qc)\n",
    "    result_inv = qp_inv.run_state(init_state=sigma[j], qc=qc)\n",
    "    Lambda = result.states[-1]\n",
    "    Lambda_inv = result_inv.states[-1]\n",
    "    for i in range(d**2):\n",
    "        R[i,j] = 1/d * ((sigma[i]*Lambda).tr()).real\n",
    "        R_inv[i,j] = 1/d * ((sigma[i]*Lambda_inv).tr()).real"
   ]
  },
  {
   "cell_type": "code",
   "execution_count": 25,
   "id": "f8bb8f95-7c8b-48e5-802d-ecc0bab759c8",
   "metadata": {},
   "outputs": [
    {
     "data": {
      "text/latex": [
       "Quantum object: dims = [[4], [4]], shape = (4, 4), type = oper, isherm = False $ \\\\ \\left(\\begin{matrix}1.0 & 0.0 & 0.0 & 0.0\\\\0.0 & 0.979 & 0.0 & 0.0\\\\-0.026 & 0.0 & 0.969 & 0.007\\\\0.026 & 0.0 & 0.006 & 0.969\\\\\\end{matrix}\\right)$"
      ],
      "text/plain": [
       "Quantum object: dims = [[4], [4]], shape = (4, 4), type = oper, isherm = False\n",
       "Qobj data =\n",
       "[[ 1.     0.     0.     0.   ]\n",
       " [ 0.     0.979  0.     0.   ]\n",
       " [-0.026  0.     0.969  0.007]\n",
       " [ 0.026  0.     0.006  0.969]]"
      ]
     },
     "execution_count": 25,
     "metadata": {},
     "output_type": "execute_result"
    }
   ],
   "source": [
    "error_channel = np.around(R @ np.linalg.inv(R_inv), 3)\n",
    "Qobj(error_channel)"
   ]
  },
  {
   "cell_type": "code",
   "execution_count": 26,
   "id": "81188e46-1852-4d1f-8b8b-dd05c76598ec",
   "metadata": {},
   "outputs": [],
   "source": [
    "A = np.zeros((4,4,4,4),dtype='complex')\n",
    "P = [qeye(2),sigmax(),sigmay(),sigmaz()]\n",
    "for i in range(4):\n",
    "    for j in range(4):\n",
    "        for m in range(4):\n",
    "            for n in range(4):\n",
    "                A[i,j,m,n] = (P[i]*P[m]*P[j]*P[n]).tr()\n",
    "A = A.reshape((16,16))\n",
    "A_inv = np.linalg.inv(A)"
   ]
  },
  {
   "cell_type": "code",
   "execution_count": 28,
   "id": "150d2cd1-e18f-4d87-b7a8-9e8d58ad562e",
   "metadata": {},
   "outputs": [
    {
     "data": {
      "text/latex": [
       "Quantum object: dims = [[[2], [2]], [[2], [2]]], shape = (4, 4), type = super, isherm = True, superrep = chi $ \\\\ \\left(\\begin{matrix}0.979 & -2.500\\times10^{-04}j & -0.006 & 0.006\\\\2.500\\times10^{-04}j & 0.010 & -0.006j & -0.006j\\\\-0.006 & 0.006j & 0.005 & 0.003\\\\0.006 & 0.006j & 0.003 & 0.005\\\\\\end{matrix}\\right)$"
      ],
      "text/plain": [
       "Quantum object: dims = [[[2], [2]], [[2], [2]]], shape = (4, 4), type = super, isherm = True, superrep = chi\n",
       "Qobj data =\n",
       "[[ 0.97925+0.j       0.     -0.00025j -0.0065 +0.j       0.0065 +0.j     ]\n",
       " [ 0.     +0.00025j  0.01025+0.j       0.     -0.0065j   0.     -0.0065j ]\n",
       " [-0.0065 +0.j       0.     +0.0065j   0.00525+0.j       0.00325+0.j     ]\n",
       " [ 0.0065 +0.j       0.     +0.0065j   0.00325+0.j       0.00525+0.j     ]]"
      ]
     },
     "execution_count": 28,
     "metadata": {},
     "output_type": "execute_result"
    }
   ],
   "source": [
    "chi = d*Qobj((A_inv @ error_channel.reshape((4**2,1))).reshape((4,4)),dims=[[[2],[2]],[[2],[2]]],superrep='chi')\n",
    "chi"
   ]
  },
  {
   "cell_type": "markdown",
   "id": "6ce985a2-97c5-4b1a-8837-e2459dfe51ea",
   "metadata": {},
   "source": [
    "## RZ-gate"
   ]
  },
  {
   "cell_type": "code",
   "execution_count": 24,
   "id": "50bf1637-3350-4ab3-af01-7061952a5ea4",
   "metadata": {},
   "outputs": [],
   "source": [
    "d = 2  # dimension\n",
    "tau = 2  # gate time\n",
    "# Load the average gate fidelity\n",
    "file = np.load('../../data/average_gate_fidelity/cv_avg_fid_rz.npz')\n",
    "f_bar = np.mean(file['avg'])\n",
    "# Find the corresponding T1\n",
    "gamma = 2 * (d + 1) / (d * tau) * (1 - f_bar)\n",
    "T1 = 1 / (gamma)\n",
    "\n",
    "# Qubit Processor\n",
    "qp = QubitProcessor(N=1, T1=T1)\n",
    "qp_inv = QubitProcessor(N=1, T1=None)\n",
    "\n",
    "# Pauli matrices\n",
    "sigma = [qeye(2), sigmax(), sigmay(), sigmaz()]\n",
    "\n",
    "arg = np.pi/2\n",
    "\n",
    "# Pauli transfer matrix\n",
    "R = np.zeros((d**2, d**2))\n",
    "R_inv = np.zeros((d**2, d**2))\n",
    "\n",
    "# Quantum circuit\n",
    "qc = QubitCircuit(1)\n",
    "qc.add_gate(\"RZ\", 0, None, arg)\n",
    "\n",
    "# Target\n",
    "U = (-1j*sigmaz()*arg/2).expm()\n",
    "\n",
    "# Create PTM\n",
    "for j in range(d**2):\n",
    "    result = qp.run_state(init_state=sigma[j], qc=qc)\n",
    "    result_inv = qp_inv.run_state(init_state=sigma[j], qc=qc)\n",
    "    Lambda = result.states[-1]\n",
    "    Lambda_inv = result_inv.states[-1]\n",
    "    for i in range(d**2):\n",
    "        R[i,j] = 1/d * ((sigma[i]*Lambda).tr()).real\n",
    "        R_inv[i,j] = 1/d * ((sigma[i]*Lambda_inv).tr()).real"
   ]
  },
  {
   "cell_type": "code",
   "execution_count": 25,
   "id": "0fd0f440-263b-4781-ae0e-1a78a95777ab",
   "metadata": {},
   "outputs": [
    {
     "data": {
      "text/latex": [
       "Quantum object: dims = [[4], [4]], shape = (4, 4), type = oper, isherm = False\\begin{equation*}\\left(\\begin{array}{*{11}c}1.0 & 0.0 & 0.0 & 0.0\\\\0.0 & 0.995 & 0.0 & 0.0\\\\0.0 & 0.0 & 0.995 & 0.0\\\\0.011 & 0.0 & 0.0 & 0.989\\\\\\end{array}\\right)\\end{equation*}"
      ],
      "text/plain": [
       "Quantum object: dims = [[4], [4]], shape = (4, 4), type = oper, isherm = False\n",
       "Qobj data =\n",
       "[[1.    0.    0.    0.   ]\n",
       " [0.    0.995 0.    0.   ]\n",
       " [0.    0.    0.995 0.   ]\n",
       " [0.011 0.    0.    0.989]]"
      ]
     },
     "execution_count": 25,
     "metadata": {},
     "output_type": "execute_result"
    }
   ],
   "source": [
    "error_channel = np.around(R @ np.linalg.inv(R_inv), 3)\n",
    "Qobj(error_channel)"
   ]
  },
  {
   "cell_type": "code",
   "execution_count": 26,
   "id": "7422213e-a9cb-4110-83ab-ecc18a2491d0",
   "metadata": {},
   "outputs": [
    {
     "data": {
      "text/latex": [
       "Quantum object: dims = [[[2], [2]], [[2], [2]]], shape = (4, 4), type = super, isherm = True, superrep = chi\\begin{equation*}\\left(\\begin{array}{*{11}c}0.995 & 0.0 & 0.0 & 0.003\\\\0.0 & 0.003 & -0.003j & 0.0\\\\0.0 & 0.003j & 0.003 & 0.0\\\\0.003 & 0.0 & 0.0 & -2.500\\times10^{-04}\\\\\\end{array}\\right)\\end{equation*}"
      ],
      "text/plain": [
       "Quantum object: dims = [[[2], [2]], [[2], [2]]], shape = (4, 4), type = super, isherm = True, superrep = chi\n",
       "Qobj data =\n",
       "[[ 9.9475e-01+0.j       0.0000e+00+0.j       0.0000e+00+0.j\n",
       "   2.7500e-03+0.j     ]\n",
       " [ 0.0000e+00+0.j       2.7500e-03+0.j       0.0000e+00-0.00275j\n",
       "   0.0000e+00+0.j     ]\n",
       " [ 0.0000e+00+0.j       0.0000e+00+0.00275j  2.7500e-03+0.j\n",
       "   0.0000e+00+0.j     ]\n",
       " [ 2.7500e-03+0.j       0.0000e+00+0.j       0.0000e+00+0.j\n",
       "  -2.5000e-04+0.j     ]]"
      ]
     },
     "execution_count": 26,
     "metadata": {},
     "output_type": "execute_result"
    }
   ],
   "source": [
    "chi = d*Qobj((A_inv @ error_channel.reshape((4**2,1))).reshape((4,4)),dims=[[[2],[2]],[[2],[2]]],superrep='chi')\n",
    "chi"
   ]
  },
  {
   "cell_type": "markdown",
   "id": "a12da992-33a4-4916-b909-06bd098e731f",
   "metadata": {},
   "source": [
    "## RZZ-gate"
   ]
  },
  {
   "cell_type": "code",
   "execution_count": null,
   "id": "320e5b7d-b759-41d4-97ec-f51a97ffa8d0",
   "metadata": {},
   "outputs": [],
   "source": [
    "def product(*args, repeat=1):\n",
    "    # product('ABCD', 'xy') --> Ax Ay Bx By Cx Cy Dx Dy\n",
    "    # product(range(2), repeat=3) --> 000 001 010 011 100 101 110 111\n",
    "    pools = [tuple(pool) for pool in args] * repeat\n",
    "    result = [[]]\n",
    "    for pool in pools:\n",
    "        result = [x + [y] for x in result for y in pool]\n",
    "    for prod in result:\n",
    "        yield list(prod)"
   ]
  },
  {
   "cell_type": "code",
   "execution_count": null,
   "id": "0a22d59f-81f5-476c-9518-715ad911329f",
   "metadata": {},
   "outputs": [],
   "source": [
    "d = 4  # dimension\n",
    "tau = 2  # gate time\n",
    "# Load the average gate fidelity\n",
    "file = np.load('../../data/average_gate_fidelity/cv_avg_fid_rzz.npz')\n",
    "f_bar = np.mean(file['avg'])\n",
    "# Find the corresponding T1\n",
    "gamma = (d + 1) / (d * tau) * (1 - f_bar)\n",
    "T1 = 1 / (gamma)\n",
    "\n",
    "# Qubit Processor\n",
    "qp = QubitProcessor(N=1, T1=T1)\n",
    "qp_inv = QubitProcessor(N=1, T1=None)\n",
    "\n",
    "# Create all tensor products of pauli matrices\n",
    "sigma = list(map(tensor, product(P, repeat=2)))\n",
    "\n",
    "arg = np.pi/2\n",
    "\n",
    "# Pauli transfer matrix\n",
    "R = np.zeros((d**2, d**2))\n",
    "R_inv = np.zeros((d**2, d**2))\n",
    "\n",
    "# Quantum circuit\n",
    "qc = QubitCircuit(1)\n",
    "qc.add_gate(\"RZ\", 0, None, arg)\n",
    "\n",
    "# Target\n",
    "U = (-1j*sigmaz()*arg/2).expm()\n",
    "\n",
    "# Create PTM\n",
    "for j in range(d**2):\n",
    "    result = qp.run_state(init_state=sigma[j], qc=qc)\n",
    "    result_inv = qp_inv.run_state(init_state=sigma[j], qc=qc)\n",
    "    Lambda = result.states[-1]\n",
    "    Lambda_inv = result_inv.states[-1]\n",
    "    for i in range(d**2):\n",
    "        R[i,j] = 1/d * ((sigma[i]*Lambda).tr()).real\n",
    "        R_inv[i,j] = 1/d * ((sigma[i]*Lambda_inv).tr()).real"
   ]
  }
 ],
 "metadata": {
  "kernelspec": {
   "display_name": "Python 3 (ipykernel)",
   "language": "python",
   "name": "python3"
  },
  "language_info": {
   "codemirror_mode": {
    "name": "ipython",
    "version": 3
   },
   "file_extension": ".py",
   "mimetype": "text/x-python",
   "name": "python",
   "nbconvert_exporter": "python",
   "pygments_lexer": "ipython3",
   "version": "3.8.16"
  }
 },
 "nbformat": 4,
 "nbformat_minor": 5
}
