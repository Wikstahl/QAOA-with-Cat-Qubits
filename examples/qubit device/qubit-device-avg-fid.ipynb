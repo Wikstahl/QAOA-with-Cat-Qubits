{
 "cells": [
  {
   "cell_type": "code",
   "execution_count": 1,
   "id": "01c575cb",
   "metadata": {},
   "outputs": [],
   "source": [
    "import numpy as np; pi = np.pi\n",
    "from qutip import * \n",
    "from qutip.qip.operations import *\n",
    "from qutip.qip.circuit import *\n",
    "from cvqaoa import *"
   ]
  },
  {
   "cell_type": "code",
   "execution_count": 2,
   "id": "0e8723c8",
   "metadata": {},
   "outputs": [],
   "source": [
    "%matplotlib inline\n",
    "%reload_ext autoreload\n",
    "%autoreload 2"
   ]
  },
  {
   "cell_type": "markdown",
   "id": "5481dbed",
   "metadata": {},
   "source": [
    "## RZ"
   ]
  },
  {
   "cell_type": "markdown",
   "id": "fd916362",
   "metadata": {},
   "source": [
    "Specify the targeted average gate fidelity"
   ]
  },
  {
   "cell_type": "code",
   "execution_count": 3,
   "id": "2e11930b",
   "metadata": {},
   "outputs": [
    {
     "name": "stdout",
     "output_type": "stream",
     "text": [
      "T1 189.39393939394114\n"
     ]
    }
   ],
   "source": [
    "d = 2 # dimension\n",
    "tau = 2 # gate time\n",
    "f_bar = 0.99648 # target average gate fidelity\n",
    "gamma = 2*(d+1)/(d*tau)*(1-f_bar)\n",
    "T1 = 1/(gamma)\n",
    "print('T1',T1)"
   ]
  },
  {
   "cell_type": "markdown",
   "id": "0b26f754",
   "metadata": {},
   "source": [
    "Create a qubit processor"
   ]
  },
  {
   "cell_type": "code",
   "execution_count": 4,
   "id": "1b92a657",
   "metadata": {},
   "outputs": [],
   "source": [
    "## Qubit Processor\n",
    "qp = QubitProcessor(N=1,T1=T1)\n",
    "## Pauli matrices\n",
    "sigma = [sigmax(), sigmay(), sigmaz()]"
   ]
  },
  {
   "cell_type": "markdown",
   "id": "f27a91b8",
   "metadata": {},
   "source": [
    "Calcualte the average gate fidelity"
   ]
  },
  {
   "cell_type": "code",
   "execution_count": 5,
   "id": "91e9bfe6",
   "metadata": {},
   "outputs": [],
   "source": [
    "avg_fid = []\n",
    "## List of angles\n",
    "arg_list = np.linspace(0,np.pi/2,10)\n",
    "\n",
    "## Loop over the list of angles and calculate the average gate fidelity\n",
    "for arg in arg_list:\n",
    "    ## Create quantum circuit\n",
    "    qc = QubitCircuit(N=1)\n",
    "    qc.add_gate(\"RZ\", 0, None, arg)\n",
    "    \n",
    "    ## Ideal gate\n",
    "    U = (-1j*arg/2*sigmaz()).expm()\n",
    "    \n",
    "    ## Average Gate Fidelity\n",
    "    F = 0\n",
    "    for sigma_k in sigma:\n",
    "        ## Master equation\n",
    "        result = qp.run_state(init_state=sigma_k, qc=qc)\n",
    "        final_state = result.states[-1]\n",
    "        ## Target state\n",
    "        target_state = U * sigma_k * U.dag()\n",
    "        F += (target_state * final_state).tr().real\n",
    "    avg_fid.append(1/2 + 1/12 * F)"
   ]
  },
  {
   "cell_type": "code",
   "execution_count": 7,
   "id": "96e6dac1",
   "metadata": {},
   "outputs": [
    {
     "name": "stdout",
     "output_type": "stream",
     "text": [
      "Average Gate Fidelity = 0.99649\n"
     ]
    }
   ],
   "source": [
    "print('Average Gate Fidelity =',round(np.mean(avg_fid),5))"
   ]
  },
  {
   "cell_type": "markdown",
   "id": "65315c40",
   "metadata": {},
   "source": [
    "## RX"
   ]
  },
  {
   "cell_type": "markdown",
   "id": "7b7ed35f",
   "metadata": {},
   "source": [
    "Specify the targeted average gate fidelity"
   ]
  },
  {
   "cell_type": "code",
   "execution_count": 26,
   "id": "34ffb43b",
   "metadata": {},
   "outputs": [
    {
     "name": "stdout",
     "output_type": "stream",
     "text": [
      "T1 333.33333333333303\n"
     ]
    }
   ],
   "source": [
    "d = 2 # dimension\n",
    "tau = 10 # gate time\n",
    "f_bar = 0.99 # target average gate fidelity\n",
    "gamma = 2*(d+1)/(d*tau)*(1-f_bar)\n",
    "T1 = 1/(gamma)\n",
    "print('T1',T1)"
   ]
  },
  {
   "cell_type": "markdown",
   "id": "2bc0023b",
   "metadata": {},
   "source": [
    "Create a qubit processor"
   ]
  },
  {
   "cell_type": "code",
   "execution_count": 27,
   "id": "4b67954c",
   "metadata": {},
   "outputs": [],
   "source": [
    "## Qubit Processor\n",
    "qp = QubitProcessor(N=1,T1=T1)\n",
    "## Pauli matrices\n",
    "sigma = [sigmax(), sigmay(), sigmaz()]"
   ]
  },
  {
   "cell_type": "markdown",
   "id": "b3c488fe",
   "metadata": {},
   "source": [
    "Calcualte the average gate fidelity"
   ]
  },
  {
   "cell_type": "code",
   "execution_count": 28,
   "id": "8e756c64",
   "metadata": {},
   "outputs": [],
   "source": [
    "avg_fid = []\n",
    "## List of angles\n",
    "arg_list = np.linspace(0,np.pi/2,20)\n",
    "\n",
    "## Loop over the list of angles and calculate the average gate fidelity\n",
    "for arg in arg_list:\n",
    "    ## Create quantum circuit\n",
    "    qc = QubitCircuit(N=1)\n",
    "    qc.add_gate(\"RX\", 0, None, arg)\n",
    "    \n",
    "    ## Ideal gate\n",
    "    U = (-1j*arg/2*sigmax()).expm()\n",
    "    \n",
    "    ## Average Gate Fidelity\n",
    "    F = 0\n",
    "    for sigma_k in sigma:\n",
    "        ## Master equation\n",
    "        result = qp.run_state(init_state=sigma_k, qc=qc)\n",
    "        final_state = result.states[-1]\n",
    "        ## Target state\n",
    "        target_state = U * sigma_k * U.dag()\n",
    "        F += (target_state * final_state).tr().real\n",
    "    avg_fid.append(1/2 + 1/12 * F)"
   ]
  },
  {
   "cell_type": "code",
   "execution_count": 29,
   "id": "8d6d8883",
   "metadata": {},
   "outputs": [
    {
     "name": "stdout",
     "output_type": "stream",
     "text": [
      "Average Gate Fidelity = 0.9901\n"
     ]
    }
   ],
   "source": [
    "print('Average Gate Fidelity =',round(np.mean(avg_fid),4))"
   ]
  },
  {
   "cell_type": "markdown",
   "id": "7a85a935",
   "metadata": {},
   "source": [
    "## ZZ"
   ]
  },
  {
   "cell_type": "markdown",
   "id": "fdd076cb",
   "metadata": {},
   "source": [
    "Specify the targeted average gate fidelity"
   ]
  },
  {
   "cell_type": "code",
   "execution_count": 30,
   "id": "c9421208",
   "metadata": {},
   "outputs": [
    {
     "name": "stdout",
     "output_type": "stream",
     "text": [
      "T1 159.99999999999986\n"
     ]
    }
   ],
   "source": [
    "d = 4 # dimension\n",
    "tau = 2 # gate time\n",
    "f_bar = 0.99 # target average gate fidelity\n",
    "gamma = (d+1)/(d*tau)*(1-f_bar)\n",
    "T1 = 1/(gamma)\n",
    "print('T1',T1)"
   ]
  },
  {
   "cell_type": "markdown",
   "id": "29e4f34d",
   "metadata": {},
   "source": [
    "Create a qubit processor"
   ]
  },
  {
   "cell_type": "code",
   "execution_count": 31,
   "id": "d00518ad",
   "metadata": {},
   "outputs": [],
   "source": [
    "## Qubit Processor\n",
    "qp = QubitProcessor(N=2,T1=T1)\n",
    "## Pauli matrices\n",
    "sigma = [qeye(2), sigmax(), sigmay(), sigmaz()]"
   ]
  },
  {
   "cell_type": "code",
   "execution_count": 32,
   "id": "3d0610e8",
   "metadata": {},
   "outputs": [],
   "source": [
    "def carb(arg_value):\n",
    "    # control arbitrary phase gate\n",
    "    zz = tensor(sigmaz(),sigmaz())\n",
    "    return (-1j*arg_value/2*zz).expm()"
   ]
  },
  {
   "cell_type": "markdown",
   "id": "12d91bf6",
   "metadata": {},
   "source": [
    "Calcualte the average gate fidelity"
   ]
  },
  {
   "cell_type": "code",
   "execution_count": 33,
   "id": "afdfc7e8",
   "metadata": {},
   "outputs": [],
   "source": [
    "avg_fid = []\n",
    "## List of angles\n",
    "arg_list = np.linspace(0,np.pi/2,20)\n",
    "\n",
    "## Loop over the list of angles and calculate the average gate fidelity\n",
    "for arg in arg_list:\n",
    "    ## Create quantum circuit\n",
    "    qc = QubitCircuit(N=2)\n",
    "    qc.user_gates = {\"CARB\": carb}\n",
    "    qc.add_gate(\"CARB\", targets = [0,1], arg_value = arg)\n",
    "    \n",
    "    ## Ideal gate\n",
    "    U = (-1j*arg/2*tensor(sigmaz(),sigmaz())).expm()\n",
    "    \n",
    "    ## Average Gate Fidelity\n",
    "    F = 0\n",
    "    for sigma_k in sigma:\n",
    "        for sigma_l in sigma:\n",
    "            sigma_kl = tensor(sigma_k,sigma_l)\n",
    "            ## Master equation\n",
    "            result = qp.run_state(init_state=sigma_kl, qc=qc)\n",
    "            final_state = result.states[-1]\n",
    "            ## Target state\n",
    "            target_state = U * sigma_kl * U.dag()\n",
    "            F += (target_state * final_state).tr().real\n",
    "    avg_fid.append((F + d**2) / (d**2*(d+1)))"
   ]
  },
  {
   "cell_type": "code",
   "execution_count": 34,
   "id": "b9201dd8",
   "metadata": {},
   "outputs": [
    {
     "name": "stdout",
     "output_type": "stream",
     "text": [
      "Average Gate Fidelity = 0.9901\n"
     ]
    }
   ],
   "source": [
    "print('Average Gate Fidelity =',round(np.mean(avg_fid),4))"
   ]
  }
 ],
 "metadata": {
  "kernelspec": {
   "display_name": "Python 3 (ipykernel)",
   "language": "python",
   "name": "python3"
  },
  "language_info": {
   "codemirror_mode": {
    "name": "ipython",
    "version": 3
   },
   "file_extension": ".py",
   "mimetype": "text/x-python",
   "name": "python",
   "nbconvert_exporter": "python",
   "pygments_lexer": "ipython3",
   "version": "3.9.9"
  }
 },
 "nbformat": 4,
 "nbformat_minor": 5
}
