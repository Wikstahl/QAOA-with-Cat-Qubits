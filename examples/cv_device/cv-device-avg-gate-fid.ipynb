{
 "cells": [
  {
   "cell_type": "markdown",
   "id": "0933137d",
   "metadata": {},
   "source": [
    "# Average Gate Fidelities for the CV device"
   ]
  },
  {
   "cell_type": "markdown",
   "id": "cdc8c2cb",
   "metadata": {},
   "source": [
    "## Import packages"
   ]
  },
  {
   "cell_type": "code",
   "execution_count": 1,
   "id": "9c9ac894",
   "metadata": {},
   "outputs": [],
   "source": [
    "%load_ext autoreload\n",
    "%autoreload 2\n",
    "%matplotlib inline"
   ]
  },
  {
   "cell_type": "code",
   "execution_count": 2,
   "id": "f61f33d5",
   "metadata": {},
   "outputs": [],
   "source": [
    "import numpy as np; pi = np.pi\n",
    "\n",
    "from tqdm.notebook import tqdm\n",
    "\n",
    "from qutip import *\n",
    "from qutip.qip.circuit import QubitCircuit, Gate\n",
    "from qutip.qip.operations import *\n",
    "\n",
    "from qaoa_with_cat_qubits.cvdevice import KPOProcessor\n",
    "from qaoa_with_cat_qubits.plotlib import plotlib\n",
    "plotlib.update_settings(usetex=True)"
   ]
  },
  {
   "cell_type": "markdown",
   "id": "5fa92be1",
   "metadata": {},
   "source": [
    "## Setup parameters for single-qubit gates"
   ]
  },
  {
   "cell_type": "code",
   "execution_count": 278,
   "id": "273d5abd",
   "metadata": {},
   "outputs": [],
   "source": [
    "## KPO parameters\n",
    "kpo = KPOProcessor(N=1,alpha=3,num_lvl=30)\n",
    "alpha = kpo._paras['Coherent state']\n",
    "num_lvl = kpo._paras['Cut off']\n",
    "\n",
    "## Cat state\n",
    "cat_plus = (coherent(num_lvl,alpha) + coherent(num_lvl,-alpha)).unit()\n",
    "cat_minus = (coherent(num_lvl,alpha) - coherent(num_lvl,-alpha)).unit()\n",
    "\n",
    "## Computational basis\n",
    "up = (cat_plus + cat_minus)/np.sqrt(2) # Binary 0\n",
    "down = (cat_plus - cat_minus)/np.sqrt(2) # Binary 1\n",
    "\n",
    "## Pauli Matrices in computational basis\n",
    "# Identity\n",
    "I = up*up.dag() + down*down.dag()\n",
    "# sigma z\n",
    "sigma_z = up*up.dag() - down*down.dag()\n",
    "# sigma x\n",
    "sigma_x = up*down.dag() + down*up.dag()\n",
    "# sigma y\n",
    "sigma_y = 1j*(-up*down.dag() + down*up.dag())\n",
    "sigma = [sigma_x, sigma_y, sigma_z]"
   ]
  },
  {
   "cell_type": "markdown",
   "id": "e7659d19",
   "metadata": {},
   "source": [
    "## RZ-gate"
   ]
  },
  {
   "cell_type": "code",
   "execution_count": 4,
   "id": "87c8457c",
   "metadata": {},
   "outputs": [
    {
     "data": {
      "application/vnd.jupyter.widget-view+json": {
       "model_id": "128351e0394d49ecab21fff774fc79f7",
       "version_major": 2,
       "version_minor": 0
      },
      "text/plain": [
       "  0%|          | 0/20 [00:00<?, ?it/s]"
      ]
     },
     "metadata": {},
     "output_type": "display_data"
    }
   ],
   "source": [
    "avg_fid = []\n",
    "## List of angles\n",
    "arg_list = np.linspace(-np.pi/2,np.pi/2,20)\n",
    "\n",
    "## Loop over the list of angles and calculate the average gate fidelity\n",
    "for arg in tqdm(arg_list):\n",
    "    ## Create quantum circuit\n",
    "    qc = QubitCircuit(N=1)\n",
    "    qc.add_gate(\"RZ\", 0, None, arg)\n",
    "    \n",
    "    ## Ideal gate\n",
    "    U = (-1j*arg/2*sigma_z).expm()\n",
    "    \n",
    "    ## Average Gate Fidelity\n",
    "    F = 0\n",
    "    for sigma_k in sigma:\n",
    "        ## Master equation\n",
    "        result = kpo.run_state(init_state=sigma_k, qc=qc, noisy=True)\n",
    "        final_state = result.states[-1]\n",
    "        ## Target state\n",
    "        target_state = U * sigma_k * U.dag()\n",
    "        F += (target_state * final_state).tr().real\n",
    "    avg_fid.append(1/2 + 1/12 * F)"
   ]
  },
  {
   "cell_type": "code",
   "execution_count": 145,
   "id": "7b6a0f4f",
   "metadata": {},
   "outputs": [
    {
     "name": "stdout",
     "output_type": "stream",
     "text": [
      "Average gate fidelity: 0.9964767815142028\n"
     ]
    }
   ],
   "source": [
    "print(\"Average gate fidelity:\",np.mean(avg_fid))"
   ]
  },
  {
   "cell_type": "code",
   "execution_count": 146,
   "id": "163ead0d",
   "metadata": {},
   "outputs": [
    {
     "data": {
      "image/png": "[encoded data removed]",
      "text/plain": [
       "<Figure size 337.5x208.586 with 1 Axes>"
      ]
     },
     "metadata": {},
     "output_type": "display_data"
    }
   ],
   "source": [
    "fig, ax = plotlib.create_fig()\n",
    "ax.plot(arg_list, avg_fid,'ko',linestyle=(0, (2, 1)))\n",
    "ax.set_xlabel(r'$\\phi$');\n",
    "ax.set_ylabel(r'$\\bar F$');\n",
    "ax.set_xlim([-1.7,1.7])\n",
    "ax.set_xticks([-pi/2,-pi/4,0,pi/4,pi/2])\n",
    "ax.set_xticklabels([r'$-\\pi/2$',r'$-\\pi/4$',r'$0$',r'$\\pi/4$',r'$\\pi/2$'])\n",
    "ax.grid(linestyle='--', linewidth=.5)\n",
    "# Format the exponents nicely\n",
    "ax.ticklabel_format(axis=\"y\", style=\"sci\", scilimits=(-0,-7), useOffset=False, useMathText=False)"
   ]
  },
  {
   "cell_type": "markdown",
   "id": "05083938",
   "metadata": {},
   "source": [
    "### Compute the average gate fidelity for different $\\alpha$ and loss-rates"
   ]
  },
  {
   "cell_type": "code",
   "execution_count": 313,
   "id": "fe0bdefa",
   "metadata": {},
   "outputs": [],
   "source": [
    "alpha_list = np.linspace(1,3,51)\n",
    "gamma_list = [1/500,1/1000,1/1500,1/2000]\n",
    "avg_fid = np.zeros((len(gamma_list),len(alpha_list)))\n",
    "## KPO parameters\n",
    "for i, gamma in enumerate(gamma_list):\n",
    "    for j, alpha in enumerate(alpha_list):\n",
    "        kpo = KPOProcessor(N=1,alpha=alpha,num_lvl=30,gamma=gamma)\n",
    "        alpha = kpo._paras['Coherent state']\n",
    "        num_lvl = kpo._paras['Cut off']\n",
    "\n",
    "        ## Cat state\n",
    "        cat_plus = (coherent(num_lvl,alpha) + coherent(num_lvl,-alpha)).unit()\n",
    "        cat_minus = (coherent(num_lvl,alpha) - coherent(num_lvl,-alpha)).unit()\n",
    "\n",
    "        ## Computational basis\n",
    "        up = (cat_plus + cat_minus)/np.sqrt(2) # Binary 0\n",
    "        down = (cat_plus - cat_minus)/np.sqrt(2) # Binary 1\n",
    "\n",
    "        ## Pauli Matrices in computational basis\n",
    "        # Identity\n",
    "        I = up*up.dag() + down*down.dag()\n",
    "        # sigma z\n",
    "        sigma_z = up*up.dag() - down*down.dag()\n",
    "        # sigma x\n",
    "        sigma_x = up*down.dag() + down*up.dag()\n",
    "        # sigma y\n",
    "        sigma_y = 1j*(-up*down.dag() + down*up.dag())\n",
    "        sigma = [sigma_x, sigma_y, sigma_z]\n",
    "        \n",
    "        # pick an argument\n",
    "        arg = np.pi/2\n",
    "        \n",
    "        ## Create quantum circuit\n",
    "        qc = QubitCircuit(N=1)\n",
    "        qc.add_gate(\"RZ\", 0, None, arg)\n",
    "        \n",
    "        ## Ideal gate\n",
    "        U = (-1j*arg/2*sigma_z).expm()\n",
    "        \n",
    "        ## Average Gate Fidelity\n",
    "        F = 0\n",
    "        for sigma_k in sigma:\n",
    "            ## Master equation\n",
    "            result = kpo.run_state(init_state=sigma_k, qc=qc, noisy=True)\n",
    "            final_state = result.states[-1]\n",
    "            ## Target state\n",
    "            target_state = U * sigma_k * U.dag()\n",
    "            F += (target_state * final_state).tr().real\n",
    "        avg_fid[i,j]= (1/2 + 1/12 * F)"
   ]
  },
  {
   "cell_type": "code",
   "execution_count": 317,
   "id": "0b78b9bb",
   "metadata": {},
   "outputs": [],
   "source": [
    "np.save('../../data/average_gate_fidelity/cv_avg_fid_rz_vs_alpha_and_loss_rate', avg_fid)"
   ]
  },
  {
   "cell_type": "code",
   "execution_count": 318,
   "id": "f040657f",
   "metadata": {},
   "outputs": [],
   "source": [
    "avg_fid=np.load('../../data/average_gate_fidelity/cv_avg_fid_rz_vs_alpha_and_loss_rate.npy')"
   ]
  },
  {
   "cell_type": "code",
   "execution_count": 339,
   "id": "24093a6c",
   "metadata": {},
   "outputs": [
    {
     "data": {
      "image/png": "[encoded data removed]",
      "text/plain": [
       "<Figure size 337.5x208.586 with 1 Axes>"
      ]
     },
     "metadata": {},
     "output_type": "display_data"
    }
   ],
   "source": [
    "import matplotlib.pyplot as plt\n",
    "import seaborn as sns\n",
    "fig, ax = plotlib.create_fig()\n",
    "colormap = sns.color_palette()\n",
    "\n",
    "ax.plot(alpha_list, avg_fid[0,:],label=\"K/500\")\n",
    "# Plot the vertical line using plt.axvline()\n",
    "ax.axvline(x=alpha_list[np.argmax(avg_fid[0,:])], color=colormap[0], linestyle='--')\n",
    "\n",
    "ax.plot(alpha_list, avg_fid[1,:],label=\"K/1000\")\n",
    "# Plot the vertical line using plt.axvline()\n",
    "ax.axvline(x=alpha_list[np.argmax(avg_fid[1,:])], color=colormap[1], linestyle='--')\n",
    "\n",
    "ax.plot(alpha_list, avg_fid[2,:],label=\"K/1500\")\n",
    "# Plot the vertical line using plt.axvline()\n",
    "ax.axvline(x=alpha_list[np.argmax(avg_fid[2,:])], color=colormap[2], linestyle='--')\n",
    "\n",
    "ax.plot(alpha_list, avg_fid[3,:],label=\"K/2000\")\n",
    "# Plot the vertical line using plt.axvline()\n",
    "ax.axvline(x=alpha_list[np.argmax(avg_fid[3,:])], color=colormap[3], linestyle='--')\n",
    "\n",
    "ax.set_xlabel(r'$\\alpha$')\n",
    "ax.set_ylabel(r'$\\bar F$')\n",
    "plt.legend()\n",
    "fig.savefig('../../figures/fig-avg-fid-vs-alpha-and-loss.pdf')"
   ]
  },
  {
   "cell_type": "code",
   "execution_count": 352,
   "id": "8e056914",
   "metadata": {},
   "outputs": [
    {
     "data": {
      "text/plain": [
       "1.3599999999999999"
      ]
     },
     "execution_count": 352,
     "metadata": {},
     "output_type": "execute_result"
    }
   ],
   "source": [
    "alpha_list[np.argmax(avg_fid[2,:])]"
   ]
  },
  {
   "cell_type": "markdown",
   "id": "636f3aa1",
   "metadata": {},
   "source": [
    "## RX-gate"
   ]
  },
  {
   "cell_type": "markdown",
   "id": "1bf479ca",
   "metadata": {},
   "source": [
    "To perform $R_x(\\theta)$ on a qubit, we use the detuning $\\Delta$. When $\\Delta$ is slowly increased from zero to a value $\\Delta_0$ near to $G$ and then decreased to zero, the even and odd cat states, obtain dynamical phase factors depending on their energy shifts due to the nonzero detuning. Thus the qubits change as follow ($\\theta$ is the phase difference between the even and odd cat state)\n",
    "$$\n",
    "\\begin{align}\n",
    "\\alpha_0|\\bar 0\\rangle +  \\alpha_1|\\bar 1 \\rangle =& \\frac{\\alpha_0+\\alpha_1}{2}(|\\bar 0\\rangle + |\\bar 1 \\rangle)\n",
    "\\frac{\\alpha_0-\\alpha_1}{2}(|\\bar 0\\rangle - |\\bar 1 \\rangle) \\\\\n",
    "\\rightarrow & \\frac{\\alpha_0+\\alpha_1}{2}(|\\bar 0\\rangle + |\\bar 1 \\rangle)\n",
    "\\frac{\\alpha_0-\\alpha_1}{2}e^{i\\theta}(|\\bar 0\\rangle - |\\bar 1 \\rangle) \\\\\n",
    "=&  e^{-i\\theta/2}\\left[\\left(\\alpha_0\\cos\\frac{\\theta}{2}-i\\alpha_1\\sin\\frac{\\theta}{2}\\right)|\\bar 0 \\rangle \n",
    "+ \\left(\\alpha_1\\cos\\frac{\\theta}{2}-i\\alpha_0\\sin\\frac{\\theta}{2}\\right)|\\bar 1 \\rangle \\right] \\\\\n",
    "=& e^{-i\\theta/2}R_x(\\theta)(\\alpha_0|\\bar 0\\rangle +\\alpha_1|\\bar 1\\rangle)\n",
    "\\end{align} \n",
    "$$\n",
    "Thus $R_x(\\theta)$ is achieved by this detuning protocol.\n",
    "\n",
    "Below we present numerical simulations. In the simulations below we set $G = 4K$ and $T_g = 10/K$, the initial state $|\\psi_i\\rangle$ is set to $(|\\bar 0\\rangle +i|\\bar 1\\rangle)/\\sqrt{2}$ and the Hilbert space is truncated to a photon number of $16$. The detuning protocol is controlled as follows\n",
    "$$\n",
    "\\Delta(t) = \\Delta_0\\sin^2\\frac{\\pi t}{T_g}.\n",
    "$$"
   ]
  },
  {
   "cell_type": "code",
   "execution_count": 451,
   "id": "61b79a8c",
   "metadata": {},
   "outputs": [],
   "source": [
    "num_lvl = 20 # number of levels\n",
    "a = destroy(num_lvl) # annihilation operator\n",
    "alpha = 1 # amplitude\n",
    "G = alpha**2 # two photon pump amplitude\n",
    "T_g = 10 # gate time\n",
    "\n",
    "cat_plus = (coherent(num_lvl,alpha) + coherent(num_lvl,-alpha)).unit()\n",
    "cat_minus = (coherent(num_lvl,alpha) - coherent(num_lvl,-alpha)).unit()\n",
    "\n",
    "# computational basis\n",
    "up = (cat_plus + cat_minus)/np.sqrt(2)\n",
    "down = (cat_plus - cat_minus)/np.sqrt(2)\n",
    "\n",
    "# initial state\n",
    "psi0 = up #(up+1j*down).unit()\n",
    "\n",
    "# Sigma-x in computational basis\n",
    "sigma_x = up*down.dag() + down*up.dag()\n",
    "\n",
    "# detuning\n",
    "def Delta(t,args):\n",
    "    Delta_0 = args['Delta_0']\n",
    "    return Delta_0 * pow(np.sin(np.pi*t/T_g),2)\n",
    "\n",
    "def rx(theta):\n",
    "    return (-1j*theta/2*sigma_x).expm()\n",
    "\n",
    "# Hamiltonian\n",
    "H0 = - pow(a.dag(),2)*pow(a,2) + G * (pow(a.dag(),2) + pow(a,2))\n",
    "H1 = - a.dag()*a\n",
    "H_tot = [H0,[H1,Delta]]"
   ]
  },
  {
   "cell_type": "markdown",
   "id": "fcef79fc",
   "metadata": {},
   "source": [
    "### Find the best $\\theta$ with respect to average gate fidelity"
   ]
  },
  {
   "cell_type": "code",
   "execution_count": 452,
   "id": "93ce6bff",
   "metadata": {},
   "outputs": [
    {
     "data": {
      "application/vnd.jupyter.widget-view+json": {
       "model_id": "d00a9201a3d14b8cadd5663edd602f23",
       "version_major": 2,
       "version_minor": 0
      },
      "text/plain": [
       "  0%|          | 0/20 [00:00<?, ?it/s]"
      ]
     },
     "metadata": {},
     "output_type": "display_data"
    }
   ],
   "source": [
    "cat_plus = (coherent(num_lvl,alpha) + coherent(num_lvl,-alpha)).unit()\n",
    "cat_minus = (coherent(num_lvl,alpha) - coherent(num_lvl,-alpha)).unit()\n",
    "\n",
    "# computational basis\n",
    "up = (cat_plus + cat_minus)/np.sqrt(2)\n",
    "down = (cat_plus - cat_minus)/np.sqrt(2)\n",
    "\n",
    "# Identity\n",
    "I = up*up.dag() + down*down.dag()\n",
    "# sigma z\n",
    "sigma_z = up*up.dag() - down*down.dag()\n",
    "# sigma x\n",
    "sigma_x = up*down.dag() + down*up.dag()\n",
    "# sigma y\n",
    "sigma_y = 1j*(-up*down.dag() + down*up.dag())\n",
    "# list with pauli matrices\n",
    "sigma = [I, sigma_x, sigma_y, sigma_z]\n",
    "\n",
    "# collapse operators\n",
    "gamma = 1/1500\n",
    "c_ops = np.sqrt(gamma)*a\n",
    "\n",
    "# time array\n",
    "tlist = np.linspace(0,T_g,200)\n",
    "\n",
    "# angle array\n",
    "theta_list = np.linspace(0,np.pi,180,endpoint=False)\n",
    "\n",
    "# amplitude array\n",
    "Delta_0_list = np.linspace(0,0.9,20,endpoint=False)\n",
    "\n",
    "max_f = [] # max fidelity\n",
    "max_theta = [] # max angle\n",
    "# For precise calculation\n",
    "opt = Options(nsteps=25000, atol=1e-10, rtol=1e-8)\n",
    "for Delta_0 in tqdm(Delta_0_list):\n",
    "    d = 2\n",
    "    f = []\n",
    "    epsilon = []\n",
    "    for sigma_j in sigma:\n",
    "        e = mesolve(H_tot, sigma_j, tlist, c_ops = c_ops, options=opt, args = {'Delta_0' : Delta_0})\n",
    "        epsilon.append(e.states[-1])\n",
    "    # find the theta that maximize the avg gate fidelity    \n",
    "    for theta in theta_list:\n",
    "        U = rx(theta) # target state\n",
    "        F = 0\n",
    "        for idx, rho in enumerate(epsilon):\n",
    "            F = F + abs((U*sigma[idx]*U.dag()*rho).tr())\n",
    "        f.append((F + d**2) / (d**2*(d+1)))\n",
    "    max_theta.append(theta_list[np.argmax(f)])\n",
    "    max_f.append(np.max(f))"
   ]
  },
  {
   "cell_type": "code",
   "execution_count": 453,
   "id": "a8d27a47",
   "metadata": {},
   "outputs": [],
   "source": [
    "xdata = np.array(Delta_0_list)\n",
    "ydata = np.array(max_theta)\n",
    "\n",
    "# Do a polyfit\n",
    "z = np.polyfit(xdata, ydata, deg=4)\n",
    "p = np.poly1d(z)"
   ]
  },
  {
   "cell_type": "code",
   "execution_count": 454,
   "id": "e959ea21",
   "metadata": {},
   "outputs": [
    {
     "data": {
      "text/plain": [
       "array([-7.32159876e-01,  9.74255497e-01,  4.88620382e-01,  2.88478631e+00,\n",
       "       -2.67318215e-03])"
      ]
     },
     "execution_count": 454,
     "metadata": {},
     "output_type": "execute_result"
    }
   ],
   "source": [
    "z"
   ]
  },
  {
   "cell_type": "code",
   "execution_count": 455,
   "id": "ab2dbb89",
   "metadata": {},
   "outputs": [
    {
     "data": {
      "image/png": "[encoded data removed]",
      "text/plain": [
       "<Figure size 337.5x208.586 with 1 Axes>"
      ]
     },
     "metadata": {},
     "output_type": "display_data"
    }
   ],
   "source": [
    "fig, ax = plt.subplots();\n",
    "#plt.subplot(211)\n",
    "ax.plot(Delta_0_list, max_theta, 'kD-');\n",
    "ax.plot(xdata, p(xdata))\n",
    "plt.grid(linestyle='--', linewidth=.5);\n",
    "plt.xlabel(r'$\\Delta_0/K$');\n",
    "plt.ylabel(r'$\\theta$');\n",
    "#plt.ticklabel_format(axis=\"y\", style=\"sci\", useOffset=False, scilimits=(0,0), useMathText=False);\n",
    "#plt.savefig('figs/fig-arg-rx.pdf', dpi=300, transparent=False, bbox_inches='tight')"
   ]
  },
  {
   "cell_type": "code",
   "execution_count": 265,
   "id": "baf63c12",
   "metadata": {},
   "outputs": [
    {
     "name": "stdout",
     "output_type": "stream",
     "text": [
      "The value of x for which f(x) = 0.1 is x = 7.186092209304778\n",
      "The average gate fidelity is 0.9697627694171436\n"
     ]
    }
   ],
   "source": [
    "import numpy as np\n",
    "from scipy.optimize import brentq\n",
    "\n",
    "# Define the given value of f(x)\n",
    "y_given = 0.1\n",
    "\n",
    "# Define the function to find the root of\n",
    "def func(x):\n",
    "    return p(x) - y_given\n",
    "\n",
    "# Find the root using the brentq method, searching in the interval (0, some_large_value)\n",
    "# You may need to adjust the interval depending on the polynomial and the given value of y\n",
    "x_value = brentq(func, 0, 13)\n",
    "\n",
    "print(f\"The value of x for which f(x) = {y_given} is x = {x_value}\")\n",
    "\n",
    "# Compute the average gate fidelity \n",
    "\n",
    "# For precise calculation\n",
    "opt = Options(nsteps=25000, atol=1e-10, rtol=1e-8)\n",
    "F = 0 \n",
    "for sigma_j in sigma:\n",
    "    res = mesolve(H_tot, sigma_j, tlist, c_ops = c_ops, options=opt, args = {'Delta_0' : x_value})\n",
    "    rho = res.states[-1]\n",
    "    U = rx(y_given) # target state\n",
    "    F = F + (U*sigma_j.dag()*U.dag()*rho).tr()\n",
    "avg_fid = ((F+d**2)/(d**2*(d+1))).real\n",
    "print(f\"The average gate fidelity is {avg_fid}\")    "
   ]
  },
  {
   "cell_type": "markdown",
   "id": "91830a14",
   "metadata": {},
   "source": [
    "# Avg gate fid"
   ]
  },
  {
   "cell_type": "code",
   "execution_count": 447,
   "id": "a7d2f5d9",
   "metadata": {},
   "outputs": [],
   "source": [
    "## KPO parameters\n",
    "kpo = KPOProcessor(N=1,alpha=1.36,num_lvl=20)\n",
    "alpha = kpo._paras['Coherent state']\n",
    "num_lvl = kpo._paras['Cut off']\n",
    "\n",
    "## Cat state\n",
    "cat_plus = (coherent(num_lvl,alpha) + coherent(num_lvl,-alpha)).unit()\n",
    "cat_minus = (coherent(num_lvl,alpha) - coherent(num_lvl,-alpha)).unit()\n",
    "\n",
    "## Computational basis\n",
    "up = (cat_plus + cat_minus)/np.sqrt(2) # Binary 0\n",
    "down = (cat_plus - cat_minus)/np.sqrt(2) # Binary 1\n",
    "\n",
    "## Pauli Matrices in computational basis\n",
    "# Identity\n",
    "I = up*up.dag() + down*down.dag()\n",
    "# sigma z\n",
    "sigma_z = up*up.dag() - down*down.dag()\n",
    "# sigma x\n",
    "sigma_x = up*down.dag() + down*up.dag()\n",
    "# sigma y\n",
    "sigma_y = 1j*(-up*down.dag() + down*up.dag())\n",
    "sigma = [sigma_x, sigma_y, sigma_z]"
   ]
  },
  {
   "cell_type": "code",
   "execution_count": 448,
   "id": "4c1f3ce8",
   "metadata": {},
   "outputs": [
    {
     "data": {
      "application/vnd.jupyter.widget-view+json": {
       "model_id": "d88cd8d7631a42188a63b15da18211c6",
       "version_major": 2,
       "version_minor": 0
      },
      "text/plain": [
       "  0%|          | 0/20 [00:00<?, ?it/s]"
      ]
     },
     "metadata": {},
     "output_type": "display_data"
    }
   ],
   "source": [
    "avg_fid = []\n",
    "## List of angles\n",
    "arg_list = np.linspace(0,np.pi,20,endpoint=False)\n",
    "\n",
    "## Loop over the list of angles and calculate the average gate fidelity\n",
    "for arg in tqdm(arg_list):\n",
    "    ## Create quantum circuit\n",
    "    qc = QubitCircuit(N=1)\n",
    "    qc.add_gate(\"RX\", 0, None, arg)\n",
    "    arg = arg % (np.pi)\n",
    "    ## Ideal gate\n",
    "    U = (-1j*arg/2*sigma_x).expm()\n",
    "    ## Average Gate Fidelity\n",
    "    d = 2\n",
    "    F = 0\n",
    "    for sigma_k in sigma:\n",
    "        ## Master equation\n",
    "        result = kpo.run_state(init_state=sigma_k, qc=qc, noisy=True)\n",
    "        final_state = result.states[-1]\n",
    "        ## Target state\n",
    "        target_state = U * sigma_k * U.dag()\n",
    "        F += (target_state * final_state).tr().real\n",
    "    avg_fid.append(1/2 + 1/12 * F)"
   ]
  },
  {
   "cell_type": "code",
   "execution_count": 449,
   "id": "fb464817",
   "metadata": {},
   "outputs": [
    {
     "name": "stdout",
     "output_type": "stream",
     "text": [
      "Average gate fidelity: 0.9928742722779409\n"
     ]
    }
   ],
   "source": [
    "print(\"Average gate fidelity:\",np.mean(avg_fid))"
   ]
  },
  {
   "cell_type": "code",
   "execution_count": 450,
   "id": "32af4ade",
   "metadata": {},
   "outputs": [
    {
     "data": {
      "image/png": "[encoded data removed]",
      "text/plain": [
       "<Figure size 337.5x208.586 with 1 Axes>"
      ]
     },
     "metadata": {},
     "output_type": "display_data"
    }
   ],
   "source": [
    "fig, ax = plotlib.create_fig()\n",
    "ax.plot(arg_list, 1-np.array(avg_fid),'ko',linestyle=(0, (2, 1)))\n",
    "ax.set_xlabel(r'$\\theta$');\n",
    "ax.set_ylabel(r'$1-\\bar F$');\n",
    "ax.set_xlim([-0.15,pi])\n",
    "ax.set_xticks([0,pi/4,pi/2,3*pi/4,pi])\n",
    "#ax.set_yticks([9.83e-1,9.85e-1,9.87e-1])\n",
    "ax.set_xticklabels([r'$0$',r'$\\pi/4$',r'$\\pi/2$',r'$3\\pi/4$',r'$\\pi$'])\n",
    "# Format the exponents nicely\n",
    "ax.ticklabel_format(axis=\"y\", style=\"sci\", scilimits=(-0,-7), useOffset=False, useMathText=False)"
   ]
  },
  {
   "cell_type": "markdown",
   "id": "711a1c3b",
   "metadata": {},
   "source": [
    "### Compute the average gate fidelity for different $\\alpha$m"
   ]
  },
  {
   "cell_type": "code",
   "execution_count": null,
   "id": "02673c23",
   "metadata": {},
   "outputs": [],
   "source": [
    "alpha_list = np.linspace(1,3,21)\n",
    "avg_fid = []\n",
    "## KPO parameters\n",
    "for alpha in tqdm(alpha_list):\n",
    "    kpo = KPOProcessor(N=1,alpha=alpha,num_lvl=30)\n",
    "    alpha = kpo._paras['Coherent state']\n",
    "    num_lvl = kpo._paras['Cut off']\n",
    "\n",
    "    ## Cat state\n",
    "    cat_plus = (coherent(num_lvl,alpha) + coherent(num_lvl,-alpha)).unit()\n",
    "    cat_minus = (coherent(num_lvl,alpha) - coherent(num_lvl,-alpha)).unit()\n",
    "\n",
    "    ## Computational basis\n",
    "    up = (cat_plus + cat_minus)/np.sqrt(2) # Binary 0\n",
    "    down = (cat_plus - cat_minus)/np.sqrt(2) # Binary 1\n",
    "\n",
    "    ## Pauli Matrices in computational basis\n",
    "    # Identity\n",
    "    I = up*up.dag() + down*down.dag()\n",
    "    # sigma z\n",
    "    sigma_z = up*up.dag() - down*down.dag()\n",
    "    # sigma x\n",
    "    sigma_x = up*down.dag() + down*up.dag()\n",
    "    # sigma y\n",
    "    sigma_y = 1j*(-up*down.dag() + down*up.dag())\n",
    "    sigma = [sigma_x, sigma_y, sigma_z]\n",
    "    \n",
    "    # pick an argument\n",
    "    arg = np.pi/4\n",
    "    \n",
    "    ## Create quantum circuit\n",
    "    qc = QubitCircuit(N=1)\n",
    "    qc.add_gate(\"RZ\", 0, None, arg)\n",
    "    \n",
    "    ## Ideal gate\n",
    "    U = (-1j*arg/2*sigma_z).expm()\n",
    "    \n",
    "    ## Average Gate Fidelity\n",
    "    F = 0\n",
    "    for sigma_k in sigma:\n",
    "        ## Master equation\n",
    "        result = kpo.run_state(init_state=sigma_k, qc=qc, noisy=True)\n",
    "        final_state = result.states[-1]\n",
    "        ## Target state\n",
    "        target_state = U * sigma_k * U.dag()\n",
    "        F += (target_state * final_state).tr().real\n",
    "    avg_fid.append(1/2 + 1/12 * F)"
   ]
  },
  {
   "cell_type": "markdown",
   "id": "eb4d2d87",
   "metadata": {},
   "source": [
    "## RY-gate"
   ]
  },
  {
   "cell_type": "code",
   "execution_count": 132,
   "id": "699bb1a3",
   "metadata": {},
   "outputs": [
    {
     "data": {
      "application/vnd.jupyter.widget-view+json": {
       "model_id": "0641ddf85e074afda8e5912c51e8b303",
       "version_major": 2,
       "version_minor": 0
      },
      "text/plain": [
       "  0%|          | 0/10 [00:00<?, ?it/s]"
      ]
     },
     "metadata": {},
     "output_type": "display_data"
    }
   ],
   "source": [
    "avg_fid = []\n",
    "## List of angles\n",
    "arg_list = np.linspace(0,np.pi,10)\n",
    "\n",
    "## Loop over the list of angles and calculate the average gate fidelity\n",
    "for arg in tqdm(arg_list):\n",
    "    ## Create quantum circuit\n",
    "    qc = QubitCircuit(N=1)\n",
    "    qc.add_gate(\"RY\", 0, None, arg)\n",
    "    \n",
    "    ## Ideal gate\n",
    "    U = (-1j*arg/2*sigma_y).expm()\n",
    "    \n",
    "    ## Average Gate Fidelity\n",
    "    F = 0\n",
    "    for sigma_k in sigma:\n",
    "        ## Master equation\n",
    "        result = kpo.run_state(init_state=sigma_k, qc=qc, noisy=True)\n",
    "        final_state = result.states[-1]\n",
    "        ## Target state\n",
    "        target_state = U * sigma_k * U.dag()\n",
    "        F += (target_state * final_state).tr().real\n",
    "    avg_fid.append(1/2 + 1/12 * F)"
   ]
  },
  {
   "cell_type": "code",
   "execution_count": 133,
   "id": "7fea17e1",
   "metadata": {},
   "outputs": [
    {
     "data": {
      "image/png": "[encoded data removed]",
      "text/plain": [
       "<Figure size 337.5x208.586 with 1 Axes>"
      ]
     },
     "metadata": {},
     "output_type": "display_data"
    }
   ],
   "source": [
    "fig, ax = plotlib.create_fig()\n",
    "ax.plot(arg_list, avg_fid, 'ko',linestyle=(0, (2, 1)))\n",
    "ax.set_xlabel(r'$\\varphi$');\n",
    "ax.set_ylabel(r'$\\bar F$');\n",
    "ax.grid(linestyle='--', linewidth=.5)\n",
    "# Format the exponents nicely\n",
    "ax.ticklabel_format(axis=\"y\", style=\"sci\", scilimits=(-0,-7), useOffset=False, useMathText=False)"
   ]
  },
  {
   "cell_type": "markdown",
   "id": "e309bc8e",
   "metadata": {},
   "source": [
    "### Compute the average gate fidelity for different $\\alpha$"
   ]
  },
  {
   "cell_type": "code",
   "execution_count": 160,
   "id": "a7d95c52",
   "metadata": {},
   "outputs": [
    {
     "data": {
      "application/vnd.jupyter.widget-view+json": {
       "model_id": "bb10fe8fb4074aad86d15f0354124700",
       "version_major": 2,
       "version_minor": 0
      },
      "text/plain": [
       "  0%|          | 0/21 [00:00<?, ?it/s]"
      ]
     },
     "metadata": {},
     "output_type": "display_data"
    }
   ],
   "source": [
    "alpha_list = np.linspace(1,3,21)\n",
    "avg_fid = []\n",
    "## KPO parameters\n",
    "for alpha in tqdm(alpha_list):\n",
    "    kpo = KPOProcessor(N=1,alpha=alpha,num_lvl=40)\n",
    "    alpha = kpo._paras['Coherent state']\n",
    "    num_lvl = kpo._paras['Cut off']\n",
    "\n",
    "    ## Cat state\n",
    "    cat_plus = (coherent(num_lvl,alpha) + coherent(num_lvl,-alpha)).unit()\n",
    "    cat_minus = (coherent(num_lvl,alpha) - coherent(num_lvl,-alpha)).unit()\n",
    "\n",
    "    ## Computational basis\n",
    "    up = (cat_plus + cat_minus)/np.sqrt(2) # Binary 0\n",
    "    down = (cat_plus - cat_minus)/np.sqrt(2) # Binary 1\n",
    "\n",
    "    ## Pauli Matrices in computational basis\n",
    "    # Identity\n",
    "    I = up*up.dag() + down*down.dag()\n",
    "    # sigma z\n",
    "    sigma_z = up*up.dag() - down*down.dag()\n",
    "    # sigma x\n",
    "    sigma_x = up*down.dag() + down*up.dag()\n",
    "    # sigma y\n",
    "    sigma_y = 1j*(-up*down.dag() + down*up.dag())\n",
    "    sigma = [sigma_x, sigma_y, sigma_z]\n",
    "    \n",
    "    # pick an argument\n",
    "    arg = np.pi/4\n",
    "    \n",
    "    ## Create quantum circuit\n",
    "    qc = QubitCircuit(N=1)\n",
    "    qc.add_gate(\"RY\", 0, None, arg)\n",
    "    \n",
    "    ## Ideal gate\n",
    "    U = (-1j*arg/2*sigma_y).expm()\n",
    "    \n",
    "    ## Average Gate Fidelity\n",
    "    F = 0\n",
    "    for sigma_k in sigma:\n",
    "        ## Master equation\n",
    "        result = kpo.run_state(init_state=sigma_k, qc=qc, noisy=True)\n",
    "        final_state = result.states[-1]\n",
    "        ## Target state\n",
    "        target_state = U * sigma_k * U.dag()\n",
    "        F += (target_state * final_state).tr().real\n",
    "    avg_fid.append(1/2 + 1/12 * F)"
   ]
  },
  {
   "cell_type": "code",
   "execution_count": 165,
   "id": "dc81702f",
   "metadata": {},
   "outputs": [
    {
     "data": {
      "text/plain": [
       "[<matplotlib.lines.Line2D at 0x7fe52635fe80>]"
      ]
     },
     "execution_count": 165,
     "metadata": {},
     "output_type": "execute_result"
    },
    {
     "data": {
      "image/png": "[encoded data removed]",
      "text/plain": [
       "<Figure size 337.5x208.586 with 1 Axes>"
      ]
     },
     "metadata": {},
     "output_type": "display_data"
    }
   ],
   "source": [
    "import matplotlib.pyplot as plt\n",
    "plt.plot(alpha_list, avg_fid)"
   ]
  },
  {
   "cell_type": "markdown",
   "id": "7bc5da99",
   "metadata": {},
   "source": [
    "## Setup parameters for the two-qubit gates"
   ]
  },
  {
   "cell_type": "code",
   "execution_count": 166,
   "id": "f960ff5e",
   "metadata": {},
   "outputs": [],
   "source": [
    "## KPO parameters\n",
    "kpo = KPOProcessor(N=2,num_lvl=30)\n",
    "alpha = kpo._paras['Coherent state']\n",
    "num_lvl = kpo._paras['Cut off']\n",
    "\n",
    "## Cat state\n",
    "cat_plus = (coherent(num_lvl,alpha) + coherent(num_lvl,-alpha)).unit()\n",
    "cat_minus = (coherent(num_lvl,alpha) - coherent(num_lvl,-alpha)).unit()\n",
    "\n",
    "## Computational basis\n",
    "up = (cat_plus + cat_minus)/np.sqrt(2) # Binary 0\n",
    "down = (cat_plus - cat_minus)/np.sqrt(2) # Binary 1\n",
    "\n",
    "## Pauli Matrices in computational basis\n",
    "# Identity\n",
    "I = up*up.dag() + down*down.dag()\n",
    "# sigma z\n",
    "sigma_z = up*up.dag() - down*down.dag()\n",
    "# sigma x\n",
    "sigma_x = up*down.dag() + down*up.dag()\n",
    "# sigma y\n",
    "sigma_y = 1j*(-up*down.dag() + down*up.dag())\n",
    "sigma = [I,sigma_x, sigma_y, sigma_z]"
   ]
  },
  {
   "cell_type": "markdown",
   "id": "cfbcf7f5",
   "metadata": {},
   "source": [
    "## RZZ-gate"
   ]
  },
  {
   "cell_type": "code",
   "execution_count": 167,
   "id": "68008819",
   "metadata": {},
   "outputs": [],
   "source": [
    "# Define the Ising-ZZ gate\n",
    "def carb(arg_value):\n",
    "    # control arbitrary phase gate\n",
    "    zz = tensor(sigmaz(),sigmaz())\n",
    "    return (-1j*arg_value/2*zz).expm()"
   ]
  },
  {
   "cell_type": "code",
   "execution_count": 142,
   "id": "839981d4",
   "metadata": {
    "scrolled": false
   },
   "outputs": [
    {
     "data": {
      "application/vnd.jupyter.widget-view+json": {
       "model_id": "aa276bb9685841a58b0fa1179b1b56ff",
       "version_major": 2,
       "version_minor": 0
      },
      "text/plain": [
       "0it [00:00, ?it/s]"
      ]
     },
     "metadata": {},
     "output_type": "display_data"
    },
    {
     "ename": "KeyboardInterrupt",
     "evalue": "",
     "output_type": "error",
     "traceback": [
      "\u001b[0;31m---------------------------------------------------------------------------\u001b[0m",
      "\u001b[0;31mKeyboardInterrupt\u001b[0m                         Traceback (most recent call last)",
      "Cell \u001b[0;32mIn[142], line 22\u001b[0m\n\u001b[1;32m     20\u001b[0m sigma_kl \u001b[38;5;241m=\u001b[39m tensor(sigma_k,sigma_l)\n\u001b[1;32m     21\u001b[0m \u001b[38;5;66;03m## Master equation\u001b[39;00m\n\u001b[0;32m---> 22\u001b[0m result \u001b[38;5;241m=\u001b[39m \u001b[43mkpo\u001b[49m\u001b[38;5;241;43m.\u001b[39;49m\u001b[43mrun_state\u001b[49m\u001b[43m(\u001b[49m\u001b[43minit_state\u001b[49m\u001b[38;5;241;43m=\u001b[39;49m\u001b[43msigma_kl\u001b[49m\u001b[43m,\u001b[49m\u001b[43m \u001b[49m\u001b[43mqc\u001b[49m\u001b[38;5;241;43m=\u001b[39;49m\u001b[43mqc\u001b[49m\u001b[43m,\u001b[49m\u001b[43m \u001b[49m\u001b[43mnoisy\u001b[49m\u001b[38;5;241;43m=\u001b[39;49m\u001b[38;5;28;43;01mFalse\u001b[39;49;00m\u001b[43m)\u001b[49m\n\u001b[1;32m     23\u001b[0m final_state \u001b[38;5;241m=\u001b[39m result\u001b[38;5;241m.\u001b[39mstates[\u001b[38;5;241m-\u001b[39m\u001b[38;5;241m1\u001b[39m]\n\u001b[1;32m     24\u001b[0m \u001b[38;5;66;03m## Target state\u001b[39;00m\n",
      "File \u001b[0;32m~/Documents/GitHub/QAOA-with-Cat-Qubits/qaoa_with_cat_qubits/cvdevice/kpoprocessor.py:194\u001b[0m, in \u001b[0;36mKPOProcessor.run_state\u001b[0;34m(self, init_state, analytical, qc, states, noisy, **kwargs)\u001b[0m\n\u001b[1;32m    191\u001b[0m \u001b[38;5;28;01mif\u001b[39;00m noisy \u001b[38;5;241m==\u001b[39m \u001b[38;5;28;01mTrue\u001b[39;00m:\n\u001b[1;32m    192\u001b[0m     kwargs[\u001b[38;5;124m\"\u001b[39m\u001b[38;5;124mc_ops\u001b[39m\u001b[38;5;124m\"\u001b[39m] \u001b[38;5;241m=\u001b[39m \u001b[38;5;28mself\u001b[39m\u001b[38;5;241m.\u001b[39mc_ops\n\u001b[0;32m--> 194\u001b[0m \u001b[38;5;28;01mreturn\u001b[39;00m \u001b[38;5;28;43msuper\u001b[39;49m\u001b[43m(\u001b[49m\u001b[43mKPOProcessor\u001b[49m\u001b[43m,\u001b[49m\u001b[43m \u001b[49m\u001b[38;5;28;43mself\u001b[39;49m\u001b[43m)\u001b[49m\u001b[38;5;241;43m.\u001b[39;49m\u001b[43mrun_state\u001b[49m\u001b[43m(\u001b[49m\n\u001b[1;32m    195\u001b[0m \u001b[43m    \u001b[49m\u001b[43minit_state\u001b[49m\u001b[38;5;241;43m=\u001b[39;49m\u001b[43minit_state\u001b[49m\u001b[43m,\u001b[49m\u001b[43m \u001b[49m\u001b[43manalytical\u001b[49m\u001b[38;5;241;43m=\u001b[39;49m\u001b[43manalytical\u001b[49m\u001b[43m,\u001b[49m\n\u001b[1;32m    196\u001b[0m \u001b[43m    \u001b[49m\u001b[43mstates\u001b[49m\u001b[38;5;241;43m=\u001b[39;49m\u001b[43mstates\u001b[49m\u001b[43m,\u001b[49m\u001b[43m \u001b[49m\u001b[38;5;241;43m*\u001b[39;49m\u001b[38;5;241;43m*\u001b[39;49m\u001b[43mkwargs\u001b[49m\u001b[43m)\u001b[49m\n",
      "File \u001b[0;32m~/opt/anaconda3/lib/python3.9/site-packages/qutip/qip/device/processor.py:749\u001b[0m, in \u001b[0;36mProcessor.run_state\u001b[0;34m(self, init_state, analytical, states, noisy, solver, **kwargs)\u001b[0m\n\u001b[1;32m    747\u001b[0m \u001b[38;5;66;03m# choose solver:\u001b[39;00m\n\u001b[1;32m    748\u001b[0m \u001b[38;5;28;01mif\u001b[39;00m solver \u001b[38;5;241m==\u001b[39m \u001b[38;5;124m\"\u001b[39m\u001b[38;5;124mmesolve\u001b[39m\u001b[38;5;124m\"\u001b[39m:\n\u001b[0;32m--> 749\u001b[0m     evo_result \u001b[38;5;241m=\u001b[39m \u001b[43mmesolve\u001b[49m\u001b[43m(\u001b[49m\n\u001b[1;32m    750\u001b[0m \u001b[43m        \u001b[49m\u001b[43mH\u001b[49m\u001b[38;5;241;43m=\u001b[39;49m\u001b[43mnoisy_qobjevo\u001b[49m\u001b[43m,\u001b[49m\u001b[43m \u001b[49m\u001b[43mrho0\u001b[49m\u001b[38;5;241;43m=\u001b[39;49m\u001b[43minit_state\u001b[49m\u001b[43m,\u001b[49m\n\u001b[1;32m    751\u001b[0m \u001b[43m        \u001b[49m\u001b[43mtlist\u001b[49m\u001b[38;5;241;43m=\u001b[39;49m\u001b[43mnoisy_qobjevo\u001b[49m\u001b[38;5;241;43m.\u001b[39;49m\u001b[43mtlist\u001b[49m\u001b[43m,\u001b[49m\u001b[43m \u001b[49m\u001b[38;5;241;43m*\u001b[39;49m\u001b[38;5;241;43m*\u001b[39;49m\u001b[43mkwargs\u001b[49m\u001b[43m)\u001b[49m\n\u001b[1;32m    752\u001b[0m \u001b[38;5;28;01melif\u001b[39;00m solver \u001b[38;5;241m==\u001b[39m \u001b[38;5;124m\"\u001b[39m\u001b[38;5;124mmcsolve\u001b[39m\u001b[38;5;124m\"\u001b[39m:\n\u001b[1;32m    753\u001b[0m     evo_result \u001b[38;5;241m=\u001b[39m mcsolve(\n\u001b[1;32m    754\u001b[0m         H\u001b[38;5;241m=\u001b[39mnoisy_qobjevo, psi0\u001b[38;5;241m=\u001b[39minit_state,\n\u001b[1;32m    755\u001b[0m         tlist\u001b[38;5;241m=\u001b[39mnoisy_qobjevo\u001b[38;5;241m.\u001b[39mtlist, \u001b[38;5;241m*\u001b[39m\u001b[38;5;241m*\u001b[39mkwargs)\n",
      "File \u001b[0;32m~/opt/anaconda3/lib/python3.9/site-packages/qutip/mesolve.py:244\u001b[0m, in \u001b[0;36mmesolve\u001b[0;34m(H, rho0, tlist, c_ops, e_ops, args, options, progress_bar, _safe_mode)\u001b[0m\n\u001b[1;32m    241\u001b[0m     v \u001b[38;5;241m=\u001b[39m rho0\u001b[38;5;241m.\u001b[39mfull()\u001b[38;5;241m.\u001b[39mravel(\u001b[38;5;124m'\u001b[39m\u001b[38;5;124mF\u001b[39m\u001b[38;5;124m'\u001b[39m)\n\u001b[1;32m    242\u001b[0m     func(\u001b[38;5;241m0.\u001b[39m, v, \u001b[38;5;241m*\u001b[39mode_args) \u001b[38;5;241m+\u001b[39m v\n\u001b[0;32m--> 244\u001b[0m res \u001b[38;5;241m=\u001b[39m \u001b[43m_generic_ode_solve\u001b[49m\u001b[43m(\u001b[49m\u001b[43mfunc\u001b[49m\u001b[43m,\u001b[49m\u001b[43m \u001b[49m\u001b[43mode_args\u001b[49m\u001b[43m,\u001b[49m\u001b[43m \u001b[49m\u001b[43mrho0\u001b[49m\u001b[43m,\u001b[49m\u001b[43m \u001b[49m\u001b[43mtlist\u001b[49m\u001b[43m,\u001b[49m\u001b[43m \u001b[49m\u001b[43me_ops\u001b[49m\u001b[43m,\u001b[49m\u001b[43m \u001b[49m\u001b[43moptions\u001b[49m\u001b[43m,\u001b[49m\n\u001b[1;32m    245\u001b[0m \u001b[43m                         \u001b[49m\u001b[43mprogress_bar\u001b[49m\u001b[43m,\u001b[49m\u001b[43m \u001b[49m\u001b[43mdims\u001b[49m\u001b[38;5;241;43m=\u001b[39;49m\u001b[43mrho0\u001b[49m\u001b[38;5;241;43m.\u001b[39;49m\u001b[43mdims\u001b[49m\u001b[43m)\u001b[49m\n\u001b[1;32m    246\u001b[0m res\u001b[38;5;241m.\u001b[39mnum_collapse \u001b[38;5;241m=\u001b[39m \u001b[38;5;28mlen\u001b[39m(c_ops)\n\u001b[1;32m    248\u001b[0m \u001b[38;5;28;01mif\u001b[39;00m e_ops_dict:\n",
      "File \u001b[0;32m~/opt/anaconda3/lib/python3.9/site-packages/qutip/mesolve.py:531\u001b[0m, in \u001b[0;36m_generic_ode_solve\u001b[0;34m(func, ode_args, rho0, tlist, e_ops, opt, progress_bar, dims)\u001b[0m\n\u001b[1;32m    526\u001b[0m             output\u001b[38;5;241m.\u001b[39mexpect[m][t_idx] \u001b[38;5;241m=\u001b[39m expect_rho_vec(e_ops_data[m], r\u001b[38;5;241m.\u001b[39my,\n\u001b[1;32m    527\u001b[0m                                                      e_ops[m]\u001b[38;5;241m.\u001b[39misherm\n\u001b[1;32m    528\u001b[0m                                                      \u001b[38;5;129;01mand\u001b[39;00m rho0\u001b[38;5;241m.\u001b[39misherm)\n\u001b[1;32m    530\u001b[0m     \u001b[38;5;28;01mif\u001b[39;00m t_idx \u001b[38;5;241m<\u001b[39m n_tsteps \u001b[38;5;241m-\u001b[39m \u001b[38;5;241m1\u001b[39m:\n\u001b[0;32m--> 531\u001b[0m         \u001b[43mr\u001b[49m\u001b[38;5;241;43m.\u001b[39;49m\u001b[43mintegrate\u001b[49m\u001b[43m(\u001b[49m\u001b[43mr\u001b[49m\u001b[38;5;241;43m.\u001b[39;49m\u001b[43mt\u001b[49m\u001b[43m \u001b[49m\u001b[38;5;241;43m+\u001b[39;49m\u001b[43m \u001b[49m\u001b[43mdt\u001b[49m\u001b[43m[\u001b[49m\u001b[43mt_idx\u001b[49m\u001b[43m]\u001b[49m\u001b[43m)\u001b[49m\n\u001b[1;32m    533\u001b[0m progress_bar\u001b[38;5;241m.\u001b[39mfinished()\n\u001b[1;32m    535\u001b[0m \u001b[38;5;28;01mif\u001b[39;00m opt\u001b[38;5;241m.\u001b[39mstore_final_state:\n",
      "File \u001b[0;32m~/opt/anaconda3/lib/python3.9/site-packages/scipy/integrate/_ode.py:431\u001b[0m, in \u001b[0;36mode.integrate\u001b[0;34m(self, t, step, relax)\u001b[0m\n\u001b[1;32m    428\u001b[0m     mth \u001b[38;5;241m=\u001b[39m \u001b[38;5;28mself\u001b[39m\u001b[38;5;241m.\u001b[39m_integrator\u001b[38;5;241m.\u001b[39mrun\n\u001b[1;32m    430\u001b[0m \u001b[38;5;28;01mtry\u001b[39;00m:\n\u001b[0;32m--> 431\u001b[0m     \u001b[38;5;28mself\u001b[39m\u001b[38;5;241m.\u001b[39m_y, \u001b[38;5;28mself\u001b[39m\u001b[38;5;241m.\u001b[39mt \u001b[38;5;241m=\u001b[39m \u001b[43mmth\u001b[49m\u001b[43m(\u001b[49m\u001b[38;5;28;43mself\u001b[39;49m\u001b[38;5;241;43m.\u001b[39;49m\u001b[43mf\u001b[49m\u001b[43m,\u001b[49m\u001b[43m \u001b[49m\u001b[38;5;28;43mself\u001b[39;49m\u001b[38;5;241;43m.\u001b[39;49m\u001b[43mjac\u001b[49m\u001b[43m \u001b[49m\u001b[38;5;129;43;01mor\u001b[39;49;00m\u001b[43m \u001b[49m\u001b[43m(\u001b[49m\u001b[38;5;28;43;01mlambda\u001b[39;49;00m\u001b[43m:\u001b[49m\u001b[43m \u001b[49m\u001b[38;5;28;43;01mNone\u001b[39;49;00m\u001b[43m)\u001b[49m\u001b[43m,\u001b[49m\n\u001b[1;32m    432\u001b[0m \u001b[43m                          \u001b[49m\u001b[38;5;28;43mself\u001b[39;49m\u001b[38;5;241;43m.\u001b[39;49m\u001b[43m_y\u001b[49m\u001b[43m,\u001b[49m\u001b[43m \u001b[49m\u001b[38;5;28;43mself\u001b[39;49m\u001b[38;5;241;43m.\u001b[39;49m\u001b[43mt\u001b[49m\u001b[43m,\u001b[49m\u001b[43m \u001b[49m\u001b[43mt\u001b[49m\u001b[43m,\u001b[49m\n\u001b[1;32m    433\u001b[0m \u001b[43m                          \u001b[49m\u001b[38;5;28;43mself\u001b[39;49m\u001b[38;5;241;43m.\u001b[39;49m\u001b[43mf_params\u001b[49m\u001b[43m,\u001b[49m\u001b[43m \u001b[49m\u001b[38;5;28;43mself\u001b[39;49m\u001b[38;5;241;43m.\u001b[39;49m\u001b[43mjac_params\u001b[49m\u001b[43m)\u001b[49m\n\u001b[1;32m    434\u001b[0m \u001b[38;5;28;01mexcept\u001b[39;00m \u001b[38;5;167;01mSystemError\u001b[39;00m \u001b[38;5;28;01mas\u001b[39;00m e:\n\u001b[1;32m    435\u001b[0m     \u001b[38;5;66;03m# f2py issue with tuple returns, see ticket 1187.\u001b[39;00m\n\u001b[1;32m    436\u001b[0m     \u001b[38;5;28;01mraise\u001b[39;00m \u001b[38;5;167;01mValueError\u001b[39;00m(\n\u001b[1;32m    437\u001b[0m         \u001b[38;5;124m'\u001b[39m\u001b[38;5;124mFunction to integrate must not return a tuple.\u001b[39m\u001b[38;5;124m'\u001b[39m\n\u001b[1;32m    438\u001b[0m     ) \u001b[38;5;28;01mfrom\u001b[39;00m \u001b[38;5;21;01me\u001b[39;00m\n",
      "File \u001b[0;32m~/opt/anaconda3/lib/python3.9/site-packages/scipy/integrate/_ode.py:1007\u001b[0m, in \u001b[0;36mvode.run\u001b[0;34m(self, f, jac, y0, t0, t1, f_params, jac_params)\u001b[0m\n\u001b[1;32m   1003\u001b[0m     jac \u001b[38;5;241m=\u001b[39m _vode_banded_jac_wrapper(jac, \u001b[38;5;28mself\u001b[39m\u001b[38;5;241m.\u001b[39mml, jac_params)\n\u001b[1;32m   1005\u001b[0m args \u001b[38;5;241m=\u001b[39m ((f, jac, y0, t0, t1) \u001b[38;5;241m+\u001b[39m \u001b[38;5;28mtuple\u001b[39m(\u001b[38;5;28mself\u001b[39m\u001b[38;5;241m.\u001b[39mcall_args) \u001b[38;5;241m+\u001b[39m\n\u001b[1;32m   1006\u001b[0m         (f_params, jac_params))\n\u001b[0;32m-> 1007\u001b[0m y1, t, istate \u001b[38;5;241m=\u001b[39m \u001b[38;5;28;43mself\u001b[39;49m\u001b[38;5;241;43m.\u001b[39;49m\u001b[43mrunner\u001b[49m\u001b[43m(\u001b[49m\u001b[38;5;241;43m*\u001b[39;49m\u001b[43margs\u001b[49m\u001b[43m)\u001b[49m\n\u001b[1;32m   1008\u001b[0m \u001b[38;5;28mself\u001b[39m\u001b[38;5;241m.\u001b[39mistate \u001b[38;5;241m=\u001b[39m istate\n\u001b[1;32m   1009\u001b[0m \u001b[38;5;28;01mif\u001b[39;00m istate \u001b[38;5;241m<\u001b[39m \u001b[38;5;241m0\u001b[39m:\n",
      "\u001b[0;31mKeyboardInterrupt\u001b[0m: "
     ]
    }
   ],
   "source": [
    "avg_fid = []\n",
    "## List of angles (Since this takes quite long we can reduce it to two angles)\n",
    "arg_list = np.linspace(0,np.pi,2)\n",
    "\n",
    "## Loop over the list of angles and calculate the average gate fidelity\n",
    "for i, arg in tqdm(enumerate(arg_list)):\n",
    "    ## Create quantum circuit\n",
    "    qc = QubitCircuit(N=2)\n",
    "    qc.user_gates = {\"CARB\": carb}\n",
    "    qc.add_gate(\"CARB\", targets = [0,1], arg_value = arg)\n",
    "    \n",
    "    ## Ideal gate\n",
    "    U = (-1j*arg*tensor(sigma_z,sigma_z)/2).expm()\n",
    "    \n",
    "    ## Average Gate Fidelity\n",
    "    d = 4\n",
    "    F = 0\n",
    "    for sigma_k in sigma:\n",
    "        for sigma_l in sigma:\n",
    "            sigma_kl = tensor(sigma_k,sigma_l)\n",
    "            ## Master equation\n",
    "            result = kpo.run_state(init_state=sigma_kl, qc=qc, noisy=False)\n",
    "            final_state = result.states[-1]\n",
    "            ## Target state\n",
    "            target_state = U * sigma_kl.dag() * U.dag()\n",
    "            F += abs((target_state * final_state).tr())\n",
    "    avg_fid.append((F + d**2) / (d**2*(d+1)))"
   ]
  },
  {
   "cell_type": "code",
   "execution_count": null,
   "id": "3a72ff45",
   "metadata": {},
   "outputs": [],
   "source": [
    "print(\"Average gate fidelity:\",np.mean(avg_fid))"
   ]
  },
  {
   "cell_type": "markdown",
   "id": "381fca56",
   "metadata": {},
   "source": [
    "### Average gate fidelity as function of $\\alpha$"
   ]
  },
  {
   "cell_type": "code",
   "execution_count": 168,
   "id": "2a60f092",
   "metadata": {},
   "outputs": [
    {
     "data": {
      "application/vnd.jupyter.widget-view+json": {
       "model_id": "55ae1448501e4b5080753c975b72ef82",
       "version_major": 2,
       "version_minor": 0
      },
      "text/plain": [
       "  0%|          | 0/21 [00:00<?, ?it/s]"
      ]
     },
     "metadata": {},
     "output_type": "display_data"
    },
    {
     "ename": "KeyboardInterrupt",
     "evalue": "",
     "output_type": "error",
     "traceback": [
      "\u001b[0;31m---------------------------------------------------------------------------\u001b[0m",
      "\u001b[0;31mKeyboardInterrupt\u001b[0m                         Traceback (most recent call last)",
      "Cell \u001b[0;32mIn[168], line 44\u001b[0m\n\u001b[1;32m     42\u001b[0m sigma_kl \u001b[38;5;241m=\u001b[39m tensor(sigma_k,sigma_l)\n\u001b[1;32m     43\u001b[0m \u001b[38;5;66;03m## Master equation\u001b[39;00m\n\u001b[0;32m---> 44\u001b[0m result \u001b[38;5;241m=\u001b[39m \u001b[43mkpo\u001b[49m\u001b[38;5;241;43m.\u001b[39;49m\u001b[43mrun_state\u001b[49m\u001b[43m(\u001b[49m\u001b[43minit_state\u001b[49m\u001b[38;5;241;43m=\u001b[39;49m\u001b[43msigma_kl\u001b[49m\u001b[43m,\u001b[49m\u001b[43m \u001b[49m\u001b[43mqc\u001b[49m\u001b[38;5;241;43m=\u001b[39;49m\u001b[43mqc\u001b[49m\u001b[43m,\u001b[49m\u001b[43m \u001b[49m\u001b[43mnoisy\u001b[49m\u001b[38;5;241;43m=\u001b[39;49m\u001b[38;5;28;43;01mFalse\u001b[39;49;00m\u001b[43m)\u001b[49m\n\u001b[1;32m     45\u001b[0m final_state \u001b[38;5;241m=\u001b[39m result\u001b[38;5;241m.\u001b[39mstates[\u001b[38;5;241m-\u001b[39m\u001b[38;5;241m1\u001b[39m]\n\u001b[1;32m     46\u001b[0m \u001b[38;5;66;03m## Target state\u001b[39;00m\n",
      "File \u001b[0;32m~/Documents/GitHub/QAOA-with-Cat-Qubits/qaoa_with_cat_qubits/cvdevice/kpoprocessor.py:194\u001b[0m, in \u001b[0;36mKPOProcessor.run_state\u001b[0;34m(self, init_state, analytical, qc, states, noisy, **kwargs)\u001b[0m\n\u001b[1;32m    191\u001b[0m \u001b[38;5;28;01mif\u001b[39;00m noisy \u001b[38;5;241m==\u001b[39m \u001b[38;5;28;01mTrue\u001b[39;00m:\n\u001b[1;32m    192\u001b[0m     kwargs[\u001b[38;5;124m\"\u001b[39m\u001b[38;5;124mc_ops\u001b[39m\u001b[38;5;124m\"\u001b[39m] \u001b[38;5;241m=\u001b[39m \u001b[38;5;28mself\u001b[39m\u001b[38;5;241m.\u001b[39mc_ops\n\u001b[0;32m--> 194\u001b[0m \u001b[38;5;28;01mreturn\u001b[39;00m \u001b[38;5;28;43msuper\u001b[39;49m\u001b[43m(\u001b[49m\u001b[43mKPOProcessor\u001b[49m\u001b[43m,\u001b[49m\u001b[43m \u001b[49m\u001b[38;5;28;43mself\u001b[39;49m\u001b[43m)\u001b[49m\u001b[38;5;241;43m.\u001b[39;49m\u001b[43mrun_state\u001b[49m\u001b[43m(\u001b[49m\n\u001b[1;32m    195\u001b[0m \u001b[43m    \u001b[49m\u001b[43minit_state\u001b[49m\u001b[38;5;241;43m=\u001b[39;49m\u001b[43minit_state\u001b[49m\u001b[43m,\u001b[49m\u001b[43m \u001b[49m\u001b[43manalytical\u001b[49m\u001b[38;5;241;43m=\u001b[39;49m\u001b[43manalytical\u001b[49m\u001b[43m,\u001b[49m\n\u001b[1;32m    196\u001b[0m \u001b[43m    \u001b[49m\u001b[43mstates\u001b[49m\u001b[38;5;241;43m=\u001b[39;49m\u001b[43mstates\u001b[49m\u001b[43m,\u001b[49m\u001b[43m \u001b[49m\u001b[38;5;241;43m*\u001b[39;49m\u001b[38;5;241;43m*\u001b[39;49m\u001b[43mkwargs\u001b[49m\u001b[43m)\u001b[49m\n",
      "File \u001b[0;32m~/opt/anaconda3/lib/python3.9/site-packages/qutip/qip/device/processor.py:749\u001b[0m, in \u001b[0;36mProcessor.run_state\u001b[0;34m(self, init_state, analytical, states, noisy, solver, **kwargs)\u001b[0m\n\u001b[1;32m    747\u001b[0m \u001b[38;5;66;03m# choose solver:\u001b[39;00m\n\u001b[1;32m    748\u001b[0m \u001b[38;5;28;01mif\u001b[39;00m solver \u001b[38;5;241m==\u001b[39m \u001b[38;5;124m\"\u001b[39m\u001b[38;5;124mmesolve\u001b[39m\u001b[38;5;124m\"\u001b[39m:\n\u001b[0;32m--> 749\u001b[0m     evo_result \u001b[38;5;241m=\u001b[39m \u001b[43mmesolve\u001b[49m\u001b[43m(\u001b[49m\n\u001b[1;32m    750\u001b[0m \u001b[43m        \u001b[49m\u001b[43mH\u001b[49m\u001b[38;5;241;43m=\u001b[39;49m\u001b[43mnoisy_qobjevo\u001b[49m\u001b[43m,\u001b[49m\u001b[43m \u001b[49m\u001b[43mrho0\u001b[49m\u001b[38;5;241;43m=\u001b[39;49m\u001b[43minit_state\u001b[49m\u001b[43m,\u001b[49m\n\u001b[1;32m    751\u001b[0m \u001b[43m        \u001b[49m\u001b[43mtlist\u001b[49m\u001b[38;5;241;43m=\u001b[39;49m\u001b[43mnoisy_qobjevo\u001b[49m\u001b[38;5;241;43m.\u001b[39;49m\u001b[43mtlist\u001b[49m\u001b[43m,\u001b[49m\u001b[43m \u001b[49m\u001b[38;5;241;43m*\u001b[39;49m\u001b[38;5;241;43m*\u001b[39;49m\u001b[43mkwargs\u001b[49m\u001b[43m)\u001b[49m\n\u001b[1;32m    752\u001b[0m \u001b[38;5;28;01melif\u001b[39;00m solver \u001b[38;5;241m==\u001b[39m \u001b[38;5;124m\"\u001b[39m\u001b[38;5;124mmcsolve\u001b[39m\u001b[38;5;124m\"\u001b[39m:\n\u001b[1;32m    753\u001b[0m     evo_result \u001b[38;5;241m=\u001b[39m mcsolve(\n\u001b[1;32m    754\u001b[0m         H\u001b[38;5;241m=\u001b[39mnoisy_qobjevo, psi0\u001b[38;5;241m=\u001b[39minit_state,\n\u001b[1;32m    755\u001b[0m         tlist\u001b[38;5;241m=\u001b[39mnoisy_qobjevo\u001b[38;5;241m.\u001b[39mtlist, \u001b[38;5;241m*\u001b[39m\u001b[38;5;241m*\u001b[39mkwargs)\n",
      "File \u001b[0;32m~/opt/anaconda3/lib/python3.9/site-packages/qutip/mesolve.py:244\u001b[0m, in \u001b[0;36mmesolve\u001b[0;34m(H, rho0, tlist, c_ops, e_ops, args, options, progress_bar, _safe_mode)\u001b[0m\n\u001b[1;32m    241\u001b[0m     v \u001b[38;5;241m=\u001b[39m rho0\u001b[38;5;241m.\u001b[39mfull()\u001b[38;5;241m.\u001b[39mravel(\u001b[38;5;124m'\u001b[39m\u001b[38;5;124mF\u001b[39m\u001b[38;5;124m'\u001b[39m)\n\u001b[1;32m    242\u001b[0m     func(\u001b[38;5;241m0.\u001b[39m, v, \u001b[38;5;241m*\u001b[39mode_args) \u001b[38;5;241m+\u001b[39m v\n\u001b[0;32m--> 244\u001b[0m res \u001b[38;5;241m=\u001b[39m \u001b[43m_generic_ode_solve\u001b[49m\u001b[43m(\u001b[49m\u001b[43mfunc\u001b[49m\u001b[43m,\u001b[49m\u001b[43m \u001b[49m\u001b[43mode_args\u001b[49m\u001b[43m,\u001b[49m\u001b[43m \u001b[49m\u001b[43mrho0\u001b[49m\u001b[43m,\u001b[49m\u001b[43m \u001b[49m\u001b[43mtlist\u001b[49m\u001b[43m,\u001b[49m\u001b[43m \u001b[49m\u001b[43me_ops\u001b[49m\u001b[43m,\u001b[49m\u001b[43m \u001b[49m\u001b[43moptions\u001b[49m\u001b[43m,\u001b[49m\n\u001b[1;32m    245\u001b[0m \u001b[43m                         \u001b[49m\u001b[43mprogress_bar\u001b[49m\u001b[43m,\u001b[49m\u001b[43m \u001b[49m\u001b[43mdims\u001b[49m\u001b[38;5;241;43m=\u001b[39;49m\u001b[43mrho0\u001b[49m\u001b[38;5;241;43m.\u001b[39;49m\u001b[43mdims\u001b[49m\u001b[43m)\u001b[49m\n\u001b[1;32m    246\u001b[0m res\u001b[38;5;241m.\u001b[39mnum_collapse \u001b[38;5;241m=\u001b[39m \u001b[38;5;28mlen\u001b[39m(c_ops)\n\u001b[1;32m    248\u001b[0m \u001b[38;5;28;01mif\u001b[39;00m e_ops_dict:\n",
      "File \u001b[0;32m~/opt/anaconda3/lib/python3.9/site-packages/qutip/mesolve.py:531\u001b[0m, in \u001b[0;36m_generic_ode_solve\u001b[0;34m(func, ode_args, rho0, tlist, e_ops, opt, progress_bar, dims)\u001b[0m\n\u001b[1;32m    526\u001b[0m             output\u001b[38;5;241m.\u001b[39mexpect[m][t_idx] \u001b[38;5;241m=\u001b[39m expect_rho_vec(e_ops_data[m], r\u001b[38;5;241m.\u001b[39my,\n\u001b[1;32m    527\u001b[0m                                                      e_ops[m]\u001b[38;5;241m.\u001b[39misherm\n\u001b[1;32m    528\u001b[0m                                                      \u001b[38;5;129;01mand\u001b[39;00m rho0\u001b[38;5;241m.\u001b[39misherm)\n\u001b[1;32m    530\u001b[0m     \u001b[38;5;28;01mif\u001b[39;00m t_idx \u001b[38;5;241m<\u001b[39m n_tsteps \u001b[38;5;241m-\u001b[39m \u001b[38;5;241m1\u001b[39m:\n\u001b[0;32m--> 531\u001b[0m         \u001b[43mr\u001b[49m\u001b[38;5;241;43m.\u001b[39;49m\u001b[43mintegrate\u001b[49m\u001b[43m(\u001b[49m\u001b[43mr\u001b[49m\u001b[38;5;241;43m.\u001b[39;49m\u001b[43mt\u001b[49m\u001b[43m \u001b[49m\u001b[38;5;241;43m+\u001b[39;49m\u001b[43m \u001b[49m\u001b[43mdt\u001b[49m\u001b[43m[\u001b[49m\u001b[43mt_idx\u001b[49m\u001b[43m]\u001b[49m\u001b[43m)\u001b[49m\n\u001b[1;32m    533\u001b[0m progress_bar\u001b[38;5;241m.\u001b[39mfinished()\n\u001b[1;32m    535\u001b[0m \u001b[38;5;28;01mif\u001b[39;00m opt\u001b[38;5;241m.\u001b[39mstore_final_state:\n",
      "File \u001b[0;32m~/opt/anaconda3/lib/python3.9/site-packages/scipy/integrate/_ode.py:431\u001b[0m, in \u001b[0;36mode.integrate\u001b[0;34m(self, t, step, relax)\u001b[0m\n\u001b[1;32m    428\u001b[0m     mth \u001b[38;5;241m=\u001b[39m \u001b[38;5;28mself\u001b[39m\u001b[38;5;241m.\u001b[39m_integrator\u001b[38;5;241m.\u001b[39mrun\n\u001b[1;32m    430\u001b[0m \u001b[38;5;28;01mtry\u001b[39;00m:\n\u001b[0;32m--> 431\u001b[0m     \u001b[38;5;28mself\u001b[39m\u001b[38;5;241m.\u001b[39m_y, \u001b[38;5;28mself\u001b[39m\u001b[38;5;241m.\u001b[39mt \u001b[38;5;241m=\u001b[39m \u001b[43mmth\u001b[49m\u001b[43m(\u001b[49m\u001b[38;5;28;43mself\u001b[39;49m\u001b[38;5;241;43m.\u001b[39;49m\u001b[43mf\u001b[49m\u001b[43m,\u001b[49m\u001b[43m \u001b[49m\u001b[38;5;28;43mself\u001b[39;49m\u001b[38;5;241;43m.\u001b[39;49m\u001b[43mjac\u001b[49m\u001b[43m \u001b[49m\u001b[38;5;129;43;01mor\u001b[39;49;00m\u001b[43m \u001b[49m\u001b[43m(\u001b[49m\u001b[38;5;28;43;01mlambda\u001b[39;49;00m\u001b[43m:\u001b[49m\u001b[43m \u001b[49m\u001b[38;5;28;43;01mNone\u001b[39;49;00m\u001b[43m)\u001b[49m\u001b[43m,\u001b[49m\n\u001b[1;32m    432\u001b[0m \u001b[43m                          \u001b[49m\u001b[38;5;28;43mself\u001b[39;49m\u001b[38;5;241;43m.\u001b[39;49m\u001b[43m_y\u001b[49m\u001b[43m,\u001b[49m\u001b[43m \u001b[49m\u001b[38;5;28;43mself\u001b[39;49m\u001b[38;5;241;43m.\u001b[39;49m\u001b[43mt\u001b[49m\u001b[43m,\u001b[49m\u001b[43m \u001b[49m\u001b[43mt\u001b[49m\u001b[43m,\u001b[49m\n\u001b[1;32m    433\u001b[0m \u001b[43m                          \u001b[49m\u001b[38;5;28;43mself\u001b[39;49m\u001b[38;5;241;43m.\u001b[39;49m\u001b[43mf_params\u001b[49m\u001b[43m,\u001b[49m\u001b[43m \u001b[49m\u001b[38;5;28;43mself\u001b[39;49m\u001b[38;5;241;43m.\u001b[39;49m\u001b[43mjac_params\u001b[49m\u001b[43m)\u001b[49m\n\u001b[1;32m    434\u001b[0m \u001b[38;5;28;01mexcept\u001b[39;00m \u001b[38;5;167;01mSystemError\u001b[39;00m \u001b[38;5;28;01mas\u001b[39;00m e:\n\u001b[1;32m    435\u001b[0m     \u001b[38;5;66;03m# f2py issue with tuple returns, see ticket 1187.\u001b[39;00m\n\u001b[1;32m    436\u001b[0m     \u001b[38;5;28;01mraise\u001b[39;00m \u001b[38;5;167;01mValueError\u001b[39;00m(\n\u001b[1;32m    437\u001b[0m         \u001b[38;5;124m'\u001b[39m\u001b[38;5;124mFunction to integrate must not return a tuple.\u001b[39m\u001b[38;5;124m'\u001b[39m\n\u001b[1;32m    438\u001b[0m     ) \u001b[38;5;28;01mfrom\u001b[39;00m \u001b[38;5;21;01me\u001b[39;00m\n",
      "File \u001b[0;32m~/opt/anaconda3/lib/python3.9/site-packages/scipy/integrate/_ode.py:1007\u001b[0m, in \u001b[0;36mvode.run\u001b[0;34m(self, f, jac, y0, t0, t1, f_params, jac_params)\u001b[0m\n\u001b[1;32m   1003\u001b[0m     jac \u001b[38;5;241m=\u001b[39m _vode_banded_jac_wrapper(jac, \u001b[38;5;28mself\u001b[39m\u001b[38;5;241m.\u001b[39mml, jac_params)\n\u001b[1;32m   1005\u001b[0m args \u001b[38;5;241m=\u001b[39m ((f, jac, y0, t0, t1) \u001b[38;5;241m+\u001b[39m \u001b[38;5;28mtuple\u001b[39m(\u001b[38;5;28mself\u001b[39m\u001b[38;5;241m.\u001b[39mcall_args) \u001b[38;5;241m+\u001b[39m\n\u001b[1;32m   1006\u001b[0m         (f_params, jac_params))\n\u001b[0;32m-> 1007\u001b[0m y1, t, istate \u001b[38;5;241m=\u001b[39m \u001b[38;5;28;43mself\u001b[39;49m\u001b[38;5;241;43m.\u001b[39;49m\u001b[43mrunner\u001b[49m\u001b[43m(\u001b[49m\u001b[38;5;241;43m*\u001b[39;49m\u001b[43margs\u001b[49m\u001b[43m)\u001b[49m\n\u001b[1;32m   1008\u001b[0m \u001b[38;5;28mself\u001b[39m\u001b[38;5;241m.\u001b[39mistate \u001b[38;5;241m=\u001b[39m istate\n\u001b[1;32m   1009\u001b[0m \u001b[38;5;28;01mif\u001b[39;00m istate \u001b[38;5;241m<\u001b[39m \u001b[38;5;241m0\u001b[39m:\n",
      "\u001b[0;31mKeyboardInterrupt\u001b[0m: "
     ]
    }
   ],
   "source": [
    "alpha_list = np.linspace(1,3,21)\n",
    "avg_fid = []\n",
    "## KPO parameters\n",
    "for alpha in tqdm(alpha_list):\n",
    "    ## KPO parameters\n",
    "    kpo = KPOProcessor(N=2,num_lvl=30)\n",
    "    alpha = kpo._paras['Coherent state']\n",
    "    num_lvl = kpo._paras['Cut off']\n",
    "\n",
    "    ## Cat state\n",
    "    cat_plus = (coherent(num_lvl,alpha) + coherent(num_lvl,-alpha)).unit()\n",
    "    cat_minus = (coherent(num_lvl,alpha) - coherent(num_lvl,-alpha)).unit()\n",
    "\n",
    "    ## Computational basis\n",
    "    up = (cat_plus + cat_minus)/np.sqrt(2) # Binary 0\n",
    "    down = (cat_plus - cat_minus)/np.sqrt(2) # Binary 1\n",
    "\n",
    "    ## Pauli Matrices in computational basis\n",
    "    # Identity\n",
    "    I = up*up.dag() + down*down.dag()\n",
    "    # sigma z\n",
    "    sigma_z = up*up.dag() - down*down.dag()\n",
    "    # sigma x\n",
    "    sigma_x = up*down.dag() + down*up.dag()\n",
    "    # sigma y\n",
    "    sigma_y = 1j*(-up*down.dag() + down*up.dag())\n",
    "    sigma = [I,sigma_x, sigma_y, sigma_z]\n",
    "\n",
    "    ## Create quantum circuit\n",
    "    qc = QubitCircuit(N=2)\n",
    "    qc.user_gates = {\"CARB\": carb}\n",
    "    qc.add_gate(\"CARB\", targets = [0,1], arg_value = arg)\n",
    "    \n",
    "    ## Ideal gate\n",
    "    U = (-1j*arg*tensor(sigma_z,sigma_z)/2).expm()\n",
    "    \n",
    "    ## Average Gate Fidelity\n",
    "    d = 4\n",
    "    F = 0\n",
    "    for sigma_k in sigma:\n",
    "        for sigma_l in sigma:\n",
    "            sigma_kl = tensor(sigma_k,sigma_l)\n",
    "            ## Master equation\n",
    "            result = kpo.run_state(init_state=sigma_kl, qc=qc, noisy=False)\n",
    "            final_state = result.states[-1]\n",
    "            ## Target state\n",
    "            target_state = U * sigma_kl.dag() * U.dag()\n",
    "            F += abs((target_state * final_state).tr())\n",
    "    avg_fid.append((F + d**2) / (d**2*(d+1)))"
   ]
  },
  {
   "cell_type": "code",
   "execution_count": null,
   "id": "66e95bff",
   "metadata": {},
   "outputs": [],
   "source": []
  }
 ],
 "metadata": {
  "kernelspec": {
   "display_name": "Python 3 (ipykernel)",
   "language": "python",
   "name": "python3"
  },
  "language_info": {
   "codemirror_mode": {
    "name": "ipython",
    "version": 3
   },
   "file_extension": ".py",
   "mimetype": "text/x-python",
   "name": "python",
   "nbconvert_exporter": "python",
   "pygments_lexer": "ipython3",
   "version": "3.8.16"
  }
 },
 "nbformat": 4,
 "nbformat_minor": 5
}
