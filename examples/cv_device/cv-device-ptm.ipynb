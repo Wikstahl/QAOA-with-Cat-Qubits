{
 "cells": [
  {
   "cell_type": "markdown",
   "id": "5f771b02",
   "metadata": {},
   "source": [
    "# Pauli Transfer Matrix"
   ]
  },
  {
   "cell_type": "code",
   "execution_count": 1,
   "id": "764dd81f",
   "metadata": {},
   "outputs": [],
   "source": [
    "%matplotlib inline\n",
    "%reload_ext autoreload\n",
    "%autoreload 2"
   ]
  },
  {
   "cell_type": "code",
   "execution_count": 2,
   "id": "8cff82d0",
   "metadata": {},
   "outputs": [],
   "source": [
    "from tqdm import tqdm\n",
    "\n",
    "from itertools import product\n",
    "\n",
    "import numpy as np; pi = np.pi\n",
    "\n",
    "import matplotlib.pyplot as plt\n",
    "\n",
    "import sys; sys.path.append('../../')\n",
    "\n",
    "from qutip import *\n",
    "from qutip.qip.circuit import QubitCircuit, Gate\n",
    "from qutip.qip.operations import *\n",
    "\n",
    "from qaoa_with_cat_qubits.cvdevice import KPOProcessor"
   ]
  },
  {
   "cell_type": "markdown",
   "id": "31aa6e59",
   "metadata": {},
   "source": [
    "In this notebook we extract the error channels for the Kerr-Nonlinear Resonatr (KNR)"
   ]
  },
  {
   "cell_type": "markdown",
   "id": "ef9ef9f6",
   "metadata": {},
   "source": [
    "## Setup parameters"
   ]
  },
  {
   "cell_type": "code",
   "execution_count": 6,
   "id": "e497d1fe",
   "metadata": {},
   "outputs": [],
   "source": [
    "## KPO parameters\n",
    "kpo = KPOProcessor(N=1,num_lvl=20)\n",
    "alpha = kpo._paras['Coherent state']\n",
    "num_lvl = kpo._paras['Cut off']\n",
    "\n",
    "## Cat state\n",
    "cat_plus = (coherent(num_lvl,alpha) + coherent(num_lvl,-alpha)).unit()\n",
    "cat_minus = (coherent(num_lvl,alpha) - coherent(num_lvl,-alpha)).unit()\n",
    "\n",
    "## Computational basis\n",
    "up = (cat_plus + cat_minus)/np.sqrt(2) # Binary 0\n",
    "down = (cat_plus - cat_minus)/np.sqrt(2) # Binary 1\n",
    "\n",
    "## Pauli Matrices in computational basis\n",
    "# Identity\n",
    "I = up*up.dag() + down*down.dag()\n",
    "# sigma z\n",
    "sigma_z = up*up.dag() - down*down.dag()\n",
    "# sigma x\n",
    "sigma_x = up*down.dag() + down*up.dag()\n",
    "# sigma y\n",
    "sigma_y = 1j*(-up*down.dag() + down*up.dag())\n",
    "# list of paulis in computational basis\n",
    "sigma = [I, sigma_x, sigma_y, sigma_z]\n",
    "# list of paulis in qubit basis\n",
    "pauli = [qeye(2), sigmax(), sigmay(), sigmaz()]"
   ]
  },
  {
   "cell_type": "markdown",
   "id": "be3218b0",
   "metadata": {},
   "source": [
    "## RZ-gate"
   ]
  },
  {
   "cell_type": "code",
   "execution_count": 52,
   "id": "e70af7a1",
   "metadata": {},
   "outputs": [],
   "source": [
    "def ideal_ptm(U):\n",
    "    \"\"\" Returns the Pauli Transfer Matrix of a unitary operator U \"\"\"\n",
    "    # Get the dimension of U\n",
    "    a,b = U.dims\n",
    "    if a != b:\n",
    "        raise ValueError(\"The matrix U has to be a square matrix.\")\n",
    "    else: \n",
    "        d = a[0] # The dimension of the system\n",
    "    num_qubits = int(np.log2(d))\n",
    "    print(num_qubits)\n",
    "    # Generate all combinations of paulis\n",
    "    paulis = list(product([identity(2), sigmax(), sigmay(), sigmaz()], repeat=num_qubits))\n",
    "    M = np.zeros((d**2, d**2), dtype=complex)\n",
    "    for j in range(d**2):\n",
    "        print(\"U\",U)\n",
    "        print(\"P\",paulis[j])\n",
    "        Lambda = U * paulis[j] * U.dag()\n",
    "        for i in range(d**2):\n",
    "            M[i,j] = 1/d * ((paulis[i]*Lambda).tr()).real\n",
    "    return M"
   ]
  },
  {
   "cell_type": "code",
   "execution_count": 7,
   "id": "a116575c",
   "metadata": {},
   "outputs": [],
   "source": [
    "# Angle of rotation\n",
    "arg = pi/2\n",
    "\n",
    "# Quantum circuit\n",
    "qc = QubitCircuit(1)\n",
    "qc.add_gate(\"RZ\",0,None,arg)\n",
    "\n",
    "# Matrix representation of the ideal quantum circuit\n",
    "U_list = qc.propagators()\n",
    "U = gate_sequence_product(U_list)\n",
    "\n",
    "d = 2 # dimension\n",
    "# Pauli transfer matrix\n",
    "R = np.zeros((d**2,d**2)) \n",
    "R_ideal = np.zeros((d**2,d**2)) \n",
    "\n",
    "for j in range(d**2):\n",
    "    result = kpo.run_state(init_state=sigma[j],qc=qc,noisy=True)\n",
    "    Lambda = result.states[-1]\n",
    "    Lambda_ideal = U * pauli[j] * U.dag()\n",
    "    for i in range(d**2):\n",
    "        R[i,j] = 1/d * ((sigma[i]*Lambda).tr()).real\n",
    "        R_ideal[i,j] = 1/d * ((pauli[i]*Lambda_ideal).tr()).real"
   ]
  },
  {
   "cell_type": "markdown",
   "id": "d7eaab9a",
   "metadata": {},
   "source": [
    "Let $R_U$ correspond to the PTM of the ideal gate $U$, and let $R_\\tilde{U}$ correspond to the noisy implementation of $U$.\n",
    "\n",
    "The PTM of the error channel can thus be extracted by\n",
    "$$\n",
    "R_\\mathcal{E} = R_U (R_\\tilde{U})^{-1}\n",
    "$$"
   ]
  },
  {
   "cell_type": "code",
   "execution_count": 11,
   "id": "dfb7ebb0",
   "metadata": {},
   "outputs": [
    {
     "data": {
      "text/latex": [
       "Quantum object: dims = [[4], [4]], shape = (4, 4), type = oper, isherm = False $ \\\\ \\left(\\begin{matrix}1.000 & 1.557\\times10^{-06} & 1.652\\times10^{-06} & -5.035\\times10^{-08}\\\\5.879\\times10^{-06} & 0.989 & 0.008 & -4.181\\times10^{-05}\\\\5.735\\times10^{-06} & -0.008 & 0.989 & 4.128\\times10^{-05}\\\\-4.999\\times10^{-08} & 4.124\\times10^{-05} & -4.181\\times10^{-05} & 1.000\\\\\\end{matrix}\\right)$"
      ],
      "text/plain": [
       "Quantum object: dims = [[4], [4]], shape = (4, 4), type = oper, isherm = False\n",
       "Qobj data =\n",
       "[[ 9.99997559e-01  1.55725985e-06  1.65212774e-06 -5.03503766e-08]\n",
       " [ 5.87945699e-06  9.89410242e-01  7.78823474e-03 -4.18128837e-05]\n",
       " [ 5.73500444e-06 -7.78823026e-03  9.89410243e-01  4.12750235e-05]\n",
       " [-4.99942343e-08  4.12423563e-05 -4.18090131e-05  9.99997555e-01]]"
      ]
     },
     "execution_count": 11,
     "metadata": {},
     "output_type": "execute_result"
    }
   ],
   "source": [
    "error_channel = R @ np.linalg.inv(R_ideal)\n",
    "Qobj(error_channel)"
   ]
  },
  {
   "cell_type": "code",
   "execution_count": 14,
   "id": "db656b7c",
   "metadata": {},
   "outputs": [],
   "source": [
    "file = 'ptm_error_channel_rz'\n",
    "np.save(file, error_channel, allow_pickle=True, fix_imports=True)"
   ]
  },
  {
   "cell_type": "markdown",
   "id": "4f4c4ae7",
   "metadata": {},
   "source": [
    "### Convert PTM to $\\chi$-matrix\n",
    "The relation between the PTM and the $\\chi$ matrix can be formalized as\n",
    "$$\n",
    "R_{ij} = \\frac{1}{d}\\sum_{mn}\\chi_{mn} \\mathrm{Tr}(P_iP_mP_jP_n).\n",
    "$$\n",
    "This equation can be vectorized\n",
    "$$\n",
    "\\vec R = \\frac{1}{d} A \\vec\\chi\n",
    "$$\n",
    "where \n",
    "$$\n",
    "A_{(mn,ij)} = \\mathrm{Tr}(P_iP_mP_jP_n)\n",
    "$$\n",
    "and then solved\n",
    "$$\n",
    "d (A^{-1}\\vec R)  = \\vec\\chi\n",
    "$$"
   ]
  },
  {
   "cell_type": "code",
   "execution_count": 34,
   "id": "de911ae8",
   "metadata": {},
   "outputs": [],
   "source": [
    "A = np.zeros((4,4,4,4),dtype='complex')\n",
    "P = [qeye(2),sigmax(),sigmay(),sigmaz()]\n",
    "for i in range(4):\n",
    "    for j in range(4):\n",
    "        for m in range(4):\n",
    "            for n in range(4):\n",
    "                A[i,j,m,n] = (P[i]*P[m]*P[j]*P[n]).tr()\n",
    "A = A.reshape((16,16))\n",
    "A_inv = np.linalg.inv(A)"
   ]
  },
  {
   "cell_type": "code",
   "execution_count": 38,
   "id": "153ca02f",
   "metadata": {},
   "outputs": [
    {
     "data": {
      "text/latex": [
       "Quantum object: dims = [[[2], [2]], [[2], [2]]], shape = (4, 4), type = super, isherm = True, superrep = chi\\begin{equation*}\\left(\\begin{array}{*{11}c}0.994 & 0.0 & 0.0 & 0.0\\\\0.0 & 0.0 & 0.0 & 0.0\\\\0.0 & 0.0 & 0.0 & 0.0\\\\0.0 & 0.0 & 0.0 & 0.006\\\\\\end{array}\\right)\\end{equation*}"
      ],
      "text/plain": [
       "Quantum object: dims = [[[2], [2]], [[2], [2]]], shape = (4, 4), type = super, isherm = True, superrep = chi\n",
       "Qobj data =\n",
       "[[0.9945 0.     0.     0.    ]\n",
       " [0.     0.     0.     0.    ]\n",
       " [0.     0.     0.     0.    ]\n",
       " [0.     0.     0.     0.0055]]"
      ]
     },
     "execution_count": 38,
     "metadata": {},
     "output_type": "execute_result"
    }
   ],
   "source": [
    "chi = d*Qobj((A_inv @ error_channel.reshape((4**2,1))).reshape((4,4)),dims=[[[2],[2]],[[2],[2]]],superrep='chi')\n",
    "chi.tidyup(1e-3)"
   ]
  },
  {
   "cell_type": "code",
   "execution_count": 23,
   "id": "53f56848",
   "metadata": {},
   "outputs": [],
   "source": [
    "choi = chi_to_choi(chi)\n",
    "kraus = choi_to_kraus(choi)\n",
    "kraus = [d*k.full() for k in kraus]"
   ]
  },
  {
   "cell_type": "code",
   "execution_count": 20,
   "id": "0d044a80",
   "metadata": {},
   "outputs": [],
   "source": [
    "file = 'cv_kraus_rz'\n",
    "np.save(file, kraus, allow_pickle=True, fix_imports=True)"
   ]
  },
  {
   "cell_type": "markdown",
   "id": "bab48eeb",
   "metadata": {},
   "source": [
    "#### RX"
   ]
  },
  {
   "cell_type": "markdown",
   "id": "5b882ea1-1dca-4d27-8e17-1077533fd605",
   "metadata": {},
   "source": [
    "Single angle"
   ]
  },
  {
   "cell_type": "code",
   "execution_count": 78,
   "id": "9d5e2e96-0982-468b-8971-aaf0bba4e350",
   "metadata": {},
   "outputs": [],
   "source": [
    "# Angle of rotation\n",
    "arg = pi/2\n",
    "\n",
    "# Quantum circuit\n",
    "qc = QubitCircuit(1)\n",
    "qc.add_gate(\"RX\",0,None,arg)\n",
    "\n",
    "d = 2 # dimension\n",
    "# pauli transfer matrix\n",
    "R = np.zeros((d**2,d**2)) \n",
    "R_inv = np.zeros((d**2,d**2)) # inverse/ideal\n",
    "for j in range(d**2):\n",
    "    result = kpo.run_state(init_state=sigma[j],qc=qc,noisy=True)\n",
    "    result_inv = kpo.run_state(init_state=sigma[j],qc=qc,noisy=False)\n",
    "    \n",
    "    Lambda = result.states[-1]\n",
    "    Lambda_inv = result_inv.states[-1]\n",
    "    for i in range(d**2):\n",
    "        R[i,j] = 1/d * ((sigma[i]*Lambda).tr()).real\n",
    "        R_inv[i,j] = 1/d * ((sigma[i]*Lambda_inv).tr()).real"
   ]
  },
  {
   "cell_type": "code",
   "execution_count": 79,
   "id": "eb77f7e4-ea62-46f7-ab88-d1da941c9d8c",
   "metadata": {},
   "outputs": [
    {
     "data": {
      "text/latex": [
       "Quantum object: dims = [[4], [4]], shape = (4, 4), type = oper, isherm = False\\begin{equation*}\\left(\\begin{array}{*{11}c}1.0 & 0.0 & 0.0 & 0.0\\\\0.001 & 0.959 & 0.0 & 0.0\\\\0.0 & 0.0 & 0.979 & -0.004\\\\0.0 & 0.0 & -0.004 & 0.979\\\\\\end{array}\\right)\\end{equation*}"
      ],
      "text/plain": [
       "Quantum object: dims = [[4], [4]], shape = (4, 4), type = oper, isherm = False\n",
       "Qobj data =\n",
       "[[ 1.     0.     0.     0.   ]\n",
       " [ 0.001  0.959  0.     0.   ]\n",
       " [ 0.     0.     0.979 -0.004]\n",
       " [ 0.     0.    -0.004  0.979]]"
      ]
     },
     "execution_count": 79,
     "metadata": {},
     "output_type": "execute_result"
    }
   ],
   "source": [
    "error_channel = np.around(R @ np.linalg.inv(R_inv), 3)\n",
    "Qobj(error_channel)"
   ]
  },
  {
   "cell_type": "code",
   "execution_count": 80,
   "id": "67ed41a0-c38f-4478-b953-03814b94e059",
   "metadata": {},
   "outputs": [],
   "source": [
    "A = np.zeros((4,4,4,4),dtype='complex')\n",
    "P = [qeye(2),sigmax(),sigmay(),sigmaz()]\n",
    "for i in range(4):\n",
    "    for j in range(4):\n",
    "        for m in range(4):\n",
    "            for n in range(4):\n",
    "                A[i,j,m,n] = (P[i]*P[m]*P[j]*P[n]).tr()\n",
    "A = A.reshape((16,16))\n",
    "A_inv = np.linalg.inv(A)"
   ]
  },
  {
   "cell_type": "code",
   "execution_count": 91,
   "id": "b26f3568-0bd9-4ce1-a974-1686143a0b6e",
   "metadata": {},
   "outputs": [
    {
     "data": {
      "text/latex": [
       "Quantum object: dims = [[4], [1]], shape = (4, 1), type = ket\\begin{equation*}\\left(\\begin{array}{*{11}c}2.499\\times10^{-04}\\\\0.008\\\\0.012\\\\0.979\\\\\\end{array}\\right)\\end{equation*}"
      ],
      "text/plain": [
       "Quantum object: dims = [[4], [1]], shape = (4, 1), type = ket\n",
       "Qobj data =\n",
       "[[2.49936159e-04]\n",
       " [8.23443556e-03]\n",
       " [1.22655644e-02]\n",
       " [9.79250064e-01]]"
      ]
     },
     "execution_count": 91,
     "metadata": {},
     "output_type": "execute_result"
    }
   ],
   "source": [
    "chi = d*Qobj((A_inv @ error_channel.reshape((4**2,1))).reshape((4,4)),dims=[[[2],[2]],[[2],[2]]],superrep='chi')"
   ]
  },
  {
   "cell_type": "markdown",
   "id": "774c14ef-f715-4c6d-94b9-c9eb1ded8036",
   "metadata": {},
   "source": [
    "Multiple angles"
   ]
  },
  {
   "cell_type": "code",
   "execution_count": 47,
   "id": "b42388c7",
   "metadata": {},
   "outputs": [],
   "source": [
    "file = '../../data/ptm/ptm_error_channel_rx.npy'\n",
    "error_channel = np.load(file)"
   ]
  },
  {
   "cell_type": "code",
   "execution_count": 198,
   "id": "2b6975d6",
   "metadata": {},
   "outputs": [],
   "source": [
    "d = 2\n",
    "kraus = []\n",
    "for error in error_channel:\n",
    "    chi = d*Qobj((A_inv @ error.reshape((4**2,1))).reshape((4,4)),dims=[[[2],[2]],[[2],[2]]],superrep='chi')\n",
    "    choi = chi_to_choi(chi)\n",
    "    kraus_list = choi_to_kraus(choi)\n",
    "    kraus.append([d*k.full() for k in kraus_list])"
   ]
  },
  {
   "cell_type": "code",
   "execution_count": 199,
   "id": "8a0dd216",
   "metadata": {},
   "outputs": [
    {
     "data": {
      "text/latex": [
       "Quantum object: dims = [[2], [2]], shape = (2, 2), type = oper, isherm = True\\begin{equation*}\\left(\\begin{array}{*{11}c}1.0 & 1.689\\times10^{-19}\\\\1.689\\times10^{-19} & 1.0\\\\\\end{array}\\right)\\end{equation*}"
      ],
      "text/plain": [
       "Quantum object: dims = [[2], [2]], shape = (2, 2), type = oper, isherm = True\n",
       "Qobj data =\n",
       "[[1.00001999e+00+0.00000000e+00j 1.68922798e-19+1.29054604e-19j]\n",
       " [1.68922798e-19-1.29054604e-19j 1.00001999e+00+0.00000000e+00j]]"
      ]
     },
     "execution_count": 199,
     "metadata": {},
     "output_type": "execute_result"
    }
   ],
   "source": [
    "Qobj(sum(k@np.conjugate(k.T) for k in kraus[1]))"
   ]
  },
  {
   "cell_type": "code",
   "execution_count": 208,
   "id": "cb6bed0f",
   "metadata": {},
   "outputs": [],
   "source": [
    "kraus = np.array(kraus,dtype='object')"
   ]
  },
  {
   "cell_type": "code",
   "execution_count": 210,
   "id": "8533471f",
   "metadata": {},
   "outputs": [],
   "source": [
    "file = 'cv_kraus_rx'\n",
    "np.save(file, kraus, allow_pickle=True, fix_imports=True)"
   ]
  },
  {
   "cell_type": "markdown",
   "id": "b89882e9",
   "metadata": {},
   "source": [
    "#### $U(\\Theta)$-gate (Constant amplitude)"
   ]
  },
  {
   "cell_type": "code",
   "execution_count": 43,
   "id": "4961cd14",
   "metadata": {},
   "outputs": [],
   "source": [
    "def carb(arg_value):\n",
    "    # control arbitrary phase gate\n",
    "    zz = tensor(sigmaz(),sigmaz())\n",
    "    return (-1j*arg_value/2*zz).expm()"
   ]
  },
  {
   "cell_type": "code",
   "execution_count": 44,
   "id": "d9622125",
   "metadata": {},
   "outputs": [],
   "source": [
    "kpo = KPOProcessor(N=2,num_lvl=20) # create two resonators\n",
    "\n",
    "alpha = kpo._paras['Coherent state']\n",
    "num_lvl = kpo._paras['Cut off']\n",
    "\n",
    "## Cat state\n",
    "cat_plus = (coherent(num_lvl,alpha) + coherent(num_lvl,-alpha)).unit()\n",
    "cat_minus = (coherent(num_lvl,alpha) - coherent(num_lvl,-alpha)).unit()\n",
    "\n",
    "## Computational basis\n",
    "up = (cat_plus + cat_minus)/np.sqrt(2) # Binary 0\n",
    "down = (cat_plus - cat_minus)/np.sqrt(2) # Binary 1\n",
    "\n",
    "## Pauli Matrices in computational basis\n",
    "# Identity\n",
    "I = up*up.dag() + down*down.dag()\n",
    "# sigma z\n",
    "sigma_z = up*up.dag() - down*down.dag()\n",
    "# sigma x\n",
    "sigma_x = up*down.dag() + down*up.dag()\n",
    "# sigma y\n",
    "sigma_y = 1j*(-up*down.dag() + down*up.dag())\n",
    "sigma = [I, sigma_x, sigma_y, sigma_z]\n",
    "\n",
    "# Pauli matrices\n",
    "d = 4\n",
    "Q = []\n",
    "for i in range(d):\n",
    "    Q.extend([tensor(sigma[i], sigma[j]) for j in range(d)])"
   ]
  },
  {
   "cell_type": "code",
   "execution_count": 45,
   "id": "c9b82f83",
   "metadata": {},
   "outputs": [
    {
     "name": "stderr",
     "output_type": "stream",
     "text": [
      "\n",
      "KeyboardInterrupt\n",
      "\n"
     ]
    }
   ],
   "source": [
    "arg = pi/2\n",
    "\n",
    "## Create quantum circuit\n",
    "qc = QubitCircuit(N=1)\n",
    "qc.user_gates = {\"CARB\": carb}\n",
    "qc.add_gate(\"CARB\", targets = [0,1], arg_value = arg)\n",
    "    \n",
    "# pauli transfer matrix\n",
    "R = np.zeros((d**2,d**2))\n",
    "R_inv = np.zeros((d**2,d**2)) # inverse\n",
    "\n",
    "for j in range(d**2):\n",
    "    result = kpo.run_state(init_state=Q[j],qc=qc,noisy=True)\n",
    "    result_inv = kpo.run_state(init_state=Q[j],qc=qc,noisy=False)\n",
    "    \n",
    "    Lambda = result.states[-1]\n",
    "    Lambda_inv = result_inv.states[-1]\n",
    "    for i in range(d**2):\n",
    "        R[i,j] = 1/d * np.real((Q[i]*Lambda).tr())\n",
    "        R_inv[i,j] = 1/d * np.real((Q[i]*Lambda_inv).tr())\n",
    "        \n",
    "R = Qobj(R,dims=[[2]*2]*2) # Make quantum object\n",
    "R_inv = Qobj(R_inv,dims=[[2]*2]*2) # Make quantum object"
   ]
  },
  {
   "cell_type": "code",
   "execution_count": 177,
   "id": "97181f71",
   "metadata": {},
   "outputs": [],
   "source": [
    "error_channel = np.around(R.full() @ np.linalg.inv(R_inv.full()), 3)"
   ]
  },
  {
   "cell_type": "markdown",
   "id": "c7796063",
   "metadata": {},
   "source": [
    "### save file"
   ]
  },
  {
   "cell_type": "code",
   "execution_count": 165,
   "id": "12c4a98e",
   "metadata": {},
   "outputs": [],
   "source": [
    "file = 'ptm_error_channel_ising_zz'\n",
    "np.save(file, error_channel, allow_pickle=True, fix_imports=True)"
   ]
  },
  {
   "cell_type": "markdown",
   "id": "13f49eee",
   "metadata": {},
   "source": [
    "### load file"
   ]
  },
  {
   "cell_type": "code",
   "execution_count": 49,
   "id": "e216ed36",
   "metadata": {},
   "outputs": [],
   "source": [
    "file = '../../data/ptm/ptm_error_channel_ising_zz.npy'\n",
    "error_channel = np.load(file)"
   ]
  },
  {
   "cell_type": "code",
   "execution_count": 56,
   "id": "aa350bed-95c4-4888-b4ff-fdaf965493ec",
   "metadata": {},
   "outputs": [],
   "source": [
    "num_q = 2\n",
    "\n",
    "# Pauli matrices\n",
    "P = [qeye(2), sigmax(), sigmay(), sigmaz()]\n",
    "\n",
    "# Create all tensor products\n",
    "sigma = list(map(tensor, map(list, product(P, repeat=num_q))))"
   ]
  },
  {
   "cell_type": "code",
   "execution_count": 58,
   "id": "62641942",
   "metadata": {},
   "outputs": [
    {
     "name": "stderr",
     "output_type": "stream",
     "text": [
      "100%|███████████████████████████████████████████| 16/16 [00:19<00:00,  1.20s/it]\n"
     ]
    }
   ],
   "source": [
    "A = np.zeros((16,16,16,16),dtype='complex')\n",
    "for i in tqdm(range(16)):\n",
    "    for j in range(16):\n",
    "        for m in range(16):\n",
    "            for n in range(16):\n",
    "                A[i,j,m,n] = (sigma[i]*sigma[m]*sigma[j]*sigma[n]).tr()"
   ]
  },
  {
   "cell_type": "code",
   "execution_count": 61,
   "id": "08e8b944",
   "metadata": {},
   "outputs": [],
   "source": [
    "A = A.reshape((16**2,16**2))\n",
    "A_inv = np.linalg.inv(A)"
   ]
  },
  {
   "cell_type": "code",
   "execution_count": 63,
   "id": "7cc42d2c",
   "metadata": {},
   "outputs": [
    {
     "data": {
      "text/plain": [
       "(256, 1)"
      ]
     },
     "execution_count": 63,
     "metadata": {},
     "output_type": "execute_result"
    }
   ],
   "source": [
    "error_channel.reshape((16**2,1)).shape"
   ]
  },
  {
   "cell_type": "code",
   "execution_count": null,
   "id": "97381c20",
   "metadata": {},
   "outputs": [],
   "source": [
    "A_inv.shape"
   ]
  },
  {
   "cell_type": "code",
   "execution_count": null,
   "id": "b344b014",
   "metadata": {},
   "outputs": [],
   "source": [
    "A_inv @ error_channel"
   ]
  },
  {
   "cell_type": "code",
   "execution_count": 66,
   "id": "5638d416",
   "metadata": {},
   "outputs": [
    {
     "data": {
      "text/latex": [
       "Quantum object: dims = [[[2, 2], [2, 2]], [[2, 2], [2, 2]]], shape = (16, 16), type = super, isherm = True, superrep = chi\\begin{equation*}\\left(\\begin{array}{*{11}c}0.989 & 0.0 & 0.0 & 0.0 & 0.0 & \\cdots & 0.0 & 0.0 & 0.0 & 0.0 & 0.0\\\\0.0 & 0.0 & 0.0 & 0.0 & 0.0 & \\cdots & 0.0 & 0.0 & 0.0 & 0.0 & 0.0\\\\0.0 & 0.0 & 0.0 & 0.0 & 0.0 & \\cdots & 0.0 & 0.0 & 0.0 & 0.0 & 0.0\\\\0.0 & 0.0 & 0.0 & 0.005 & 0.0 & \\cdots & 0.0 & 0.0 & 0.0 & 0.0 & 0.0\\\\0.0 & 0.0 & 0.0 & 0.0 & 0.0 & \\cdots & 0.0 & 0.0 & 0.0 & 0.0 & 0.0\\\\\\vdots & \\vdots & \\vdots & \\vdots & \\vdots & \\ddots & \\vdots & \\vdots & \\vdots & \\vdots & \\vdots\\\\0.0 & 0.0 & 0.0 & 0.0 & 0.0 & \\cdots & 0.0 & 0.0 & 0.0 & 0.0 & 0.0\\\\0.0 & 0.0 & 0.0 & 0.0 & 0.0 & \\cdots & 0.0 & 0.005 & 0.0 & 0.0 & 0.0\\\\0.0 & 0.0 & 0.0 & 0.0 & 0.0 & \\cdots & 0.0 & 0.0 & 0.0 & 0.0 & 0.0\\\\0.0 & 0.0 & 0.0 & 0.0 & 0.0 & \\cdots & 0.0 & 0.0 & 0.0 & 0.0 & 0.0\\\\0.0 & 0.0 & 0.0 & 0.0 & 0.0 & \\cdots & 0.0 & 0.0 & 0.0 & 0.0 & 2.500\\times10^{-04}\\\\\\end{array}\\right)\\end{equation*}"
      ],
      "text/plain": [
       "Quantum object: dims = [[[2, 2], [2, 2]], [[2, 2], [2, 2]]], shape = (16, 16), type = super, isherm = True, superrep = chi\n",
       "Qobj data =\n",
       "[[9.8925e-01 0.0000e+00 0.0000e+00 0.0000e+00 0.0000e+00 0.0000e+00\n",
       "  0.0000e+00 0.0000e+00 0.0000e+00 0.0000e+00 0.0000e+00 0.0000e+00\n",
       "  0.0000e+00 0.0000e+00 0.0000e+00 0.0000e+00]\n",
       " [0.0000e+00 0.0000e+00 0.0000e+00 0.0000e+00 0.0000e+00 0.0000e+00\n",
       "  0.0000e+00 0.0000e+00 0.0000e+00 0.0000e+00 0.0000e+00 0.0000e+00\n",
       "  0.0000e+00 0.0000e+00 0.0000e+00 0.0000e+00]\n",
       " [0.0000e+00 0.0000e+00 0.0000e+00 0.0000e+00 0.0000e+00 0.0000e+00\n",
       "  0.0000e+00 0.0000e+00 0.0000e+00 0.0000e+00 0.0000e+00 0.0000e+00\n",
       "  0.0000e+00 0.0000e+00 0.0000e+00 0.0000e+00]\n",
       " [0.0000e+00 0.0000e+00 0.0000e+00 5.2500e-03 0.0000e+00 0.0000e+00\n",
       "  0.0000e+00 0.0000e+00 0.0000e+00 0.0000e+00 0.0000e+00 0.0000e+00\n",
       "  0.0000e+00 0.0000e+00 0.0000e+00 0.0000e+00]\n",
       " [0.0000e+00 0.0000e+00 0.0000e+00 0.0000e+00 0.0000e+00 0.0000e+00\n",
       "  0.0000e+00 0.0000e+00 0.0000e+00 0.0000e+00 0.0000e+00 0.0000e+00\n",
       "  0.0000e+00 0.0000e+00 0.0000e+00 0.0000e+00]\n",
       " [0.0000e+00 0.0000e+00 0.0000e+00 0.0000e+00 0.0000e+00 0.0000e+00\n",
       "  0.0000e+00 0.0000e+00 0.0000e+00 0.0000e+00 0.0000e+00 0.0000e+00\n",
       "  0.0000e+00 0.0000e+00 0.0000e+00 0.0000e+00]\n",
       " [0.0000e+00 0.0000e+00 0.0000e+00 0.0000e+00 0.0000e+00 0.0000e+00\n",
       "  0.0000e+00 0.0000e+00 0.0000e+00 0.0000e+00 0.0000e+00 0.0000e+00\n",
       "  0.0000e+00 0.0000e+00 0.0000e+00 0.0000e+00]\n",
       " [0.0000e+00 0.0000e+00 0.0000e+00 0.0000e+00 0.0000e+00 0.0000e+00\n",
       "  0.0000e+00 0.0000e+00 0.0000e+00 0.0000e+00 0.0000e+00 0.0000e+00\n",
       "  0.0000e+00 0.0000e+00 0.0000e+00 0.0000e+00]\n",
       " [0.0000e+00 0.0000e+00 0.0000e+00 0.0000e+00 0.0000e+00 0.0000e+00\n",
       "  0.0000e+00 0.0000e+00 0.0000e+00 0.0000e+00 0.0000e+00 0.0000e+00\n",
       "  0.0000e+00 0.0000e+00 0.0000e+00 0.0000e+00]\n",
       " [0.0000e+00 0.0000e+00 0.0000e+00 0.0000e+00 0.0000e+00 0.0000e+00\n",
       "  0.0000e+00 0.0000e+00 0.0000e+00 0.0000e+00 0.0000e+00 0.0000e+00\n",
       "  0.0000e+00 0.0000e+00 0.0000e+00 0.0000e+00]\n",
       " [0.0000e+00 0.0000e+00 0.0000e+00 0.0000e+00 0.0000e+00 0.0000e+00\n",
       "  0.0000e+00 0.0000e+00 0.0000e+00 0.0000e+00 0.0000e+00 0.0000e+00\n",
       "  0.0000e+00 0.0000e+00 0.0000e+00 0.0000e+00]\n",
       " [0.0000e+00 0.0000e+00 0.0000e+00 0.0000e+00 0.0000e+00 0.0000e+00\n",
       "  0.0000e+00 0.0000e+00 0.0000e+00 0.0000e+00 0.0000e+00 0.0000e+00\n",
       "  0.0000e+00 0.0000e+00 0.0000e+00 0.0000e+00]\n",
       " [0.0000e+00 0.0000e+00 0.0000e+00 0.0000e+00 0.0000e+00 0.0000e+00\n",
       "  0.0000e+00 0.0000e+00 0.0000e+00 0.0000e+00 0.0000e+00 0.0000e+00\n",
       "  5.2500e-03 0.0000e+00 0.0000e+00 0.0000e+00]\n",
       " [0.0000e+00 0.0000e+00 0.0000e+00 0.0000e+00 0.0000e+00 0.0000e+00\n",
       "  0.0000e+00 0.0000e+00 0.0000e+00 0.0000e+00 0.0000e+00 0.0000e+00\n",
       "  0.0000e+00 0.0000e+00 0.0000e+00 0.0000e+00]\n",
       " [0.0000e+00 0.0000e+00 0.0000e+00 0.0000e+00 0.0000e+00 0.0000e+00\n",
       "  0.0000e+00 0.0000e+00 0.0000e+00 0.0000e+00 0.0000e+00 0.0000e+00\n",
       "  0.0000e+00 0.0000e+00 0.0000e+00 0.0000e+00]\n",
       " [0.0000e+00 0.0000e+00 0.0000e+00 0.0000e+00 0.0000e+00 0.0000e+00\n",
       "  0.0000e+00 0.0000e+00 0.0000e+00 0.0000e+00 0.0000e+00 0.0000e+00\n",
       "  0.0000e+00 0.0000e+00 0.0000e+00 2.5000e-04]]"
      ]
     },
     "execution_count": 66,
     "metadata": {},
     "output_type": "execute_result"
    }
   ],
   "source": [
    "d = 4\n",
    "chi = d*Qobj((A_inv @ error_channel.reshape((16**2,1))).reshape((16,16)),dims=[[[2,2],[2,2]],[[2,2],[2,2]]],superrep='chi')\n",
    "chi"
   ]
  },
  {
   "cell_type": "code",
   "execution_count": null,
   "id": "7109c873-2b56-48e2-855f-5d615a4d1c5b",
   "metadata": {},
   "outputs": [],
   "source": [
    "chi"
   ]
  },
  {
   "cell_type": "code",
   "execution_count": 70,
   "id": "561e19b8-cee4-4f71-ac9d-2f01b91aefdc",
   "metadata": {},
   "outputs": [
    {
     "data": {
      "text/plain": [
       "0.99925"
      ]
     },
     "execution_count": 70,
     "metadata": {},
     "output_type": "execute_result"
    }
   ],
   "source": [
    "0.989+0.005+0.005+2.5*1e-4"
   ]
  },
  {
   "cell_type": "code",
   "execution_count": 169,
   "id": "8f2e43ea",
   "metadata": {},
   "outputs": [],
   "source": [
    "choi = chi_to_choi(chi)\n",
    "kraus = choi_to_kraus(choi)\n",
    "kraus = [d*k.full() for k in kraus]"
   ]
  },
  {
   "cell_type": "code",
   "execution_count": 172,
   "id": "4133cc2a",
   "metadata": {},
   "outputs": [
    {
     "data": {
      "text/latex": [
       "Quantum object: dims = [[4], [4]], shape = (4, 4), type = oper, isherm = True\\begin{equation*}\\left(\\begin{array}{*{11}c}1.0 & 0.0 & 0.0 & 0.0\\\\0.0 & 1.0 & 0.0 & 0.0\\\\0.0 & 0.0 & 1.0 & 0.0\\\\0.0 & 0.0 & 0.0 & 1.0\\\\\\end{array}\\right)\\end{equation*}"
      ],
      "text/plain": [
       "Quantum object: dims = [[4], [4]], shape = (4, 4), type = oper, isherm = True\n",
       "Qobj data =\n",
       "[[1. 0. 0. 0.]\n",
       " [0. 1. 0. 0.]\n",
       " [0. 0. 1. 0.]\n",
       " [0. 0. 0. 1.]]"
      ]
     },
     "execution_count": 172,
     "metadata": {},
     "output_type": "execute_result"
    }
   ],
   "source": [
    "Qobj(sum(k@np.conjugate(k.T) for k in kraus))"
   ]
  },
  {
   "cell_type": "code",
   "execution_count": 173,
   "id": "b222d858",
   "metadata": {},
   "outputs": [
    {
     "data": {
      "text/plain": [
       "[array([[0.99461048+0.j, 0.        +0.j, 0.        +0.j, 0.        +0.j],\n",
       "        [0.        +0.j, 0.99461048+0.j, 0.        +0.j, 0.        +0.j],\n",
       "        [0.        +0.j, 0.        +0.j, 0.99461048+0.j, 0.        +0.j],\n",
       "        [0.        +0.j, 0.        +0.j, 0.        +0.j, 0.99461048+0.j]]),\n",
       " array([[ 1.02469508e-01+0.j,  0.00000000e+00+0.j,  0.00000000e+00+0.j,\n",
       "          0.00000000e+00+0.j],\n",
       "        [ 0.00000000e+00+0.j, -6.56672955e-16+0.j,  0.00000000e+00+0.j,\n",
       "          0.00000000e+00+0.j],\n",
       "        [ 0.00000000e+00+0.j,  0.00000000e+00+0.j, -6.56672955e-16+0.j,\n",
       "          0.00000000e+00+0.j],\n",
       "        [ 0.00000000e+00+0.j,  0.00000000e+00+0.j,  0.00000000e+00+0.j,\n",
       "         -1.02469508e-01+0.j]]),\n",
       " array([[ 0.01581139+0.j,  0.        +0.j,  0.        +0.j,\n",
       "          0.        +0.j],\n",
       "        [ 0.        +0.j, -0.01581139+0.j,  0.        +0.j,\n",
       "          0.        +0.j],\n",
       "        [ 0.        +0.j,  0.        +0.j, -0.01581139+0.j,\n",
       "          0.        +0.j],\n",
       "        [ 0.        +0.j,  0.        +0.j,  0.        +0.j,\n",
       "          0.01581139+0.j]]),\n",
       " array([[-9.19352007e-18+0.j,  0.00000000e+00+0.j,  0.00000000e+00+0.j,\n",
       "          0.00000000e+00+0.j],\n",
       "        [ 0.00000000e+00+0.j, -1.02469508e-01+0.j,  0.00000000e+00+0.j,\n",
       "          0.00000000e+00+0.j],\n",
       "        [ 0.00000000e+00+0.j,  0.00000000e+00+0.j,  1.02469508e-01+0.j,\n",
       "          0.00000000e+00+0.j],\n",
       "        [ 0.00000000e+00+0.j,  0.00000000e+00+0.j,  0.00000000e+00+0.j,\n",
       "         -3.46374047e-18+0.j]])]"
      ]
     },
     "execution_count": 173,
     "metadata": {},
     "output_type": "execute_result"
    }
   ],
   "source": [
    "kraus"
   ]
  },
  {
   "cell_type": "code",
   "execution_count": 174,
   "id": "1adbbb50",
   "metadata": {},
   "outputs": [],
   "source": [
    "file = 'cv_kraus_zz'\n",
    "np.save(file, kraus, allow_pickle=True, fix_imports=True)"
   ]
  }
 ],
 "metadata": {
  "kernelspec": {
   "display_name": "Python 3 (ipykernel)",
   "language": "python",
   "name": "python3"
  },
  "language_info": {
   "codemirror_mode": {
    "name": "ipython",
    "version": 3
   },
   "file_extension": ".py",
   "mimetype": "text/x-python",
   "name": "python",
   "nbconvert_exporter": "python",
   "pygments_lexer": "ipython3",
   "version": "3.9.16"
  }
 },
 "nbformat": 4,
 "nbformat_minor": 5
}
