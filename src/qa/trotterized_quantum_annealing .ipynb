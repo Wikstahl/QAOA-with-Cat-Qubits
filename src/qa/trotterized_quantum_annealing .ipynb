{
 "cells": [
  {
   "cell_type": "code",
   "execution_count": 1,
   "id": "retained-yugoslavia",
   "metadata": {},
   "outputs": [],
   "source": [
    "import numpy as np\n",
    "import scipy as sp\n",
    "from qutip import *\n",
    "from qutip.qip.circuit import QubitCircuit, Gate\n",
    "from qutip.qip.operations import *"
   ]
  },
  {
   "cell_type": "markdown",
   "id": "political-crest",
   "metadata": {},
   "source": [
    "## Single resonator"
   ]
  },
  {
   "cell_type": "code",
   "execution_count": 2,
   "id": "apparent-walker",
   "metadata": {},
   "outputs": [
    {
     "name": "stdout",
     "output_type": "stream",
     "text": [
      "0.9796010365329367\n"
     ]
    },
    {
     "data": {
      "image/png": "[encoded data removed]",
      "text/plain": [
       "<Figure size 432x288 with 1 Axes>"
      ]
     },
     "metadata": {
      "needs_background": "light"
     },
     "output_type": "display_data"
    }
   ],
   "source": [
    "from cvqaoa.cvdevice import KPOProcessor\n",
    "import matplotlib as mpl\n",
    "import matplotlib.pyplot as plt\n",
    "from matplotlib import cm\n",
    "## One resonator\n",
    "n = 1\n",
    "\n",
    "N = 12 # Hilbert space cut-off\n",
    "a = destroy(N) # Annihilation operator\n",
    "eye = qeye(N) # Identity operator\n",
    "\n",
    "## Parameters\n",
    "K = 1 # Kerr amplitude\n",
    "G = 4 # Two-photon drive amplitude (in units of K)\n",
    "alpha = np.sqrt(G/K) # Coherent state amplitude\n",
    "J = 1/2\n",
    "h = 1/2\n",
    "g = J/(2*alpha**2) # Resonator coupling strength (in units of K)\n",
    "E = h/(2*alpha) # Single-photon drive amplitude (in units of K)\n",
    "Delta = 1 # Detuning (in units of K)\n",
    "\n",
    "H0 = -Delta*a.dag()*a - K*a.dag()**2*a**2\n",
    "H1 = -K*a.dag()**2*a**2 + G*(a.dag()**2 + a**2)\n",
    "\n",
    "## Angles\n",
    "x = np.array([0.2292,0.2207,0.6725,0.0444])\n",
    "\n",
    "s = basis(N,0)\n",
    "state = (-1j*x[3]*H0).expm()*((-1j*x[1]*H1).expm()*((-1j*x[2]*H0).expm()*((-1j*x[0]*H1).expm()*s)))\n",
    "\n",
    "xvec = np.linspace(-4, 4, 400); yvec = np.linspace(-2, 2, 200)\n",
    "W = wigner(state,xvec,yvec,'iterative',2)\n",
    "nrm = mpl.colors.Normalize(-W.max(), W.max()) # Normalize colors\n",
    "\n",
    "# contour plot\n",
    "plt.subplot(121,aspect='equal')\n",
    "im = plt.contourf(xvec, yvec, W, 100, cmap = cm.RdBu_r, norm = nrm) # density plot\n",
    "plt.xlabel(r'Re$(\\alpha)$', fontsize = 14)\n",
    "plt.ylabel(r'Im$(\\alpha)$', fontsize = 14)\n",
    "plt.xticks(np.arange(min(xvec),max(xvec)+1,2),fontsize = 12)\n",
    "plt.yticks(np.arange(min(yvec),max(yvec)+1,2),fontsize = 12)\n",
    "\n",
    "cat_plus = (coherent(N,alpha) + coherent(N,-alpha)).unit()\n",
    "print(fidelity(state,cat_plus))"
   ]
  },
  {
   "cell_type": "markdown",
   "id": "apparent-power",
   "metadata": {},
   "source": [
    "## Two resonators"
   ]
  },
  {
   "cell_type": "code",
   "execution_count": 15,
   "id": "historical-enlargement",
   "metadata": {},
   "outputs": [],
   "source": [
    "N = 10 # Hilbert space cut-off\n",
    "a = destroy(N) # Annihilation operator\n",
    "eye = qeye(N) # Identity operator\n",
    "\n",
    "## Combinatorial optimization problem input\n",
    "n = 2 # Number of qubits\n",
    "J = -np.array([[0,.5],[.5,0]])\n",
    "h = -np.array([.5,0])\n",
    "\n",
    "## Parameters\n",
    "K = 1 # Kerr amplitude\n",
    "G = 4 # Two-photon drive amplitude (in units of K)\n",
    "alpha = np.sqrt(G/K) # Coherent state amplitude\n",
    "g = J/(2*alpha**2) # Resonator coupling strength (in units of K)\n",
    "E = h/(2*alpha) # Single-photon drive amplitude (in units of K)\n",
    "Delta = 1 # Detuning (in units of K)\n",
    "\n",
    "## Hamiltonians\n",
    "H0 = 0 # Mixer Hamiltonian\n",
    "H1 = 0 # Cost Hamiltonian\n",
    "H_coupling = 0 # Coupling Hamiltonian\n",
    "\n",
    "for i in range(n):\n",
    "    b = tensor([a if i==j else eye for j in range(n)]) # Annihilation operator for the i:th resonator\n",
    "    H0 += -Delta*b.dag()*b - K*b.dag()**2*b**2\n",
    "    H1 += -K*b.dag()**2*b**2 + G*(b.dag()**2 + b**2) + E[i]*(b.dag() + b)\n",
    "\n",
    "if n>1:\n",
    "    for i in range(n-1):\n",
    "        b1 = tensor([a if i == k else eye for k in range(n)])\n",
    "        for j in range(i+1,n):\n",
    "            b2 = tensor([a if j == k else eye for k in range(n)])\n",
    "            H_coupling = g[i,j]*(b1.dag()*b2 + b2.dag()*b1)\n",
    "        \n",
    "H0 += H_coupling\n",
    "H1 += H_coupling"
   ]
  },
  {
   "cell_type": "code",
   "execution_count": 45,
   "id": "going-machine",
   "metadata": {},
   "outputs": [],
   "source": [
    "## Computational basis states\n",
    "alpha_plus = coherent(N,alpha)\n",
    "alpha_minus = coherent(N,-alpha)\n",
    "cat_plus = (alpha_plus + alpha_minus).unit()\n",
    "cat_minus = (alpha_plus - alpha_minus).unit()\n",
    "ket0 = (cat_plus + cat_minus)/np.sqrt(2) # logical zero state\n",
    "ket1 = (cat_plus - cat_minus)/np.sqrt(2) # logical one state\n",
    "kets = [ket0, ket1] # array with the two logical states\n",
    "I = tensor([(ket0*ket0.dag() + ket1*ket1.dag()) for i in range(n)]) # Identity operator\n",
    "\n",
    "## Create state\n",
    "vac = tensor([basis(N,0) for i in range(n)]) # vacuum\n",
    "def var_state(gamma,beta):\n",
    "    return (-1j*beta*H0).expm()*(-1j*gamma*H1).expm()*vac\n",
    "\n",
    "## Basis states\n",
    "def ket(x):\n",
    "    return tensor([kets[i] for i in x])"
   ]
  },
  {
   "cell_type": "code",
   "execution_count": 20,
   "id": "dedicated-prototype",
   "metadata": {
    "scrolled": true
   },
   "outputs": [
    {
     "data": {
      "text/latex": [
       "Quantum object: dims = [[1], [1]], shape = (1, 1), type = bra\\begin{equation*}\\left(\\begin{array}{*{11}c}-29.238\\\\\\end{array}\\right)\\end{equation*}"
      ],
      "text/plain": [
       "Quantum object: dims = [[1], [1]], shape = (1, 1), type = bra\n",
       "Qobj data =\n",
       "[[-29.23844183]]"
      ]
     },
     "execution_count": 20,
     "metadata": {},
     "output_type": "execute_result"
    }
   ],
   "source": [
    "b = ket([0,0])\n",
    "b.dag()*I*(-H1)*I*b"
   ]
  },
  {
   "cell_type": "code",
   "execution_count": 21,
   "id": "suffering-there",
   "metadata": {
    "scrolled": true
   },
   "outputs": [
    {
     "data": {
      "text/latex": [
       "Quantum object: dims = [[1], [1]], shape = (1, 1), type = bra\\begin{equation*}\\left(\\begin{array}{*{11}c}-31.182\\\\\\end{array}\\right)\\end{equation*}"
      ],
      "text/plain": [
       "Quantum object: dims = [[1], [1]], shape = (1, 1), type = bra\n",
       "Qobj data =\n",
       "[[-31.18218735]]"
      ]
     },
     "execution_count": 21,
     "metadata": {},
     "output_type": "execute_result"
    }
   ],
   "source": [
    "b = ket([1,0])\n",
    "b.dag()*I*(-H1)*I*b"
   ]
  },
  {
   "cell_type": "code",
   "execution_count": 23,
   "id": "offensive-assessment",
   "metadata": {},
   "outputs": [
    {
     "data": {
      "text/latex": [
       "Quantum object: dims = [[1], [1]], shape = (1, 1), type = bra\\begin{equation*}\\left(\\begin{array}{*{11}c}-30.201\\\\\\end{array}\\right)\\end{equation*}"
      ],
      "text/plain": [
       "Quantum object: dims = [[1], [1]], shape = (1, 1), type = bra\n",
       "Qobj data =\n",
       "[[-30.20105754]]"
      ]
     },
     "execution_count": 23,
     "metadata": {},
     "output_type": "execute_result"
    }
   ],
   "source": [
    "b = ket([0,1])\n",
    "b.dag()*I*(-H1)*I*b"
   ]
  },
  {
   "cell_type": "code",
   "execution_count": 22,
   "id": "latin-ranking",
   "metadata": {},
   "outputs": [
    {
     "data": {
      "text/latex": [
       "Quantum object: dims = [[1], [1]], shape = (1, 1), type = bra\\begin{equation*}\\left(\\begin{array}{*{11}c}-30.220\\\\\\end{array}\\right)\\end{equation*}"
      ],
      "text/plain": [
       "Quantum object: dims = [[1], [1]], shape = (1, 1), type = bra\n",
       "Qobj data =\n",
       "[[-30.21957164]]"
      ]
     },
     "execution_count": 22,
     "metadata": {},
     "output_type": "execute_result"
    }
   ],
   "source": [
    "b = ket([1,1])\n",
    "b.dag()*I*(-H1)*I*b"
   ]
  }
 ],
 "metadata": {
  "interpreter": {
   "hash": "5448b298d0cd7c25693a3c99edef1226df06d015a883046b694a54eba30a14cb"
  },
  "kernelspec": {
   "display_name": "Python 3 (ipykernel)",
   "language": "python",
   "name": "python3"
  },
  "language_info": {
   "codemirror_mode": {
    "name": "ipython",
    "version": 3
   },
   "file_extension": ".py",
   "mimetype": "text/x-python",
   "name": "python",
   "nbconvert_exporter": "python",
   "pygments_lexer": "ipython3",
   "version": "3.9.9"
  }
 },
 "nbformat": 4,
 "nbformat_minor": 5
}
