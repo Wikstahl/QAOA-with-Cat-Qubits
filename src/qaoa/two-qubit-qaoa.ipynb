{
 "cells": [
  {
   "attachments": {},
   "cell_type": "markdown",
   "metadata": {},
   "source": [
    "## Two qubit QAOA with Kerr resonators"
   ]
  },
  {
   "cell_type": "code",
   "execution_count": 3,
   "metadata": {},
   "outputs": [
    {
     "name": "stdout",
     "output_type": "stream",
     "text": [
      "The autoreload extension is already loaded. To reload it, use:\n",
      "  %reload_ext autoreload\n"
     ]
    }
   ],
   "source": [
    "import numpy as np; pi = np.pi\n",
    "from qutip import *\n",
    "from qutip.qip.circuit import QubitCircuit\n",
    "from qutip.qip.operations import *\n",
    "from qaoa_with_cat_qubits.cvdevice import KPOProcessor\n",
    "import matplotlib as mpl\n",
    "import matplotlib.pyplot as plt\n",
    "from matplotlib import cm\n",
    "%load_ext autoreload\n",
    "%autoreload 2"
   ]
  },
  {
   "cell_type": "code",
   "execution_count": 4,
   "metadata": {},
   "outputs": [],
   "source": [
    "# Figures should have a width of a 8.6 cm or 3 3/8 in, the width of a single manuscript column.\n",
    "golden_mean = (np.sqrt(5)-1.0)/2.0 # Aesthetic ratio\n",
    "fig_width = (3+3/8) # width in inches\n",
    "fig_height = fig_width*golden_mean # height in inches (0.75 is the standard height to width ratio in Python)\n",
    "fig_size = [fig_width, fig_height]\n",
    "mpl.rcParams.update({\n",
    "    'axes.labelsize' : 9,\n",
    "    'font.size' : 9,\n",
    "    'legend.fontsize' : 8,\n",
    "    'xtick.labelsize' : 8,\n",
    "    'ytick.labelsize' : 8,\n",
    "    'ytick.minor.pad' : -0.5,\n",
    "    'ytick.minor.pad' : -0.5,\n",
    "    'ytick.major.size' : 2,\n",
    "    'ytick.minor.size' : 2,\n",
    "    'ytick.major.width' : .5,\n",
    "    'ytick.minor.width' : .5,\n",
    "    'xtick.major.size' : 2,\n",
    "    'xtick.minor.size' : 2,\n",
    "    'xtick.major.width' : .5,\n",
    "    'xtick.minor.width' : .5,\n",
    "    'xtick.major.pad' : 1.5,\n",
    "    'xtick.minor.pad' : 1.5,\n",
    "    'text.usetex' : False,\n",
    "    'figure.dpi' : 100,\n",
    "})"
   ]
  },
  {
   "attachments": {},
   "cell_type": "markdown",
   "metadata": {},
   "source": [
    "initialize problem"
   ]
  },
  {
   "cell_type": "code",
   "execution_count": 5,
   "metadata": {},
   "outputs": [
    {
     "data": {
      "text/latex": [
       "Quantum object: dims = [[2, 2], [2, 2]], shape = (4, 4), type = oper, isherm = True $ \\\\ \\left(\\begin{matrix}2.0 & 0.0 & 0.0 & 0.0\\\\0.0 & 1.0 & 0.0 & 0.0\\\\0.0 & 0.0 & 0.0 & 0.0\\\\0.0 & 0.0 & 0.0 & 1.0\\\\\\end{matrix}\\right)$"
      ],
      "text/plain": [
       "Quantum object: dims = [[2, 2], [2, 2]], shape = (4, 4), type = oper, isherm = True\n",
       "Qobj data =\n",
       "[[2. 0. 0. 0.]\n",
       " [0. 1. 0. 0.]\n",
       " [0. 0. 0. 0.]\n",
       " [0. 0. 0. 1.]]"
      ]
     },
     "execution_count": 5,
     "metadata": {},
     "output_type": "execute_result"
    }
   ],
   "source": [
    "# Problem\n",
    "J = -1*np.array([[1,1/2],[1/2,1/2]])\n",
    "h = -1*np.array([1/2,0])\n",
    "\n",
    "# Eigvals [2 1 0 1]\n",
    "\n",
    "# Number of qubits in the system\n",
    "N = 2\n",
    "\n",
    "H_cost = - J[0,1]*tensor(sigmaz(),sigmaz()) - h[0]*tensor(sigmaz(),qeye(2)) + 1\n",
    "H_cost"
   ]
  },
  {
   "attachments": {},
   "cell_type": "markdown",
   "metadata": {},
   "source": [
    "setup parameters"
   ]
  },
  {
   "cell_type": "code",
   "execution_count": 6,
   "metadata": {},
   "outputs": [],
   "source": [
    "kpo = KPOProcessor(N = N, num_lvl = 12)\n",
    "alpha = kpo._paras['Coherent state']\n",
    "num_lvl = kpo._paras['Cut off']\n",
    "eye = qeye(num_lvl)\n",
    "\n",
    "# Cat state\n",
    "cat_plus = (coherent(num_lvl,alpha) + coherent(num_lvl,-alpha)).unit()\n",
    "cat_minus = (coherent(num_lvl,alpha) - coherent(num_lvl,-alpha)).unit()\n",
    "\n",
    "# computational basis\n",
    "up = (cat_plus + cat_minus)/np.sqrt(2) # Binary 0\n",
    "down = (cat_plus - cat_minus)/np.sqrt(2) # Binary 1\n",
    "\n",
    "# pauli-z\n",
    "sigma_z = ket2dm(up) - ket2dm(down)\n",
    "identity = ket2dm(up) + ket2dm(down)\n",
    "\n",
    "# possible initial states\n",
    "plus = cat_plus\n",
    "iplus = (cat_plus + 1j*cat_minus)/np.sqrt(2)\n",
    "\n",
    "# initial state\n",
    "initial_state = tensor([plus for i in range(N)])"
   ]
  },
  {
   "attachments": {},
   "cell_type": "markdown",
   "metadata": {},
   "source": [
    "create Hamiltonian"
   ]
  },
  {
   "cell_type": "code",
   "execution_count": 7,
   "metadata": {},
   "outputs": [],
   "source": [
    "H = - J[0,1]*tensor(sigma_z,sigma_z) - h[0]*tensor(sigma_z,identity)"
   ]
  },
  {
   "attachments": {},
   "cell_type": "markdown",
   "metadata": {},
   "source": [
    "project Hamiltonian to computational basis"
   ]
  },
  {
   "cell_type": "code",
   "execution_count": 8,
   "metadata": {},
   "outputs": [
    {
     "data": {
      "text/latex": [
       "Quantum object: dims = [[4], [4]], shape = (4, 4), type = oper, isherm = True $ \\\\ \\left(\\begin{matrix}2.000 & 0.0 & 0.0 & 0.0\\\\0.0 & 1.0 & 0.0 & 0.0\\\\0.0 & 0.0 & 0.0 & 0.0\\\\0.0 & 0.0 & 0.0 & 1.0\\\\\\end{matrix}\\right)$"
      ],
      "text/plain": [
       "Quantum object: dims = [[4], [4]], shape = (4, 4), type = oper, isherm = True\n",
       "Qobj data =\n",
       "[[2. 0. 0. 0.]\n",
       " [0. 1. 0. 0.]\n",
       " [0. 0. 0. 0.]\n",
       " [0. 0. 0. 1.]]"
      ]
     },
     "execution_count": 8,
     "metadata": {},
     "output_type": "execute_result"
    }
   ],
   "source": [
    "ket00 = tensor(up,up)\n",
    "ket10 = tensor(down,up)\n",
    "ket01 = tensor(up,down)\n",
    "ket11 = tensor(down,down)\n",
    "cost = np.zeros((4,4))\n",
    "cost[0,0] = (H*ket2dm(ket00)).tr()\n",
    "cost[1,1] = (H*ket2dm(ket01)).tr()\n",
    "cost[2,2] = (H*ket2dm(ket10)).tr()\n",
    "cost[3,3] = (H*ket2dm(ket11)).tr()\n",
    "Qobj(cost) + 1"
   ]
  },
  {
   "cell_type": "code",
   "execution_count": 9,
   "metadata": {},
   "outputs": [],
   "source": [
    "# Iteration level\n",
    "p = 1\n",
    "\n",
    "if p == 1:\n",
    "    # Angles p = 1\n",
    "    alphas = [0.9046]\n",
    "    betas = [2.6893]\n",
    "    # 100 % with Y-mixer, initial-state?\n",
    "    #gamma = [np.pi]\n",
    "    #beta = [2.3562]\n",
    "elif p == 2:\n",
    "    # Angles p = 2\n",
    "    alphas = [pi/2, pi/2]\n",
    "    betas = [2.3562, 2.3562]"
   ]
  },
  {
   "attachments": {},
   "cell_type": "markdown",
   "metadata": {},
   "source": [
    "Optimize angles"
   ]
  },
  {
   "cell_type": "code",
   "execution_count": 10,
   "metadata": {},
   "outputs": [],
   "source": [
    "alphas = [1.57366196, 1.58287706]\n",
    "betas = [2.07638867, 2.08759741]"
   ]
  },
  {
   "attachments": {},
   "cell_type": "markdown",
   "metadata": {},
   "source": [
    "Construct Ising-ZZ gate"
   ]
  },
  {
   "cell_type": "code",
   "execution_count": 11,
   "metadata": {},
   "outputs": [],
   "source": [
    "def carb(arg_value):\n",
    "    # control arbitrary phase gate\n",
    "    zz = tensor(sigmaz(),sigmaz())\n",
    "    return (-1j*arg_value/2*zz).expm()"
   ]
  },
  {
   "attachments": {},
   "cell_type": "markdown",
   "metadata": {},
   "source": [
    "Construct qaoa circuit"
   ]
  },
  {
   "cell_type": "code",
   "execution_count": 12,
   "metadata": {},
   "outputs": [],
   "source": [
    "def qaoa_circuit(params):\n",
    "    alphas, betas = params\n",
    "    \n",
    "    # Representation of a quantum program/algorithm, maintaining a sequence of gates.\n",
    "    qc = QubitCircuit(N = N, reverse_states = False)\n",
    "    qc.user_gates = {\"CARB\": carb}\n",
    "    qc.add_state(state = \"+\", targets = range(N), state_type = \"input\")\n",
    "    \n",
    "    for alpha,beta in zip(alphas,betas):\n",
    "        for j in range(N-1):\n",
    "            for k in range(j+1,N):\n",
    "                if J[j][k] != 0:\n",
    "                    qc.add_gate(\"CARB\", targets = [j,k], arg_value = 2*alpha*J[j][k])\n",
    "        for j in range(N):\n",
    "            if h[j] != 0:\n",
    "                qc.add_gate(\"RZ\", j, None, 2*alpha*h[j])\n",
    "            if 2*beta > np.pi:\n",
    "                qc.add_gate(\"RX\", j, None, 2*np.pi - 2*beta)\n",
    "    return qc"
   ]
  },
  {
   "cell_type": "code",
   "execution_count": 13,
   "metadata": {},
   "outputs": [],
   "source": [
    "def cost_fun(x):\n",
    "    lvl = int(len(x)/2)\n",
    "    alphas = x[:lvl]\n",
    "    betas = x[lvl:]\n",
    "    params = (alphas, betas)\n",
    "    # simulate\n",
    "    result = kpo.run_state(init_state = initial_state, qc = qaoa_circuit(params), noisy = True)\n",
    "    final_state = result.states[-1]\n",
    "    if final_state.type == 'ket':\n",
    "        final_state = ket2dm(final_state)\n",
    "    return (H*final_state).tr().real"
   ]
  },
  {
   "attachments": {},
   "cell_type": "markdown",
   "metadata": {},
   "source": [
    "Load the circuit onto the device"
   ]
  },
  {
   "cell_type": "code",
   "execution_count": 14,
   "metadata": {},
   "outputs": [
    {
     "name": "stdout",
     "output_type": "stream",
     "text": [
      "Total time = 28 (1/K)\n"
     ]
    }
   ],
   "source": [
    "kpo = KPOProcessor(N = N)\n",
    "params = (alphas,betas)\n",
    "tlist, coeffs = kpo.load_circuit(qaoa_circuit(params))\n",
    "print(\"Total time = %s (1/K)\" % round(tlist[-1]))"
   ]
  },
  {
   "cell_type": "code",
   "execution_count": 15,
   "metadata": {},
   "outputs": [
    {
     "data": {
      "image/png": "[encoded data removed]",
      "text/plain": [
       "<Figure size 337.5x208.586 with 1 Axes>"
      ]
     },
     "metadata": {},
     "output_type": "display_data"
    }
   ],
   "source": [
    "fig = kpo.plot_pulses(figsize=fig_size)"
   ]
  },
  {
   "cell_type": "code",
   "execution_count": null,
   "metadata": {},
   "outputs": [],
   "source": [
    "plt.savefig('fig-qaoa-level-1-pulses-rx-mixer.pdf', dpi=300, transparent=False, bbox_inches='tight')"
   ]
  },
  {
   "attachments": {},
   "cell_type": "markdown",
   "metadata": {},
   "source": [
    "### Setup parameters and initial values"
   ]
  },
  {
   "cell_type": "code",
   "execution_count": 16,
   "metadata": {},
   "outputs": [],
   "source": [
    "kpo = KPOProcessor(N = 2)\n",
    "alpha = kpo._paras['Coherent state']\n",
    "num_lvl = kpo._paras['Cut off']\n",
    "eye = qeye(num_lvl)\n",
    "\n",
    "# Cat state\n",
    "cat_plus = (coherent(num_lvl,alpha) + coherent(num_lvl,-alpha)).unit()\n",
    "cat_minus = (coherent(num_lvl,alpha) - coherent(num_lvl,-alpha)).unit()\n",
    "\n",
    "# computational basis\n",
    "up = (cat_plus + cat_minus)/np.sqrt(2) # Binary 0\n",
    "down = (cat_plus - cat_minus)/np.sqrt(2) # Binary 1\n",
    "\n",
    "# pauli-z\n",
    "sigma_z = ket2dm(up) - ket2dm(down)\n",
    "identity = ket2dm(up) + ket2dm(down)\n",
    "\n",
    "# possible initial states\n",
    "plus = cat_plus\n",
    "iplus = (cat_plus + 1j*cat_minus)/np.sqrt(2)\n",
    "\n",
    "# initial state\n",
    "initial_state = tensor([plus for i in range(N)])"
   ]
  },
  {
   "attachments": {},
   "cell_type": "markdown",
   "metadata": {},
   "source": [
    "### Load optimal params"
   ]
  },
  {
   "cell_type": "code",
   "execution_count": 18,
   "metadata": {},
   "outputs": [
    {
     "name": "stderr",
     "output_type": "stream",
     "text": [
      "/Users/turbotanten/Documents/GitHub/QAOA-with-Cat-Qubits/envs/myenv/lib/python3.8/site-packages/numpy/lib/format.py:781: DeprecationWarning: Please use `OptimizeResult` from the `scipy.optimize` namespace, the `scipy.optimize.optimize` namespace is deprecated.\n",
      "  array = pickle.load(fp, **pickle_kwargs)\n"
     ]
    }
   ],
   "source": [
    "res = np.load('../../data/two_qubit_qaoa/two-qubit-qaoa-rx-mixer-2.npy', allow_pickle=True)\n",
    "data = res.all()\n",
    "x = data.x\n",
    "alphas = x[:2]\n",
    "betas = x[2:]"
   ]
  },
  {
   "cell_type": "code",
   "execution_count": 19,
   "metadata": {},
   "outputs": [
    {
     "data": {
      "text/plain": [
       "array(  message: Desired error not necessarily achieved due to precision loss.\n",
       "  success: False\n",
       "   status: 2\n",
       "      fun: -0.8771151909723817\n",
       "        x: [ 1.562e+00  1.557e+00  2.347e+00  2.350e+00]\n",
       "      nit: 15\n",
       "      jac: [ 9.202e-03  1.922e-06  3.271e-06 -4.061e-06]\n",
       " hess_inv: [[ 9.023e-06 -6.950e-04 -5.411e-04 -5.401e-05]\n",
       "            [-6.950e-04  1.315e+00  3.527e-01  3.318e-02]\n",
       "            [-5.411e-04  3.527e-01  2.653e-01 -1.606e-02]\n",
       "            [-5.401e-05  3.318e-02 -1.606e-02  1.865e-01]]\n",
       "     nfev: 381\n",
       "     njev: 74, dtype=object)"
      ]
     },
     "execution_count": 19,
     "metadata": {},
     "output_type": "execute_result"
    }
   ],
   "source": [
    "res"
   ]
  },
  {
   "cell_type": "code",
   "execution_count": 20,
   "metadata": {},
   "outputs": [],
   "source": [
    "params = (alphas,betas)\n",
    "tlist, coeffs = kpo.load_circuit(qaoa_circuit(params))"
   ]
  },
  {
   "attachments": {},
   "cell_type": "markdown",
   "metadata": {},
   "source": [
    "### Run master equation"
   ]
  },
  {
   "cell_type": "code",
   "execution_count": 21,
   "metadata": {},
   "outputs": [],
   "source": [
    "# simulate\n",
    "result = kpo.run_state(init_state = initial_state, noisy = True)\n",
    "final_state = result.states[-1]"
   ]
  },
  {
   "cell_type": "code",
   "execution_count": null,
   "metadata": {},
   "outputs": [],
   "source": [
    "final_state"
   ]
  },
  {
   "cell_type": "code",
   "execution_count": null,
   "metadata": {},
   "outputs": [],
   "source": [
    "\n",
    "qsave(final_state,'results/noisy-qaoa-level-2-rx-mixer0')"
   ]
  },
  {
   "cell_type": "code",
   "execution_count": 4,
   "metadata": {},
   "outputs": [
    {
     "ename": "FileNotFoundError",
     "evalue": "[Errno 2] No such file or directory: 'results/noisy-qaoa-level-2-rx-mixer0.qu'",
     "output_type": "error",
     "traceback": [
      "\u001b[0;31m---------------------------------------------------------------------------\u001b[0m",
      "\u001b[0;31mFileNotFoundError\u001b[0m                         Traceback (most recent call last)",
      "Input \u001b[0;32mIn [4]\u001b[0m, in \u001b[0;36m<module>\u001b[0;34m\u001b[0m\n\u001b[0;32m----> 1\u001b[0m final_state \u001b[38;5;241m=\u001b[39m \u001b[43mqload\u001b[49m\u001b[43m(\u001b[49m\u001b[38;5;124;43m'\u001b[39;49m\u001b[38;5;124;43mresults/noisy-qaoa-level-2-rx-mixer0\u001b[39;49m\u001b[38;5;124;43m'\u001b[39;49m\u001b[43m)\u001b[49m\n",
      "File \u001b[0;32m~/Documents/GitHub/cvqaoa/.env/lib/python3.9/site-packages/qutip/fileio.py:246\u001b[0m, in \u001b[0;36mqload\u001b[0;34m(name)\u001b[0m\n\u001b[1;32m    231\u001b[0m \u001b[38;5;28;01mdef\u001b[39;00m \u001b[38;5;21mqload\u001b[39m(name):\n\u001b[1;32m    232\u001b[0m     \u001b[38;5;124;03m\"\"\"\u001b[39;00m\n\u001b[1;32m    233\u001b[0m \u001b[38;5;124;03m    Loads data file from file named 'filename.qu' in current directory.\u001b[39;00m\n\u001b[1;32m    234\u001b[0m \n\u001b[0;32m   (...)\u001b[0m\n\u001b[1;32m    244\u001b[0m \n\u001b[1;32m    245\u001b[0m \u001b[38;5;124;03m    \"\"\"\u001b[39;00m\n\u001b[0;32m--> 246\u001b[0m     \u001b[38;5;28;01mwith\u001b[39;00m \u001b[38;5;28;43mopen\u001b[39;49m\u001b[43m(\u001b[49m\u001b[43mname\u001b[49m\u001b[43m \u001b[49m\u001b[38;5;241;43m+\u001b[39;49m\u001b[43m \u001b[49m\u001b[38;5;124;43m\"\u001b[39;49m\u001b[38;5;124;43m.qu\u001b[39;49m\u001b[38;5;124;43m\"\u001b[39;49m\u001b[43m,\u001b[49m\u001b[43m \u001b[49m\u001b[38;5;124;43m\"\u001b[39;49m\u001b[38;5;124;43mrb\u001b[39;49m\u001b[38;5;124;43m\"\u001b[39;49m\u001b[43m)\u001b[49m \u001b[38;5;28;01mas\u001b[39;00m fileObject:\n\u001b[1;32m    247\u001b[0m         \u001b[38;5;28;01mif\u001b[39;00m sys\u001b[38;5;241m.\u001b[39mversion_info \u001b[38;5;241m>\u001b[39m\u001b[38;5;241m=\u001b[39m (\u001b[38;5;241m3\u001b[39m, \u001b[38;5;241m0\u001b[39m):\n\u001b[1;32m    248\u001b[0m             out \u001b[38;5;241m=\u001b[39m pickle\u001b[38;5;241m.\u001b[39mload(fileObject, encoding\u001b[38;5;241m=\u001b[39m\u001b[38;5;124m'\u001b[39m\u001b[38;5;124mlatin1\u001b[39m\u001b[38;5;124m'\u001b[39m)\n",
      "\u001b[0;31mFileNotFoundError\u001b[0m: [Errno 2] No such file or directory: 'results/noisy-qaoa-level-2-rx-mixer0.qu'"
     ]
    }
   ],
   "source": [
    "final_state = qload('results/noisy-qaoa-level-2-rx-mixer0')"
   ]
  },
  {
   "attachments": {},
   "cell_type": "markdown",
   "metadata": {},
   "source": [
    "### Calculate success probability"
   ]
  },
  {
   "cell_type": "code",
   "execution_count": 47,
   "metadata": {},
   "outputs": [
    {
     "name": "stdout",
     "output_type": "stream",
     "text": [
      "Success Probability = 90.639 %\n"
     ]
    }
   ],
   "source": [
    "target_state = tensor(down,up)\n",
    "if final_state.type == 'ket':\n",
    "    f = (target_state.dag() * final_state).full()[0][0]\n",
    "    f = abs(f)**2\n",
    "else:\n",
    "    f = (ket2dm(target_state) * final_state).tr().real\n",
    "print(\"Success Probability = %s %%\" % round(f*100,3))"
   ]
  },
  {
   "cell_type": "code",
   "execution_count": 15,
   "metadata": {},
   "outputs": [
    {
     "data": {
      "image/png": "[encoded data removed]",
      "text/plain": [
       "<Figure size 432x288 with 3 Axes>"
      ]
     },
     "metadata": {
      "needs_background": "light"
     },
     "output_type": "display_data"
    }
   ],
   "source": [
    "q0 = final_state.ptrace(0)\n",
    "q1 = final_state.ptrace(1)\n",
    "xvec = np.linspace(-4, 4, 400); yvec = np.linspace(-2, 2, 200)\n",
    "W0 = wigner(q0,xvec,yvec,'iterative',2)\n",
    "W1 = wigner(q1,xvec,yvec,'iterative',2)\n",
    "nrm = mpl.colors.Normalize(-W0.max(), W0.max()) # Normalize colors\n",
    "\n",
    "# contour plot\n",
    "plt.subplot(121,aspect='equal')\n",
    "im = plt.contourf(xvec, yvec, W0, 100, cmap = cm.RdBu_r, norm = nrm) # density plot\n",
    "plt.xlabel(r'Re$(\\alpha)$', fontsize = 14)\n",
    "plt.ylabel(r'Im$(\\alpha)$', fontsize = 14)\n",
    "plt.xticks(np.arange(min(xvec),max(xvec)+1,2),fontsize = 12)\n",
    "plt.yticks(np.arange(min(yvec),max(yvec)+1,2),fontsize = 12)\n",
    "\n",
    "# contour plot\n",
    "plt.subplot(122,aspect='equal')\n",
    "im = plt.contourf(xvec, yvec, W1, 100, cmap = cm.RdBu_r, norm = nrm) # density plot\n",
    "plt.xlabel(r'Re$(\\alpha)$', fontsize = 14)\n",
    "plt.ylabel(r'Im$(\\alpha)$', fontsize = 14)\n",
    "plt.xticks(np.arange(min(xvec),max(xvec)+1,2),fontsize = 12)\n",
    "plt.yticks(np.arange(min(yvec),max(yvec)+1,2),fontsize = 12)\n",
    "\n",
    "# colorbar\n",
    "cax = plt.axes([0.125, 0.72, 0.775, 0.05]) # left, bottom, width, height\n",
    "plt.colorbar(im, cax = cax, orientation = 'horizontal', ticklocation = 'top', ticks = np.arange(round(W0.min())-1,round(W0.max()+.1)+.1,0.1));"
   ]
  },
  {
   "attachments": {},
   "cell_type": "markdown",
   "metadata": {},
   "source": [
    "## <a name=\"Ry\">QAOA but with a $R_y$-gate</a>"
   ]
  },
  {
   "cell_type": "code",
   "execution_count": 31,
   "metadata": {},
   "outputs": [],
   "source": [
    "def carb(arg_value):\n",
    "    # control arbitrary phase gate\n",
    "    zz = tensor(sigmaz(),sigmaz())\n",
    "    return (-1j*arg_value/2*zz).expm()\n",
    "\n",
    "# Iteration level\n",
    "p = 1\n",
    "\n",
    "if p == 1:\n",
    "    # Angles p = 1 100% success\n",
    "    #gamma = [np.pi]\n",
    "    #beta = [0.7823]\n",
    "    # angles p = 1 50% success\n",
    "    gamma = [0.8999]\n",
    "    beta = [2.6838]\n",
    "    gamma = [0.9046]\n",
    "    beta = [2.6893]\n",
    "elif p == 2:    \n",
    "    # Angles p = 2\n",
    "    # Angles p = 2\n",
    "    gamma = [pi/2, pi/2]\n",
    "    beta = [2.3562, 2.3562]\n",
    "\n",
    "# Representation of a quantum program/algorithm, maintaining a sequence of gates.\n",
    "qc = QubitCircuit(N = N, reverse_states = False)\n",
    "qc.user_gates = {\"CARB\": carb}\n",
    "qc.add_state(state = \"+\", targets = range(N), state_type = \"input\")\n",
    "\n",
    "for i in range(p):\n",
    "    for j in range(N-1):\n",
    "        for k in range(j+1,N):\n",
    "            if J[j][k] != 0:\n",
    "                qc.add_gate(\"CARB\", targets = [j,k], arg_value = 2*gamma[i]*J[j][k])\n",
    "    for j in range(N):\n",
    "        if h[j] != 0: \n",
    "            qc.add_gate(\"RZ\", j, None, 2*gamma[i]*h[j])\n",
    "        qc.add_gate(\"RY\", j, None, 2*beta[i])"
   ]
  },
  {
   "cell_type": "code",
   "execution_count": 32,
   "metadata": {},
   "outputs": [
    {
     "name": "stdout",
     "output_type": "stream",
     "text": [
      "Total time = 9 (1/K)\n"
     ]
    }
   ],
   "source": [
    "kpo = KPOProcessor(N = N)\n",
    "tlist, coeffs = kpo.load_circuit(qc)\n",
    "print(\"Total time = %s (1/K)\" % round(tlist[-1]))"
   ]
  },
  {
   "cell_type": "code",
   "execution_count": 33,
   "metadata": {
    "scrolled": true
   },
   "outputs": [
    {
     "data": {
      "image/png": "[encoded data removed]",
      "text/plain": [
       "<Figure size 337.5x208.586 with 1 Axes>"
      ]
     },
     "metadata": {
      "needs_background": "light"
     },
     "output_type": "display_data"
    }
   ],
   "source": [
    "fig = kpo.plot_pulses(figsize=fig_size)\n",
    "plt.savefig('fig-qaoa-pulses-level-1-ry-mixer.pdf', dpi=300, transparent=False, bbox_inches='tight')"
   ]
  },
  {
   "attachments": {},
   "cell_type": "markdown",
   "metadata": {},
   "source": [
    "## Setup parameters and initial values"
   ]
  },
  {
   "cell_type": "code",
   "execution_count": 21,
   "metadata": {},
   "outputs": [],
   "source": [
    "alpha = kpo._paras['Coherent state']\n",
    "num_lvl = kpo._paras['Cut off']\n",
    "eye = qeye(num_lvl)\n",
    "\n",
    "# computational basis\n",
    "up = coherent(num_lvl, alpha) # logical zero\n",
    "down = coherent(num_lvl,-alpha) # logical one\n",
    "\n",
    "# initial state\n",
    "plus = (up-1j*down).unit()\n",
    "psi0 = tensor([plus for i in range(N)])"
   ]
  },
  {
   "attachments": {},
   "cell_type": "markdown",
   "metadata": {},
   "source": [
    "## Run master equation"
   ]
  },
  {
   "cell_type": "code",
   "execution_count": 22,
   "metadata": {},
   "outputs": [
    {
     "ename": "KeyboardInterrupt",
     "evalue": "",
     "output_type": "error",
     "traceback": [
      "\u001b[0;31m---------------------------------------------------------------------------\u001b[0m",
      "\u001b[0;31mKeyboardInterrupt\u001b[0m                         Traceback (most recent call last)",
      "Input \u001b[0;32mIn [22]\u001b[0m, in \u001b[0;36m<module>\u001b[0;34m\u001b[0m\n\u001b[1;32m      1\u001b[0m \u001b[38;5;66;03m# simulate\u001b[39;00m\n\u001b[0;32m----> 2\u001b[0m result \u001b[38;5;241m=\u001b[39m \u001b[43mkpo\u001b[49m\u001b[38;5;241;43m.\u001b[39;49m\u001b[43mrun_state\u001b[49m\u001b[43m(\u001b[49m\u001b[43minit_state\u001b[49m\u001b[43m \u001b[49m\u001b[38;5;241;43m=\u001b[39;49m\u001b[43m \u001b[49m\u001b[43mpsi0\u001b[49m\u001b[43m,\u001b[49m\u001b[43m \u001b[49m\u001b[43mnoisy\u001b[49m\u001b[43m \u001b[49m\u001b[38;5;241;43m=\u001b[39;49m\u001b[43m \u001b[49m\u001b[38;5;28;43;01mTrue\u001b[39;49;00m\u001b[43m)\u001b[49m\n\u001b[1;32m      3\u001b[0m final_state \u001b[38;5;241m=\u001b[39m result\u001b[38;5;241m.\u001b[39mstates[\u001b[38;5;241m-\u001b[39m\u001b[38;5;241m1\u001b[39m]\n",
      "File \u001b[0;32m~/Documents/GitHub/cvqaoa/cvqaoa/cvdevice/kpoprocessor.py:193\u001b[0m, in \u001b[0;36mKPOProcessor.run_state\u001b[0;34m(self, init_state, analytical, qc, states, noisy, **kwargs)\u001b[0m\n\u001b[1;32m    190\u001b[0m \u001b[38;5;28;01mif\u001b[39;00m noisy \u001b[38;5;241m==\u001b[39m \u001b[38;5;28;01mTrue\u001b[39;00m:\n\u001b[1;32m    191\u001b[0m     kwargs[\u001b[38;5;124m\"\u001b[39m\u001b[38;5;124mc_ops\u001b[39m\u001b[38;5;124m\"\u001b[39m] \u001b[38;5;241m=\u001b[39m \u001b[38;5;28mself\u001b[39m\u001b[38;5;241m.\u001b[39mc_ops\n\u001b[0;32m--> 193\u001b[0m \u001b[38;5;28;01mreturn\u001b[39;00m \u001b[38;5;28;43msuper\u001b[39;49m\u001b[43m(\u001b[49m\u001b[43mKPOProcessor\u001b[49m\u001b[43m,\u001b[49m\u001b[43m \u001b[49m\u001b[38;5;28;43mself\u001b[39;49m\u001b[43m)\u001b[49m\u001b[38;5;241;43m.\u001b[39;49m\u001b[43mrun_state\u001b[49m\u001b[43m(\u001b[49m\n\u001b[1;32m    194\u001b[0m \u001b[43m    \u001b[49m\u001b[43minit_state\u001b[49m\u001b[38;5;241;43m=\u001b[39;49m\u001b[43minit_state\u001b[49m\u001b[43m,\u001b[49m\u001b[43m \u001b[49m\u001b[43manalytical\u001b[49m\u001b[38;5;241;43m=\u001b[39;49m\u001b[43manalytical\u001b[49m\u001b[43m,\u001b[49m\n\u001b[1;32m    195\u001b[0m \u001b[43m    \u001b[49m\u001b[43mstates\u001b[49m\u001b[38;5;241;43m=\u001b[39;49m\u001b[43mstates\u001b[49m\u001b[43m,\u001b[49m\u001b[43m \u001b[49m\u001b[38;5;241;43m*\u001b[39;49m\u001b[38;5;241;43m*\u001b[39;49m\u001b[43mkwargs\u001b[49m\u001b[43m)\u001b[49m\n",
      "File \u001b[0;32m~/Documents/GitHub/cvqaoa/.env/lib/python3.9/site-packages/qutip/qip/device/processor.py:743\u001b[0m, in \u001b[0;36mProcessor.run_state\u001b[0;34m(self, init_state, analytical, states, noisy, solver, **kwargs)\u001b[0m\n\u001b[1;32m    741\u001b[0m \u001b[38;5;66;03m# choose solver:\u001b[39;00m\n\u001b[1;32m    742\u001b[0m \u001b[38;5;28;01mif\u001b[39;00m solver \u001b[38;5;241m==\u001b[39m \u001b[38;5;124m\"\u001b[39m\u001b[38;5;124mmesolve\u001b[39m\u001b[38;5;124m\"\u001b[39m:\n\u001b[0;32m--> 743\u001b[0m     evo_result \u001b[38;5;241m=\u001b[39m \u001b[43mmesolve\u001b[49m\u001b[43m(\u001b[49m\n\u001b[1;32m    744\u001b[0m \u001b[43m        \u001b[49m\u001b[43mH\u001b[49m\u001b[38;5;241;43m=\u001b[39;49m\u001b[43mnoisy_qobjevo\u001b[49m\u001b[43m,\u001b[49m\u001b[43m \u001b[49m\u001b[43mrho0\u001b[49m\u001b[38;5;241;43m=\u001b[39;49m\u001b[43minit_state\u001b[49m\u001b[43m,\u001b[49m\n\u001b[1;32m    745\u001b[0m \u001b[43m        \u001b[49m\u001b[43mtlist\u001b[49m\u001b[38;5;241;43m=\u001b[39;49m\u001b[43mnoisy_qobjevo\u001b[49m\u001b[38;5;241;43m.\u001b[39;49m\u001b[43mtlist\u001b[49m\u001b[43m,\u001b[49m\u001b[43m \u001b[49m\u001b[38;5;241;43m*\u001b[39;49m\u001b[38;5;241;43m*\u001b[39;49m\u001b[43mkwargs\u001b[49m\u001b[43m)\u001b[49m\n\u001b[1;32m    746\u001b[0m \u001b[38;5;28;01melif\u001b[39;00m solver \u001b[38;5;241m==\u001b[39m \u001b[38;5;124m\"\u001b[39m\u001b[38;5;124mmcsolve\u001b[39m\u001b[38;5;124m\"\u001b[39m:\n\u001b[1;32m    747\u001b[0m     evo_result \u001b[38;5;241m=\u001b[39m mcsolve(\n\u001b[1;32m    748\u001b[0m         H\u001b[38;5;241m=\u001b[39mnoisy_qobjevo, psi0\u001b[38;5;241m=\u001b[39minit_state,\n\u001b[1;32m    749\u001b[0m         tlist\u001b[38;5;241m=\u001b[39mnoisy_qobjevo\u001b[38;5;241m.\u001b[39mtlist, \u001b[38;5;241m*\u001b[39m\u001b[38;5;241m*\u001b[39mkwargs)\n",
      "File \u001b[0;32m~/Documents/GitHub/cvqaoa/.env/lib/python3.9/site-packages/qutip/mesolve.py:244\u001b[0m, in \u001b[0;36mmesolve\u001b[0;34m(H, rho0, tlist, c_ops, e_ops, args, options, progress_bar, _safe_mode)\u001b[0m\n\u001b[1;32m    241\u001b[0m     v \u001b[38;5;241m=\u001b[39m rho0\u001b[38;5;241m.\u001b[39mfull()\u001b[38;5;241m.\u001b[39mravel(\u001b[38;5;124m'\u001b[39m\u001b[38;5;124mF\u001b[39m\u001b[38;5;124m'\u001b[39m)\n\u001b[1;32m    242\u001b[0m     func(\u001b[38;5;241m0.\u001b[39m, v, \u001b[38;5;241m*\u001b[39mode_args) \u001b[38;5;241m+\u001b[39m v\n\u001b[0;32m--> 244\u001b[0m res \u001b[38;5;241m=\u001b[39m \u001b[43m_generic_ode_solve\u001b[49m\u001b[43m(\u001b[49m\u001b[43mfunc\u001b[49m\u001b[43m,\u001b[49m\u001b[43m \u001b[49m\u001b[43mode_args\u001b[49m\u001b[43m,\u001b[49m\u001b[43m \u001b[49m\u001b[43mrho0\u001b[49m\u001b[43m,\u001b[49m\u001b[43m \u001b[49m\u001b[43mtlist\u001b[49m\u001b[43m,\u001b[49m\u001b[43m \u001b[49m\u001b[43me_ops\u001b[49m\u001b[43m,\u001b[49m\u001b[43m \u001b[49m\u001b[43moptions\u001b[49m\u001b[43m,\u001b[49m\n\u001b[1;32m    245\u001b[0m \u001b[43m                         \u001b[49m\u001b[43mprogress_bar\u001b[49m\u001b[43m,\u001b[49m\u001b[43m \u001b[49m\u001b[43mdims\u001b[49m\u001b[38;5;241;43m=\u001b[39;49m\u001b[43mrho0\u001b[49m\u001b[38;5;241;43m.\u001b[39;49m\u001b[43mdims\u001b[49m\u001b[43m)\u001b[49m\n\u001b[1;32m    246\u001b[0m res\u001b[38;5;241m.\u001b[39mnum_collapse \u001b[38;5;241m=\u001b[39m \u001b[38;5;28mlen\u001b[39m(c_ops)\n\u001b[1;32m    248\u001b[0m \u001b[38;5;28;01mif\u001b[39;00m e_ops_dict:\n",
      "File \u001b[0;32m~/Documents/GitHub/cvqaoa/.env/lib/python3.9/site-packages/qutip/mesolve.py:526\u001b[0m, in \u001b[0;36m_generic_ode_solve\u001b[0;34m(func, ode_args, rho0, tlist, e_ops, opt, progress_bar, dims)\u001b[0m\n\u001b[1;32m    521\u001b[0m         output\u001b[38;5;241m.\u001b[39mexpect[m][t_idx] \u001b[38;5;241m=\u001b[39m expect_rho_vec(e_ops_data[m], r\u001b[38;5;241m.\u001b[39my,\n\u001b[1;32m    522\u001b[0m                                                  e_ops[m]\u001b[38;5;241m.\u001b[39misherm\n\u001b[1;32m    523\u001b[0m                                                  \u001b[38;5;129;01mand\u001b[39;00m rho0\u001b[38;5;241m.\u001b[39misherm)\n\u001b[1;32m    525\u001b[0m     \u001b[38;5;28;01mif\u001b[39;00m t_idx \u001b[38;5;241m<\u001b[39m n_tsteps \u001b[38;5;241m-\u001b[39m \u001b[38;5;241m1\u001b[39m:\n\u001b[0;32m--> 526\u001b[0m         \u001b[43mr\u001b[49m\u001b[38;5;241;43m.\u001b[39;49m\u001b[43mintegrate\u001b[49m\u001b[43m(\u001b[49m\u001b[43mr\u001b[49m\u001b[38;5;241;43m.\u001b[39;49m\u001b[43mt\u001b[49m\u001b[43m \u001b[49m\u001b[38;5;241;43m+\u001b[39;49m\u001b[43m \u001b[49m\u001b[43mdt\u001b[49m\u001b[43m[\u001b[49m\u001b[43mt_idx\u001b[49m\u001b[43m]\u001b[49m\u001b[43m)\u001b[49m\n\u001b[1;32m    528\u001b[0m progress_bar\u001b[38;5;241m.\u001b[39mfinished()\n\u001b[1;32m    530\u001b[0m \u001b[38;5;28;01mif\u001b[39;00m opt\u001b[38;5;241m.\u001b[39mstore_final_state:\n",
      "File \u001b[0;32m~/Documents/GitHub/cvqaoa/.env/lib/python3.9/site-packages/scipy/integrate/_ode.py:433\u001b[0m, in \u001b[0;36mode.integrate\u001b[0;34m(self, t, step, relax)\u001b[0m\n\u001b[1;32m    430\u001b[0m     mth \u001b[38;5;241m=\u001b[39m \u001b[38;5;28mself\u001b[39m\u001b[38;5;241m.\u001b[39m_integrator\u001b[38;5;241m.\u001b[39mrun\n\u001b[1;32m    432\u001b[0m \u001b[38;5;28;01mtry\u001b[39;00m:\n\u001b[0;32m--> 433\u001b[0m     \u001b[38;5;28mself\u001b[39m\u001b[38;5;241m.\u001b[39m_y, \u001b[38;5;28mself\u001b[39m\u001b[38;5;241m.\u001b[39mt \u001b[38;5;241m=\u001b[39m \u001b[43mmth\u001b[49m\u001b[43m(\u001b[49m\u001b[38;5;28;43mself\u001b[39;49m\u001b[38;5;241;43m.\u001b[39;49m\u001b[43mf\u001b[49m\u001b[43m,\u001b[49m\u001b[43m \u001b[49m\u001b[38;5;28;43mself\u001b[39;49m\u001b[38;5;241;43m.\u001b[39;49m\u001b[43mjac\u001b[49m\u001b[43m \u001b[49m\u001b[38;5;129;43;01mor\u001b[39;49;00m\u001b[43m \u001b[49m\u001b[43m(\u001b[49m\u001b[38;5;28;43;01mlambda\u001b[39;49;00m\u001b[43m:\u001b[49m\u001b[43m \u001b[49m\u001b[38;5;28;43;01mNone\u001b[39;49;00m\u001b[43m)\u001b[49m\u001b[43m,\u001b[49m\n\u001b[1;32m    434\u001b[0m \u001b[43m                          \u001b[49m\u001b[38;5;28;43mself\u001b[39;49m\u001b[38;5;241;43m.\u001b[39;49m\u001b[43m_y\u001b[49m\u001b[43m,\u001b[49m\u001b[43m \u001b[49m\u001b[38;5;28;43mself\u001b[39;49m\u001b[38;5;241;43m.\u001b[39;49m\u001b[43mt\u001b[49m\u001b[43m,\u001b[49m\u001b[43m \u001b[49m\u001b[43mt\u001b[49m\u001b[43m,\u001b[49m\n\u001b[1;32m    435\u001b[0m \u001b[43m                          \u001b[49m\u001b[38;5;28;43mself\u001b[39;49m\u001b[38;5;241;43m.\u001b[39;49m\u001b[43mf_params\u001b[49m\u001b[43m,\u001b[49m\u001b[43m \u001b[49m\u001b[38;5;28;43mself\u001b[39;49m\u001b[38;5;241;43m.\u001b[39;49m\u001b[43mjac_params\u001b[49m\u001b[43m)\u001b[49m\n\u001b[1;32m    436\u001b[0m \u001b[38;5;28;01mexcept\u001b[39;00m \u001b[38;5;167;01mSystemError\u001b[39;00m \u001b[38;5;28;01mas\u001b[39;00m e:\n\u001b[1;32m    437\u001b[0m     \u001b[38;5;66;03m# f2py issue with tuple returns, see ticket 1187.\u001b[39;00m\n\u001b[1;32m    438\u001b[0m     \u001b[38;5;28;01mraise\u001b[39;00m \u001b[38;5;167;01mValueError\u001b[39;00m(\n\u001b[1;32m    439\u001b[0m         \u001b[38;5;124m'\u001b[39m\u001b[38;5;124mFunction to integrate must not return a tuple.\u001b[39m\u001b[38;5;124m'\u001b[39m\n\u001b[1;32m    440\u001b[0m     ) \u001b[38;5;28;01mfrom\u001b[39;00m \u001b[38;5;21;01me\u001b[39;00m\n",
      "File \u001b[0;32m~/Documents/GitHub/cvqaoa/.env/lib/python3.9/site-packages/scipy/integrate/_ode.py:1009\u001b[0m, in \u001b[0;36mvode.run\u001b[0;34m(self, f, jac, y0, t0, t1, f_params, jac_params)\u001b[0m\n\u001b[1;32m   1005\u001b[0m     jac \u001b[38;5;241m=\u001b[39m _vode_banded_jac_wrapper(jac, \u001b[38;5;28mself\u001b[39m\u001b[38;5;241m.\u001b[39mml, jac_params)\n\u001b[1;32m   1007\u001b[0m args \u001b[38;5;241m=\u001b[39m ((f, jac, y0, t0, t1) \u001b[38;5;241m+\u001b[39m \u001b[38;5;28mtuple\u001b[39m(\u001b[38;5;28mself\u001b[39m\u001b[38;5;241m.\u001b[39mcall_args) \u001b[38;5;241m+\u001b[39m\n\u001b[1;32m   1008\u001b[0m         (f_params, jac_params))\n\u001b[0;32m-> 1009\u001b[0m y1, t, istate \u001b[38;5;241m=\u001b[39m \u001b[38;5;28;43mself\u001b[39;49m\u001b[38;5;241;43m.\u001b[39;49m\u001b[43mrunner\u001b[49m\u001b[43m(\u001b[49m\u001b[38;5;241;43m*\u001b[39;49m\u001b[43margs\u001b[49m\u001b[43m)\u001b[49m\n\u001b[1;32m   1010\u001b[0m \u001b[38;5;28mself\u001b[39m\u001b[38;5;241m.\u001b[39mistate \u001b[38;5;241m=\u001b[39m istate\n\u001b[1;32m   1011\u001b[0m \u001b[38;5;28;01mif\u001b[39;00m istate \u001b[38;5;241m<\u001b[39m \u001b[38;5;241m0\u001b[39m:\n",
      "\u001b[0;31mKeyboardInterrupt\u001b[0m: "
     ]
    }
   ],
   "source": [
    "# simulate\n",
    "result = kpo.run_state(init_state = psi0, noisy = True)\n",
    "final_state = result.states[-1]"
   ]
  },
  {
   "cell_type": "code",
   "execution_count": 125,
   "metadata": {},
   "outputs": [],
   "source": [
    "qsave(final_state, 'results/noisy-qaoa-level-2-ry-mixer')"
   ]
  },
  {
   "attachments": {},
   "cell_type": "markdown",
   "metadata": {},
   "source": [
    "## Calculate success probability"
   ]
  },
  {
   "cell_type": "code",
   "execution_count": null,
   "metadata": {},
   "outputs": [],
   "source": [
    "target_state = tensor(down,up)\n",
    "if final_state.type == 'ket':\n",
    "    f = (target_state.dag() * final_state).full()[0][0]\n",
    "    f = abs(f)**2\n",
    "else:\n",
    "    f = abs((target_state.dag() * final_state * target_state).full()[0][0])\n",
    "print(\"Success Probability = %s %%\" % round(f*100,3))"
   ]
  }
 ],
 "metadata": {
  "interpreter": {
   "hash": "5448b298d0cd7c25693a3c99edef1226df06d015a883046b694a54eba30a14cb"
  },
  "kernelspec": {
   "display_name": "Python 3 (ipykernel)",
   "language": "python",
   "name": "python3"
  },
  "language_info": {
   "codemirror_mode": {
    "name": "ipython",
    "version": 3
   },
   "file_extension": ".py",
   "mimetype": "text/x-python",
   "name": "python",
   "nbconvert_exporter": "python",
   "pygments_lexer": "ipython3",
   "version": "3.8.16"
  }
 },
 "nbformat": 4,
 "nbformat_minor": 4
}
