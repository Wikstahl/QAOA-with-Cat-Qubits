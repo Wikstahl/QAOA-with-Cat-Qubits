{
 "cells": [
  {
   "cell_type": "code",
   "execution_count": 1,
   "id": "4a8d6a23",
   "metadata": {},
   "outputs": [],
   "source": [
    "%reload_ext autoreload\n",
    "%autoreload 2\n",
    "import networkx as nx\n",
    "import numpy as np\n",
    "import cirq\n",
    "import sympy\n",
    "from cvqaoa.circ import Circ\n",
    "from scipy.optimize import brute"
   ]
  },
  {
   "cell_type": "code",
   "execution_count": 2,
   "id": "2a14ca10",
   "metadata": {},
   "outputs": [],
   "source": [
    "import pickle\n",
    "path = \"../../data/instances/max_cut_0/graph\"\n",
    "with open(path, 'rb') as pickle_file:\n",
    "    graph = pickle.load(pickle_file)"
   ]
  },
  {
   "cell_type": "code",
   "execution_count": 4,
   "id": "9b06ebc6",
   "metadata": {},
   "outputs": [],
   "source": [
    "circ = Circ(graph)"
   ]
  },
  {
   "cell_type": "code",
   "execution_count": 20,
   "id": "685e29b3",
   "metadata": {},
   "outputs": [],
   "source": [
    "ranges = ((0, np.pi), (0, np.pi/2))\n",
    "# Brute force on 100 x 100 grid\n",
    "res = brute(circ.optimize_qaoa, ranges, args=([\"CV\"]), Ns=2,\n",
    "            full_output=True, finish=None, workers=1)"
   ]
  }
 ],
 "metadata": {
  "kernelspec": {
   "display_name": "Python 3 (ipykernel)",
   "language": "python",
   "name": "python3"
  },
  "language_info": {
   "codemirror_mode": {
    "name": "ipython",
    "version": 3
   },
   "file_extension": ".py",
   "mimetype": "text/x-python",
   "name": "python",
   "nbconvert_exporter": "python",
   "pygments_lexer": "ipython3",
   "version": "3.9.9"
  }
 },
 "nbformat": 4,
 "nbformat_minor": 5
}
