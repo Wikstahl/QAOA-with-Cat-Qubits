{
 "cells": [
  {
   "cell_type": "markdown",
   "metadata": {},
   "source": [
    "## Pauli Transfer Matrix extraction\n",
    "$\\def\\bra#1{\\mathinner{\\left\\langle{#1}\\right|}}\\def\\ket#1{\\mathinner{\\left|{#1}\\right\\rangle}}$"
   ]
  },
  {
   "cell_type": "code",
   "execution_count": 1,
   "metadata": {},
   "outputs": [],
   "source": [
    "import numpy as np; pi = np.pi\n",
    "import scipy.io as spio\n",
    "from qutip import *\n",
    "\n",
    "import matplotlib as mpl\n",
    "import matplotlib.pyplot as plt\n",
    "from matplotlib import cm\n",
    "\n",
    "# Figures should have a width of a 8.6 cm or 3 3/8 in, the width of a single manuscript column.\n",
    "golden_mean = (np.sqrt(5)-1.0)/2.0 # Aesthetic ratio\n",
    "fig_width = 3+3/8 # width in inches\n",
    "fig_height = fig_width*golden_mean # height in inches (0.75 is the standard height to width ratio in Python)\n",
    "fig_size = [fig_width, fig_height]\n",
    "mpl.rcParams.update({\n",
    "    'axes.labelsize' : 12,\n",
    "    'font.size' : 12,\n",
    "    'legend.fontsize' : 8,\n",
    "    'xtick.labelsize' : 10,\n",
    "    'ytick.labelsize' : 10,\n",
    "    'ytick.minor.pad' : -0.5,\n",
    "    'ytick.minor.pad' : -0.5,\n",
    "    'ytick.major.size' : 1,\n",
    "    'ytick.minor.size' : 1,\n",
    "    'ytick.major.width' : .5,\n",
    "    'ytick.minor.width' : .5,\n",
    "    'xtick.major.size' : 1,\n",
    "    'xtick.minor.size' : 1,\n",
    "    'xtick.major.width' : .5,\n",
    "    'xtick.minor.width' : .5,\n",
    "    'xtick.major.pad' : 1.5,\n",
    "    'xtick.minor.pad' : 1.5,\n",
    "    'text.usetex' : True,\n",
    "    'figure.dpi' : 100,\n",
    "})"
   ]
  },
  {
   "cell_type": "markdown",
   "metadata": {},
   "source": [
    "## Parameters"
   ]
  },
  {
   "cell_type": "code",
   "execution_count": 2,
   "metadata": {},
   "outputs": [],
   "source": [
    "num_lvl = 20 # number of levels\n",
    "a = destroy(num_lvl) # annihilation operator\n",
    "K = 1 # kerr amplitude\n",
    "G = 4*K # two photon pump amplitude\n",
    "alpha = np.sqrt(G/K) # coherent state amplitude\n",
    "\n",
    "# cat states\n",
    "cat_plus = (coherent(num_lvl,alpha) + coherent(num_lvl,-alpha)).unit()\n",
    "cat_minus = (coherent(num_lvl,alpha) - coherent(num_lvl,-alpha)).unit()\n",
    "\n",
    "# computational basis\n",
    "up = (cat_plus + cat_minus)/np.sqrt(2)\n",
    "down = (cat_plus - cat_minus)/np.sqrt(2)\n",
    "\n",
    "# Identity\n",
    "I = up*up.dag() + down*down.dag()\n",
    "\n",
    "# sigma-z in computational basis\n",
    "sigma_z = up*up.dag() - down*down.dag()\n",
    "\n",
    "# sigma-x in computational basis\n",
    "sigma_x = up*down.dag() + down*up.dag()\n",
    "\n",
    "# sigma-y in computational basis\n",
    "sigma_y = 1j*(-up*down.dag() + down*up.dag())\n",
    "\n",
    "# Array with Pauli matrices\n",
    "P = [I, sigma_x, sigma_y, sigma_z]"
   ]
  },
  {
   "cell_type": "markdown",
   "metadata": {},
   "source": [
    "## $R_z(\\phi)$-gate"
   ]
  },
  {
   "cell_type": "code",
   "execution_count": 46,
   "metadata": {},
   "outputs": [],
   "source": [
    "# gate time\n",
    "T_g = 2/K\n",
    "\n",
    "# single photon pump amplitude\n",
    "def E(t,args):\n",
    "    phi = args['phi']\n",
    "    return np.pi*phi/(8*T_g*alpha)*np.sin(np.pi*t/T_g)\n",
    "\n",
    "# Hamiltonian\n",
    "H0 = - K * pow(a.dag(),2)*pow(a,2) + G * (pow(a.dag(),2) + pow(a,2))\n",
    "H1 = a.dag() + a\n",
    "H_tot = [H0,[H1,E]]"
   ]
  },
  {
   "cell_type": "markdown",
   "metadata": {},
   "source": [
    "### quantum map"
   ]
  },
  {
   "cell_type": "markdown",
   "metadata": {},
   "source": [
    "A quantum map $\\Lambda$ is the following.\n",
    "$$\n",
    "    \\Lambda\n",
    "    = \\begin{pmatrix}\n",
    "        \\Lambda'(\\ket{0}\\bra{0}) & \\cdots & \\Lambda'(\\ket{0}\\bra{20}) \\\\\n",
    "        \\vdots & \\ddots & \\vdots \\\\\n",
    "        \\Lambda'(\\ket{20}\\bra{0}) & \\cdots & \\Lambda'(\\ket{20}\\bra{20})\n",
    "    \\end{pmatrix}\n",
    "$$\n",
    "$\\Lambda'(\\ket{i}\\bra{j})$ is $20\\times 20$ matrix, so $\\Lambda$ is $20^2\\times 20^2$ matrix."
   ]
  },
  {
   "cell_type": "code",
   "execution_count": 47,
   "metadata": {},
   "outputs": [],
   "source": [
    "gamma = 1/1500 # single-photon loss rate\n",
    "c_ops = np.sqrt(gamma)*a # collapse operator\n",
    "\n",
    "# For precise calculation\n",
    "opt = Options(nsteps=25000, atol=1e-10, rtol=1e-8)\n",
    "\n",
    "# Quantum map\n",
    "prop = propagator(H_tot, T_g, c_op_list = [c_ops], args = {'phi': pi/2}, options = opt)"
   ]
  },
  {
   "cell_type": "markdown",
   "metadata": {},
   "source": [
    "### Kraus map\n",
    "$$\n",
    "\\Lambda(\\rho) = \\sum_{k=1}^N A_k\\rho A_k^\\dagger\n",
    "$$\n",
    "where $A_k$ are Kraus-operators"
   ]
  },
  {
   "cell_type": "code",
   "execution_count": 48,
   "metadata": {},
   "outputs": [],
   "source": [
    "kraus_form = to_kraus(prop)"
   ]
  },
  {
   "cell_type": "markdown",
   "metadata": {},
   "source": [
    "### Pauli transfer matrix\n",
    "$$\n",
    "(R_\\Lambda)_{ij} = \\frac{1}{d}\\mathrm{Tr}[P_i\\Lambda(P_j)] = \\frac{1}{d}\\sum_{k=1}^N\\mathrm{Tr}[P_iA_kP_jA_k^\\dagger]\n",
    "$$"
   ]
  },
  {
   "cell_type": "code",
   "execution_count": null,
   "metadata": {},
   "outputs": [],
   "source": [
    "qsave(\"results/ \",prop)"
   ]
  },
  {
   "cell_type": "code",
   "execution_count": 49,
   "metadata": {},
   "outputs": [],
   "source": [
    "d = 2\n",
    "# pauli transfer matrix\n",
    "R = np.zeros((d**2,d**2))\n",
    "for i in range(d**2):\n",
    "    for j in range(d**2):\n",
    "        R[i,j] = 1/d * np.real(sum([(P[i]*A_k*P[j]*A_k.dag()).tr() for A_k in kraus_form]))\n",
    "R = Qobj(R,dims=[[[2],[2]] for i in range(d)]) # Make quantum object"
   ]
  },
  {
   "cell_type": "code",
   "execution_count": 52,
   "metadata": {},
   "outputs": [
    {
     "data": {
      "text/latex": [
       "Quantum object: dims = [[[2], [2]], [[2], [2]]], shape = (4, 4), type = super, isherm = False\\begin{equation*}\\left(\\begin{array}{*{11}c}1.0 & 0.0 & 0.0 & 0.0\\\\0.0 & 0.0 & -0.989 & 0.0\\\\0.0 & 0.989 & 0.0 & 0.0\\\\0.0 & 0.0 & 0.0 & 1.000\\\\\\end{array}\\right)\\end{equation*}"
      ],
      "text/plain": [
       "Quantum object: dims = [[[2], [2]], [[2], [2]]], shape = (4, 4), type = super, isherm = False\n",
       "Qobj data =\n",
       "[[ 1.00000374  0.          0.          0.        ]\n",
       " [ 0.          0.         -0.98938706  0.        ]\n",
       " [ 0.          0.98939406  0.          0.        ]\n",
       " [ 0.          0.          0.          0.99999669]]"
      ]
     },
     "execution_count": 52,
     "metadata": {},
     "output_type": "execute_result"
    }
   ],
   "source": [
    "R.tidyup(1e-4)"
   ]
  },
  {
   "cell_type": "code",
   "execution_count": 21,
   "metadata": {},
   "outputs": [
    {
     "data": {
      "text/latex": [
       "Quantum object: dims = [[[2], [2]], [[2], [2]]], shape = (4, 4), type = super, isherm = False\\begin{equation*}\\left(\\begin{array}{*{11}c}1.000 & 0.0 & 0.0 & 0.0\\\\0.0 & -0.989 & 0.0 & 0.0\\\\0.0 & 0.0 & -0.989 & 0.0\\\\0.0 & 0.0 & 0.0 & 1.000\\\\\\end{array}\\right)\\end{equation*}"
      ],
      "text/plain": [
       "Quantum object: dims = [[[2], [2]], [[2], [2]]], shape = (4, 4), type = super, isherm = False\n",
       "Qobj data =\n",
       "[[ 0.99999648  0.          0.          0.        ]\n",
       " [ 0.         -0.98938852  0.          0.        ]\n",
       " [ 0.          0.         -0.98938469  0.        ]\n",
       " [ 0.          0.          0.          0.99999253]]"
      ]
     },
     "execution_count": 21,
     "metadata": {},
     "output_type": "execute_result"
    }
   ],
   "source": [
    "R.tidyup(1e-3)"
   ]
  },
  {
   "cell_type": "code",
   "execution_count": 35,
   "metadata": {},
   "outputs": [],
   "source": [
    "ket0 = basis(2,0)\n",
    "ket1 = basis(2,1)"
   ]
  },
  {
   "cell_type": "code",
   "execution_count": 44,
   "metadata": {},
   "outputs": [
    {
     "data": {
      "text/latex": [
       "Quantum object: dims = [[2], [2]], shape = (2, 2), type = oper, isherm = True\\begin{equation*}\\left(\\begin{array}{*{11}c}0.0 & 0.0\\\\0.0 & 1.0\\\\\\end{array}\\right)\\end{equation*}"
      ],
      "text/plain": [
       "Quantum object: dims = [[2], [2]], shape = (2, 2), type = oper, isherm = True\n",
       "Qobj data =\n",
       "[[0. 0.]\n",
       " [0. 1.]]"
      ]
     },
     "execution_count": 44,
     "metadata": {},
     "output_type": "execute_result"
    }
   ],
   "source": [
    "rho = ket2dm(ket1)\n",
    "rho"
   ]
  },
  {
   "cell_type": "code",
   "execution_count": 41,
   "metadata": {},
   "outputs": [],
   "source": [
    "vec_rho = operator_to_vector(rho)"
   ]
  },
  {
   "cell_type": "code",
   "execution_count": 42,
   "metadata": {},
   "outputs": [
    {
     "data": {
      "text/latex": [
       "Quantum object: dims = [[[2], [2]], [1]], shape = (4, 1), type = operator-ket\\begin{equation*}\\left(\\begin{array}{*{11}c}0.0\\\\0.0\\\\-0.010\\\\-0.995\\\\\\end{array}\\right)\\end{equation*}"
      ],
      "text/plain": [
       "Quantum object: dims = [[[2], [2]], [1]], shape = (4, 1), type = operator-ket\n",
       "Qobj data =\n",
       "[[ 0.        ]\n",
       " [ 0.        ]\n",
       " [-0.01041129]\n",
       " [-0.9953308 ]]"
      ]
     },
     "execution_count": 42,
     "metadata": {},
     "output_type": "execute_result"
    }
   ],
   "source": [
    "R*vec_rho"
   ]
  },
  {
   "cell_type": "markdown",
   "metadata": {},
   "source": [
    "## $R_x(\\theta)$-gate"
   ]
  },
  {
   "cell_type": "code",
   "execution_count": 23,
   "metadata": {},
   "outputs": [],
   "source": [
    "T_g = 10/K # gate time\n",
    "\n",
    "# detuning\n",
    "def Delta(t,args):\n",
    "    Delta_0 = args['Delta_0']\n",
    "    return Delta_0 * pow(np.sin(np.pi*t/T_g),2)\n",
    "\n",
    "# Hamiltonian\n",
    "H0 = - K * pow(a.dag(),2)*pow(a,2) + G * (pow(a.dag(),2) + pow(a,2))\n",
    "H1 = - a.dag()*a\n",
    "H_tot = [H0,[H1,Delta]]"
   ]
  },
  {
   "cell_type": "code",
   "execution_count": 27,
   "metadata": {},
   "outputs": [
    {
     "ename": "KeyboardInterrupt",
     "evalue": "",
     "output_type": "error",
     "traceback": [
      "\u001b[1;31m---------------------------------------------------------------------------\u001b[0m",
      "\u001b[1;31mKeyboardInterrupt\u001b[0m                         Traceback (most recent call last)",
      "\u001b[1;32m<ipython-input-27-31238be96799>\u001b[0m in \u001b[0;36m<module>\u001b[1;34m\u001b[0m\n\u001b[0;32m      6\u001b[0m \u001b[1;33m\u001b[0m\u001b[0m\n\u001b[0;32m      7\u001b[0m \u001b[1;31m# Quantum map\u001b[0m\u001b[1;33m\u001b[0m\u001b[1;33m\u001b[0m\u001b[1;33m\u001b[0m\u001b[0m\n\u001b[1;32m----> 8\u001b[1;33m \u001b[0mprop\u001b[0m \u001b[1;33m=\u001b[0m \u001b[0mpropagator\u001b[0m\u001b[1;33m(\u001b[0m\u001b[0mH_tot\u001b[0m\u001b[1;33m,\u001b[0m \u001b[0mT_g\u001b[0m\u001b[1;33m,\u001b[0m \u001b[0mc_op_list\u001b[0m \u001b[1;33m=\u001b[0m \u001b[1;33m[\u001b[0m\u001b[0mc_ops\u001b[0m\u001b[1;33m]\u001b[0m\u001b[1;33m,\u001b[0m \u001b[0margs\u001b[0m \u001b[1;33m=\u001b[0m \u001b[1;33m{\u001b[0m\u001b[1;34m'Delta_0'\u001b[0m\u001b[1;33m:\u001b[0m \u001b[1;36m3.95\u001b[0m\u001b[1;33m}\u001b[0m\u001b[1;33m,\u001b[0m \u001b[0moptions\u001b[0m \u001b[1;33m=\u001b[0m \u001b[0mopt\u001b[0m\u001b[1;33m)\u001b[0m\u001b[1;33m\u001b[0m\u001b[1;33m\u001b[0m\u001b[0m\n\u001b[0m",
      "\u001b[1;32mc:\\users\\wikstahl\\google drive\\phd\\code\\github\\qutip\\qutip\\propagator.py\u001b[0m in \u001b[0;36mpropagator\u001b[1;34m(H, t, c_op_list, args, options, unitary_mode, parallel, progress_bar, _safe_mode, **kwargs)\u001b[0m\n\u001b[0;32m    247\u001b[0m                 rho0 = Qobj(sp.csr_matrix(([1], ([row_idx], [col_idx])),\n\u001b[0;32m    248\u001b[0m                                           shape=(N,N), dtype=complex))\n\u001b[1;32m--> 249\u001b[1;33m                 output = mesolve(H, rho0, tlist, c_op_list, [], args, options,\n\u001b[0m\u001b[0;32m    250\u001b[0m                                  _safe_mode=False)\n\u001b[0;32m    251\u001b[0m                 \u001b[1;32mfor\u001b[0m \u001b[0mk\u001b[0m\u001b[1;33m,\u001b[0m \u001b[0mt\u001b[0m \u001b[1;32min\u001b[0m \u001b[0menumerate\u001b[0m\u001b[1;33m(\u001b[0m\u001b[0mtlist\u001b[0m\u001b[1;33m)\u001b[0m\u001b[1;33m:\u001b[0m\u001b[1;33m\u001b[0m\u001b[1;33m\u001b[0m\u001b[0m\n",
      "\u001b[1;32mc:\\users\\wikstahl\\google drive\\phd\\code\\github\\qutip\\qutip\\mesolve.py\u001b[0m in \u001b[0;36mmesolve\u001b[1;34m(H, rho0, tlist, c_ops, e_ops, args, options, progress_bar, _safe_mode)\u001b[0m\n\u001b[0;32m    266\u001b[0m         \u001b[0mfunc\u001b[0m\u001b[1;33m(\u001b[0m\u001b[1;36m0.\u001b[0m\u001b[1;33m,\u001b[0m \u001b[0mv\u001b[0m\u001b[1;33m,\u001b[0m \u001b[1;33m*\u001b[0m\u001b[0mode_args\u001b[0m\u001b[1;33m)\u001b[0m \u001b[1;33m+\u001b[0m \u001b[0mv\u001b[0m\u001b[1;33m\u001b[0m\u001b[1;33m\u001b[0m\u001b[0m\n\u001b[0;32m    267\u001b[0m \u001b[1;33m\u001b[0m\u001b[0m\n\u001b[1;32m--> 268\u001b[1;33m     res = _generic_ode_solve(func, ode_args, rho0, tlist, e_ops, options,\n\u001b[0m\u001b[0;32m    269\u001b[0m                              progress_bar, dims=rho0.dims)\n\u001b[0;32m    270\u001b[0m \u001b[1;33m\u001b[0m\u001b[0m\n",
      "\u001b[1;32mc:\\users\\wikstahl\\google drive\\phd\\code\\github\\qutip\\qutip\\mesolve.py\u001b[0m in \u001b[0;36m_generic_ode_solve\u001b[1;34m(func, ode_args, rho0, tlist, e_ops, opt, progress_bar, dims)\u001b[0m\n\u001b[0;32m    513\u001b[0m \u001b[1;33m\u001b[0m\u001b[0m\n\u001b[0;32m    514\u001b[0m         \u001b[1;32mif\u001b[0m \u001b[0mt_idx\u001b[0m \u001b[1;33m<\u001b[0m \u001b[0mn_tsteps\u001b[0m \u001b[1;33m-\u001b[0m \u001b[1;36m1\u001b[0m\u001b[1;33m:\u001b[0m\u001b[1;33m\u001b[0m\u001b[1;33m\u001b[0m\u001b[0m\n\u001b[1;32m--> 515\u001b[1;33m             \u001b[0mr\u001b[0m\u001b[1;33m.\u001b[0m\u001b[0mintegrate\u001b[0m\u001b[1;33m(\u001b[0m\u001b[0mr\u001b[0m\u001b[1;33m.\u001b[0m\u001b[0mt\u001b[0m \u001b[1;33m+\u001b[0m \u001b[0mdt\u001b[0m\u001b[1;33m[\u001b[0m\u001b[0mt_idx\u001b[0m\u001b[1;33m]\u001b[0m\u001b[1;33m)\u001b[0m\u001b[1;33m\u001b[0m\u001b[1;33m\u001b[0m\u001b[0m\n\u001b[0m\u001b[0;32m    516\u001b[0m \u001b[1;33m\u001b[0m\u001b[0m\n\u001b[0;32m    517\u001b[0m     \u001b[0mprogress_bar\u001b[0m\u001b[1;33m.\u001b[0m\u001b[0mfinished\u001b[0m\u001b[1;33m(\u001b[0m\u001b[1;33m)\u001b[0m\u001b[1;33m\u001b[0m\u001b[1;33m\u001b[0m\u001b[0m\n",
      "\u001b[1;32m~\\miniconda3\\envs\\qutip\\lib\\site-packages\\scipy\\integrate\\_ode.py\u001b[0m in \u001b[0;36mintegrate\u001b[1;34m(self, t, step, relax)\u001b[0m\n\u001b[0;32m    428\u001b[0m \u001b[1;33m\u001b[0m\u001b[0m\n\u001b[0;32m    429\u001b[0m         \u001b[1;32mtry\u001b[0m\u001b[1;33m:\u001b[0m\u001b[1;33m\u001b[0m\u001b[1;33m\u001b[0m\u001b[0m\n\u001b[1;32m--> 430\u001b[1;33m             self._y, self.t = mth(self.f, self.jac or (lambda: None),\n\u001b[0m\u001b[0;32m    431\u001b[0m                                   \u001b[0mself\u001b[0m\u001b[1;33m.\u001b[0m\u001b[0m_y\u001b[0m\u001b[1;33m,\u001b[0m \u001b[0mself\u001b[0m\u001b[1;33m.\u001b[0m\u001b[0mt\u001b[0m\u001b[1;33m,\u001b[0m \u001b[0mt\u001b[0m\u001b[1;33m,\u001b[0m\u001b[1;33m\u001b[0m\u001b[1;33m\u001b[0m\u001b[0m\n\u001b[0;32m    432\u001b[0m                                   self.f_params, self.jac_params)\n",
      "\u001b[1;32m~\\miniconda3\\envs\\qutip\\lib\\site-packages\\scipy\\integrate\\_ode.py\u001b[0m in \u001b[0;36mrun\u001b[1;34m(self, f, jac, y0, t0, t1, f_params, jac_params)\u001b[0m\n\u001b[0;32m   1002\u001b[0m         args = ((f, jac, y0, t0, t1) + tuple(self.call_args) +\n\u001b[0;32m   1003\u001b[0m                 (f_params, jac_params))\n\u001b[1;32m-> 1004\u001b[1;33m         \u001b[0my1\u001b[0m\u001b[1;33m,\u001b[0m \u001b[0mt\u001b[0m\u001b[1;33m,\u001b[0m \u001b[0mistate\u001b[0m \u001b[1;33m=\u001b[0m \u001b[0mself\u001b[0m\u001b[1;33m.\u001b[0m\u001b[0mrunner\u001b[0m\u001b[1;33m(\u001b[0m\u001b[1;33m*\u001b[0m\u001b[0margs\u001b[0m\u001b[1;33m)\u001b[0m\u001b[1;33m\u001b[0m\u001b[1;33m\u001b[0m\u001b[0m\n\u001b[0m\u001b[0;32m   1005\u001b[0m         \u001b[0mself\u001b[0m\u001b[1;33m.\u001b[0m\u001b[0mistate\u001b[0m \u001b[1;33m=\u001b[0m \u001b[0mistate\u001b[0m\u001b[1;33m\u001b[0m\u001b[1;33m\u001b[0m\u001b[0m\n\u001b[0;32m   1006\u001b[0m         \u001b[1;32mif\u001b[0m \u001b[0mistate\u001b[0m \u001b[1;33m<\u001b[0m \u001b[1;36m0\u001b[0m\u001b[1;33m:\u001b[0m\u001b[1;33m\u001b[0m\u001b[1;33m\u001b[0m\u001b[0m\n",
      "\u001b[1;32mc:\\users\\wikstahl\\google drive\\phd\\code\\github\\qutip\\qutip\\cy\\cqobjevo.pyx\u001b[0m in \u001b[0;36mqutip.cy.cqobjevo.CQobjEvo.mul_vec\u001b[1;34m()\u001b[0m\n",
      "\u001b[1;32mc:\\users\\wikstahl\\google drive\\phd\\code\\github\\qutip\\qutip\\cy\\cqobjevo.pyx\u001b[0m in \u001b[0;36mqutip.cy.cqobjevo.CQobjEvoTd._mul_vec\u001b[1;34m()\u001b[0m\n",
      "\u001b[1;32mc:\\users\\wikstahl\\google drive\\phd\\code\\github\\qutip\\qutip\\cy\\cqobjevo.pyx\u001b[0m in \u001b[0;36mqutip.cy.cqobjevo.CQobjEvo._factor_dyn\u001b[1;34m()\u001b[0m\n",
      "\u001b[1;32mc:\\users\\wikstahl\\google drive\\phd\\code\\github\\qutip\\qutip\\cy\\cqobjevo.pyx\u001b[0m in \u001b[0;36mqutip.cy.cqobjevo.CQobjEvo._factor\u001b[1;34m()\u001b[0m\n",
      "\u001b[1;32mc:\\users\\wikstahl\\google drive\\phd\\code\\github\\qutip\\qutip\\qobjevo.py\u001b[0m in \u001b[0;36m__call__\u001b[1;34m(self, t, args)\u001b[0m\n\u001b[0;32m   1728\u001b[0m                     \u001b[0mself\u001b[0m\u001b[1;33m.\u001b[0m\u001b[0margs\u001b[0m\u001b[1;33m[\u001b[0m\u001b[0mname\u001b[0m\u001b[1;33m]\u001b[0m \u001b[1;33m=\u001b[0m \u001b[0mop\u001b[0m\u001b[1;33m.\u001b[0m\u001b[0mexpect\u001b[0m\u001b[1;33m(\u001b[0m\u001b[0mt\u001b[0m\u001b[1;33m,\u001b[0m \u001b[0mstate\u001b[0m\u001b[1;33m)\u001b[0m\u001b[1;33m\u001b[0m\u001b[1;33m\u001b[0m\u001b[0m\n\u001b[0;32m   1729\u001b[0m \u001b[1;33m\u001b[0m\u001b[0m\n\u001b[1;32m-> 1730\u001b[1;33m     \u001b[1;32mdef\u001b[0m \u001b[0m__call__\u001b[0m\u001b[1;33m(\u001b[0m\u001b[0mself\u001b[0m\u001b[1;33m,\u001b[0m \u001b[0mt\u001b[0m\u001b[1;33m,\u001b[0m \u001b[0margs\u001b[0m\u001b[1;33m=\u001b[0m\u001b[1;33m{\u001b[0m\u001b[1;33m}\u001b[0m\u001b[1;33m)\u001b[0m\u001b[1;33m:\u001b[0m\u001b[1;33m\u001b[0m\u001b[1;33m\u001b[0m\u001b[0m\n\u001b[0m\u001b[0;32m   1731\u001b[0m         \u001b[1;32mif\u001b[0m \u001b[0margs\u001b[0m\u001b[1;33m:\u001b[0m\u001b[1;33m\u001b[0m\u001b[1;33m\u001b[0m\u001b[0m\n\u001b[0;32m   1732\u001b[0m             \u001b[0mnow_args\u001b[0m \u001b[1;33m=\u001b[0m \u001b[0mself\u001b[0m\u001b[1;33m.\u001b[0m\u001b[0margs\u001b[0m\u001b[1;33m.\u001b[0m\u001b[0mcopy\u001b[0m\u001b[1;33m(\u001b[0m\u001b[1;33m)\u001b[0m\u001b[1;33m\u001b[0m\u001b[1;33m\u001b[0m\u001b[0m\n",
      "\u001b[1;31mKeyboardInterrupt\u001b[0m: "
     ]
    }
   ],
   "source": [
    "gamma = 1/1500 # single-photon loss rate\n",
    "c_ops = np.sqrt(gamma)*a # collapse operator\n",
    "\n",
    "# For precise calculation\n",
    "opt = Options(nsteps=45000, atol=1e-10, rtol=1e-8)\n",
    "\n",
    "# Quantum map\n",
    "prop = propagator(H_tot, T_g, c_op_list = [c_ops], args = {'Delta_0': 3.95}, options = opt)"
   ]
  },
  {
   "cell_type": "code",
   "execution_count": 28,
   "metadata": {},
   "outputs": [
    {
     "data": {
      "text/latex": [
       "Quantum object: dims = [[[20], [20]], [[20], [20]]], shape = (400, 400), type = super, isherm = False\\begin{equation*}\\left(\\begin{array}{*{11}c}0.215 & 0.0 & (0.152+0.259j) & 0.0 & (0.032+0.024j) & \\cdots & (1.138\\times10^{-06}-4.106\\times10^{-09}j) & 0.0 & (3.311\\times10^{-07}-5.100\\times10^{-10}j) & 0.0 & 7.837\\times10^{-08}\\\\0.0 & (-0.220-0.094j) & 0.0 & (-0.247-0.201j) & 0.0 & \\cdots & 0.0 & (-4.808\\times10^{-09}+1.839\\times10^{-08}j) & 0.0 & (-4.535\\times10^{-10}+3.239\\times10^{-09}j) & 0.0\\\\(0.152+0.259j) & 0.0 & (0.242-0.030j) & 0.0 & (0.010+0.002j) & \\cdots & (-1.977\\times10^{-06}-5.338\\times10^{-09}j) & 0.0 & (-6.264\\times10^{-07}-1.591\\times10^{-09}j) & 0.0 & (-1.574\\times10^{-07}-4.530\\times10^{-10}j)\\\\0.0 & (-0.247-0.201j) & 0.0 & (-0.008+0.125j) & 0.0 & \\cdots & 0.0 & (-4.981\\times10^{-08}+1.051\\times10^{-07}j) & 0.0 & (-1.912\\times10^{-08}+2.672\\times10^{-08}j) & 0.0\\\\(0.032+0.024j) & 0.0 & (0.010+0.002j) & 0.0 & (0.270+0.100j) & \\cdots & (2.784\\times10^{-06}-2.044\\times10^{-08}j) & 0.0 & (9.827\\times10^{-07}-3.624\\times10^{-09}j) & 0.0 & (2.648\\times10^{-07}-2.714\\times10^{-10}j)\\\\\\vdots & \\vdots & \\vdots & \\vdots & \\vdots & \\ddots & \\vdots & \\vdots & \\vdots & \\vdots & \\vdots\\\\(1.383\\times10^{-07}+2.404\\times10^{-10}j) & 0.0 & (-2.055\\times10^{-07}+1.037\\times10^{-09}j) & 0.0 & (2.791\\times10^{-07}-7.895\\times10^{-09}j) & \\cdots & (0.004+0.044j) & 0.0 & (-0.521-0.100j) & 0.0 & (-0.214-0.080j)\\\\0.0 & (4.003\\times10^{-10}+1.152\\times10^{-08}j) & 0.0 & (9.503\\times10^{-10}-1.328\\times10^{-08}j) & 0.0 & \\cdots & 0.0 & (-0.078-0.378j) & 0.0 & (-0.307+0.111j) & 0.0\\\\(3.596\\times10^{-08}+4.141\\times10^{-11}j) & 0.0 & (-5.699\\times10^{-08}+3.665\\times10^{-10}j) & 0.0 & (8.408\\times10^{-08}-3.578\\times10^{-09}j) & \\cdots & (-0.522-0.100j) & 0.0 & (0.067-0.120j) & 0.0 & (-0.301-0.052j)\\\\0.0 & (7.858\\times10^{-11}+2.650\\times10^{-09}j) & 0.0 & (2.904\\times10^{-10}-2.792\\times10^{-09}j) & 0.0 & \\cdots & 0.0 & (-0.307+0.111j) & 0.0 & (0.026-0.552j) & 0.0\\\\1.010\\times10^{-08} & 0.0 & (-1.708\\times10^{-08}+2.878\\times10^{-10}j) & 0.0 & (2.754\\times10^{-08}-1.762\\times10^{-09}j) & \\cdots & (-0.214-0.080j) & 0.0 & (-0.302-0.052j) & 0.0 & 0.544\\\\\\end{array}\\right)\\end{equation*}"
      ],
      "text/plain": [
       "Quantum object: dims = [[[20], [20]], [[20], [20]]], shape = (400, 400), type = super, isherm = False\n",
       "Qobj data =\n",
       "[[ 2.15440413e-01-2.23050785e-16j  0.00000000e+00+0.00000000e+00j\n",
       "   1.51534681e-01+2.59015668e-01j ...  3.31125379e-07-5.10020304e-10j\n",
       "   0.00000000e+00+0.00000000e+00j  7.83650581e-08-1.96311343e-20j]\n",
       " [ 0.00000000e+00+0.00000000e+00j -2.19821822e-01-9.44726167e-02j\n",
       "   0.00000000e+00+0.00000000e+00j ...  0.00000000e+00+0.00000000e+00j\n",
       "  -4.53472615e-10+3.23928168e-09j  0.00000000e+00+0.00000000e+00j]\n",
       " [ 1.51602911e-01+2.59014823e-01j  0.00000000e+00+0.00000000e+00j\n",
       "   2.41962625e-01-2.95829185e-02j ... -6.26361518e-07-1.59056315e-09j\n",
       "   0.00000000e+00+0.00000000e+00j -1.57398372e-07-4.53017915e-10j]\n",
       " ...\n",
       " [ 3.59611055e-08+4.14077659e-11j  0.00000000e+00+0.00000000e+00j\n",
       "  -5.69885432e-08+3.66489446e-10j ...  6.70624736e-02-1.19962263e-01j\n",
       "   0.00000000e+00+0.00000000e+00j -3.01130881e-01-5.17311844e-02j]\n",
       " [ 0.00000000e+00+0.00000000e+00j  7.85826335e-11+2.65020205e-09j\n",
       "   0.00000000e+00+0.00000000e+00j ...  0.00000000e+00+0.00000000e+00j\n",
       "   2.64830337e-02-5.52382264e-01j  0.00000000e+00+0.00000000e+00j]\n",
       " [ 1.01005880e-08-1.14707566e-20j  0.00000000e+00+0.00000000e+00j\n",
       "  -1.70794893e-08+2.87817879e-10j ... -3.02214946e-01-5.17331638e-02j\n",
       "   0.00000000e+00+0.00000000e+00j  5.44246092e-01+9.15493249e-17j]]"
      ]
     },
     "execution_count": 28,
     "metadata": {},
     "output_type": "execute_result"
    }
   ],
   "source": [
    "prop"
   ]
  },
  {
   "cell_type": "code",
   "execution_count": null,
   "metadata": {},
   "outputs": [],
   "source": []
  }
 ],
 "metadata": {
  "kernelspec": {
   "display_name": "Python 3",
   "language": "python",
   "name": "python3"
  },
  "language_info": {
   "codemirror_mode": {
    "name": "ipython",
    "version": 3
   },
   "file_extension": ".py",
   "mimetype": "text/x-python",
   "name": "python",
   "nbconvert_exporter": "python",
   "pygments_lexer": "ipython3",
   "version": "3.8.2"
  }
 },
 "nbformat": 4,
 "nbformat_minor": 4
}
