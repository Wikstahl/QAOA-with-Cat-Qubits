{
 "cells": [
  {
   "cell_type": "markdown",
   "metadata": {},
   "source": [
    "## Pauli Transfer Matrix extraction\n",
    "$\\def\\bra#1{\\mathinner{\\left\\langle{#1}\\right|}}\\def\\ket#1{\\mathinner{\\left|{#1}\\right\\rangle}}$"
   ]
  },
  {
   "cell_type": "code",
   "execution_count": 42,
   "metadata": {},
   "outputs": [],
   "source": [
    "import numpy as np; pi = np.pi\n",
    "import scipy.io as spio\n",
    "import sys\n",
    "import bisect\n",
    "from qutip import *\n",
    "\n",
    "import matplotlib as mpl\n",
    "import matplotlib.pyplot as plt\n",
    "from matplotlib import cm\n",
    "\n",
    "# Figures should have a width of a 8.6 cm or 3 3/8 in, the width of a single manuscript column.\n",
    "golden_mean = (np.sqrt(5)-1.0)/2.0 # Aesthetic ratio\n",
    "fig_width = 3+3/8 # width in inches\n",
    "fig_height = fig_width*golden_mean # height in inches (0.75 is the standard height to width ratio in Python)\n",
    "fig_size = [fig_width, fig_height]\n",
    "mpl.rcParams.update({\n",
    "    'axes.labelsize' : 12,\n",
    "    'font.size' : 12,\n",
    "    'legend.fontsize' : 8,\n",
    "    'xtick.labelsize' : 10,\n",
    "    'ytick.labelsize' : 10,\n",
    "    'ytick.minor.pad' : -0.5,\n",
    "    'ytick.minor.pad' : -0.5,\n",
    "    'ytick.major.size' : 1,\n",
    "    'ytick.minor.size' : 1,\n",
    "    'ytick.major.width' : .5,\n",
    "    'ytick.minor.width' : .5,\n",
    "    'xtick.major.size' : 1,\n",
    "    'xtick.minor.size' : 1,\n",
    "    'xtick.major.width' : .5,\n",
    "    'xtick.minor.width' : .5,\n",
    "    'xtick.major.pad' : 1.5,\n",
    "    'xtick.minor.pad' : 1.5,\n",
    "    'text.usetex' : True,\n",
    "    'figure.dpi' : 100,\n",
    "})"
   ]
  },
  {
   "cell_type": "markdown",
   "metadata": {},
   "source": [
    "## Parameters"
   ]
  },
  {
   "cell_type": "code",
   "execution_count": 81,
   "metadata": {},
   "outputs": [],
   "source": [
    "num_lvl = 20 # number of levels\n",
    "a = destroy(num_lvl) # annihilation operator\n",
    "K = 1 # kerr amplitude\n",
    "G = 4*K # two photon pump amplitude\n",
    "alpha = np.sqrt(G/K) # coherent state amplitude\n",
    "\n",
    "# cat states\n",
    "cat_plus = (coherent(num_lvl,alpha) + coherent(num_lvl,-alpha)).unit()\n",
    "cat_minus = (coherent(num_lvl,alpha) - coherent(num_lvl,-alpha)).unit()\n",
    "\n",
    "# computational basis\n",
    "up = (cat_plus + cat_minus)/np.sqrt(2)\n",
    "down = (cat_plus - cat_minus)/np.sqrt(2)\n",
    "\n",
    "# Identity in computational basis\n",
    "I = up*up.dag() + down*down.dag()\n",
    "\n",
    "# sigma-z in computational basis\n",
    "sigma_z = up*up.dag() - down*down.dag()\n",
    "\n",
    "# sigma-x in computational basis\n",
    "sigma_x = up*down.dag() + down*up.dag()\n",
    "\n",
    "# sigma-y in computational basis\n",
    "sigma_y = 1j*(-up*down.dag() + down*up.dag())\n",
    "\n",
    "# Array with Pauli matrices\n",
    "P = [I, sigma_x, sigma_y, sigma_z]"
   ]
  },
  {
   "cell_type": "markdown",
   "metadata": {},
   "source": [
    "## $R_z(\\phi)$-gate\n",
    "This has the PTM\n",
    "$$\n",
    "R =\n",
    "\\begin{pmatrix}\n",
    "1 & 0 & 0 & 0 \\\\\n",
    "0 & \\cos\\phi & -\\sin\\phi & 0 \\\\\n",
    "0 & \\sin\\phi & \\cos\\phi & 0 \\\\\n",
    "0 & 0 & 0 & 1\n",
    "\\end{pmatrix}\n",
    "$$"
   ]
  },
  {
   "cell_type": "code",
   "execution_count": 82,
   "metadata": {},
   "outputs": [],
   "source": [
    "# gate time\n",
    "T_g = 2\n",
    "\n",
    "# single photon pump amplitude\n",
    "def E(t,args):\n",
    "    phi = args['phi']\n",
    "    return np.pi*phi/(8*T_g*alpha)*np.sin(np.pi*t/T_g)\n",
    "\n",
    "# Hamiltonian\n",
    "H0 = - K * pow(a.dag(),2)*pow(a,2) + G * (pow(a.dag(),2) + pow(a,2))\n",
    "H1 = a.dag() + a\n",
    "H_tot = [H0,[H1,E]]"
   ]
  },
  {
   "cell_type": "markdown",
   "metadata": {},
   "source": [
    "### quantum map"
   ]
  },
  {
   "cell_type": "markdown",
   "metadata": {},
   "source": [
    "A quantum map $\\Lambda$ is the following.\n",
    "$$\n",
    "    \\Lambda\n",
    "    = \\begin{pmatrix}\n",
    "        \\Lambda'(\\ket{0}\\bra{0}) & \\cdots & \\Lambda'(\\ket{0}\\bra{20}) \\\\\n",
    "        \\vdots & \\ddots & \\vdots \\\\\n",
    "        \\Lambda'(\\ket{20}\\bra{0}) & \\cdots & \\Lambda'(\\ket{20}\\bra{20})\n",
    "    \\end{pmatrix}\n",
    "$$\n",
    "$\\Lambda'(\\ket{i}\\bra{j})$ is $20\\times 20$ matrix, so $\\Lambda$ is $20^2\\times 20^2$ matrix."
   ]
  },
  {
   "cell_type": "code",
   "execution_count": 102,
   "metadata": {},
   "outputs": [],
   "source": [
    "phi = pi/4 # angle of rotation\n",
    "gamma = 1/1500 # single-photon loss rate\n",
    "c_ops = np.sqrt(gamma)*a # collapse operator\n",
    "\n",
    "# For precise calculation\n",
    "opt = Options(nsteps=15e3, atol=1e-8, rtol=1e-6)\n",
    "\n",
    "# Quantum map\n",
    "qmap = propagator(H_tot, T_g, c_op_list = [c_ops], args = {'phi': phi}, options = opt)"
   ]
  },
  {
   "cell_type": "markdown",
   "metadata": {},
   "source": [
    "### save quantum map"
   ]
  },
  {
   "cell_type": "code",
   "execution_count": 59,
   "metadata": {},
   "outputs": [],
   "source": [
    "qsave(qmap,\"results/rz\"+str(phi))"
   ]
  },
  {
   "cell_type": "markdown",
   "metadata": {},
   "source": [
    "### Kraus map\n",
    "$$\n",
    "\\Lambda(\\rho) = \\sum_{k=1}^N A_k\\rho A_k^\\dagger\n",
    "$$\n",
    "where $A_k$ are Kraus-operators"
   ]
  },
  {
   "cell_type": "code",
   "execution_count": 103,
   "metadata": {},
   "outputs": [],
   "source": [
    "kraus_form = to_kraus(qmap)"
   ]
  },
  {
   "cell_type": "markdown",
   "metadata": {},
   "source": [
    "### Pauli transfer matrix\n",
    "$$\n",
    "(R_\\Lambda)_{ij} = \\frac{1}{d}\\mathrm{Tr}[P_i\\Lambda(P_j)] = \\frac{1}{d}\\sum_{k=1}^N\\mathrm{Tr}[P_iA_kP_jA_k^\\dagger]\n",
    "$$"
   ]
  },
  {
   "cell_type": "code",
   "execution_count": 104,
   "metadata": {},
   "outputs": [],
   "source": [
    "d = 2\n",
    "# pauli transfer matrix\n",
    "R = np.zeros((d**2,d**2))\n",
    "for i in range(d**2):\n",
    "    for j in range(d**2):\n",
    "        R[i,j] = 1/d * np.real(sum([(P[i]*A_k*P[j]*A_k.dag()).tr() for A_k in kraus_form]))\n",
    "R = Qobj(R,dims=[[[2],[2]] for i in range(d)]) # Make quantum object"
   ]
  },
  {
   "cell_type": "code",
   "execution_count": 109,
   "metadata": {},
   "outputs": [
    {
     "data": {
      "text/latex": [
       "Quantum object: dims = [[[2], [2]], [[2], [2]]], shape = (4, 4), type = super, isherm = False\\begin{equation*}\\left(\\begin{array}{*{11}c}1.0 & 1.723\\times10^{-04} & 2.078\\times10^{-06} & -2.106\\times10^{-05}\\\\1.294\\times10^{-04} & 0.700 & -0.700 & 2.800\\times10^{-05}\\\\1.230\\times10^{-04} & 0.700 & 0.700 & -2.946\\times10^{-05}\\\\-1.724\\times10^{-05} & -1.744\\times10^{-05} & 4.094\\times10^{-05} & 1.0\\\\\\end{array}\\right)\\end{equation*}"
      ],
      "text/plain": [
       "Quantum object: dims = [[[2], [2]], [[2], [2]]], shape = (4, 4), type = super, isherm = False\n",
       "Qobj data =\n",
       "[[ 1.00098647e+00  1.72259363e-04  2.07823922e-06 -2.10555486e-05]\n",
       " [ 1.29390179e-04  7.00302357e-01 -7.00096227e-01  2.80024741e-05]\n",
       " [ 1.23013978e-04  7.00296464e-01  7.00098085e-01 -2.94594246e-05]\n",
       " [-1.72366462e-05 -1.74431475e-05  4.09436715e-05  1.00069593e+00]]"
      ]
     },
     "execution_count": 109,
     "metadata": {},
     "output_type": "execute_result"
    }
   ],
   "source": [
    "R"
   ]
  },
  {
   "cell_type": "code",
   "execution_count": 110,
   "metadata": {},
   "outputs": [],
   "source": [
    "phi = pi/4 # angle of rotation\n",
    "gamma = 1/1500 # single-photon loss rate\n",
    "c_ops = np.sqrt(gamma)*a # collapse operator\n",
    "\n",
    "# For precise calculation\n",
    "opt = Options(nsteps=15e3, atol=1e-8, rtol=1e-6)\n",
    "\n",
    "d = 2\n",
    "# pauli transfer matrix\n",
    "R = np.zeros((d**2,d**2))\n",
    "for j in range(d**2):\n",
    "    rho = mesolve(H_tot, P[j], [0,T_g] , c_ops, args = {'phi': phi}, options = opt)\n",
    "    Lambda = rho.states[-1]\n",
    "    for i in range(d**2):\n",
    "        R[i,j] = 1/d * np.real((P[i]*Lambda).tr())\n",
    "R = Qobj(R,dims=[[[2],[2]] for i in range(d)]) # Make quantum object"
   ]
  },
  {
   "cell_type": "code",
   "execution_count": 111,
   "metadata": {},
   "outputs": [
    {
     "data": {
      "text/latex": [
       "Quantum object: dims = [[[2], [2]], [[2], [2]]], shape = (4, 4), type = super, isherm = False\\begin{equation*}\\left(\\begin{array}{*{11}c}1.000 & 5.534\\times10^{-07} & -1.847\\times10^{-07} & -1.799\\times10^{-08}\\\\6.854\\times10^{-06} & 0.700 & -0.700 & -8.970\\times10^{-06}\\\\2.788\\times10^{-06} & 0.700 & 0.700 & 2.076\\times10^{-05}\\\\-1.779\\times10^{-08} & -8.977\\times10^{-06} & -2.075\\times10^{-05} & 1.000\\\\\\end{array}\\right)\\end{equation*}"
      ],
      "text/plain": [
       "Quantum object: dims = [[[2], [2]], [[2], [2]]], shape = (4, 4), type = super, isherm = False\n",
       "Qobj data =\n",
       "[[ 9.99999401e-01  5.53432775e-07 -1.84681325e-07 -1.79873078e-08]\n",
       " [ 6.85427985e-06  6.99605753e-01 -6.99602406e-01 -8.97008411e-06]\n",
       " [ 2.78775892e-06  6.99602406e-01  6.99605754e-01  2.07589916e-05]\n",
       " [-1.77917376e-08 -8.97728523e-06 -2.07467764e-05  9.99999399e-01]]"
      ]
     },
     "execution_count": 111,
     "metadata": {},
     "output_type": "execute_result"
    }
   ],
   "source": [
    "R"
   ]
  },
  {
   "cell_type": "markdown",
   "metadata": {},
   "source": [
    "## $R_x(\\theta)$-gate"
   ]
  },
  {
   "cell_type": "code",
   "execution_count": 79,
   "metadata": {},
   "outputs": [],
   "source": [
    "T_g = 10/K # gate time\n",
    "theta = 2*np.pi - 2*2.6893\n",
    "theta_list = np.load(\"results/theta-list.npy\")\n",
    "delta_list = np.load(\"results/delta-list.npy\")\n",
    "\n",
    "def find_le(a, x):\n",
    "    'Find rightmost value less than or equal to x'\n",
    "    i = bisect.bisect_right(a, x)\n",
    "    if i:\n",
    "        return i\n",
    "    raise ValueError\n",
    "\n",
    "# find which delta that corresponds to a specific theta\n",
    "z = find_le(theta_list,theta)\n",
    "(x1,x2) = (delta_list[z-1], delta_list[z])\n",
    "(y1,y2) = (theta_list[z-1], theta_list[z])\n",
    "y = theta\n",
    "x = (y-y1)*(x2-x1)/(y2-y1)+x1\n",
    "delta = x\n",
    "\n",
    "# detuning\n",
    "def Delta(t,args):\n",
    "    delta = args['delta']\n",
    "    return delta * pow(np.sin(np.pi*t/T_g),2)\n",
    "\n",
    "# Hamiltonian\n",
    "H0 = - K * pow(a.dag(),2)*pow(a,2) + G * (pow(a.dag(),2) + pow(a,2))\n",
    "H1 = - a.dag()*a\n",
    "H_tot = [H0,[H1,Delta]]"
   ]
  },
  {
   "cell_type": "code",
   "execution_count": 84,
   "metadata": {},
   "outputs": [],
   "source": [
    "gamma = 1/1500 # single-photon loss rate\n",
    "c_ops = np.sqrt(gamma)*a # collapse operator\n",
    "\n",
    "# For precise calculation\n",
    "opt = Options(nsteps=45000, atol=1e-10, rtol=1e-8)\n",
    "\n",
    "# Quantum map\n",
    "qmap = propagator(H_tot, T_g, c_op_list = [c_ops], args = {'delta': delta}, options = opt)"
   ]
  },
  {
   "cell_type": "code",
   "execution_count": 85,
   "metadata": {},
   "outputs": [],
   "source": [
    "qsave(qmap,\"results/rx\"+str(theta))"
   ]
  },
  {
   "cell_type": "markdown",
   "metadata": {},
   "source": [
    "## $U(\\Theta)$-gate"
   ]
  },
  {
   "cell_type": "code",
   "execution_count": 40,
   "metadata": {},
   "outputs": [],
   "source": [
    "eye = qeye(num_lvl) # identity operator\n",
    "T_g = 2 # gate time\n",
    "\n",
    "a1 = tensor([a,eye])\n",
    "a2 = tensor([eye,a])\n",
    "\n",
    "# sigma z\n",
    "sigma_z1 = tensor([sigma_z,eye])\n",
    "sigma_z2 = tensor([eye,sigma_z])\n",
    "\n",
    "# initial state\n",
    "psi0 = tensor([up+down,up+down]).unit()\n",
    "\n",
    "# coupling\n",
    "def g(t,args):\n",
    "    Theta = args['Theta']\n",
    "    return np.pi*Theta/(8*T_g*pow(alpha,2))*np.sin(np.pi*t/T_g)\n",
    "    \n",
    "# Hamiltonian\n",
    "H1 = K/2 * pow(a1.dag(),2)*pow(a1,2) - G/2 * (pow(a1.dag(),2) + pow(a1,2))\n",
    "H2 = K/2 * pow(a2.dag(),2)*pow(a2,2) - G/2 * (pow(a2.dag(),2) + pow(a2,2))\n",
    "H_coupling = a1.dag()*a2 + a2.dag()*a1\n",
    "H_tot = [(H1+H2),[H_coupling,g]]"
   ]
  },
  {
   "cell_type": "code",
   "execution_count": 41,
   "metadata": {},
   "outputs": [
    {
     "ename": "KeyboardInterrupt",
     "evalue": "",
     "output_type": "error",
     "traceback": [
      "\u001b[1;31m---------------------------------------------------------------------------\u001b[0m",
      "\u001b[1;31mKeyboardInterrupt\u001b[0m                         Traceback (most recent call last)",
      "\u001b[1;32m<ipython-input-41-240abe0e826e>\u001b[0m in \u001b[0;36m<module>\u001b[1;34m\u001b[0m\n\u001b[0;32m      7\u001b[0m \u001b[1;33m\u001b[0m\u001b[0m\n\u001b[0;32m      8\u001b[0m \u001b[1;31m# Quantum map\u001b[0m\u001b[1;33m\u001b[0m\u001b[1;33m\u001b[0m\u001b[1;33m\u001b[0m\u001b[0m\n\u001b[1;32m----> 9\u001b[1;33m \u001b[0mqmap\u001b[0m \u001b[1;33m=\u001b[0m \u001b[0mpropagator\u001b[0m\u001b[1;33m(\u001b[0m\u001b[0mH_tot\u001b[0m\u001b[1;33m,\u001b[0m \u001b[0mT_g\u001b[0m\u001b[1;33m,\u001b[0m \u001b[0mc_op_list\u001b[0m \u001b[1;33m=\u001b[0m \u001b[1;33m[\u001b[0m\u001b[0mc_ops\u001b[0m\u001b[1;33m]\u001b[0m\u001b[1;33m,\u001b[0m \u001b[0margs\u001b[0m \u001b[1;33m=\u001b[0m \u001b[1;33m{\u001b[0m\u001b[1;34m'Theta'\u001b[0m\u001b[1;33m:\u001b[0m \u001b[0mTheta\u001b[0m\u001b[1;33m}\u001b[0m\u001b[1;33m,\u001b[0m \u001b[0moptions\u001b[0m \u001b[1;33m=\u001b[0m \u001b[0mopt\u001b[0m\u001b[1;33m)\u001b[0m\u001b[1;33m\u001b[0m\u001b[1;33m\u001b[0m\u001b[0m\n\u001b[0m",
      "\u001b[1;32mc:\\users\\wikstahl\\google drive\\phd\\code\\github\\qutip\\qutip\\propagator.py\u001b[0m in \u001b[0;36mpropagator\u001b[1;34m(H, t, c_op_list, args, options, unitary_mode, parallel, progress_bar, _safe_mode, **kwargs)\u001b[0m\n\u001b[0;32m    247\u001b[0m                 rho0 = Qobj(sp.csr_matrix(([1], ([row_idx], [col_idx])),\n\u001b[0;32m    248\u001b[0m                                           shape=(N,N), dtype=complex))\n\u001b[1;32m--> 249\u001b[1;33m                 output = mesolve(H, rho0, tlist, c_op_list, [], args, options,\n\u001b[0m\u001b[0;32m    250\u001b[0m                                  _safe_mode=False)\n\u001b[0;32m    251\u001b[0m                 \u001b[1;32mfor\u001b[0m \u001b[0mk\u001b[0m\u001b[1;33m,\u001b[0m \u001b[0mt\u001b[0m \u001b[1;32min\u001b[0m \u001b[0menumerate\u001b[0m\u001b[1;33m(\u001b[0m\u001b[0mtlist\u001b[0m\u001b[1;33m)\u001b[0m\u001b[1;33m:\u001b[0m\u001b[1;33m\u001b[0m\u001b[1;33m\u001b[0m\u001b[0m\n",
      "\u001b[1;32mc:\\users\\wikstahl\\google drive\\phd\\code\\github\\qutip\\qutip\\mesolve.py\u001b[0m in \u001b[0;36mmesolve\u001b[1;34m(H, rho0, tlist, c_ops, e_ops, args, options, progress_bar, _safe_mode)\u001b[0m\n\u001b[0;32m    266\u001b[0m         \u001b[0mfunc\u001b[0m\u001b[1;33m(\u001b[0m\u001b[1;36m0.\u001b[0m\u001b[1;33m,\u001b[0m \u001b[0mv\u001b[0m\u001b[1;33m,\u001b[0m \u001b[1;33m*\u001b[0m\u001b[0mode_args\u001b[0m\u001b[1;33m)\u001b[0m \u001b[1;33m+\u001b[0m \u001b[0mv\u001b[0m\u001b[1;33m\u001b[0m\u001b[1;33m\u001b[0m\u001b[0m\n\u001b[0;32m    267\u001b[0m \u001b[1;33m\u001b[0m\u001b[0m\n\u001b[1;32m--> 268\u001b[1;33m     res = _generic_ode_solve(func, ode_args, rho0, tlist, e_ops, options,\n\u001b[0m\u001b[0;32m    269\u001b[0m                              progress_bar, dims=rho0.dims)\n\u001b[0;32m    270\u001b[0m \u001b[1;33m\u001b[0m\u001b[0m\n",
      "\u001b[1;32mc:\\users\\wikstahl\\google drive\\phd\\code\\github\\qutip\\qutip\\mesolve.py\u001b[0m in \u001b[0;36m_generic_ode_solve\u001b[1;34m(func, ode_args, rho0, tlist, e_ops, opt, progress_bar, dims)\u001b[0m\n\u001b[0;32m    513\u001b[0m \u001b[1;33m\u001b[0m\u001b[0m\n\u001b[0;32m    514\u001b[0m         \u001b[1;32mif\u001b[0m \u001b[0mt_idx\u001b[0m \u001b[1;33m<\u001b[0m \u001b[0mn_tsteps\u001b[0m \u001b[1;33m-\u001b[0m \u001b[1;36m1\u001b[0m\u001b[1;33m:\u001b[0m\u001b[1;33m\u001b[0m\u001b[1;33m\u001b[0m\u001b[0m\n\u001b[1;32m--> 515\u001b[1;33m             \u001b[0mr\u001b[0m\u001b[1;33m.\u001b[0m\u001b[0mintegrate\u001b[0m\u001b[1;33m(\u001b[0m\u001b[0mr\u001b[0m\u001b[1;33m.\u001b[0m\u001b[0mt\u001b[0m \u001b[1;33m+\u001b[0m \u001b[0mdt\u001b[0m\u001b[1;33m[\u001b[0m\u001b[0mt_idx\u001b[0m\u001b[1;33m]\u001b[0m\u001b[1;33m)\u001b[0m\u001b[1;33m\u001b[0m\u001b[1;33m\u001b[0m\u001b[0m\n\u001b[0m\u001b[0;32m    516\u001b[0m \u001b[1;33m\u001b[0m\u001b[0m\n\u001b[0;32m    517\u001b[0m     \u001b[0mprogress_bar\u001b[0m\u001b[1;33m.\u001b[0m\u001b[0mfinished\u001b[0m\u001b[1;33m(\u001b[0m\u001b[1;33m)\u001b[0m\u001b[1;33m\u001b[0m\u001b[1;33m\u001b[0m\u001b[0m\n",
      "\u001b[1;32m~\\miniconda3\\envs\\qutip\\lib\\site-packages\\scipy\\integrate\\_ode.py\u001b[0m in \u001b[0;36mintegrate\u001b[1;34m(self, t, step, relax)\u001b[0m\n\u001b[0;32m    428\u001b[0m \u001b[1;33m\u001b[0m\u001b[0m\n\u001b[0;32m    429\u001b[0m         \u001b[1;32mtry\u001b[0m\u001b[1;33m:\u001b[0m\u001b[1;33m\u001b[0m\u001b[1;33m\u001b[0m\u001b[0m\n\u001b[1;32m--> 430\u001b[1;33m             self._y, self.t = mth(self.f, self.jac or (lambda: None),\n\u001b[0m\u001b[0;32m    431\u001b[0m                                   \u001b[0mself\u001b[0m\u001b[1;33m.\u001b[0m\u001b[0m_y\u001b[0m\u001b[1;33m,\u001b[0m \u001b[0mself\u001b[0m\u001b[1;33m.\u001b[0m\u001b[0mt\u001b[0m\u001b[1;33m,\u001b[0m \u001b[0mt\u001b[0m\u001b[1;33m,\u001b[0m\u001b[1;33m\u001b[0m\u001b[1;33m\u001b[0m\u001b[0m\n\u001b[0;32m    432\u001b[0m                                   self.f_params, self.jac_params)\n",
      "\u001b[1;32m~\\miniconda3\\envs\\qutip\\lib\\site-packages\\scipy\\integrate\\_ode.py\u001b[0m in \u001b[0;36mrun\u001b[1;34m(self, f, jac, y0, t0, t1, f_params, jac_params)\u001b[0m\n\u001b[0;32m   1002\u001b[0m         args = ((f, jac, y0, t0, t1) + tuple(self.call_args) +\n\u001b[0;32m   1003\u001b[0m                 (f_params, jac_params))\n\u001b[1;32m-> 1004\u001b[1;33m         \u001b[0my1\u001b[0m\u001b[1;33m,\u001b[0m \u001b[0mt\u001b[0m\u001b[1;33m,\u001b[0m \u001b[0mistate\u001b[0m \u001b[1;33m=\u001b[0m \u001b[0mself\u001b[0m\u001b[1;33m.\u001b[0m\u001b[0mrunner\u001b[0m\u001b[1;33m(\u001b[0m\u001b[1;33m*\u001b[0m\u001b[0margs\u001b[0m\u001b[1;33m)\u001b[0m\u001b[1;33m\u001b[0m\u001b[1;33m\u001b[0m\u001b[0m\n\u001b[0m\u001b[0;32m   1005\u001b[0m         \u001b[0mself\u001b[0m\u001b[1;33m.\u001b[0m\u001b[0mistate\u001b[0m \u001b[1;33m=\u001b[0m \u001b[0mistate\u001b[0m\u001b[1;33m\u001b[0m\u001b[1;33m\u001b[0m\u001b[0m\n\u001b[0;32m   1006\u001b[0m         \u001b[1;32mif\u001b[0m \u001b[0mistate\u001b[0m \u001b[1;33m<\u001b[0m \u001b[1;36m0\u001b[0m\u001b[1;33m:\u001b[0m\u001b[1;33m\u001b[0m\u001b[1;33m\u001b[0m\u001b[0m\n",
      "\u001b[1;32mc:\\users\\wikstahl\\google drive\\phd\\code\\github\\qutip\\qutip\\cy\\cqobjevo.pyx\u001b[0m in \u001b[0;36mqutip.cy.cqobjevo.CQobjEvo.mul_vec\u001b[1;34m()\u001b[0m\n",
      "\u001b[1;32mc:\\users\\wikstahl\\google drive\\phd\\code\\github\\qutip\\qutip\\cy\\cqobjevo.pyx\u001b[0m in \u001b[0;36mqutip.cy.cqobjevo.CQobjEvoTd._mul_vec\u001b[1;34m()\u001b[0m\n",
      "\u001b[1;32mc:\\users\\wikstahl\\google drive\\phd\\code\\github\\qutip\\qutip\\cy\\cqobjevo.pyx\u001b[0m in \u001b[0;36mqutip.cy.cqobjevo.CQobjEvo._factor_dyn\u001b[1;34m()\u001b[0m\n",
      "\u001b[1;32mc:\\users\\wikstahl\\google drive\\phd\\code\\github\\qutip\\qutip\\cy\\cqobjevo.pyx\u001b[0m in \u001b[0;36mqutip.cy.cqobjevo.CQobjEvo._factor\u001b[1;34m()\u001b[0m\n",
      "\u001b[1;32mc:\\users\\wikstahl\\google drive\\phd\\code\\github\\qutip\\qutip\\qobjevo.py\u001b[0m in \u001b[0;36m__call__\u001b[1;34m(self, t, args)\u001b[0m\n\u001b[0;32m   1728\u001b[0m                     \u001b[0mself\u001b[0m\u001b[1;33m.\u001b[0m\u001b[0margs\u001b[0m\u001b[1;33m[\u001b[0m\u001b[0mname\u001b[0m\u001b[1;33m]\u001b[0m \u001b[1;33m=\u001b[0m \u001b[0mop\u001b[0m\u001b[1;33m.\u001b[0m\u001b[0mexpect\u001b[0m\u001b[1;33m(\u001b[0m\u001b[0mt\u001b[0m\u001b[1;33m,\u001b[0m \u001b[0mstate\u001b[0m\u001b[1;33m)\u001b[0m\u001b[1;33m\u001b[0m\u001b[1;33m\u001b[0m\u001b[0m\n\u001b[0;32m   1729\u001b[0m \u001b[1;33m\u001b[0m\u001b[0m\n\u001b[1;32m-> 1730\u001b[1;33m     \u001b[1;32mdef\u001b[0m \u001b[0m__call__\u001b[0m\u001b[1;33m(\u001b[0m\u001b[0mself\u001b[0m\u001b[1;33m,\u001b[0m \u001b[0mt\u001b[0m\u001b[1;33m,\u001b[0m \u001b[0margs\u001b[0m\u001b[1;33m=\u001b[0m\u001b[1;33m{\u001b[0m\u001b[1;33m}\u001b[0m\u001b[1;33m)\u001b[0m\u001b[1;33m:\u001b[0m\u001b[1;33m\u001b[0m\u001b[1;33m\u001b[0m\u001b[0m\n\u001b[0m\u001b[0;32m   1731\u001b[0m         \u001b[1;32mif\u001b[0m \u001b[0margs\u001b[0m\u001b[1;33m:\u001b[0m\u001b[1;33m\u001b[0m\u001b[1;33m\u001b[0m\u001b[0m\n\u001b[0;32m   1732\u001b[0m             \u001b[0mnow_args\u001b[0m \u001b[1;33m=\u001b[0m \u001b[0mself\u001b[0m\u001b[1;33m.\u001b[0m\u001b[0margs\u001b[0m\u001b[1;33m.\u001b[0m\u001b[0mcopy\u001b[0m\u001b[1;33m(\u001b[0m\u001b[1;33m)\u001b[0m\u001b[1;33m\u001b[0m\u001b[1;33m\u001b[0m\u001b[0m\n",
      "\u001b[1;31mKeyboardInterrupt\u001b[0m: "
     ]
    }
   ],
   "source": [
    "Theta = 0.9046\n",
    "gamma = 1/1500 # single-photon loss rate\n",
    "c_ops = [np.sqrt(gamma)*a1,np.sqrt(gamma)*a2] # collapse operator\n",
    "\n",
    "# For precise calculation\n",
    "opt = Options(nsteps=15e3, atol=1e-8, rtol=1e-6)\n",
    "\n",
    "# Quantum map\n",
    "qmap = propagator(H_tot, T_g, c_op_list = [c_ops], args = {'Theta': Theta}, options = opt)"
   ]
  },
  {
   "cell_type": "code",
   "execution_count": 36,
   "metadata": {},
   "outputs": [],
   "source": [
    "np.zeros((400, 400, 2), dtype='complex128');"
   ]
  },
  {
   "cell_type": "markdown",
   "metadata": {},
   "source": [
    "## Simulation with PTM"
   ]
  },
  {
   "cell_type": "code",
   "execution_count": 35,
   "metadata": {},
   "outputs": [],
   "source": [
    "N = 2 # number of qubits\n",
    "eye = qeye(2)\n",
    "ket0 = basis(2,0)\n",
    "ket1 = basis(2,1)\n",
    "psi = tensor([(ket0+ket1)/np.sqrt(2) for i in range(N)]) # initial state\n",
    "rho = ket2dm(psi) # initial rho\n",
    "vec_rho = operator_to_vector(rho)"
   ]
  }
 ],
 "metadata": {
  "kernelspec": {
   "display_name": "Python 3",
   "language": "python",
   "name": "python3"
  },
  "language_info": {
   "codemirror_mode": {
    "name": "ipython",
    "version": 3
   },
   "file_extension": ".py",
   "mimetype": "text/x-python",
   "name": "python",
   "nbconvert_exporter": "python",
   "pygments_lexer": "ipython3",
   "version": "3.8.2"
  }
 },
 "nbformat": 4,
 "nbformat_minor": 4
}
