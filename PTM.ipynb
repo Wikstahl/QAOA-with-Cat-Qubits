{
 "cells": [
  {
   "cell_type": "markdown",
   "metadata": {},
   "source": [
    "## Pauli Transfer Matrix extraction\n",
    "$\\def\\bra#1{\\mathinner{\\left\\langle{#1}\\right|}}\\def\\ket#1{\\mathinner{\\left|{#1}\\right\\rangle}}$"
   ]
  },
  {
   "cell_type": "code",
   "execution_count": 1,
   "metadata": {},
   "outputs": [],
   "source": [
    "import numpy as np; pi = np.pi\n",
    "import scipy.io as spio\n",
    "from qutip import *\n",
    "\n",
    "import matplotlib as mpl\n",
    "import matplotlib.pyplot as plt\n",
    "from matplotlib import cm\n",
    "\n",
    "# Figures should have a width of a 8.6 cm or 3 3/8 in, the width of a single manuscript column.\n",
    "golden_mean = (np.sqrt(5)-1.0)/2.0 # Aesthetic ratio\n",
    "fig_width = 3+3/8 # width in inches\n",
    "fig_height = fig_width*golden_mean # height in inches (0.75 is the standard height to width ratio in Python)\n",
    "fig_size = [fig_width, fig_height]\n",
    "mpl.rcParams.update({\n",
    "    'axes.labelsize' : 12,\n",
    "    'font.size' : 12,\n",
    "    'legend.fontsize' : 8,\n",
    "    'xtick.labelsize' : 10,\n",
    "    'ytick.labelsize' : 10,\n",
    "    'ytick.minor.pad' : -0.5,\n",
    "    'ytick.minor.pad' : -0.5,\n",
    "    'ytick.major.size' : 1,\n",
    "    'ytick.minor.size' : 1,\n",
    "    'ytick.major.width' : .5,\n",
    "    'ytick.minor.width' : .5,\n",
    "    'xtick.major.size' : 1,\n",
    "    'xtick.minor.size' : 1,\n",
    "    'xtick.major.width' : .5,\n",
    "    'xtick.minor.width' : .5,\n",
    "    'xtick.major.pad' : 1.5,\n",
    "    'xtick.minor.pad' : 1.5,\n",
    "    'text.usetex' : True,\n",
    "    'figure.dpi' : 100,\n",
    "})"
   ]
  },
  {
   "cell_type": "markdown",
   "metadata": {},
   "source": [
    "## Parameters"
   ]
  },
  {
   "cell_type": "code",
   "execution_count": 26,
   "metadata": {},
   "outputs": [],
   "source": [
    "num_lvl = 20 # number of levels\n",
    "a = destroy(num_lvl) # annihilation operator\n",
    "K = 1 # kerr amplitude\n",
    "G = 4*K # two photon pump amplitude\n",
    "alpha = np.sqrt(G/K) # amplitude\n",
    "\n",
    "# cat states\n",
    "cat_plus = (coherent(num_lvl,alpha) + coherent(num_lvl,-alpha)).unit()\n",
    "cat_minus = (coherent(num_lvl,alpha) - coherent(num_lvl,-alpha)).unit()\n",
    "\n",
    "# computational basis\n",
    "up = (cat_plus + cat_minus)/np.sqrt(2)\n",
    "down = (cat_plus - cat_minus)/np.sqrt(2)\n",
    "\n",
    "# Identity\n",
    "I = up*up.dag() + down*down.dag()\n",
    "\n",
    "# sigma-z in computational basis\n",
    "sigma_z = up*up.dag() - down*down.dag()\n",
    "\n",
    "# sigma-x in computational basis\n",
    "sigma_x = up*down.dag() + down*up.dag()\n",
    "\n",
    "# sigma-y in computational basis\n",
    "sigma_y = 1j*(-up*down.dag() + down*up.dag())\n",
    "\n",
    "# Array with Pauli matrices\n",
    "P = [I, sigma_x, sigma_y, sigma_z]"
   ]
  },
  {
   "cell_type": "markdown",
   "metadata": {},
   "source": [
    "## $R_z(\\phi)$-gate"
   ]
  },
  {
   "cell_type": "code",
   "execution_count": 6,
   "metadata": {},
   "outputs": [],
   "source": [
    "# gate time\n",
    "T_g = 2/K\n",
    "\n",
    "# initial state\n",
    "psi0 = (up+down).unit()\n",
    "\n",
    "# single photon pump amplitude\n",
    "def E(t,args):\n",
    "    phi = args['phi']\n",
    "    return np.pi*phi/(8*T_g*alpha)*np.sin(np.pi*t/T_g)\n",
    "\n",
    "def rz(phi):\n",
    "    return (-1j*phi/2*sigma_z).expm()\n",
    "\n",
    "# Hamiltonian\n",
    "H0 = - K * pow(a.dag(),2)*pow(a,2) + G * (pow(a.dag(),2) + pow(a,2))\n",
    "H1 = a.dag() + a\n",
    "H_tot = [H0,[H1,E]]\n",
    "\n",
    "# time array\n",
    "tlist = np.linspace(0,T_g,200)\n",
    "\n",
    "# angle array\n",
    "phi_list = np.linspace(-np.pi,np.pi,20)"
   ]
  },
  {
   "cell_type": "markdown",
   "metadata": {},
   "source": [
    "### quantum map"
   ]
  },
  {
   "cell_type": "markdown",
   "metadata": {},
   "source": [
    "A quantum map $\\mathcal{E}$ is the following.\n",
    "$$\n",
    "    \\mathcal{E}\n",
    "    = \\begin{pmatrix}\n",
    "        \\mathcal{E}'(\\ket{0}\\bra{0}) & \\cdots & \\mathcal{E}'(\\ket{0}\\bra{20}) \\\\\n",
    "        \\vdots & \\ddots & \\vdots \\\\\n",
    "        \\mathcal{E}'(\\ket{20}\\bra{0}) & \\cdots & \\mathcal{E}'(\\ket{20}\\bra{20})\n",
    "    \\end{pmatrix}\n",
    "$$\n",
    "$\\mathcal{E}'(\\ket{i}\\bra{j})$ is $20\\times 20$ matrix, so $\\mathcal{E}$ is $20^2\\times 20^2$ matrix."
   ]
  },
  {
   "cell_type": "code",
   "execution_count": 65,
   "metadata": {},
   "outputs": [],
   "source": [
    "gamma = 1/1500 # single-photon loss rate\n",
    "c_ops = np.sqrt(gamma)*a # collapse operator\n",
    "\n",
    "# For precise calculation\n",
    "opt = Options(nsteps=25000, atol=1e-10, rtol=1e-8)\n",
    "\n",
    "# Quantum map\n",
    "prop = propagator(H_tot, T_g, c_op_list = [c_ops], args = {'phi': np.pi}, options = opt)"
   ]
  },
  {
   "cell_type": "markdown",
   "metadata": {},
   "source": [
    "### Kraus map\n",
    "$$\n",
    "\\mathcal{E}(\\rho) = \\sum_{k=1}^N A_k\\rho A_k^\\dagger\n",
    "$$\n",
    "where $A_k$ are Kraus-operators"
   ]
  },
  {
   "cell_type": "code",
   "execution_count": 23,
   "metadata": {},
   "outputs": [],
   "source": [
    "kraus_form = to_kraus(prop)"
   ]
  },
  {
   "cell_type": "markdown",
   "metadata": {},
   "source": [
    "### Pauli transfer matrix\n",
    "$$\n",
    "(R_\\Lambda)_{ij} = \\frac{1}{d}\\sum_{k=1}^N\\mathrm{Tr}[P_iA_kP_jA_k^\\dagger]\n",
    "$$"
   ]
  },
  {
   "cell_type": "code",
   "execution_count": 82,
   "metadata": {},
   "outputs": [],
   "source": [
    "d = 2\n",
    "# pauli transfer matrix\n",
    "R = np.zeros((d**2,d**2))\n",
    "for i in range(d**2):\n",
    "    for j in range(d**2):\n",
    "        R[i,j] = 1/d * abs(sum([(P[i]*A_k*P[j]*A_k.dag()).tr() for A_k in kraus_form]))\n",
    "R = Qobj(R,dims=[[[2],[2]] for i in range(d)]) # Make into a quantum object"
   ]
  },
  {
   "cell_type": "code",
   "execution_count": 83,
   "metadata": {},
   "outputs": [],
   "source": [
    "ket0 = basis(2,0)\n",
    "ket1 = basis(2,1)"
   ]
  },
  {
   "cell_type": "code",
   "execution_count": 84,
   "metadata": {},
   "outputs": [],
   "source": [
    "rho = ket2dm(ket0)"
   ]
  },
  {
   "cell_type": "code",
   "execution_count": 85,
   "metadata": {},
   "outputs": [],
   "source": [
    "vec_rho = operator_to_vector(rho)"
   ]
  }
 ],
 "metadata": {
  "kernelspec": {
   "display_name": "Python 3",
   "language": "python",
   "name": "python3"
  },
  "language_info": {
   "codemirror_mode": {
    "name": "ipython",
    "version": 3
   },
   "file_extension": ".py",
   "mimetype": "text/x-python",
   "name": "python",
   "nbconvert_exporter": "python",
   "pygments_lexer": "ipython3",
   "version": "3.8.2"
  }
 },
 "nbformat": 4,
 "nbformat_minor": 4
}
