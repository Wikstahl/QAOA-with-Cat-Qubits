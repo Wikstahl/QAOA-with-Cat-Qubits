{
 "cells": [
  {
   "cell_type": "code",
   "execution_count": 2,
   "metadata": {},
   "outputs": [],
   "source": [
    "#%matplotlib\n",
    "import numpy as np\n",
    "pi = np.pi\n",
    "from qutip import *\n",
    "from qutip.qip.circuit import QubitCircuit, Gate\n",
    "from qutip.qip.operations import *\n",
    "from qip.kpoprocessor import KPOProcessor\n",
    "import scipy.io as spio\n",
    "import matplotlib as mpl\n",
    "import matplotlib.pyplot as plt\n",
    "from matplotlib import cm\n",
    "%load_ext autoreload\n",
    "%autoreload 2\n",
    "\n",
    "\n",
    "# Figures should have a width of a 8.6 cm or 3 3/8 in, the width of a single manuscript column.\n",
    "golden_mean = (np.sqrt(5)-1.0)/2.0 # Aesthetic ratio\n",
    "fig_width = 3+3/8 # width in inches\n",
    "fig_height = fig_width*golden_mean # height in inches (0.75 is the standard height to width ratio in Python)\n",
    "fig_size = [fig_width, fig_height]\n",
    "mpl.rcParams.update({\n",
    "    'axes.labelsize' : 12,\n",
    "    'font.size' : 12,\n",
    "    'legend.fontsize' : 8,\n",
    "    'xtick.labelsize' : 10,\n",
    "    'ytick.labelsize' : 10,\n",
    "    'ytick.minor.pad' : -0.5,\n",
    "    'ytick.minor.pad' : -0.5,\n",
    "    'ytick.major.size' : 2,\n",
    "    'ytick.minor.size' : 2,\n",
    "    'ytick.major.width' : .5,\n",
    "    'ytick.minor.width' : .5,\n",
    "    'xtick.major.size' : 2,\n",
    "    'xtick.minor.size' : 2,\n",
    "    'xtick.major.width' : .5,\n",
    "    'xtick.minor.width' : .5,\n",
    "    'xtick.major.pad' : 1.5,\n",
    "    'xtick.minor.pad' : 1.5,\n",
    "    'text.usetex' : True,\n",
    "    'figure.dpi' : 100,\n",
    "})\n"
   ]
  },
  {
   "cell_type": "markdown",
   "metadata": {},
   "source": [
    "<a href=\"#Ry\">Ry</a>"
   ]
  },
  {
   "cell_type": "code",
   "execution_count": 3,
   "metadata": {},
   "outputs": [],
   "source": [
    "# Problem\n",
    "J = -1*np.array([[1,1/2],[1/2,1/2]])\n",
    "h = -1*np.array([1/2,0])\n",
    "\n",
    "# Eigvals [2 1 0 1]\n",
    "\n",
    "# Number of qubits in the system\n",
    "N = 2"
   ]
  },
  {
   "cell_type": "code",
   "execution_count": 3,
   "metadata": {},
   "outputs": [],
   "source": [
    "name = 'instance_5_1_simple'\n",
    "mat = spio.loadmat('../../Matlab/matqaoa/jeppesen_instances_simple/' + name + '.mat')\n",
    "instance = mat['instance']\n",
    "eigvals = instance['eigvals']\n",
    "N = instance['size'][0][0][0][0]\n",
    "J = instance['J'][0][0]\n",
    "h = np.array(instance['h'][0][0]).flatten()\n",
    "costs = np.array(eigvals[0][0]).flatten()"
   ]
  },
  {
   "cell_type": "code",
   "execution_count": 127,
   "metadata": {},
   "outputs": [
    {
     "data": {
      "image/png": "[encoded data removed]",
      "text/plain": [
       "<IPython.core.display.Image object>"
      ]
     },
     "execution_count": 127,
     "metadata": {},
     "output_type": "execute_result"
    }
   ],
   "source": [
    "def carb(arg_value):\n",
    "    # control arbitrary phase gate\n",
    "    zz = tensor(sigmaz(),sigmaz())\n",
    "    return (-1j*arg_value/2*zz).expm()\n",
    "\n",
    "# Iteration level\n",
    "p = 1\n",
    "\n",
    "if p == 1:\n",
    "    # Angles p = 1\n",
    "    gamma = [0.9046]\n",
    "    beta = [2.6893]\n",
    "    # 100 %\n",
    "    gamma = [np.pi]\n",
    "    beta = [2.3562]\n",
    "elif p == 2:    \n",
    "    # Angles p = 2\n",
    "    gamma = [pi/2, pi/2]\n",
    "    beta = [2.3562, 2.3562]\n",
    "\n",
    "# Representation of a quantum program/algorithm, maintaining a sequence of gates.\n",
    "qc = QubitCircuit(N = N, reverse_states = False)\n",
    "qc.user_gates = {\"CARB\": carb}\n",
    "qc.add_state(state = \"+\", targets = range(N), state_type = \"input\")\n",
    "\n",
    "for i in range(p):\n",
    "    for j in range(N-1):\n",
    "        for k in range(j+1,N):\n",
    "            if J[j][k] != 0:\n",
    "                qc.add_gate(\"CARB\", targets = [j,k], arg_value = 2*gamma[i]*J[j][k])\n",
    "    for j in range(N):\n",
    "        if h[j] != 0: \n",
    "            qc.add_gate(\"RZ\", j, None, 2*gamma[i]*h[j])\n",
    "        if 2*beta[i] > np.pi:\n",
    "            qc.add_gate(\"RX\", j, None, 2*np.pi - 2*beta[i])\n",
    "            #qc.add_gate(\"RZ\", j, None, 2*np.pi)\n",
    "\n",
    "qc.png"
   ]
  },
  {
   "cell_type": "code",
   "execution_count": 128,
   "metadata": {},
   "outputs": [
    {
     "name": "stdout",
     "output_type": "stream",
     "text": [
      "Total time = 14.0 (1/K)\n"
     ]
    }
   ],
   "source": [
    "kpo = KPOProcessor(N = N)\n",
    "tlist, coeffs = kpo.load_circuit(qc)\n",
    "print(\"Total time = %s (1/K)\" % round(tlist[-1]))"
   ]
  },
  {
   "cell_type": "code",
   "execution_count": 129,
   "metadata": {},
   "outputs": [
    {
     "data": {
      "image/png": "[encoded data removed]",
      "text/plain": [
       "<Figure size 337.5x208.586 with 1 Axes>"
      ]
     },
     "metadata": {
      "needs_background": "light"
     },
     "output_type": "display_data"
    }
   ],
   "source": [
    "fig = kpo.plot_pulses(figsize=fig_size)\n",
    "#plt.savefig('figs/fig-qaoa-level-2-pulses-rx-mixer.pdf', dpi=300, transparent=False, bbox_inches='tight')"
   ]
  },
  {
   "cell_type": "markdown",
   "metadata": {},
   "source": [
    "## Setup parameters and initial values"
   ]
  },
  {
   "cell_type": "code",
   "execution_count": 135,
   "metadata": {},
   "outputs": [],
   "source": [
    "alpha = kpo._paras['Coherent state']\n",
    "num_lvl = kpo._paras['Cut off']\n",
    "eye = qeye(num_lvl)\n",
    "\n",
    "# Cat state\n",
    "cat_plus = (coherent(num_lvl,alpha) + coherent(num_lvl,-alpha)).unit()\n",
    "cat_minus = (coherent(num_lvl,alpha) - coherent(num_lvl,-alpha)).unit()\n",
    "\n",
    "# computational basis\n",
    "up = (cat_plus + cat_minus)/np.sqrt(2) # Binary 0\n",
    "down = (cat_plus - cat_minus)/np.sqrt(2) # Binary 1\n",
    "\n",
    "# initial state\n",
    "plus = (cat_plus + 1j*cat_minus)/np.sqrt(2)\n",
    "psi0 = tensor([plus for i in range(N)])"
   ]
  },
  {
   "cell_type": "markdown",
   "metadata": {},
   "source": [
    "## Run master equation"
   ]
  },
  {
   "cell_type": "code",
   "execution_count": null,
   "metadata": {},
   "outputs": [],
   "source": [
    "# simulate\n",
    "result = kpo.run_state(init_state = psi0, noisy = True)\n",
    "final_state = result.states[-1]"
   ]
  },
  {
   "cell_type": "code",
   "execution_count": 137,
   "metadata": {},
   "outputs": [
    {
     "data": {
      "text/latex": [
       "Quantum object: dims = [[20, 20], [1, 1]], shape = (400, 1), type = ket\\begin{equation*}\\left(\\begin{array}{*{11}c}(0.018+0.002j)\\\\(0.036+0.004j)\\\\(0.050+0.006j)\\\\(0.059+0.007j)\\\\(0.058+0.006j)\\\\\\vdots\\\\(-7.504\\times10^{-07}-7.585\\times10^{-08}j)\\\\(-3.729\\times10^{-07}-4.663\\times10^{-08}j)\\\\(-1.812\\times10^{-07}-1.904\\times10^{-08}j)\\\\(-8.122\\times10^{-08}-1.047\\times10^{-08}j)\\\\(-3.732\\times10^{-08}-4.152\\times10^{-09}j)\\\\\\end{array}\\right)\\end{equation*}"
      ],
      "text/plain": [
       "Quantum object: dims = [[20, 20], [1, 1]], shape = (400, 1), type = ket\n",
       "Qobj data =\n",
       "[[ 1.76145926e-02+1.66714485e-03j]\n",
       " [ 3.60994950e-02+4.30081313e-03j]\n",
       " [ 5.02353294e-02+5.50658282e-03j]\n",
       " [ 5.89076140e-02+7.32784401e-03j]\n",
       " [ 5.81581812e-02+6.49677417e-03j]\n",
       " [ 5.27085859e-02+6.66929828e-03j]\n",
       " [ 4.25297851e-02+4.77725429e-03j]\n",
       " [ 3.25462881e-02+4.15446499e-03j]\n",
       " [ 2.27516770e-02+2.56181084e-03j]\n",
       " [ 1.53467158e-02+1.96957306e-03j]\n",
       " [ 9.59819186e-03+1.08106335e-03j]\n",
       " [ 5.85532242e-03+7.53372854e-04j]\n",
       " [ 3.34344295e-03+3.76601233e-04j]\n",
       " [ 1.87601831e-03+2.42941785e-04j]\n",
       " [ 9.91540686e-04+1.11959996e-04j]\n",
       " [ 5.16908007e-04+6.70538005e-05j]\n",
       " [ 2.55042347e-04+2.91733781e-05j]\n",
       " [ 1.25367795e-04+1.56910849e-05j]\n",
       " [ 5.53036545e-05+6.42076323e-06j]\n",
       " [ 2.60024241e-05+3.06378070e-06j]\n",
       " [-3.64755419e-02-4.47335807e-03j]\n",
       " [-7.31452887e-02-9.03943837e-03j]\n",
       " [-1.02393192e-01-1.30111731e-02j]\n",
       " [-1.19015152e-01-1.45660910e-02j]\n",
       " [-1.18047039e-01-1.51649551e-02j]\n",
       " [-1.06250296e-01-1.28998364e-02j]\n",
       " [-8.61291330e-02-1.11169769e-02j]\n",
       " [-6.55011260e-02-7.90974282e-03j]\n",
       " [-4.60069609e-02-5.95234657e-03j]\n",
       " [-3.08543801e-02-3.71113733e-03j]\n",
       " [-1.93882506e-02-2.51347231e-03j]\n",
       " [-1.17590282e-02-1.41215116e-03j]\n",
       " [-6.74690519e-03-8.75290163e-04j]\n",
       " [-3.76350791e-03-4.49365193e-04j]\n",
       " [-1.99930049e-03-2.59671466e-04j]\n",
       " [-1.04028764e-03-1.24069859e-04j]\n",
       " [-5.14879215e-04-6.67356723e-05j]\n",
       " [-2.51076749e-04-3.10688070e-05j]\n",
       " [-1.12126585e-04-1.44978982e-05j]\n",
       " [-5.17076179e-05-6.76033940e-06j]\n",
       " [ 5.06184431e-02+5.24692294e-03j]\n",
       " [ 1.02531639e-01+1.15724046e-02j]\n",
       " [ 1.44284853e-01+1.70992885e-02j]\n",
       " [ 1.67301123e-01+1.97650534e-02j]\n",
       " [ 1.67023818e-01+2.01430146e-02j]\n",
       " [ 1.49687384e-01+1.80062942e-02j]\n",
       " [ 1.22137759e-01+1.48070734e-02j]\n",
       " [ 9.24248408e-02+1.12217403e-02j]\n",
       " [ 6.53387604e-02+7.93907524e-03j]\n",
       " [ 4.35809803e-02+5.32284175e-03j]\n",
       " [ 2.75643012e-02+3.35190448e-03j]\n",
       " [ 1.66270415e-02+2.03618583e-03j]\n",
       " [ 9.60022509e-03+1.16767341e-03j]\n",
       " [ 5.32671859e-03+6.56424931e-04j]\n",
       " [ 2.84607903e-03+3.46407422e-04j]\n",
       " [ 1.46744986e-03+1.80962010e-04j]\n",
       " [ 7.31733651e-04+8.96374480e-05j]\n",
       " [ 3.55814599e-04+4.21983816e-05j]\n",
       " [ 1.58640716e-04+1.96519342e-05j]\n",
       " [ 7.37795376e-05+8.19626319e-06j]\n",
       " [-5.99232864e-02-6.91246903e-03j]\n",
       " [-1.19364347e-01-1.46478339e-02j]\n",
       " [-1.68225199e-01-2.01776772e-02j]\n",
       " [-1.94206493e-01-2.35967409e-02j]\n",
       " [-1.93941407e-01-2.35430637e-02j]\n",
       " [-1.73372593e-01-2.08968715e-02j]\n",
       " [-1.41504306e-01-1.72645997e-02j]\n",
       " [-1.06877510e-01-1.28136404e-02j]\n",
       " [-7.55876390e-02-9.24512563e-03j]\n",
       " [-5.03430295e-02-6.01214865e-03j]\n",
       " [-3.18548298e-02-3.90302863e-03j]\n",
       " [-1.91863033e-02-2.28789161e-03j]\n",
       " [-1.10852802e-02-1.36069778e-03j]\n",
       " [-6.14028225e-03-7.28038337e-04j]\n",
       " [-3.28501479e-03-4.02822064e-04j]\n",
       " [-1.69694454e-03-2.01010969e-04j]\n",
       " [-8.46017561e-04-1.02564195e-04j]\n",
       " [-4.09413163e-04-5.03409905e-05j]\n",
       " [-1.84230436e-04-2.19675964e-05j]\n",
       " [-8.42769155e-05-1.09560746e-05j]\n",
       " [ 5.88143714e-02+6.27752005e-03j]\n",
       " [ 1.18792970e-01+1.34689904e-02j]\n",
       " [ 1.67623446e-01+2.03705232e-02j]\n",
       " [ 1.93834402e-01+2.29966979e-02j]\n",
       " [ 1.94031195e-01+2.39831939e-02j]\n",
       " [ 1.73425452e-01+2.09483365e-02j]\n",
       " [ 1.41884795e-01+1.76272604e-02j]\n",
       " [ 1.07081274e-01+1.30551365e-02j]\n",
       " [ 7.59016267e-02+9.45089325e-03j]\n",
       " [ 5.04914554e-02+6.19226220e-03j]\n",
       " [ 3.20199755e-02+3.99004806e-03j]\n",
       " [ 1.92635180e-02+2.36888262e-03j]\n",
       " [ 1.11522896e-02+1.39016519e-03j]\n",
       " [ 6.17143835e-03+7.63773903e-04j]\n",
       " [ 3.30641489e-03+4.12565986e-04j]\n",
       " [ 1.70022420e-03+2.10621523e-04j]\n",
       " [ 8.50192562e-04+1.06937153e-04j]\n",
       " [ 4.12270206e-04+4.91504461e-05j]\n",
       " [ 1.84312246e-04+2.33400782e-05j]\n",
       " [ 8.54888219e-05+9.55614886e-06j]\n",
       " [-5.37599082e-02-5.98123955e-03j]\n",
       " [-1.06828899e-01-1.29966730e-02j]\n",
       " [-1.50930345e-01-1.74939709e-02j]\n",
       " [-1.73808459e-01-2.09330805e-02j]\n",
       " [-1.74003515e-01-2.04228337e-02j]\n",
       " [-1.55162344e-01-1.85372239e-02j]\n",
       " [-1.26958445e-01-1.49786080e-02j]\n",
       " [-9.56507135e-02-1.13667019e-02j]\n",
       " [-6.78185069e-02-8.02099989e-03j]\n",
       " [-4.50543837e-02-5.33328136e-03j]\n",
       " [-2.85810239e-02-3.38644653e-03j]\n",
       " [-1.71704184e-02-2.02957879e-03j]\n",
       " [-9.94614379e-03-1.18002925e-03j]\n",
       " [-5.49516322e-03-6.45822267e-04j]\n",
       " [-2.94742265e-03-3.49624880e-04j]\n",
       " [-1.51874334e-03-1.78319339e-04j]\n",
       " [-7.59064991e-04-8.93417081e-05j]\n",
       " [-3.66461082e-04-4.46698054e-05j]\n",
       " [-1.65296271e-04-1.92476832e-05j]\n",
       " [-7.54469729e-05-9.72468797e-06j]\n",
       " [ 4.31110718e-02+4.68980855e-03j]\n",
       " [ 8.69454836e-02+9.93960811e-03j]\n",
       " [ 1.22864473e-01+1.51779245e-02j]\n",
       " [ 1.41869711e-01+1.69647975e-02j]\n",
       " [ 1.42219122e-01+1.78633298e-02j]\n",
       " [ 1.26931819e-01+1.54521574e-02j]\n",
       " [ 1.03997232e-01+1.31278237e-02j]\n",
       " [ 7.83737214e-02+9.62973660e-03j]\n",
       " [ 5.56333638e-02+7.03831617e-03j]\n",
       " [ 3.69549341e-02+4.56736343e-03j]\n",
       " [ 2.34694279e-02+2.97132531e-03j]\n",
       " [ 1.40990819e-02+1.74732494e-03j]\n",
       " [ 8.17443006e-03+1.03529155e-03j]\n",
       " [ 4.51698039e-03+5.63430308e-04j]\n",
       " [ 2.42370174e-03+3.07421337e-04j]\n",
       " [ 1.24446492e-03+1.55425083e-04j]\n",
       " [ 6.23289457e-04+7.97161310e-05j]\n",
       " [ 3.01767469e-04+3.63010722e-05j]\n",
       " [ 1.35163975e-04+1.74720393e-05j]\n",
       " [ 6.25766491e-05+7.06658076e-06j]\n",
       " [-3.32412427e-02-3.61232833e-03j]\n",
       " [-6.59801794e-02-7.96876869e-03j]\n",
       " [-9.33300627e-02-1.05806131e-02j]\n",
       " [-1.07346660e-01-1.28336277e-02j]\n",
       " [-1.07598877e-01-1.23561815e-02j]\n",
       " [-9.58299823e-02-1.13645165e-02j]\n",
       " [-7.85083369e-02-9.06296806e-03j]\n",
       " [-5.90743910e-02-6.96849779e-03j]\n",
       " [-4.19379020e-02-4.85302717e-03j]\n",
       " [-2.78256418e-02-3.26966268e-03j]\n",
       " [-1.76741900e-02-2.04916085e-03j]\n",
       " [-1.06042533e-02-1.24427868e-03j]\n",
       " [-6.15065074e-03-7.13527977e-04j]\n",
       " [-3.39379005e-03-3.95938730e-04j]\n",
       " [-1.82265224e-03-2.11646285e-04j]\n",
       " [-9.38057838e-04-1.09346812e-04j]\n",
       " [-4.69389476e-04-5.43638589e-05j]\n",
       " [-2.26391733e-04-2.74091837e-05j]\n",
       " [-1.02219139e-04-1.18084505e-05j]\n",
       " [-4.66223859e-05-5.97175013e-06j]\n",
       " [ 2.31011528e-02+2.54829587e-03j]\n",
       " [ 4.65462863e-02+5.35926230e-03j]\n",
       " [ 6.58381054e-02+8.23073434e-03j]\n",
       " [ 7.59499856e-02+9.14475471e-03j]\n",
       " [ 7.62091502e-02+9.68473479e-03j]\n",
       " [ 6.79527446e-02+8.32903749e-03j]\n",
       " [ 5.57276270e-02+7.11689196e-03j]\n",
       " [ 4.19571758e-02+5.19076423e-03j]\n",
       " [ 2.98114347e-02+3.81562051e-03j]\n",
       " [ 1.97836423e-02+2.46194729e-03j]\n",
       " [ 1.25761553e-02+1.61076974e-03j]\n",
       " [ 7.54788389e-03+9.41905207e-04j]\n",
       " [ 4.38038281e-03+5.61252910e-04j]\n",
       " [ 2.41817489e-03+3.03740747e-04j]\n",
       " [ 1.29883697e-03+1.66744227e-04j]\n",
       " [ 6.66243507e-04+8.38031224e-05j]\n",
       " [ 3.34043554e-04+4.32310144e-05j]\n",
       " [ 1.61559576e-04+1.95830407e-05j]\n",
       " [ 7.24667834e-05+9.53432169e-06j]\n",
       " [ 3.35027807e-05+3.81491950e-06j]\n",
       " [-1.56898255e-02-1.67695475e-03j]\n",
       " [-3.11184680e-02-3.73757805e-03j]\n",
       " [-4.40535638e-02-4.91603853e-03j]\n",
       " [-5.06272516e-02-6.01893733e-03j]\n",
       " [-5.07895647e-02-5.74272859e-03j]\n",
       " [-4.51955025e-02-5.32983681e-03j]\n",
       " [-3.70585638e-02-4.21256728e-03j]\n",
       " [-2.78606287e-02-3.26815147e-03j]\n",
       " [-1.97963295e-02-2.25577511e-03j]\n",
       " [-1.31230893e-02-1.53344082e-03j]\n",
       " [-8.34298456e-03-9.52610721e-04j]\n",
       " [-5.00108019e-03-5.83544484e-04j]\n",
       " [-2.90340509e-03-3.31494077e-04j]\n",
       " [-1.60057345e-03-1.85695949e-04j]\n",
       " [-8.60370893e-04-9.84461137e-05j]\n",
       " [-4.42443882e-04-5.12935247e-05j]\n",
       " [-2.21568346e-04-2.54169593e-05j]\n",
       " [-1.06798668e-04-1.28621020e-05j]\n",
       " [-4.82529014e-05-5.56464748e-06j]\n",
       " [-2.19989974e-05-2.80325400e-06j]\n",
       " [ 9.75765727e-03+1.08686332e-03j]\n",
       " [ 1.96481399e-02+2.27594887e-03j]\n",
       " [ 2.78099317e-02+3.50685607e-03j]\n",
       " [ 3.20599721e-02+3.88408310e-03j]\n",
       " [ 3.21905419e-02+4.12537746e-03j]\n",
       " [ 2.86840532e-02+3.53729200e-03j]\n",
       " [ 2.35391638e-02+3.03120473e-03j]\n",
       " [ 1.77108236e-02+2.20425165e-03j]\n",
       " [ 1.25922085e-02+1.62504144e-03j]\n",
       " [ 8.35096645e-03+1.04534679e-03j]\n",
       " [ 5.31207837e-03+6.85958543e-04j]\n",
       " [ 3.18607085e-03+3.99924348e-04j]\n",
       " [ 1.85026909e-03+2.39002054e-04j]\n",
       " [ 1.02075336e-03+1.28963922e-04j]\n",
       " [ 5.48646025e-04+7.10318437e-05j]\n",
       " [ 2.81237236e-04+3.55825325e-05j]\n",
       " [ 1.41113570e-04+1.84086772e-05j]\n",
       " [ 6.81990288e-05+8.31669970e-06j]\n",
       " [ 3.06240670e-05+4.08511753e-06j]\n",
       " [ 1.41426422e-05+1.62067367e-06j]\n",
       " [-5.98822691e-03-6.33034344e-04j]\n",
       " [-1.18741479e-02-1.41803733e-03j]\n",
       " [-1.68147611e-02-1.85739761e-03j]\n",
       " [-1.93184166e-02-2.28347622e-03j]\n",
       " [-1.93859740e-02-2.17005679e-03j]\n",
       " [-1.72455182e-02-2.02199949e-03j]\n",
       " [-1.41450275e-02-1.59187018e-03j]\n",
       " [-1.06307459e-02-1.23984282e-03j]\n",
       " [-7.55616666e-03-8.52394590e-04j]\n",
       " [-5.00727851e-03-5.81732140e-04j]\n",
       " [-3.18448840e-03-3.59980989e-04j]\n",
       " [-1.90816759e-03-2.21362754e-04j]\n",
       " [-1.10822526e-03-1.25196805e-04j]\n",
       " [-6.10701880e-04-7.04448307e-05j]\n",
       " [-3.28397697e-04-3.72234575e-05j]\n",
       " [-1.68825425e-04-1.94603538e-05j]\n",
       " [-8.45693746e-05-9.65556413e-06j]\n",
       " [-4.07563220e-05-4.88001934e-06j]\n",
       " [-1.84180506e-05-2.12894490e-06j]\n",
       " [-8.39638082e-06-1.06341611e-06j]\n",
       " [ 3.40223730e-03+3.81876749e-04j]\n",
       " [ 6.84611243e-03+7.97554193e-04j]\n",
       " [ 9.69520026e-03+1.23061827e-03j]\n",
       " [ 1.11707371e-02+1.35944632e-03j]\n",
       " [ 1.12227181e-02+1.44759044e-03j]\n",
       " [ 9.99445611e-03+1.23865603e-03j]\n",
       " [ 8.20681421e-03+1.06366818e-03j]\n",
       " [ 6.17104059e-03+7.72379859e-04j]\n",
       " [ 4.39031172e-03+5.70255791e-04j]\n",
       " [ 2.90975647e-03+3.66500956e-04j]\n",
       " [ 1.85209894e-03+2.40710245e-04j]\n",
       " [ 1.11013749e-03+1.40284657e-04j]\n",
       " [ 6.45127751e-04+8.38656235e-05j]\n",
       " [ 3.55668696e-04+4.52537246e-05j]\n",
       " [ 1.91301901e-04+2.49325088e-05j]\n",
       " [ 9.79949056e-05+1.24891213e-05j]\n",
       " [ 4.92064269e-05+6.45857188e-06j]\n",
       " [ 2.37636709e-05+2.92012031e-06j]\n",
       " [ 1.06822270e-05+1.44134905e-06j]\n",
       " [ 4.92798343e-06+5.69275466e-07j]\n",
       " [-1.91840591e-03-2.00044423e-04j]\n",
       " [-3.80485481e-03-4.54207574e-04j]\n",
       " [-5.38745732e-03-5.87858761e-04j]\n",
       " [-6.18994573e-03-7.31426975e-04j]\n",
       " [-6.21122856e-03-6.86831907e-04j]\n",
       " [-5.52580965e-03-6.47683442e-04j]\n",
       " [-4.53199927e-03-5.03779377e-04j]\n",
       " [-3.40635089e-03-3.97162444e-04j]\n",
       " [-2.42094454e-03-2.69730222e-04j]\n",
       " [-1.60448183e-03-1.86361476e-04j]\n",
       " [-1.02028534e-03-1.13911545e-04j]\n",
       " [-6.11436443e-04-7.09188999e-05j]\n",
       " [-3.55066866e-04-3.95987438e-05j]\n",
       " [-1.95694246e-04-2.25738812e-05j]\n",
       " [-1.05214495e-04-1.17872339e-05j]\n",
       " [-5.41027411e-05-6.23715639e-06j]\n",
       " [-2.70943864e-05-3.07084255e-06j]\n",
       " [-1.30621866e-05-1.56367723e-06j]\n",
       " [-5.90096142e-06-6.81430113e-07j]\n",
       " [-2.69118047e-06-3.40503556e-07j]\n",
       " [ 1.00974430e-03+1.14312281e-04j]\n",
       " [ 2.03081550e-03+2.37017542e-04j]\n",
       " [ 2.87649789e-03+3.67233808e-04j]\n",
       " [ 3.31367441e-03+4.04912304e-04j]\n",
       " [ 3.32991694e-03+4.32071985e-04j]\n",
       " [ 2.96475163e-03+3.68611088e-04j]\n",
       " [ 2.43523448e-03+3.17621835e-04j]\n",
       " [ 1.83057753e-03+2.29602434e-04j]\n",
       " [ 1.30282252e-03+1.70355288e-04j]\n",
       " [ 8.63150630e-04+1.08828289e-04j]\n",
       " [ 5.49631184e-04+7.19307268e-05j]\n",
       " [ 3.29312469e-04+4.16131820e-05j]\n",
       " [ 1.91457130e-04+2.50670468e-05j]\n",
       " [ 1.05506725e-04+1.34102993e-05j]\n",
       " [ 5.67761489e-05+7.45560662e-06j]\n",
       " [ 2.90698629e-05+3.69709401e-06j]\n",
       " [ 1.46048140e-05+1.93076937e-06j]\n",
       " [ 7.04947828e-06+8.63384952e-07j]\n",
       " [ 3.17153606e-06+4.33070892e-07j]\n",
       " [ 1.46189367e-06+1.68087396e-07j]\n",
       " [-5.30579648e-04-5.47481903e-05j]\n",
       " [-1.04848417e-03-1.24986482e-04j]\n",
       " [-1.49032962e-03-1.61211123e-04j]\n",
       " [-1.70541956e-03-2.01263014e-04j]\n",
       " [-1.71817155e-03-1.88317256e-04j]\n",
       " [-1.52253013e-03-1.78211189e-04j]\n",
       " [-1.25363350e-03-1.38085951e-04j]\n",
       " [-9.38644952e-04-1.09293107e-04j]\n",
       " [-6.69669420e-04-7.39209311e-05j]\n",
       " [-4.42166096e-04-5.12898881e-05j]\n",
       " [-2.82224762e-04-3.12180784e-05j]\n",
       " [-1.68511089e-04-1.95186889e-05j]\n",
       " [-9.82163093e-05-1.08491863e-05j]\n",
       " [-5.39370773e-05-6.21374010e-06j]\n",
       " [-2.91033819e-05-3.23340265e-06j]\n",
       " [-1.49132831e-05-1.71684839e-06j]\n",
       " [-7.49442494e-06-8.45768324e-07j]\n",
       " [-3.60082939e-06-4.30218526e-07j]\n",
       " [-1.63226773e-06-1.88755665e-07j]\n",
       " [-7.41879039e-07-9.35966177e-08j]\n",
       " [ 2.59932023e-04+2.99597983e-05j]\n",
       " [ 5.23367569e-04+6.04462248e-05j]\n",
       " [ 7.40129327e-04+9.55391586e-05j]\n",
       " [ 8.54046305e-04+1.04250491e-04j]\n",
       " [ 8.56932937e-04+1.12573539e-04j]\n",
       " [ 7.64097157e-04+9.45467101e-05j]\n",
       " [ 6.26744962e-04+8.27821951e-05j]\n",
       " [ 4.71770106e-04+5.86030714e-05j]\n",
       " [ 3.35313415e-04+4.43913567e-05j]\n",
       " [ 2.22439736e-04+2.76469292e-05j]\n",
       " [ 1.41462685e-04+1.87358072e-05j]\n",
       " [ 8.48635311e-05+1.05267087e-05j]\n",
       " [ 4.92772593e-05+6.52592063e-06j]\n",
       " [ 2.71884064e-05+3.37962005e-06j]\n",
       " [ 1.46132641e-05+1.94043233e-06j]\n",
       " [ 7.49102580e-06+9.28365178e-07j]\n",
       " [ 3.75915090e-06+5.02074778e-07j]\n",
       " [ 1.81656025e-06+2.15851195e-07j]\n",
       " [ 8.16527201e-07+1.13043651e-07j]\n",
       " [ 3.76707583e-07+4.18107493e-08j]\n",
       " [-1.28201601e-04-1.38284299e-05j]\n",
       " [-2.54057158e-04-2.87336778e-05j]\n",
       " [-3.60187816e-04-4.07387015e-05j]\n",
       " [-4.13100268e-04-4.62363155e-05j]\n",
       " [-4.15232557e-04-4.75468721e-05j]\n",
       " [-3.68843991e-04-4.09164208e-05j]\n",
       " [-3.02957220e-04-3.48422120e-05j]\n",
       " [-2.27440637e-04-2.50932187e-05j]\n",
       " [-1.61831688e-04-1.86471966e-05j]\n",
       " [-1.07159134e-04-1.17746059e-05j]\n",
       " [-6.82017449e-05-7.87488498e-06j]\n",
       " [-4.08432899e-05-4.47946936e-06j]\n",
       " [-2.37347206e-05-2.73677994e-06j]\n",
       " [-1.30742186e-05-1.42522193e-06j]\n",
       " [-7.03298233e-06-8.16471266e-07j]\n",
       " [-3.61518558e-06-3.93597549e-07j]\n",
       " [-1.81103947e-06-2.14177728e-07j]\n",
       " [-8.72900400e-07-9.86995410e-08j]\n",
       " [-3.94450715e-07-4.79792826e-08j]\n",
       " [-1.79828609e-07-2.14943342e-08j]\n",
       " [ 5.63923153e-05+6.63760840e-06j]\n",
       " [ 1.14037706e-04+1.29311289e-05j]\n",
       " [ 1.60570145e-04+2.10605593e-05j]\n",
       " [ 1.86122427e-04+2.26240084e-05j]\n",
       " [ 1.85842193e-04+2.47424537e-05j]\n",
       " [ 1.66510178e-04+2.03927325e-05j]\n",
       " [ 1.35980873e-04+1.82522839e-05j]\n",
       " [ 1.02797868e-04+1.25402577e-05j]\n",
       " [ 7.27973237e-05+9.83309487e-06j]\n",
       " [ 4.84652683e-05+5.87159448e-06j]\n",
       " [ 3.07317637e-05+4.16953237e-06j]\n",
       " [ 1.84888527e-05+2.22041909e-06j]\n",
       " [ 1.07116287e-05+1.45852424e-06j]\n",
       " [ 5.92309709e-06+7.08605706e-07j]\n",
       " [ 3.17830385e-06+4.35382339e-07j]\n",
       " [ 1.63188486e-06+1.93540775e-07j]\n",
       " [ 8.18001764e-07+1.12976580e-07j]\n",
       " [ 3.95713463e-07+4.46854499e-08j]\n",
       " [ 1.77781762e-07+2.55604568e-08j]\n",
       " [ 8.20580742e-08+8.58542987e-09j]\n",
       " [-2.63935986e-05-3.00714672e-06j]\n",
       " [-5.27157960e-05-5.56503737e-06j]\n",
       " [-7.41721727e-05-8.85965695e-06j]\n",
       " [-8.56807261e-05-8.94654746e-06j]\n",
       " [-8.55016012e-05-1.03302101e-05j]\n",
       " [-7.65133527e-05-7.91049961e-06j]\n",
       " [-6.23803307e-05-7.56480853e-06j]\n",
       " [-4.71934015e-05-4.85174002e-06j]\n",
       " [-3.33213070e-05-4.04764091e-06j]\n",
       " [-2.22403382e-05-2.27598384e-06j]\n",
       " [-1.40427379e-05-1.70938284e-06j]\n",
       " [-8.47788512e-06-8.65252490e-07j]\n",
       " [-4.88698739e-06-5.94168957e-07j]\n",
       " [-2.71396649e-06-2.74967023e-07j]\n",
       " [-1.44808366e-06-1.77406086e-07j]\n",
       " [-7.50435602e-07-7.58549967e-08j]\n",
       " [-3.72887681e-07-4.66299177e-08j]\n",
       " [-1.81179178e-07-1.90363274e-08j]\n",
       " [-8.12185721e-08-1.04712739e-08j]\n",
       " [-3.73180841e-08-4.15173665e-09j]]"
      ]
     },
     "execution_count": 137,
     "metadata": {},
     "output_type": "execute_result"
    }
   ],
   "source": [
    "final_state\n",
    "#qsave(final_state,'results/noisy-qaoa-level-2-rx-mixer')"
   ]
  },
  {
   "cell_type": "markdown",
   "metadata": {},
   "source": [
    "## Calculate success probability"
   ]
  },
  {
   "cell_type": "code",
   "execution_count": 138,
   "metadata": {},
   "outputs": [
    {
     "name": "stdout",
     "output_type": "stream",
     "text": [
      "Success Probability = 99.997 %\n"
     ]
    }
   ],
   "source": [
    "target_state = tensor(down,up)\n",
    "if final_state.type == 'ket':\n",
    "    f = (target_state.dag() * final_state).full()[0][0]\n",
    "    f = abs(f)**2\n",
    "else:\n",
    "    f = abs((target_state.dag() * final_state * target_state).full()[0][0])\n",
    "print(\"Success Probability = %s %%\" % round(f*100,3))"
   ]
  },
  {
   "cell_type": "code",
   "execution_count": 133,
   "metadata": {},
   "outputs": [
    {
     "data": {
      "image/png": "[encoded data removed]",
      "text/plain": [
       "<Figure size 600x400 with 3 Axes>"
      ]
     },
     "metadata": {
      "needs_background": "light"
     },
     "output_type": "display_data"
    }
   ],
   "source": [
    "q0 = final_state.ptrace(0)\n",
    "q1 = final_state.ptrace(1)\n",
    "xvec = np.linspace(-4, 4, 400); yvec = np.linspace(-2, 2, 200)\n",
    "W0 = wigner(q0,xvec,yvec,'iterative',2)\n",
    "W1 = wigner(q1,xvec,yvec,'iterative',2)\n",
    "nrm = mpl.colors.Normalize(-W0.max(), W0.max()) # Normalize colors\n",
    "\n",
    "# contour plot\n",
    "plt.subplot(121,aspect='equal')\n",
    "im = plt.contourf(xvec, yvec, W0, 100, cmap = cm.RdBu_r, norm = nrm) # density plot\n",
    "plt.xlabel(r'Re$(\\alpha)$', fontsize = 14)\n",
    "plt.ylabel(r'Im$(\\alpha)$', fontsize = 14)\n",
    "plt.xticks(np.arange(min(xvec),max(xvec)+1,2),fontsize = 12)\n",
    "plt.yticks(np.arange(min(yvec),max(yvec)+1,2),fontsize = 12)\n",
    "\n",
    "# contour plot\n",
    "plt.subplot(122,aspect='equal')\n",
    "im = plt.contourf(xvec, yvec, W1, 100, cmap = cm.RdBu_r, norm = nrm) # density plot\n",
    "plt.xlabel(r'Re$(\\alpha)$', fontsize = 14)\n",
    "plt.ylabel(r'Im$(\\alpha)$', fontsize = 14)\n",
    "plt.xticks(np.arange(min(xvec),max(xvec)+1,2),fontsize = 12)\n",
    "plt.yticks(np.arange(min(yvec),max(yvec)+1,2),fontsize = 12)\n",
    "\n",
    "# colorbar\n",
    "cax = plt.axes([0.125, 0.72, 0.775, 0.05]) # left, bottom, width, height\n",
    "plt.colorbar(im, cax = cax, orientation = 'horizontal', ticklocation = 'top', ticks = np.arange(round(W0.min())-1,round(W0.max()+.1)+.1,0.1));"
   ]
  },
  {
   "cell_type": "markdown",
   "metadata": {},
   "source": [
    "## <a name=\"Ry\">QAOA but with a $R_y$-gate</a>"
   ]
  },
  {
   "cell_type": "code",
   "execution_count": 116,
   "metadata": {},
   "outputs": [
    {
     "data": {
      "image/png": "[encoded data removed]",
      "text/plain": [
       "<IPython.core.display.Image object>"
      ]
     },
     "execution_count": 116,
     "metadata": {},
     "output_type": "execute_result"
    }
   ],
   "source": [
    "def carb(arg_value):\n",
    "    # control arbitrary phase gate\n",
    "    zz = tensor(sigmaz(),sigmaz())\n",
    "    return (-1j*arg_value/2*zz).expm()\n",
    "\n",
    "# Iteration level\n",
    "p = 2\n",
    "\n",
    "if p == 1:\n",
    "    # Angles p = 1 100% success\n",
    "    #gamma = [np.pi]\n",
    "    #beta = [0.7823]\n",
    "    # angles p = 1 50% success\n",
    "    gamma = [0.8999]\n",
    "    beta = [2.6838]\n",
    "    gamma = [0.9046]\n",
    "    beta = [2.6893]\n",
    "elif p == 2:    \n",
    "    # Angles p = 2\n",
    "    # Angles p = 2\n",
    "    gamma = [pi/2, pi/2]\n",
    "    beta = [2.3562, 2.3562]\n",
    "\n",
    "# Representation of a quantum program/algorithm, maintaining a sequence of gates.\n",
    "qc = QubitCircuit(N = N, reverse_states = False)\n",
    "qc.user_gates = {\"CARB\": carb}\n",
    "qc.add_state(state = \"+\", targets = range(N), state_type = \"input\")\n",
    "\n",
    "for i in range(p):\n",
    "    for j in range(N-1):\n",
    "        for k in range(j+1,N):\n",
    "            if J[j][k] != 0:\n",
    "                qc.add_gate(\"CARB\", targets = [j,k], arg_value = 2*gamma[i]*J[j][k])\n",
    "    for j in range(N):\n",
    "        if h[j] != 0: \n",
    "            qc.add_gate(\"RZ\", j, None, 2*gamma[i]*h[j])\n",
    "        qc.add_gate(\"RY\", j, None, 2*beta[i])\n",
    "\n",
    "qc.png"
   ]
  },
  {
   "cell_type": "code",
   "execution_count": 117,
   "metadata": {},
   "outputs": [
    {
     "name": "stdout",
     "output_type": "stream",
     "text": [
      "Total time = 18.0 (1/K)\n"
     ]
    }
   ],
   "source": [
    "kpo = KPOProcessor(N = N)\n",
    "tlist, coeffs = kpo.load_circuit(qc)\n",
    "print(\"Total time = %s (1/K)\" % round(tlist[-1]))"
   ]
  },
  {
   "cell_type": "code",
   "execution_count": 118,
   "metadata": {
    "scrolled": true
   },
   "outputs": [
    {
     "data": {
      "image/png": "[encoded data removed]",
      "text/plain": [
       "<Figure size 337.5x208.586 with 1 Axes>"
      ]
     },
     "metadata": {
      "needs_background": "light"
     },
     "output_type": "display_data"
    }
   ],
   "source": [
    "fig = kpo.plot_pulses(figsize=fig_size)\n",
    "#plt.savefig('figs/fig-qaoa-pulses-ry-mixer.pdf', dpi=300, transparent=False, bbox_inches='tight')"
   ]
  },
  {
   "cell_type": "markdown",
   "metadata": {},
   "source": [
    "## Setup parameters and initial values"
   ]
  },
  {
   "cell_type": "code",
   "execution_count": 119,
   "metadata": {},
   "outputs": [],
   "source": [
    "alpha = kpo._paras['Coherent state']\n",
    "num_lvl = kpo._paras['Cut off']\n",
    "eye = qeye(num_lvl)\n",
    "\n",
    "# computational basis\n",
    "up = coherent(num_lvl, alpha) # logical zero\n",
    "down = coherent(num_lvl,-alpha) # logical one\n",
    "\n",
    "# initial state\n",
    "plus = (up-1j*down).unit()\n",
    "psi0 = tensor([plus for i in range(N)])"
   ]
  },
  {
   "cell_type": "markdown",
   "metadata": {},
   "source": [
    "## Run master equation"
   ]
  },
  {
   "cell_type": "code",
   "execution_count": 123,
   "metadata": {},
   "outputs": [],
   "source": [
    "# simulate\n",
    "result = kpo.run_state(init_state = psi0, noisy = True)\n",
    "final_state = result.states[-1]"
   ]
  },
  {
   "cell_type": "code",
   "execution_count": 125,
   "metadata": {},
   "outputs": [],
   "source": [
    "qsave(final_state, 'results/noisy-qaoa-level-2-ry-mixer')"
   ]
  },
  {
   "cell_type": "markdown",
   "metadata": {},
   "source": [
    "## Calculate success probability"
   ]
  },
  {
   "cell_type": "code",
   "execution_count": 126,
   "metadata": {},
   "outputs": [
    {
     "name": "stdout",
     "output_type": "stream",
     "text": [
      "Success Probability = 91.357 %\n"
     ]
    }
   ],
   "source": [
    "target_state = tensor(down,up)\n",
    "if final_state.type == 'ket':\n",
    "    f = (target_state.dag() * final_state).full()[0][0]\n",
    "    f = abs(f)**2\n",
    "else:\n",
    "    f = abs((target_state.dag() * final_state * target_state).full()[0][0])\n",
    "print(\"Success Probability = %s %%\" % round(f*100,3))"
   ]
  },
  {
   "cell_type": "code",
   "execution_count": 115,
   "metadata": {},
   "outputs": [
    {
     "data": {
      "image/png": "[encoded data removed]",
      "text/plain": [
       "<Figure size 600x400 with 3 Axes>"
      ]
     },
     "metadata": {
      "needs_background": "light"
     },
     "output_type": "display_data"
    }
   ],
   "source": [
    "q0 = final_state.ptrace(0)\n",
    "q1 = final_state.ptrace(1)\n",
    "xvec = np.linspace(-4, 4, 400); yvec = np.linspace(-2, 2, 200)\n",
    "W0 = wigner(q0,xvec,yvec,'iterative',2)\n",
    "W1 = wigner(q1,xvec,yvec,'iterative',2)\n",
    "nrm = mpl.colors.Normalize(-W0.max(), W0.max()) # Normalize colors\n",
    "\n",
    "# contour plot\n",
    "plt.subplot(121,aspect='equal')\n",
    "im = plt.contourf(xvec, yvec, W0, 100, cmap = cm.RdBu_r, norm = nrm) # density plot\n",
    "plt.xlabel(r'Re$(\\alpha)$', fontsize = 14)\n",
    "plt.ylabel(r'Im$(\\alpha)$', fontsize = 14)\n",
    "plt.xticks(np.arange(min(xvec),max(xvec)+1,2),fontsize = 12)\n",
    "plt.yticks(np.arange(min(yvec),max(yvec)+1,2),fontsize = 12)\n",
    "\n",
    "# contour plot\n",
    "plt.subplot(122,aspect='equal')\n",
    "im = plt.contourf(xvec, yvec, W1, 100, cmap = cm.RdBu_r, norm = nrm) # density plot\n",
    "plt.xlabel(r'Re$(\\alpha)$', fontsize = 14)\n",
    "plt.ylabel(r'Im$(\\alpha)$', fontsize = 14)\n",
    "plt.xticks(np.arange(min(xvec),max(xvec)+1,2),fontsize = 12)\n",
    "plt.yticks(np.arange(min(yvec),max(yvec)+1,2),fontsize = 12)\n",
    "\n",
    "# colorbar\n",
    "cax = plt.axes([0.125, 0.72, 0.775, 0.05]) # left, bottom, width, height\n",
    "plt.colorbar(im, cax = cax, orientation = 'horizontal', ticklocation = 'top', ticks = np.arange(round(W0.min())-1,round(W0.max()+.1)+.1,0.1));"
   ]
  },
  {
   "cell_type": "code",
   "execution_count": 2,
   "metadata": {},
   "outputs": [],
   "source": [
    "def carb(arg_value):\n",
    "    # control arbitrary phase gate\n",
    "    zz = tensor(sigmaz(),sigmaz())\n",
    "    return (-1j*arg_value/2*zz).expm()\n",
    "\n",
    "N = 2\n",
    "\n",
    "# Representation of a quantum program/algorithm, maintaining a sequence of gates.\n",
    "qc = QubitCircuit(N = N, reverse_states = False)\n",
    "qc.user_gates = {\"CARB\": carb}\n",
    "qc.add_state(state = \"+\", targets = range(N), state_type = \"input\")\n",
    "\n",
    "qc.add_gate(\"CARB\", targets = [0,1], arg_value = 2)"
   ]
  },
  {
   "cell_type": "code",
   "execution_count": 4,
   "metadata": {},
   "outputs": [
    {
     "ename": "AttributeError",
     "evalue": "'KPOCompiler' object has no attribute 'dt_list'",
     "output_type": "error",
     "traceback": [
      "\u001b[0;31m---------------------------------------------------------------------------\u001b[0m",
      "\u001b[0;31mAttributeError\u001b[0m                            Traceback (most recent call last)",
      "\u001b[0;32m<ipython-input-4-faaded3e8f42>\u001b[0m in \u001b[0;36m<module>\u001b[0;34m\u001b[0m\n\u001b[1;32m      1\u001b[0m \u001b[0mkpo\u001b[0m \u001b[0;34m=\u001b[0m \u001b[0mKPOProcessor\u001b[0m\u001b[0;34m(\u001b[0m\u001b[0mN\u001b[0m \u001b[0;34m=\u001b[0m \u001b[0mN\u001b[0m\u001b[0;34m)\u001b[0m\u001b[0;34m\u001b[0m\u001b[0;34m\u001b[0m\u001b[0m\n\u001b[0;32m----> 2\u001b[0;31m \u001b[0mtlist\u001b[0m\u001b[0;34m,\u001b[0m \u001b[0mcoeffs\u001b[0m \u001b[0;34m=\u001b[0m \u001b[0mkpo\u001b[0m\u001b[0;34m.\u001b[0m\u001b[0mload_circuit\u001b[0m\u001b[0;34m(\u001b[0m\u001b[0mqc\u001b[0m\u001b[0;34m)\u001b[0m\u001b[0;34m\u001b[0m\u001b[0;34m\u001b[0m\u001b[0m\n\u001b[0m\u001b[1;32m      3\u001b[0m \u001b[0mprint\u001b[0m\u001b[0;34m(\u001b[0m\u001b[0;34m\"Total time = %s (1/K)\"\u001b[0m \u001b[0;34m%\u001b[0m \u001b[0mround\u001b[0m\u001b[0;34m(\u001b[0m\u001b[0mtlist\u001b[0m\u001b[0;34m[\u001b[0m\u001b[0;34m-\u001b[0m\u001b[0;36m1\u001b[0m\u001b[0;34m]\u001b[0m\u001b[0;34m)\u001b[0m\u001b[0;34m)\u001b[0m\u001b[0;34m\u001b[0m\u001b[0;34m\u001b[0m\u001b[0m\n",
      "\u001b[0;32m~/Google Drive/PhD/Code/Python/Continuous Variable/qip/kpoprocessor.py\u001b[0m in \u001b[0;36mload_circuit\u001b[0;34m(self, qc)\u001b[0m\n\u001b[1;32m    138\u001b[0m         \u001b[0mdec\u001b[0m \u001b[0;34m=\u001b[0m \u001b[0mKPOCompiler\u001b[0m\u001b[0;34m(\u001b[0m\u001b[0mN\u001b[0m \u001b[0;34m=\u001b[0m \u001b[0mself\u001b[0m\u001b[0;34m.\u001b[0m\u001b[0mN\u001b[0m\u001b[0;34m,\u001b[0m \u001b[0mparams\u001b[0m \u001b[0;34m=\u001b[0m \u001b[0mself\u001b[0m\u001b[0;34m.\u001b[0m\u001b[0m_paras\u001b[0m\u001b[0;34m,\u001b[0m \u001b[0mnum_ops\u001b[0m \u001b[0;34m=\u001b[0m \u001b[0mlen\u001b[0m\u001b[0;34m(\u001b[0m\u001b[0mself\u001b[0m\u001b[0;34m.\u001b[0m\u001b[0mctrls\u001b[0m\u001b[0;34m)\u001b[0m\u001b[0;34m,\u001b[0m \u001b[0mlabels\u001b[0m \u001b[0;34m=\u001b[0m \u001b[0mlabels\u001b[0m\u001b[0;34m)\u001b[0m\u001b[0;34m\u001b[0m\u001b[0;34m\u001b[0m\u001b[0m\n\u001b[1;32m    139\u001b[0m \u001b[0;34m\u001b[0m\u001b[0m\n\u001b[0;32m--> 140\u001b[0;31m         \u001b[0mtlist\u001b[0m\u001b[0;34m,\u001b[0m \u001b[0mself\u001b[0m\u001b[0;34m.\u001b[0m\u001b[0mcoeffs\u001b[0m \u001b[0;34m=\u001b[0m \u001b[0mdec\u001b[0m\u001b[0;34m.\u001b[0m\u001b[0mdecompose\u001b[0m\u001b[0;34m(\u001b[0m\u001b[0mqc\u001b[0m\u001b[0;34m)\u001b[0m\u001b[0;34m\u001b[0m\u001b[0;34m\u001b[0m\u001b[0m\n\u001b[0m\u001b[1;32m    141\u001b[0m \u001b[0;34m\u001b[0m\u001b[0m\n\u001b[1;32m    142\u001b[0m         \u001b[0;32mfor\u001b[0m \u001b[0mi\u001b[0m \u001b[0;32min\u001b[0m \u001b[0mrange\u001b[0m\u001b[0;34m(\u001b[0m\u001b[0mlen\u001b[0m\u001b[0;34m(\u001b[0m\u001b[0mself\u001b[0m\u001b[0;34m.\u001b[0m\u001b[0mpulses\u001b[0m\u001b[0;34m)\u001b[0m\u001b[0;34m)\u001b[0m\u001b[0;34m:\u001b[0m\u001b[0;34m\u001b[0m\u001b[0;34m\u001b[0m\u001b[0m\n",
      "\u001b[0;32m~/Google Drive/PhD/Code/Python/Continuous Variable/qip/kpocompiler.py\u001b[0m in \u001b[0;36mdecompose\u001b[0;34m(self, qc)\u001b[0m\n\u001b[1;32m     74\u001b[0m             \u001b[0mself\u001b[0m\u001b[0;34m.\u001b[0m\u001b[0mcoeff_list\u001b[0m\u001b[0;34m[\u001b[0m\u001b[0mi\u001b[0m\u001b[0;34m]\u001b[0m \u001b[0;34m=\u001b[0m \u001b[0mnp\u001b[0m\u001b[0;34m.\u001b[0m\u001b[0marray\u001b[0m\u001b[0;34m(\u001b[0m\u001b[0msum\u001b[0m\u001b[0;34m(\u001b[0m\u001b[0mself\u001b[0m\u001b[0;34m.\u001b[0m\u001b[0mcoeff_list\u001b[0m\u001b[0;34m[\u001b[0m\u001b[0mi\u001b[0m\u001b[0;34m]\u001b[0m\u001b[0;34m,\u001b[0m \u001b[0;34m[\u001b[0m\u001b[0;34m]\u001b[0m\u001b[0;34m)\u001b[0m\u001b[0;34m)\u001b[0m\u001b[0;34m\u001b[0m\u001b[0;34m\u001b[0m\u001b[0m\n\u001b[1;32m     75\u001b[0m         \u001b[0mcoeffs\u001b[0m \u001b[0;34m=\u001b[0m \u001b[0mself\u001b[0m\u001b[0;34m.\u001b[0m\u001b[0mcoeff_list\u001b[0m\u001b[0;34m\u001b[0m\u001b[0;34m\u001b[0m\u001b[0m\n\u001b[0;32m---> 76\u001b[0;31m         \u001b[0mtlist\u001b[0m \u001b[0;34m=\u001b[0m \u001b[0mnp\u001b[0m\u001b[0;34m.\u001b[0m\u001b[0mlinspace\u001b[0m\u001b[0;34m(\u001b[0m\u001b[0;36m0\u001b[0m\u001b[0;34m,\u001b[0m \u001b[0mlen\u001b[0m\u001b[0;34m(\u001b[0m\u001b[0mself\u001b[0m\u001b[0;34m.\u001b[0m\u001b[0mdt_list\u001b[0m\u001b[0;34m)\u001b[0m\u001b[0;34m*\u001b[0m\u001b[0mself\u001b[0m\u001b[0;34m.\u001b[0m\u001b[0mdt\u001b[0m\u001b[0;34m,\u001b[0m \u001b[0mself\u001b[0m\u001b[0;34m.\u001b[0m\u001b[0mdt\u001b[0m\u001b[0;34m)\u001b[0m\u001b[0;34m\u001b[0m\u001b[0;34m\u001b[0m\u001b[0m\n\u001b[0m\u001b[1;32m     77\u001b[0m         \u001b[0;32mreturn\u001b[0m \u001b[0mtlist\u001b[0m\u001b[0;34m,\u001b[0m \u001b[0mcoeffs\u001b[0m\u001b[0;34m\u001b[0m\u001b[0;34m\u001b[0m\u001b[0m\n\u001b[1;32m     78\u001b[0m \u001b[0;34m\u001b[0m\u001b[0m\n",
      "\u001b[0;31mAttributeError\u001b[0m: 'KPOCompiler' object has no attribute 'dt_list'"
     ]
    }
   ],
   "source": [
    "kpo = KPOProcessor(N = N)\n",
    "tlist, coeffs = kpo.load_circuit(qc)\n",
    "print(\"Total time = %s (1/K)\" % round(tlist[-1]))"
   ]
  },
  {
   "cell_type": "code",
   "execution_count": null,
   "metadata": {},
   "outputs": [],
   "source": []
  }
 ],
 "metadata": {
  "kernelspec": {
   "display_name": "Python 3",
   "language": "python",
   "name": "python3"
  },
  "language_info": {
   "codemirror_mode": {
    "name": "ipython",
    "version": 3
   },
   "file_extension": ".py",
   "mimetype": "text/x-python",
   "name": "python",
   "nbconvert_exporter": "python",
   "pygments_lexer": "ipython3",
   "version": "3.8.2"
  }
 },
 "nbformat": 4,
 "nbformat_minor": 4
}
